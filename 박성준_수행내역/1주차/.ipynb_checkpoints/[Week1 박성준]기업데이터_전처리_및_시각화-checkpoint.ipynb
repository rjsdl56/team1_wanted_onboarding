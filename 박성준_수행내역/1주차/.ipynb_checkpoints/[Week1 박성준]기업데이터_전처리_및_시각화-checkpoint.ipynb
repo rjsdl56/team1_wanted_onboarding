{
 "cells": [
  {
   "cell_type": "markdown",
   "metadata": {},
   "source": [
    "# 데이터 분석 전 사전 알림\n",
    "- 7개의 유니콘기업을 크롤링한 자료에 기반하여, 중소기업현황정보시스템 총매출액을 추가 (3팀 아이디어 참고)\n",
    "- 월별_연금보험료는 `직원수 X 평균급여 X 0.045` 로 계산 (사측이 4.5% 부담)\n",
    "- 시각화는 동일한 코드로 작성\n",
    "- 월별_연금보험료는 직원수와 큰 상관관계를 갖기 때문에 시각화 제외"
   ]
  },
  {
   "cell_type": "code",
   "execution_count": 1,
   "metadata": {},
   "outputs": [
    {
     "name": "stdout",
     "output_type": "stream",
     "text": [
      "파이썬 버전 : 3.7.9 (default, Aug 31 2020, 17:10:11) [MSC v.1916 64 bit (AMD64)]\n",
      "판다스 버전 : 1.1.3\n"
     ]
    }
   ],
   "source": [
    "import pandas as pd\n",
    "import warnings\n",
    "import matplotlib.pyplot as plt\n",
    "import sys\n",
    "\n",
    "warnings.filterwarnings('ignore')\n",
    "\n",
    "print(\"파이썬 버전 :\",sys.version)\n",
    "print(\"판다스 버전 :\",pd.__version__)"
   ]
  },
  {
   "cell_type": "code",
   "execution_count": 2,
   "metadata": {},
   "outputs": [
    {
     "data": {
      "text/html": [
       "<div>\n",
       "<style scoped>\n",
       "    .dataframe tbody tr th:only-of-type {\n",
       "        vertical-align: middle;\n",
       "    }\n",
       "\n",
       "    .dataframe tbody tr th {\n",
       "        vertical-align: top;\n",
       "    }\n",
       "\n",
       "    .dataframe thead th {\n",
       "        text-align: right;\n",
       "    }\n",
       "</style>\n",
       "<table border=\"1\" class=\"dataframe\">\n",
       "  <thead>\n",
       "    <tr style=\"text-align: right;\">\n",
       "      <th></th>\n",
       "      <th>회사ID</th>\n",
       "      <th>월별_직원수</th>\n",
       "      <th>년월</th>\n",
       "      <th>월별_평균급여</th>\n",
       "      <th>연매출액</th>\n",
       "    </tr>\n",
       "  </thead>\n",
       "  <tbody>\n",
       "    <tr>\n",
       "      <th>0</th>\n",
       "      <td>우아한형제들</td>\n",
       "      <td>216</td>\n",
       "      <td>1511</td>\n",
       "      <td>2993545</td>\n",
       "      <td>NaN</td>\n",
       "    </tr>\n",
       "    <tr>\n",
       "      <th>1</th>\n",
       "      <td>우아한형제들</td>\n",
       "      <td>221</td>\n",
       "      <td>1512</td>\n",
       "      <td>2974596</td>\n",
       "      <td>NaN</td>\n",
       "    </tr>\n",
       "    <tr>\n",
       "      <th>2</th>\n",
       "      <td>우아한형제들</td>\n",
       "      <td>219</td>\n",
       "      <td>1601</td>\n",
       "      <td>3097467</td>\n",
       "      <td>84850263.0</td>\n",
       "    </tr>\n",
       "    <tr>\n",
       "      <th>3</th>\n",
       "      <td>우아한형제들</td>\n",
       "      <td>222</td>\n",
       "      <td>1602</td>\n",
       "      <td>2994015</td>\n",
       "      <td>84850263.0</td>\n",
       "    </tr>\n",
       "    <tr>\n",
       "      <th>4</th>\n",
       "      <td>우아한형제들</td>\n",
       "      <td>226</td>\n",
       "      <td>1603</td>\n",
       "      <td>3055818</td>\n",
       "      <td>84850263.0</td>\n",
       "    </tr>\n",
       "    <tr>\n",
       "      <th>...</th>\n",
       "      <td>...</td>\n",
       "      <td>...</td>\n",
       "      <td>...</td>\n",
       "      <td>...</td>\n",
       "      <td>...</td>\n",
       "    </tr>\n",
       "    <tr>\n",
       "      <th>295</th>\n",
       "      <td>비바리퍼블리카</td>\n",
       "      <td>264</td>\n",
       "      <td>1908</td>\n",
       "      <td>4200937</td>\n",
       "      <td>118730969.0</td>\n",
       "    </tr>\n",
       "    <tr>\n",
       "      <th>296</th>\n",
       "      <td>비바리퍼블리카</td>\n",
       "      <td>272</td>\n",
       "      <td>1909</td>\n",
       "      <td>4250067</td>\n",
       "      <td>118730969.0</td>\n",
       "    </tr>\n",
       "    <tr>\n",
       "      <th>297</th>\n",
       "      <td>비바리퍼블리카</td>\n",
       "      <td>298</td>\n",
       "      <td>1910</td>\n",
       "      <td>4266147</td>\n",
       "      <td>118730969.0</td>\n",
       "    </tr>\n",
       "    <tr>\n",
       "      <th>298</th>\n",
       "      <td>비바리퍼블리카</td>\n",
       "      <td>310</td>\n",
       "      <td>1911</td>\n",
       "      <td>4187554</td>\n",
       "      <td>118730969.0</td>\n",
       "    </tr>\n",
       "    <tr>\n",
       "      <th>299</th>\n",
       "      <td>비바리퍼블리카</td>\n",
       "      <td>317</td>\n",
       "      <td>1912</td>\n",
       "      <td>4243334</td>\n",
       "      <td>118730969.0</td>\n",
       "    </tr>\n",
       "  </tbody>\n",
       "</table>\n",
       "<p>300 rows × 5 columns</p>\n",
       "</div>"
      ],
      "text/plain": [
       "        회사ID  월별_직원수    년월  월별_평균급여         연매출액\n",
       "0     우아한형제들     216  1511  2993545          NaN\n",
       "1     우아한형제들     221  1512  2974596          NaN\n",
       "2     우아한형제들     219  1601  3097467   84850263.0\n",
       "3     우아한형제들     222  1602  2994015   84850263.0\n",
       "4     우아한형제들     226  1603  3055818   84850263.0\n",
       "..       ...     ...   ...      ...          ...\n",
       "295  비바리퍼블리카     264  1908  4200937  118730969.0\n",
       "296  비바리퍼블리카     272  1909  4250067  118730969.0\n",
       "297  비바리퍼블리카     298  1910  4266147  118730969.0\n",
       "298  비바리퍼블리카     310  1911  4187554  118730969.0\n",
       "299  비바리퍼블리카     317  1912  4243334  118730969.0\n",
       "\n",
       "[300 rows x 5 columns]"
      ]
     },
     "metadata": {},
     "output_type": "display_data"
    },
    {
     "name": "stdout",
     "output_type": "stream",
     "text": [
      "<class 'pandas.core.frame.DataFrame'>\n",
      "RangeIndex: 300 entries, 0 to 299\n",
      "Data columns (total 5 columns):\n",
      " #   Column   Non-Null Count  Dtype  \n",
      "---  ------   --------------  -----  \n",
      " 0   회사ID     300 non-null    object \n",
      " 1   월별_직원수   300 non-null    int64  \n",
      " 2   년월       300 non-null    int64  \n",
      " 3   월별_평균급여  300 non-null    int64  \n",
      " 4   연매출액     288 non-null    float64\n",
      "dtypes: float64(1), int64(3), object(1)\n",
      "memory usage: 11.8+ KB\n",
      "None\n"
     ]
    }
   ],
   "source": [
    "df = pd.read_excel(\"./파이널.xlsx\")\n",
    "df.drop('Unnamed: 0', axis=1, inplace=True)\n",
    "display(df)\n",
    "print(df.info())"
   ]
  },
  {
   "cell_type": "markdown",
   "metadata": {},
   "source": [
    "### 현재 단계에서 필요한 전처리\n",
    "- NaN 값이 포함된 raw를 drop한다.\n",
    "- 날짜 컬럼을 20xx.xx 형태로 변환한 뒤, datatime 타입으로 바꾼다.\n",
    "- 평균급여와 직원수를 이용해 월별_연금보험료를 컬럼을 생성한다."
   ]
  },
  {
   "cell_type": "code",
   "execution_count": 3,
   "metadata": {},
   "outputs": [
    {
     "data": {
      "text/html": [
       "<div>\n",
       "<style scoped>\n",
       "    .dataframe tbody tr th:only-of-type {\n",
       "        vertical-align: middle;\n",
       "    }\n",
       "\n",
       "    .dataframe tbody tr th {\n",
       "        vertical-align: top;\n",
       "    }\n",
       "\n",
       "    .dataframe thead th {\n",
       "        text-align: right;\n",
       "    }\n",
       "</style>\n",
       "<table border=\"1\" class=\"dataframe\">\n",
       "  <thead>\n",
       "    <tr style=\"text-align: right;\">\n",
       "      <th></th>\n",
       "      <th>회사ID</th>\n",
       "      <th>월별_직원수</th>\n",
       "      <th>년월</th>\n",
       "      <th>월별_평균급여</th>\n",
       "      <th>연매출액</th>\n",
       "    </tr>\n",
       "  </thead>\n",
       "  <tbody>\n",
       "    <tr>\n",
       "      <th>2</th>\n",
       "      <td>우아한형제들</td>\n",
       "      <td>219</td>\n",
       "      <td>1601</td>\n",
       "      <td>3097467</td>\n",
       "      <td>84850263.0</td>\n",
       "    </tr>\n",
       "    <tr>\n",
       "      <th>3</th>\n",
       "      <td>우아한형제들</td>\n",
       "      <td>222</td>\n",
       "      <td>1602</td>\n",
       "      <td>2994015</td>\n",
       "      <td>84850263.0</td>\n",
       "    </tr>\n",
       "    <tr>\n",
       "      <th>4</th>\n",
       "      <td>우아한형제들</td>\n",
       "      <td>226</td>\n",
       "      <td>1603</td>\n",
       "      <td>3055818</td>\n",
       "      <td>84850263.0</td>\n",
       "    </tr>\n",
       "    <tr>\n",
       "      <th>5</th>\n",
       "      <td>우아한형제들</td>\n",
       "      <td>232</td>\n",
       "      <td>1604</td>\n",
       "      <td>3099138</td>\n",
       "      <td>84850263.0</td>\n",
       "    </tr>\n",
       "    <tr>\n",
       "      <th>6</th>\n",
       "      <td>우아한형제들</td>\n",
       "      <td>244</td>\n",
       "      <td>1605</td>\n",
       "      <td>3094462</td>\n",
       "      <td>84850263.0</td>\n",
       "    </tr>\n",
       "    <tr>\n",
       "      <th>...</th>\n",
       "      <td>...</td>\n",
       "      <td>...</td>\n",
       "      <td>...</td>\n",
       "      <td>...</td>\n",
       "      <td>...</td>\n",
       "    </tr>\n",
       "    <tr>\n",
       "      <th>295</th>\n",
       "      <td>비바리퍼블리카</td>\n",
       "      <td>264</td>\n",
       "      <td>1908</td>\n",
       "      <td>4200937</td>\n",
       "      <td>118730969.0</td>\n",
       "    </tr>\n",
       "    <tr>\n",
       "      <th>296</th>\n",
       "      <td>비바리퍼블리카</td>\n",
       "      <td>272</td>\n",
       "      <td>1909</td>\n",
       "      <td>4250067</td>\n",
       "      <td>118730969.0</td>\n",
       "    </tr>\n",
       "    <tr>\n",
       "      <th>297</th>\n",
       "      <td>비바리퍼블리카</td>\n",
       "      <td>298</td>\n",
       "      <td>1910</td>\n",
       "      <td>4266147</td>\n",
       "      <td>118730969.0</td>\n",
       "    </tr>\n",
       "    <tr>\n",
       "      <th>298</th>\n",
       "      <td>비바리퍼블리카</td>\n",
       "      <td>310</td>\n",
       "      <td>1911</td>\n",
       "      <td>4187554</td>\n",
       "      <td>118730969.0</td>\n",
       "    </tr>\n",
       "    <tr>\n",
       "      <th>299</th>\n",
       "      <td>비바리퍼블리카</td>\n",
       "      <td>317</td>\n",
       "      <td>1912</td>\n",
       "      <td>4243334</td>\n",
       "      <td>118730969.0</td>\n",
       "    </tr>\n",
       "  </tbody>\n",
       "</table>\n",
       "<p>288 rows × 5 columns</p>\n",
       "</div>"
      ],
      "text/plain": [
       "        회사ID  월별_직원수    년월  월별_평균급여         연매출액\n",
       "2     우아한형제들     219  1601  3097467   84850263.0\n",
       "3     우아한형제들     222  1602  2994015   84850263.0\n",
       "4     우아한형제들     226  1603  3055818   84850263.0\n",
       "5     우아한형제들     232  1604  3099138   84850263.0\n",
       "6     우아한형제들     244  1605  3094462   84850263.0\n",
       "..       ...     ...   ...      ...          ...\n",
       "295  비바리퍼블리카     264  1908  4200937  118730969.0\n",
       "296  비바리퍼블리카     272  1909  4250067  118730969.0\n",
       "297  비바리퍼블리카     298  1910  4266147  118730969.0\n",
       "298  비바리퍼블리카     310  1911  4187554  118730969.0\n",
       "299  비바리퍼블리카     317  1912  4243334  118730969.0\n",
       "\n",
       "[288 rows x 5 columns]"
      ]
     },
     "metadata": {},
     "output_type": "display_data"
    }
   ],
   "source": [
    "# 결측치가 존재하는 행 제거\n",
    "df.dropna(axis=0, inplace=True)\n",
    "display(df)"
   ]
  },
  {
   "cell_type": "code",
   "execution_count": 4,
   "metadata": {},
   "outputs": [
    {
     "data": {
      "text/html": [
       "<div>\n",
       "<style scoped>\n",
       "    .dataframe tbody tr th:only-of-type {\n",
       "        vertical-align: middle;\n",
       "    }\n",
       "\n",
       "    .dataframe tbody tr th {\n",
       "        vertical-align: top;\n",
       "    }\n",
       "\n",
       "    .dataframe thead th {\n",
       "        text-align: right;\n",
       "    }\n",
       "</style>\n",
       "<table border=\"1\" class=\"dataframe\">\n",
       "  <thead>\n",
       "    <tr style=\"text-align: right;\">\n",
       "      <th></th>\n",
       "      <th>회사ID</th>\n",
       "      <th>월별_직원수</th>\n",
       "      <th>년월</th>\n",
       "      <th>월별_평균급여</th>\n",
       "      <th>연매출액</th>\n",
       "    </tr>\n",
       "  </thead>\n",
       "  <tbody>\n",
       "    <tr>\n",
       "      <th>2</th>\n",
       "      <td>우아한형제들</td>\n",
       "      <td>219</td>\n",
       "      <td>201601</td>\n",
       "      <td>3097467</td>\n",
       "      <td>84850263.0</td>\n",
       "    </tr>\n",
       "    <tr>\n",
       "      <th>3</th>\n",
       "      <td>우아한형제들</td>\n",
       "      <td>222</td>\n",
       "      <td>201602</td>\n",
       "      <td>2994015</td>\n",
       "      <td>84850263.0</td>\n",
       "    </tr>\n",
       "    <tr>\n",
       "      <th>4</th>\n",
       "      <td>우아한형제들</td>\n",
       "      <td>226</td>\n",
       "      <td>201603</td>\n",
       "      <td>3055818</td>\n",
       "      <td>84850263.0</td>\n",
       "    </tr>\n",
       "    <tr>\n",
       "      <th>5</th>\n",
       "      <td>우아한형제들</td>\n",
       "      <td>232</td>\n",
       "      <td>201604</td>\n",
       "      <td>3099138</td>\n",
       "      <td>84850263.0</td>\n",
       "    </tr>\n",
       "    <tr>\n",
       "      <th>6</th>\n",
       "      <td>우아한형제들</td>\n",
       "      <td>244</td>\n",
       "      <td>201605</td>\n",
       "      <td>3094462</td>\n",
       "      <td>84850263.0</td>\n",
       "    </tr>\n",
       "    <tr>\n",
       "      <th>...</th>\n",
       "      <td>...</td>\n",
       "      <td>...</td>\n",
       "      <td>...</td>\n",
       "      <td>...</td>\n",
       "      <td>...</td>\n",
       "    </tr>\n",
       "    <tr>\n",
       "      <th>295</th>\n",
       "      <td>비바리퍼블리카</td>\n",
       "      <td>264</td>\n",
       "      <td>201908</td>\n",
       "      <td>4200937</td>\n",
       "      <td>118730969.0</td>\n",
       "    </tr>\n",
       "    <tr>\n",
       "      <th>296</th>\n",
       "      <td>비바리퍼블리카</td>\n",
       "      <td>272</td>\n",
       "      <td>201909</td>\n",
       "      <td>4250067</td>\n",
       "      <td>118730969.0</td>\n",
       "    </tr>\n",
       "    <tr>\n",
       "      <th>297</th>\n",
       "      <td>비바리퍼블리카</td>\n",
       "      <td>298</td>\n",
       "      <td>201910</td>\n",
       "      <td>4266147</td>\n",
       "      <td>118730969.0</td>\n",
       "    </tr>\n",
       "    <tr>\n",
       "      <th>298</th>\n",
       "      <td>비바리퍼블리카</td>\n",
       "      <td>310</td>\n",
       "      <td>201911</td>\n",
       "      <td>4187554</td>\n",
       "      <td>118730969.0</td>\n",
       "    </tr>\n",
       "    <tr>\n",
       "      <th>299</th>\n",
       "      <td>비바리퍼블리카</td>\n",
       "      <td>317</td>\n",
       "      <td>201912</td>\n",
       "      <td>4243334</td>\n",
       "      <td>118730969.0</td>\n",
       "    </tr>\n",
       "  </tbody>\n",
       "</table>\n",
       "<p>288 rows × 5 columns</p>\n",
       "</div>"
      ],
      "text/plain": [
       "        회사ID  월별_직원수      년월  월별_평균급여         연매출액\n",
       "2     우아한형제들     219  201601  3097467   84850263.0\n",
       "3     우아한형제들     222  201602  2994015   84850263.0\n",
       "4     우아한형제들     226  201603  3055818   84850263.0\n",
       "5     우아한형제들     232  201604  3099138   84850263.0\n",
       "6     우아한형제들     244  201605  3094462   84850263.0\n",
       "..       ...     ...     ...      ...          ...\n",
       "295  비바리퍼블리카     264  201908  4200937  118730969.0\n",
       "296  비바리퍼블리카     272  201909  4250067  118730969.0\n",
       "297  비바리퍼블리카     298  201910  4266147  118730969.0\n",
       "298  비바리퍼블리카     310  201911  4187554  118730969.0\n",
       "299  비바리퍼블리카     317  201912  4243334  118730969.0\n",
       "\n",
       "[288 rows x 5 columns]"
      ]
     },
     "metadata": {},
     "output_type": "display_data"
    },
    {
     "name": "stdout",
     "output_type": "stream",
     "text": [
      "<class 'pandas.core.frame.DataFrame'>\n",
      "Int64Index: 288 entries, 2 to 299\n",
      "Data columns (total 5 columns):\n",
      " #   Column   Non-Null Count  Dtype  \n",
      "---  ------   --------------  -----  \n",
      " 0   회사ID     288 non-null    object \n",
      " 1   월별_직원수   288 non-null    int64  \n",
      " 2   년월       288 non-null    object \n",
      " 3   월별_평균급여  288 non-null    int64  \n",
      " 4   연매출액     288 non-null    float64\n",
      "dtypes: float64(1), int64(2), object(2)\n",
      "memory usage: 13.5+ KB\n",
      "None\n"
     ]
    }
   ],
   "source": [
    "# 날짜데이터 변경\n",
    "new_date_list = []\n",
    "for x in range(len(df)):\n",
    "    new_date = str(20)+str(df.iloc[x][2])\n",
    "    new_date_list.append(new_date)\n",
    "\n",
    "df['년월'] = new_date_list\n",
    "df['년월'] = pd.to_datetime(df['년월'],format='%Y%m').dt.strftime('%Y%m') # 2016-01-01 형태로 바뀐 뒤, 201601 형태로만 출력하는 메서드 활용\n",
    "\n",
    "display(df)\n",
    "print(df.info())"
   ]
  },
  {
   "cell_type": "code",
   "execution_count": 5,
   "metadata": {},
   "outputs": [
    {
     "data": {
      "text/html": [
       "<div>\n",
       "<style scoped>\n",
       "    .dataframe tbody tr th:only-of-type {\n",
       "        vertical-align: middle;\n",
       "    }\n",
       "\n",
       "    .dataframe tbody tr th {\n",
       "        vertical-align: top;\n",
       "    }\n",
       "\n",
       "    .dataframe thead th {\n",
       "        text-align: right;\n",
       "    }\n",
       "</style>\n",
       "<table border=\"1\" class=\"dataframe\">\n",
       "  <thead>\n",
       "    <tr style=\"text-align: right;\">\n",
       "      <th></th>\n",
       "      <th>회사ID</th>\n",
       "      <th>월별_직원수</th>\n",
       "      <th>년월</th>\n",
       "      <th>월별_평균급여</th>\n",
       "      <th>연매출액</th>\n",
       "      <th>월별_연금보험료</th>\n",
       "    </tr>\n",
       "  </thead>\n",
       "  <tbody>\n",
       "    <tr>\n",
       "      <th>2</th>\n",
       "      <td>우아한형제들</td>\n",
       "      <td>219</td>\n",
       "      <td>201601</td>\n",
       "      <td>3097467</td>\n",
       "      <td>84850263.0</td>\n",
       "      <td>30525537.0</td>\n",
       "    </tr>\n",
       "    <tr>\n",
       "      <th>3</th>\n",
       "      <td>우아한형제들</td>\n",
       "      <td>222</td>\n",
       "      <td>201602</td>\n",
       "      <td>2994015</td>\n",
       "      <td>84850263.0</td>\n",
       "      <td>29910210.0</td>\n",
       "    </tr>\n",
       "    <tr>\n",
       "      <th>4</th>\n",
       "      <td>우아한형제들</td>\n",
       "      <td>226</td>\n",
       "      <td>201603</td>\n",
       "      <td>3055818</td>\n",
       "      <td>84850263.0</td>\n",
       "      <td>31077669.0</td>\n",
       "    </tr>\n",
       "    <tr>\n",
       "      <th>5</th>\n",
       "      <td>우아한형제들</td>\n",
       "      <td>232</td>\n",
       "      <td>201604</td>\n",
       "      <td>3099138</td>\n",
       "      <td>84850263.0</td>\n",
       "      <td>32355001.0</td>\n",
       "    </tr>\n",
       "    <tr>\n",
       "      <th>6</th>\n",
       "      <td>우아한형제들</td>\n",
       "      <td>244</td>\n",
       "      <td>201605</td>\n",
       "      <td>3094462</td>\n",
       "      <td>84850263.0</td>\n",
       "      <td>33977193.0</td>\n",
       "    </tr>\n",
       "    <tr>\n",
       "      <th>...</th>\n",
       "      <td>...</td>\n",
       "      <td>...</td>\n",
       "      <td>...</td>\n",
       "      <td>...</td>\n",
       "      <td>...</td>\n",
       "      <td>...</td>\n",
       "    </tr>\n",
       "    <tr>\n",
       "      <th>295</th>\n",
       "      <td>비바리퍼블리카</td>\n",
       "      <td>264</td>\n",
       "      <td>201908</td>\n",
       "      <td>4200937</td>\n",
       "      <td>118730969.0</td>\n",
       "      <td>49907132.0</td>\n",
       "    </tr>\n",
       "    <tr>\n",
       "      <th>296</th>\n",
       "      <td>비바리퍼블리카</td>\n",
       "      <td>272</td>\n",
       "      <td>201909</td>\n",
       "      <td>4250067</td>\n",
       "      <td>118730969.0</td>\n",
       "      <td>52020820.0</td>\n",
       "    </tr>\n",
       "    <tr>\n",
       "      <th>297</th>\n",
       "      <td>비바리퍼블리카</td>\n",
       "      <td>298</td>\n",
       "      <td>201910</td>\n",
       "      <td>4266147</td>\n",
       "      <td>118730969.0</td>\n",
       "      <td>57209031.0</td>\n",
       "    </tr>\n",
       "    <tr>\n",
       "      <th>298</th>\n",
       "      <td>비바리퍼블리카</td>\n",
       "      <td>310</td>\n",
       "      <td>201911</td>\n",
       "      <td>4187554</td>\n",
       "      <td>118730969.0</td>\n",
       "      <td>58416378.0</td>\n",
       "    </tr>\n",
       "    <tr>\n",
       "      <th>299</th>\n",
       "      <td>비바리퍼블리카</td>\n",
       "      <td>317</td>\n",
       "      <td>201912</td>\n",
       "      <td>4243334</td>\n",
       "      <td>118730969.0</td>\n",
       "      <td>60531160.0</td>\n",
       "    </tr>\n",
       "  </tbody>\n",
       "</table>\n",
       "<p>288 rows × 6 columns</p>\n",
       "</div>"
      ],
      "text/plain": [
       "        회사ID  월별_직원수      년월  월별_평균급여         연매출액    월별_연금보험료\n",
       "2     우아한형제들     219  201601  3097467   84850263.0  30525537.0\n",
       "3     우아한형제들     222  201602  2994015   84850263.0  29910210.0\n",
       "4     우아한형제들     226  201603  3055818   84850263.0  31077669.0\n",
       "5     우아한형제들     232  201604  3099138   84850263.0  32355001.0\n",
       "6     우아한형제들     244  201605  3094462   84850263.0  33977193.0\n",
       "..       ...     ...     ...      ...          ...         ...\n",
       "295  비바리퍼블리카     264  201908  4200937  118730969.0  49907132.0\n",
       "296  비바리퍼블리카     272  201909  4250067  118730969.0  52020820.0\n",
       "297  비바리퍼블리카     298  201910  4266147  118730969.0  57209031.0\n",
       "298  비바리퍼블리카     310  201911  4187554  118730969.0  58416378.0\n",
       "299  비바리퍼블리카     317  201912  4243334  118730969.0  60531160.0\n",
       "\n",
       "[288 rows x 6 columns]"
      ]
     },
     "metadata": {},
     "output_type": "display_data"
    }
   ],
   "source": [
    "# 월별_연금보험료 컬럼 생성\n",
    "df['월별_연금보험료'] = (df['월별_직원수'] * df['월별_평균급여'] * 0.045).round(0)\n",
    "display(df)"
   ]
  },
  {
   "cell_type": "code",
   "execution_count": 6,
   "metadata": {},
   "outputs": [
    {
     "data": {
      "text/html": [
       "<div>\n",
       "<style scoped>\n",
       "    .dataframe tbody tr th:only-of-type {\n",
       "        vertical-align: middle;\n",
       "    }\n",
       "\n",
       "    .dataframe tbody tr th {\n",
       "        vertical-align: top;\n",
       "    }\n",
       "\n",
       "    .dataframe thead th {\n",
       "        text-align: right;\n",
       "    }\n",
       "</style>\n",
       "<table border=\"1\" class=\"dataframe\">\n",
       "  <thead>\n",
       "    <tr style=\"text-align: right;\">\n",
       "      <th></th>\n",
       "      <th>회사ID</th>\n",
       "      <th>월별_직원수</th>\n",
       "      <th>년월</th>\n",
       "      <th>연매출액</th>\n",
       "      <th>월별_연금보험료</th>\n",
       "    </tr>\n",
       "  </thead>\n",
       "  <tbody>\n",
       "    <tr>\n",
       "      <th>2</th>\n",
       "      <td>우아한형제들</td>\n",
       "      <td>219</td>\n",
       "      <td>201601</td>\n",
       "      <td>84850263.0</td>\n",
       "      <td>30525537.0</td>\n",
       "    </tr>\n",
       "    <tr>\n",
       "      <th>3</th>\n",
       "      <td>우아한형제들</td>\n",
       "      <td>222</td>\n",
       "      <td>201602</td>\n",
       "      <td>84850263.0</td>\n",
       "      <td>29910210.0</td>\n",
       "    </tr>\n",
       "    <tr>\n",
       "      <th>4</th>\n",
       "      <td>우아한형제들</td>\n",
       "      <td>226</td>\n",
       "      <td>201603</td>\n",
       "      <td>84850263.0</td>\n",
       "      <td>31077669.0</td>\n",
       "    </tr>\n",
       "    <tr>\n",
       "      <th>5</th>\n",
       "      <td>우아한형제들</td>\n",
       "      <td>232</td>\n",
       "      <td>201604</td>\n",
       "      <td>84850263.0</td>\n",
       "      <td>32355001.0</td>\n",
       "    </tr>\n",
       "    <tr>\n",
       "      <th>6</th>\n",
       "      <td>우아한형제들</td>\n",
       "      <td>244</td>\n",
       "      <td>201605</td>\n",
       "      <td>84850263.0</td>\n",
       "      <td>33977193.0</td>\n",
       "    </tr>\n",
       "    <tr>\n",
       "      <th>...</th>\n",
       "      <td>...</td>\n",
       "      <td>...</td>\n",
       "      <td>...</td>\n",
       "      <td>...</td>\n",
       "      <td>...</td>\n",
       "    </tr>\n",
       "    <tr>\n",
       "      <th>295</th>\n",
       "      <td>비바리퍼블리카</td>\n",
       "      <td>264</td>\n",
       "      <td>201908</td>\n",
       "      <td>118730969.0</td>\n",
       "      <td>49907132.0</td>\n",
       "    </tr>\n",
       "    <tr>\n",
       "      <th>296</th>\n",
       "      <td>비바리퍼블리카</td>\n",
       "      <td>272</td>\n",
       "      <td>201909</td>\n",
       "      <td>118730969.0</td>\n",
       "      <td>52020820.0</td>\n",
       "    </tr>\n",
       "    <tr>\n",
       "      <th>297</th>\n",
       "      <td>비바리퍼블리카</td>\n",
       "      <td>298</td>\n",
       "      <td>201910</td>\n",
       "      <td>118730969.0</td>\n",
       "      <td>57209031.0</td>\n",
       "    </tr>\n",
       "    <tr>\n",
       "      <th>298</th>\n",
       "      <td>비바리퍼블리카</td>\n",
       "      <td>310</td>\n",
       "      <td>201911</td>\n",
       "      <td>118730969.0</td>\n",
       "      <td>58416378.0</td>\n",
       "    </tr>\n",
       "    <tr>\n",
       "      <th>299</th>\n",
       "      <td>비바리퍼블리카</td>\n",
       "      <td>317</td>\n",
       "      <td>201912</td>\n",
       "      <td>118730969.0</td>\n",
       "      <td>60531160.0</td>\n",
       "    </tr>\n",
       "  </tbody>\n",
       "</table>\n",
       "<p>288 rows × 5 columns</p>\n",
       "</div>"
      ],
      "text/plain": [
       "        회사ID  월별_직원수      년월         연매출액    월별_연금보험료\n",
       "2     우아한형제들     219  201601   84850263.0  30525537.0\n",
       "3     우아한형제들     222  201602   84850263.0  29910210.0\n",
       "4     우아한형제들     226  201603   84850263.0  31077669.0\n",
       "5     우아한형제들     232  201604   84850263.0  32355001.0\n",
       "6     우아한형제들     244  201605   84850263.0  33977193.0\n",
       "..       ...     ...     ...          ...         ...\n",
       "295  비바리퍼블리카     264  201908  118730969.0  49907132.0\n",
       "296  비바리퍼블리카     272  201909  118730969.0  52020820.0\n",
       "297  비바리퍼블리카     298  201910  118730969.0  57209031.0\n",
       "298  비바리퍼블리카     310  201911  118730969.0  58416378.0\n",
       "299  비바리퍼블리카     317  201912  118730969.0  60531160.0\n",
       "\n",
       "[288 rows x 5 columns]"
      ]
     },
     "metadata": {},
     "output_type": "display_data"
    }
   ],
   "source": [
    "# 원래 있는 평균급여 컬럼 drop\n",
    "df = df.drop('월별_평균급여', axis=1)\n",
    "display(df)"
   ]
  },
  {
   "cell_type": "code",
   "execution_count": 7,
   "metadata": {},
   "outputs": [],
   "source": [
    "# 동일한 시각화 진행\n",
    "\n",
    "def visualization(df,x) :\n",
    "    new_name = df[df['회사ID']==x]\n",
    "    print(x,\"회사 그래프입니다.\")\n",
    "    plt.figure(figsize=(20,10))\n",
    "    plt.subplot(221)\n",
    "    plt.plot(new_name['년월'],new_name['연매출액'])\n",
    "    plt.title(\"매출액\", fontsize=25)\n",
    "    plt.xticks(rotation='vertical')\n",
    "    plt.subplot(222)\n",
    "    plt.plot(new_name['년월'],new_name['월별_직원수'])\n",
    "    plt.title(\"직원수\", fontsize=25)\n",
    "    plt.xticks(rotation='vertical')\n",
    "    plt.show()\n",
    "    print()\n",
    "    print()"
   ]
  },
  {
   "cell_type": "code",
   "execution_count": 8,
   "metadata": {
    "scrolled": false
   },
   "outputs": [
    {
     "name": "stdout",
     "output_type": "stream",
     "text": [
      "우아한형제들 회사 그래프입니다.\n"
     ]
    },
    {
     "data": {
      "image/png": "[encoded data removed]",
      "text/plain": [
       "<Figure size 1440x720 with 2 Axes>"
      ]
     },
     "metadata": {
      "needs_background": "light"
     },
     "output_type": "display_data"
    },
    {
     "name": "stdout",
     "output_type": "stream",
     "text": [
      "\n",
      "\n",
      "크래프톤 회사 그래프입니다.\n"
     ]
    },
    {
     "data": {
      "image/png": "[encoded data removed]",
      "text/plain": [
       "<Figure size 1440x720 with 2 Axes>"
      ]
     },
     "metadata": {
      "needs_background": "light"
     },
     "output_type": "display_data"
    },
    {
     "name": "stdout",
     "output_type": "stream",
     "text": [
      "\n",
      "\n",
      "야놀자 회사 그래프입니다.\n"
     ]
    },
    {
     "data": {
      "image/png": "[encoded data removed]",
      "text/plain": [
       "<Figure size 1440x720 with 2 Axes>"
      ]
     },
     "metadata": {
      "needs_background": "light"
     },
     "output_type": "display_data"
    },
    {
     "name": "stdout",
     "output_type": "stream",
     "text": [
      "\n",
      "\n",
      "블랭크코퍼레이션 회사 그래프입니다.\n"
     ]
    },
    {
     "data": {
      "image/png": "[encoded data removed]",
      "text/plain": [
       "<Figure size 1440x720 with 2 Axes>"
      ]
     },
     "metadata": {
      "needs_background": "light"
     },
     "output_type": "display_data"
    },
    {
     "name": "stdout",
     "output_type": "stream",
     "text": [
      "\n",
      "\n",
      "뱅크웨어글로벌 회사 그래프입니다.\n"
     ]
    },
    {
     "data": {
      "image/png": "[encoded data removed]",
      "text/plain": [
       "<Figure size 1440x720 with 2 Axes>"
      ]
     },
     "metadata": {
      "needs_background": "light"
     },
     "output_type": "display_data"
    },
    {
     "name": "stdout",
     "output_type": "stream",
     "text": [
      "\n",
      "\n",
      "비바리퍼블리카 회사 그래프입니다.\n"
     ]
    },
    {
     "data": {
      "image/png": "[encoded data removed]",
      "text/plain": [
       "<Figure size 1440x720 with 2 Axes>"
      ]
     },
     "metadata": {
      "needs_background": "light"
     },
     "output_type": "display_data"
    },
    {
     "name": "stdout",
     "output_type": "stream",
     "text": [
      "\n",
      "\n"
     ]
    }
   ],
   "source": [
    "list_id = df['회사ID'].unique()\n",
    "\n",
    "for x in list_id :\n",
    "    visualization(df,x)"
   ]
  },
  {
   "cell_type": "markdown",
   "metadata": {},
   "source": [
    "# 정리\n",
    "- 사전에 진행한 시각화와 유사한 형태를 갖는다. (대체로 매출액과 직원수 모두 우상향 곡선을 그린다.)\n",
    "- 때문에 사전분석으로 추출된 기업은 유니콘기업이라 추측할 수 있다."
   ]
  },
  {
   "cell_type": "code",
   "execution_count": null,
   "metadata": {},
   "outputs": [],
   "source": []
  },
  {
   "cell_type": "code",
   "execution_count": null,
   "metadata": {},
   "outputs": [],
   "source": []
  },
  {
   "cell_type": "code",
   "execution_count": null,
   "metadata": {},
   "outputs": [],
   "source": []
  },
  {
   "cell_type": "code",
   "execution_count": null,
   "metadata": {},
   "outputs": [],
   "source": []
  },
  {
   "cell_type": "code",
   "execution_count": null,
   "metadata": {},
   "outputs": [],
   "source": []
  },
  {
   "cell_type": "code",
   "execution_count": null,
   "metadata": {},
   "outputs": [],
   "source": []
  },
  {
   "cell_type": "code",
   "execution_count": null,
   "metadata": {},
   "outputs": [],
   "source": []
  },
  {
   "cell_type": "code",
   "execution_count": null,
   "metadata": {},
   "outputs": [],
   "source": []
  },
  {
   "cell_type": "code",
   "execution_count": null,
   "metadata": {},
   "outputs": [],
   "source": []
  },
  {
   "cell_type": "code",
   "execution_count": null,
   "metadata": {},
   "outputs": [],
   "source": []
  },
  {
   "cell_type": "code",
   "execution_count": null,
   "metadata": {},
   "outputs": [],
   "source": []
  },
  {
   "cell_type": "code",
   "execution_count": null,
   "metadata": {},
   "outputs": [],
   "source": []
  },
  {
   "cell_type": "code",
   "execution_count": null,
   "metadata": {},
   "outputs": [],
   "source": []
  },
  {
   "cell_type": "code",
   "execution_count": null,
   "metadata": {},
   "outputs": [],
   "source": []
  },
  {
   "cell_type": "code",
   "execution_count": null,
   "metadata": {},
   "outputs": [],
   "source": []
  },
  {
   "cell_type": "code",
   "execution_count": null,
   "metadata": {},
   "outputs": [],
   "source": []
  },
  {
   "cell_type": "code",
   "execution_count": null,
   "metadata": {},
   "outputs": [],
   "source": []
  },
  {
   "cell_type": "code",
   "execution_count": null,
   "metadata": {},
   "outputs": [],
   "source": []
  },
  {
   "cell_type": "code",
   "execution_count": null,
   "metadata": {},
   "outputs": [],
   "source": []
  },
  {
   "cell_type": "code",
   "execution_count": null,
   "metadata": {},
   "outputs": [],
   "source": []
  },
  {
   "cell_type": "code",
   "execution_count": null,
   "metadata": {},
   "outputs": [],
   "source": []
  },
  {
   "cell_type": "code",
   "execution_count": null,
   "metadata": {},
   "outputs": [],
   "source": []
  },
  {
   "cell_type": "code",
   "execution_count": null,
   "metadata": {},
   "outputs": [],
   "source": []
  },
  {
   "cell_type": "code",
   "execution_count": null,
   "metadata": {},
   "outputs": [],
   "source": []
  },
  {
   "cell_type": "code",
   "execution_count": null,
   "metadata": {},
   "outputs": [],
   "source": []
  },
  {
   "cell_type": "code",
   "execution_count": null,
   "metadata": {},
   "outputs": [],
   "source": []
  },
  {
   "cell_type": "code",
   "execution_count": null,
   "metadata": {},
   "outputs": [],
   "source": []
  },
  {
   "cell_type": "code",
   "execution_count": null,
   "metadata": {},
   "outputs": [],
   "source": []
  }
 ],
 "metadata": {
  "kernelspec": {
   "display_name": "pydatavenv",
   "language": "python",
   "name": "pydatavenv"
  },
  "language_info": {
   "codemirror_mode": {
    "name": "ipython",
    "version": 3
   },
   "file_extension": ".py",
   "mimetype": "text/x-python",
   "name": "python",
   "nbconvert_exporter": "python",
   "pygments_lexer": "ipython3",
   "version": "3.7.9"
  }
 },
 "nbformat": 4,
 "nbformat_minor": 4
}
