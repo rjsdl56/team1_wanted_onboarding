{
 "cells": [
  {
   "cell_type": "code",
   "execution_count": 19,
   "metadata": {},
   "outputs": [
    {
     "name": "stdout",
     "output_type": "stream",
     "text": [
      "파이썬 버전 : 3.7.9 (default, Aug 31 2020, 17:10:11) [MSC v.1916 64 bit (AMD64)]\n",
      "판다스 버전 : 1.1.3\n"
     ]
    }
   ],
   "source": [
    "# 라이브러리 임포트\n",
    "import os\n",
    "import pandas as pd\n",
    "import matplotlib.pyplot as plt\n",
    "import sys\n",
    "\n",
    "import warnings\n",
    "warnings.filterwarnings('ignore')\n",
    "\n",
    "print(\"파이썬 버전 :\",sys.version)\n",
    "print(\"판다스 버전 :\",pd.__version__)"
   ]
  },
  {
   "cell_type": "code",
   "execution_count": 20,
   "metadata": {},
   "outputs": [
    {
     "data": {
      "text/html": [
       "<div>\n",
       "<style scoped>\n",
       "    .dataframe tbody tr th:only-of-type {\n",
       "        vertical-align: middle;\n",
       "    }\n",
       "\n",
       "    .dataframe tbody tr th {\n",
       "        vertical-align: top;\n",
       "    }\n",
       "\n",
       "    .dataframe thead th {\n",
       "        text-align: right;\n",
       "    }\n",
       "</style>\n",
       "<table border=\"1\" class=\"dataframe\">\n",
       "  <thead>\n",
       "    <tr style=\"text-align: right;\">\n",
       "      <th></th>\n",
       "      <th>회사ID</th>\n",
       "      <th>연매출액</th>\n",
       "      <th>월별_연금보험료</th>\n",
       "      <th>월별_직원수</th>\n",
       "      <th>년월</th>\n",
       "      <th>연매출액_변화량</th>\n",
       "      <th>월별_직원수_변화량</th>\n",
       "    </tr>\n",
       "  </thead>\n",
       "  <tbody>\n",
       "    <tr>\n",
       "      <th>0</th>\n",
       "      <td>391439</td>\n",
       "      <td>2465042</td>\n",
       "      <td>646460</td>\n",
       "      <td>4</td>\n",
       "      <td>201511</td>\n",
       "      <td>0</td>\n",
       "      <td>0</td>\n",
       "    </tr>\n",
       "    <tr>\n",
       "      <th>1</th>\n",
       "      <td>391439</td>\n",
       "      <td>2465042</td>\n",
       "      <td>745460</td>\n",
       "      <td>5</td>\n",
       "      <td>201512</td>\n",
       "      <td>0</td>\n",
       "      <td>1</td>\n",
       "    </tr>\n",
       "    <tr>\n",
       "      <th>2</th>\n",
       "      <td>391439</td>\n",
       "      <td>2407991</td>\n",
       "      <td>745460</td>\n",
       "      <td>5</td>\n",
       "      <td>201601</td>\n",
       "      <td>-57051</td>\n",
       "      <td>0</td>\n",
       "    </tr>\n",
       "    <tr>\n",
       "      <th>3</th>\n",
       "      <td>391439</td>\n",
       "      <td>2407991</td>\n",
       "      <td>745460</td>\n",
       "      <td>5</td>\n",
       "      <td>201602</td>\n",
       "      <td>0</td>\n",
       "      <td>0</td>\n",
       "    </tr>\n",
       "    <tr>\n",
       "      <th>4</th>\n",
       "      <td>391439</td>\n",
       "      <td>2407991</td>\n",
       "      <td>745460</td>\n",
       "      <td>5</td>\n",
       "      <td>201603</td>\n",
       "      <td>0</td>\n",
       "      <td>0</td>\n",
       "    </tr>\n",
       "    <tr>\n",
       "      <th>...</th>\n",
       "      <td>...</td>\n",
       "      <td>...</td>\n",
       "      <td>...</td>\n",
       "      <td>...</td>\n",
       "      <td>...</td>\n",
       "      <td>...</td>\n",
       "      <td>...</td>\n",
       "    </tr>\n",
       "    <tr>\n",
       "      <th>97243</th>\n",
       "      <td>47306</td>\n",
       "      <td>345228</td>\n",
       "      <td>1266440</td>\n",
       "      <td>7</td>\n",
       "      <td>201908</td>\n",
       "      <td>0</td>\n",
       "      <td>0</td>\n",
       "    </tr>\n",
       "    <tr>\n",
       "      <th>97244</th>\n",
       "      <td>47306</td>\n",
       "      <td>345228</td>\n",
       "      <td>1266440</td>\n",
       "      <td>7</td>\n",
       "      <td>201909</td>\n",
       "      <td>0</td>\n",
       "      <td>0</td>\n",
       "    </tr>\n",
       "    <tr>\n",
       "      <th>97245</th>\n",
       "      <td>47306</td>\n",
       "      <td>345228</td>\n",
       "      <td>1266440</td>\n",
       "      <td>7</td>\n",
       "      <td>201910</td>\n",
       "      <td>0</td>\n",
       "      <td>0</td>\n",
       "    </tr>\n",
       "    <tr>\n",
       "      <th>97246</th>\n",
       "      <td>47306</td>\n",
       "      <td>345228</td>\n",
       "      <td>1266440</td>\n",
       "      <td>7</td>\n",
       "      <td>201911</td>\n",
       "      <td>0</td>\n",
       "      <td>0</td>\n",
       "    </tr>\n",
       "    <tr>\n",
       "      <th>97247</th>\n",
       "      <td>47306</td>\n",
       "      <td>345228</td>\n",
       "      <td>1266440</td>\n",
       "      <td>7</td>\n",
       "      <td>201912</td>\n",
       "      <td>0</td>\n",
       "      <td>0</td>\n",
       "    </tr>\n",
       "  </tbody>\n",
       "</table>\n",
       "<p>97248 rows × 7 columns</p>\n",
       "</div>"
      ],
      "text/plain": [
       "         회사ID     연매출액  월별_연금보험료  월별_직원수      년월  연매출액_변화량  월별_직원수_변화량\n",
       "0      391439  2465042    646460       4  201511         0           0\n",
       "1      391439  2465042    745460       5  201512         0           1\n",
       "2      391439  2407991    745460       5  201601    -57051           0\n",
       "3      391439  2407991    745460       5  201602         0           0\n",
       "4      391439  2407991    745460       5  201603         0           0\n",
       "...       ...      ...       ...     ...     ...       ...         ...\n",
       "97243   47306   345228   1266440       7  201908         0           0\n",
       "97244   47306   345228   1266440       7  201909         0           0\n",
       "97245   47306   345228   1266440       7  201910         0           0\n",
       "97246   47306   345228   1266440       7  201911         0           0\n",
       "97247   47306   345228   1266440       7  201912         0           0\n",
       "\n",
       "[97248 rows x 7 columns]"
      ]
     },
     "metadata": {},
     "output_type": "display_data"
    }
   ],
   "source": [
    "# 데이터 불러오기\n",
    "df = pd.read_csv('./변화량_10개_이상.csv')\n",
    "df.drop('Unnamed: 0', axis=1, inplace=True) # 이상한 컬럼?\n",
    "\n",
    "display(df)"
   ]
  },
  {
   "cell_type": "code",
   "execution_count": 21,
   "metadata": {},
   "outputs": [],
   "source": [
    "list_id = df['회사ID'].unique()"
   ]
  },
  {
   "cell_type": "code",
   "execution_count": 22,
   "metadata": {},
   "outputs": [
    {
     "name": "stdout",
     "output_type": "stream",
     "text": [
      "2581 개의 회사가 연매출액이 변화했습니다.\n"
     ]
    }
   ],
   "source": [
    "# 연매출액 변화량이 전혀 없는 데이터를 제거한다.\n",
    "\n",
    "change_sales_list = []\n",
    "\n",
    "for x in list_id :\n",
    "    check_df = df[df['회사ID']==x]\n",
    "    if sum(check_df['연매출액_변화량']) != 0 :\n",
    "        change_sales_list.append(x)\n",
    "        \n",
    "print(len(change_sales_list), \"개의 회사가 연매출액이 변화했습니다.\")"
   ]
  },
  {
   "cell_type": "code",
   "execution_count": 25,
   "metadata": {},
   "outputs": [
    {
     "name": "stdout",
     "output_type": "stream",
     "text": [
      "2233 개의 회사의 직원수가 변화했습니다.\n"
     ]
    }
   ],
   "source": [
    "change_worker_list = []\n",
    "\n",
    "for z in change_sales_list :\n",
    "    worker_df = df[df['회사ID']==z]\n",
    "    if sum(worker_df['월별_직원수_변화량']) != 0 :\n",
    "        change_worker_list.append(z)\n",
    "        \n",
    "print(len(change_worker_list), \"개의 회사의 직원수가 변화했습니다.\")    "
   ]
  },
  {
   "cell_type": "code",
   "execution_count": null,
   "metadata": {},
   "outputs": [],
   "source": []
  },
  {
   "cell_type": "code",
   "execution_count": null,
   "metadata": {},
   "outputs": [],
   "source": []
  },
  {
   "cell_type": "code",
   "execution_count": null,
   "metadata": {},
   "outputs": [],
   "source": []
  },
  {
   "cell_type": "code",
   "execution_count": null,
   "metadata": {},
   "outputs": [],
   "source": []
  },
  {
   "cell_type": "code",
   "execution_count": null,
   "metadata": {},
   "outputs": [],
   "source": []
  },
  {
   "cell_type": "code",
   "execution_count": null,
   "metadata": {},
   "outputs": [],
   "source": []
  },
  {
   "cell_type": "code",
   "execution_count": null,
   "metadata": {},
   "outputs": [],
   "source": []
  }
 ],
 "metadata": {
  "kernelspec": {
   "display_name": "pydatavenv",
   "language": "python",
   "name": "pydatavenv"
  },
  "language_info": {
   "codemirror_mode": {
    "name": "ipython",
    "version": 3
   },
   "file_extension": ".py",
   "mimetype": "text/x-python",
   "name": "python",
   "nbconvert_exporter": "python",
   "pygments_lexer": "ipython3",
   "version": "3.7.9"
  }
 },
 "nbformat": 4,
 "nbformat_minor": 4
}
