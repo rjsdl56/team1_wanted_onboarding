{
 "cells": [
  {
   "cell_type": "code",
   "execution_count": 54,
   "metadata": {},
   "outputs": [
    {
     "name": "stdout",
     "output_type": "stream",
     "text": [
      "파이썬 버전 : 3.7.9 (default, Aug 31 2020, 17:10:11) [MSC v.1916 64 bit (AMD64)]\n",
      "판다스 버전 : 1.1.3\n"
     ]
    }
   ],
   "source": [
    "# 라이브러리 임포트\n",
    "import os\n",
    "import pandas as pd\n",
    "import matplotlib.pyplot as plt\n",
    "import sys\n",
    "\n",
    "import warnings\n",
    "warnings.filterwarnings('ignore')\n",
    "\n",
    "print(\"파이썬 버전 :\",sys.version)\n",
    "print(\"판다스 버전 :\",pd.__version__)"
   ]
  },
  {
   "cell_type": "code",
   "execution_count": 55,
   "metadata": {},
   "outputs": [
    {
     "name": "stdout",
     "output_type": "stream",
     "text": [
      "['company_nps_data.csv']\n"
     ]
    }
   ],
   "source": [
    "# 데이터 확인\n",
    "path = \"C:/Users/parkgun/Desktop/프리온보딩/팀프로젝트_1주차/data\"\n",
    "print(os.listdir(path))\n",
    "\n",
    "# 데이터 불러오기\n",
    "df = pd.read_csv(path+\"/company_nps_data.csv\", encoding=\"cp949\")"
   ]
  },
  {
   "cell_type": "code",
   "execution_count": 56,
   "metadata": {},
   "outputs": [],
   "source": [
    "# 연도와 월을 묶어서 컬럼 형성\n",
    "df['년월'] = pd.to_datetime(df['년도'].astype(str) + df['월'].astype(str), format='%Y%m').dt.strftime('%Y%m')\n",
    "\n",
    "# 회사ID, 연도와 월을 제거해보자\n",
    "df.drop(df[['년도','월']], axis=1, inplace=True)\n",
    "\n",
    "# 시간순으로 나열해보자\n",
    "df= df.sort_values(by='년월')"
   ]
  },
  {
   "cell_type": "code",
   "execution_count": 57,
   "metadata": {},
   "outputs": [],
   "source": [
    "# 코드 참고 : https://github.com/chsop/team4_wanted_onboarding/blob/main/Jaehwan_onboarding_week1_EDA_v0.1.ipynb\n",
    "# 월별 연금 보험료와 월별 직원수가 0인 경우 제외 처리\n",
    "df = df.drop(index=df.query('월별_직원수 == 0').index)"
   ]
  },
  {
   "cell_type": "code",
   "execution_count": 58,
   "metadata": {
    "scrolled": true
   },
   "outputs": [
    {
     "data": {
      "text/html": [
       "<div>\n",
       "<style scoped>\n",
       "    .dataframe tbody tr th:only-of-type {\n",
       "        vertical-align: middle;\n",
       "    }\n",
       "\n",
       "    .dataframe tbody tr th {\n",
       "        vertical-align: top;\n",
       "    }\n",
       "\n",
       "    .dataframe thead th {\n",
       "        text-align: right;\n",
       "    }\n",
       "</style>\n",
       "<table border=\"1\" class=\"dataframe\">\n",
       "  <thead>\n",
       "    <tr style=\"text-align: right;\">\n",
       "      <th></th>\n",
       "      <th>회사ID</th>\n",
       "      <th>연매출액</th>\n",
       "      <th>월별_연금보험료</th>\n",
       "      <th>월별_직원수</th>\n",
       "      <th>년월</th>\n",
       "    </tr>\n",
       "  </thead>\n",
       "  <tbody>\n",
       "    <tr>\n",
       "      <th>9295</th>\n",
       "      <td>391439</td>\n",
       "      <td>2465042</td>\n",
       "      <td>646460</td>\n",
       "      <td>4</td>\n",
       "      <td>201511</td>\n",
       "    </tr>\n",
       "    <tr>\n",
       "      <th>47772</th>\n",
       "      <td>381560</td>\n",
       "      <td>10314403</td>\n",
       "      <td>34580380</td>\n",
       "      <td>105</td>\n",
       "      <td>201511</td>\n",
       "    </tr>\n",
       "    <tr>\n",
       "      <th>5572</th>\n",
       "      <td>305317</td>\n",
       "      <td>12271715</td>\n",
       "      <td>5065780</td>\n",
       "      <td>18</td>\n",
       "      <td>201511</td>\n",
       "    </tr>\n",
       "    <tr>\n",
       "      <th>78461</th>\n",
       "      <td>301480</td>\n",
       "      <td>8353896</td>\n",
       "      <td>5993500</td>\n",
       "      <td>27</td>\n",
       "      <td>201511</td>\n",
       "    </tr>\n",
       "    <tr>\n",
       "      <th>28216</th>\n",
       "      <td>242049</td>\n",
       "      <td>2586419</td>\n",
       "      <td>2236500</td>\n",
       "      <td>14</td>\n",
       "      <td>201511</td>\n",
       "    </tr>\n",
       "    <tr>\n",
       "      <th>...</th>\n",
       "      <td>...</td>\n",
       "      <td>...</td>\n",
       "      <td>...</td>\n",
       "      <td>...</td>\n",
       "      <td>...</td>\n",
       "    </tr>\n",
       "    <tr>\n",
       "      <th>52438</th>\n",
       "      <td>258745</td>\n",
       "      <td>775720</td>\n",
       "      <td>1049920</td>\n",
       "      <td>6</td>\n",
       "      <td>201912</td>\n",
       "    </tr>\n",
       "    <tr>\n",
       "      <th>69541</th>\n",
       "      <td>254479</td>\n",
       "      <td>2269625</td>\n",
       "      <td>1260900</td>\n",
       "      <td>5</td>\n",
       "      <td>201912</td>\n",
       "    </tr>\n",
       "    <tr>\n",
       "      <th>40130</th>\n",
       "      <td>401386</td>\n",
       "      <td>1512330</td>\n",
       "      <td>829060</td>\n",
       "      <td>3</td>\n",
       "      <td>201912</td>\n",
       "    </tr>\n",
       "    <tr>\n",
       "      <th>76502</th>\n",
       "      <td>131998</td>\n",
       "      <td>28298862</td>\n",
       "      <td>17880120</td>\n",
       "      <td>66</td>\n",
       "      <td>201912</td>\n",
       "    </tr>\n",
       "    <tr>\n",
       "      <th>47127</th>\n",
       "      <td>177377</td>\n",
       "      <td>6111906</td>\n",
       "      <td>2638340</td>\n",
       "      <td>8</td>\n",
       "      <td>201912</td>\n",
       "    </tr>\n",
       "  </tbody>\n",
       "</table>\n",
       "<p>99788 rows × 5 columns</p>\n",
       "</div>"
      ],
      "text/plain": [
       "         회사ID      연매출액  월별_연금보험료  월별_직원수      년월\n",
       "9295   391439   2465042    646460       4  201511\n",
       "47772  381560  10314403  34580380     105  201511\n",
       "5572   305317  12271715   5065780      18  201511\n",
       "78461  301480   8353896   5993500      27  201511\n",
       "28216  242049   2586419   2236500      14  201511\n",
       "...       ...       ...       ...     ...     ...\n",
       "52438  258745    775720   1049920       6  201912\n",
       "69541  254479   2269625   1260900       5  201912\n",
       "40130  401386   1512330    829060       3  201912\n",
       "76502  131998  28298862  17880120      66  201912\n",
       "47127  177377   6111906   2638340       8  201912\n",
       "\n",
       "[99788 rows x 5 columns]"
      ]
     },
     "metadata": {},
     "output_type": "display_data"
    },
    {
     "name": "stdout",
     "output_type": "stream",
     "text": [
      "(99788, 5)\n"
     ]
    }
   ],
   "source": [
    "display(df)\n",
    "print(df.shape)"
   ]
  },
  {
   "cell_type": "code",
   "execution_count": 59,
   "metadata": {},
   "outputs": [
    {
     "data": {
      "text/html": [
       "<div>\n",
       "<style scoped>\n",
       "    .dataframe tbody tr th:only-of-type {\n",
       "        vertical-align: middle;\n",
       "    }\n",
       "\n",
       "    .dataframe tbody tr th {\n",
       "        vertical-align: top;\n",
       "    }\n",
       "\n",
       "    .dataframe thead th {\n",
       "        text-align: right;\n",
       "    }\n",
       "</style>\n",
       "<table border=\"1\" class=\"dataframe\">\n",
       "  <thead>\n",
       "    <tr style=\"text-align: right;\">\n",
       "      <th></th>\n",
       "      <th>회사ID</th>\n",
       "      <th>연매출액</th>\n",
       "      <th>월별_연금보험료</th>\n",
       "      <th>월별_직원수</th>\n",
       "      <th>년월</th>\n",
       "    </tr>\n",
       "  </thead>\n",
       "  <tbody>\n",
       "    <tr>\n",
       "      <th>9295</th>\n",
       "      <td>391439</td>\n",
       "      <td>2465042</td>\n",
       "      <td>646460</td>\n",
       "      <td>4</td>\n",
       "      <td>201511</td>\n",
       "    </tr>\n",
       "    <tr>\n",
       "      <th>5572</th>\n",
       "      <td>305317</td>\n",
       "      <td>12271715</td>\n",
       "      <td>5065780</td>\n",
       "      <td>18</td>\n",
       "      <td>201511</td>\n",
       "    </tr>\n",
       "    <tr>\n",
       "      <th>78461</th>\n",
       "      <td>301480</td>\n",
       "      <td>8353896</td>\n",
       "      <td>5993500</td>\n",
       "      <td>27</td>\n",
       "      <td>201511</td>\n",
       "    </tr>\n",
       "    <tr>\n",
       "      <th>28216</th>\n",
       "      <td>242049</td>\n",
       "      <td>2586419</td>\n",
       "      <td>2236500</td>\n",
       "      <td>14</td>\n",
       "      <td>201511</td>\n",
       "    </tr>\n",
       "    <tr>\n",
       "      <th>98517</th>\n",
       "      <td>206215</td>\n",
       "      <td>593530</td>\n",
       "      <td>358740</td>\n",
       "      <td>3</td>\n",
       "      <td>201511</td>\n",
       "    </tr>\n",
       "  </tbody>\n",
       "</table>\n",
       "</div>"
      ],
      "text/plain": [
       "         회사ID      연매출액  월별_연금보험료  월별_직원수      년월\n",
       "9295   391439   2465042    646460       4  201511\n",
       "5572   305317  12271715   5065780      18  201511\n",
       "78461  301480   8353896   5993500      27  201511\n",
       "28216  242049   2586419   2236500      14  201511\n",
       "98517  206215    593530    358740       3  201511"
      ]
     },
     "metadata": {},
     "output_type": "display_data"
    },
    {
     "name": "stdout",
     "output_type": "stream",
     "text": [
      "97248\n"
     ]
    }
   ],
   "source": [
    "# 데이터가 일정 개수 이상 존재하는 회사만 남긴다.\n",
    "df = df.groupby(\"회사ID\").filter(lambda x : len(x) > 10) # 데이터가 10개 이상인 회사만 남긴다.\n",
    "display(df.head())\n",
    "print(len(df))"
   ]
  },
  {
   "cell_type": "code",
   "execution_count": 60,
   "metadata": {},
   "outputs": [],
   "source": [
    "# # 회사, 년도별로 정리된 df을 갖고 싶다.\n",
    "# # 그 중에서도 연매출액과 월별_직원수의 변화가 있는 데이터프레임만 남기고 싶다.\n",
    "# # 어떻게 해야할까\n",
    "\n",
    "\n",
    "# # 한번 만들어봅시다\n",
    "\n",
    "# new_df = df[df['회사ID']==391439]\n",
    "# change_sales_columns = [0]\n",
    "# change_worker_columns = [0]\n",
    "# for i in range(len(new_df)-1) :\n",
    "#     new_sales = new_df.iloc[i+1][1] - new_df.iloc[i][1]\n",
    "#     change_sales_columns.append(new_sales)\n",
    "#     new_worker = new_df.iloc[i+1][3] - new_df.iloc[i][3]\n",
    "#     change_worker_columns.append(new_worker)    \n",
    "# new_df['연매출액_변화량'] = change_sales_columns\n",
    "# new_df['월별_직원수_변화량'] = change_worker_columns\n",
    "\n",
    "# display(new_df)"
   ]
  },
  {
   "cell_type": "code",
   "execution_count": 61,
   "metadata": {
    "scrolled": true
   },
   "outputs": [],
   "source": [
    "# check_df = pd.DataFrame(columns= ['회사ID','연매출액','월별_연금보험료','월별_직원수','년월','연매출액_변화량','월별_직원수_변화량'])\n",
    "# check_df = pd.concat([check_df, new_df])\n",
    "# display(check_df)"
   ]
  },
  {
   "cell_type": "code",
   "execution_count": null,
   "metadata": {},
   "outputs": [],
   "source": []
  },
  {
   "cell_type": "code",
   "execution_count": 62,
   "metadata": {},
   "outputs": [],
   "source": [
    "#"
   ]
  },
  {
   "cell_type": "code",
   "execution_count": 63,
   "metadata": {},
   "outputs": [],
   "source": [
    "# # 자 함수를 만들어봅시다\n",
    "# def make_change(df,x):\n",
    "#     new_df = df[df['회사ID']==x]\n",
    "#     change_sales_columns = [0]\n",
    "#     change_worker_columns = [0]\n",
    "#     for i in range(len(new_df)-1) :\n",
    "#         new_sales = new_df.iloc[i+1][1] - new_df.iloc[i][1]\n",
    "#         change_sales_columns.append(new_sales)\n",
    "#         new_worker = new_df.iloc[i+1][3] - new_df.iloc[i][3]\n",
    "#         change_worker_columns.append(new_worker)    \n",
    "#     new_df['연매출액_변화량'] = change_sales_columns\n",
    "#     new_df['월별_직원수_변화량'] = change_worker_columns\n",
    "    "
   ]
  },
  {
   "cell_type": "code",
   "execution_count": 64,
   "metadata": {},
   "outputs": [],
   "source": [
    "# list_id = df['회사ID'].unique()\n",
    "\n",
    "# check_df = pd.DataFrame(columns= ['회사ID','연매출액','월별_연금보험료','월별_직원수','년월','연매출액_변화량','월별_직원수_변화량'])\n",
    "# for x in list_id :  \n",
    "#     make_change(df,x)\n",
    "#     check_df = pd.concat([check_df, new_df])"
   ]
  },
  {
   "cell_type": "code",
   "execution_count": 65,
   "metadata": {},
   "outputs": [],
   "source": [
    "# 함수가 안되니까 그냥 for문으로 돌려보자\n",
    "\n",
    "list_id = df['회사ID'].unique()\n",
    "check_df = pd.DataFrame(columns= ['회사ID','연매출액','월별_연금보험료','월별_직원수','년월','연매출액_변화량','월별_직원수_변화량'])\n",
    "\n",
    "for x in list_id :  \n",
    "    new_df = df[df['회사ID']==x]\n",
    "    change_sales_columns = [0]\n",
    "    change_worker_columns = [0]\n",
    "    for i in range(len(new_df)-1) :\n",
    "        new_sales = new_df.iloc[i+1][1] - new_df.iloc[i][1]\n",
    "        change_sales_columns.append(new_sales)\n",
    "        new_worker = new_df.iloc[i+1][3] - new_df.iloc[i][3]\n",
    "        change_worker_columns.append(new_worker)    \n",
    "    new_df['연매출액_변화량'] = change_sales_columns\n",
    "    new_df['월별_직원수_변화량'] = change_worker_columns\n",
    "    check_df = pd.concat([check_df, new_df])"
   ]
  },
  {
   "cell_type": "code",
   "execution_count": 67,
   "metadata": {},
   "outputs": [
    {
     "data": {
      "text/html": [
       "<div>\n",
       "<style scoped>\n",
       "    .dataframe tbody tr th:only-of-type {\n",
       "        vertical-align: middle;\n",
       "    }\n",
       "\n",
       "    .dataframe tbody tr th {\n",
       "        vertical-align: top;\n",
       "    }\n",
       "\n",
       "    .dataframe thead th {\n",
       "        text-align: right;\n",
       "    }\n",
       "</style>\n",
       "<table border=\"1\" class=\"dataframe\">\n",
       "  <thead>\n",
       "    <tr style=\"text-align: right;\">\n",
       "      <th></th>\n",
       "      <th>회사ID</th>\n",
       "      <th>연매출액</th>\n",
       "      <th>월별_연금보험료</th>\n",
       "      <th>월별_직원수</th>\n",
       "      <th>년월</th>\n",
       "      <th>연매출액_변화량</th>\n",
       "      <th>월별_직원수_변화량</th>\n",
       "    </tr>\n",
       "  </thead>\n",
       "  <tbody>\n",
       "    <tr>\n",
       "      <th>9295</th>\n",
       "      <td>391439</td>\n",
       "      <td>2465042</td>\n",
       "      <td>646460</td>\n",
       "      <td>4</td>\n",
       "      <td>201511</td>\n",
       "      <td>0</td>\n",
       "      <td>0</td>\n",
       "    </tr>\n",
       "    <tr>\n",
       "      <th>31242</th>\n",
       "      <td>391439</td>\n",
       "      <td>2465042</td>\n",
       "      <td>745460</td>\n",
       "      <td>5</td>\n",
       "      <td>201512</td>\n",
       "      <td>0</td>\n",
       "      <td>1</td>\n",
       "    </tr>\n",
       "    <tr>\n",
       "      <th>81351</th>\n",
       "      <td>391439</td>\n",
       "      <td>2407991</td>\n",
       "      <td>745460</td>\n",
       "      <td>5</td>\n",
       "      <td>201601</td>\n",
       "      <td>-57051</td>\n",
       "      <td>0</td>\n",
       "    </tr>\n",
       "    <tr>\n",
       "      <th>49233</th>\n",
       "      <td>391439</td>\n",
       "      <td>2407991</td>\n",
       "      <td>745460</td>\n",
       "      <td>5</td>\n",
       "      <td>201602</td>\n",
       "      <td>0</td>\n",
       "      <td>0</td>\n",
       "    </tr>\n",
       "    <tr>\n",
       "      <th>74965</th>\n",
       "      <td>391439</td>\n",
       "      <td>2407991</td>\n",
       "      <td>745460</td>\n",
       "      <td>5</td>\n",
       "      <td>201603</td>\n",
       "      <td>0</td>\n",
       "      <td>0</td>\n",
       "    </tr>\n",
       "    <tr>\n",
       "      <th>...</th>\n",
       "      <td>...</td>\n",
       "      <td>...</td>\n",
       "      <td>...</td>\n",
       "      <td>...</td>\n",
       "      <td>...</td>\n",
       "      <td>...</td>\n",
       "      <td>...</td>\n",
       "    </tr>\n",
       "    <tr>\n",
       "      <th>95195</th>\n",
       "      <td>47306</td>\n",
       "      <td>345228</td>\n",
       "      <td>1266440</td>\n",
       "      <td>7</td>\n",
       "      <td>201908</td>\n",
       "      <td>0</td>\n",
       "      <td>0</td>\n",
       "    </tr>\n",
       "    <tr>\n",
       "      <th>7553</th>\n",
       "      <td>47306</td>\n",
       "      <td>345228</td>\n",
       "      <td>1266440</td>\n",
       "      <td>7</td>\n",
       "      <td>201909</td>\n",
       "      <td>0</td>\n",
       "      <td>0</td>\n",
       "    </tr>\n",
       "    <tr>\n",
       "      <th>83631</th>\n",
       "      <td>47306</td>\n",
       "      <td>345228</td>\n",
       "      <td>1266440</td>\n",
       "      <td>7</td>\n",
       "      <td>201910</td>\n",
       "      <td>0</td>\n",
       "      <td>0</td>\n",
       "    </tr>\n",
       "    <tr>\n",
       "      <th>27033</th>\n",
       "      <td>47306</td>\n",
       "      <td>345228</td>\n",
       "      <td>1266440</td>\n",
       "      <td>7</td>\n",
       "      <td>201911</td>\n",
       "      <td>0</td>\n",
       "      <td>0</td>\n",
       "    </tr>\n",
       "    <tr>\n",
       "      <th>80511</th>\n",
       "      <td>47306</td>\n",
       "      <td>345228</td>\n",
       "      <td>1266440</td>\n",
       "      <td>7</td>\n",
       "      <td>201912</td>\n",
       "      <td>0</td>\n",
       "      <td>0</td>\n",
       "    </tr>\n",
       "  </tbody>\n",
       "</table>\n",
       "<p>97248 rows × 7 columns</p>\n",
       "</div>"
      ],
      "text/plain": [
       "         회사ID     연매출액 월별_연금보험료 월별_직원수      년월 연매출액_변화량 월별_직원수_변화량\n",
       "9295   391439  2465042   646460      4  201511        0          0\n",
       "31242  391439  2465042   745460      5  201512        0          1\n",
       "81351  391439  2407991   745460      5  201601   -57051          0\n",
       "49233  391439  2407991   745460      5  201602        0          0\n",
       "74965  391439  2407991   745460      5  201603        0          0\n",
       "...       ...      ...      ...    ...     ...      ...        ...\n",
       "95195   47306   345228  1266440      7  201908        0          0\n",
       "7553    47306   345228  1266440      7  201909        0          0\n",
       "83631   47306   345228  1266440      7  201910        0          0\n",
       "27033   47306   345228  1266440      7  201911        0          0\n",
       "80511   47306   345228  1266440      7  201912        0          0\n",
       "\n",
       "[97248 rows x 7 columns]"
      ]
     },
     "metadata": {},
     "output_type": "display_data"
    }
   ],
   "source": [
    "display(check_df)"
   ]
  },
  {
   "cell_type": "code",
   "execution_count": 68,
   "metadata": {},
   "outputs": [],
   "source": [
    "check_df.to_csv(\"./변화량_10개_이상.csv\")"
   ]
  },
  {
   "cell_type": "code",
   "execution_count": null,
   "metadata": {},
   "outputs": [],
   "source": []
  },
  {
   "cell_type": "code",
   "execution_count": null,
   "metadata": {},
   "outputs": [],
   "source": []
  },
  {
   "cell_type": "code",
   "execution_count": null,
   "metadata": {},
   "outputs": [],
   "source": []
  },
  {
   "cell_type": "code",
   "execution_count": null,
   "metadata": {},
   "outputs": [],
   "source": []
  },
  {
   "cell_type": "code",
   "execution_count": null,
   "metadata": {},
   "outputs": [],
   "source": []
  },
  {
   "cell_type": "code",
   "execution_count": null,
   "metadata": {},
   "outputs": [],
   "source": []
  },
  {
   "cell_type": "code",
   "execution_count": null,
   "metadata": {},
   "outputs": [],
   "source": []
  },
  {
   "cell_type": "code",
   "execution_count": null,
   "metadata": {},
   "outputs": [],
   "source": []
  },
  {
   "cell_type": "code",
   "execution_count": null,
   "metadata": {},
   "outputs": [],
   "source": []
  },
  {
   "cell_type": "code",
   "execution_count": null,
   "metadata": {},
   "outputs": [],
   "source": []
  },
  {
   "cell_type": "code",
   "execution_count": null,
   "metadata": {},
   "outputs": [],
   "source": []
  },
  {
   "cell_type": "code",
   "execution_count": null,
   "metadata": {},
   "outputs": [],
   "source": []
  },
  {
   "cell_type": "code",
   "execution_count": null,
   "metadata": {},
   "outputs": [],
   "source": []
  },
  {
   "cell_type": "code",
   "execution_count": null,
   "metadata": {},
   "outputs": [],
   "source": []
  },
  {
   "cell_type": "code",
   "execution_count": null,
   "metadata": {},
   "outputs": [],
   "source": []
  },
  {
   "cell_type": "code",
   "execution_count": null,
   "metadata": {},
   "outputs": [],
   "source": []
  },
  {
   "cell_type": "code",
   "execution_count": null,
   "metadata": {},
   "outputs": [],
   "source": []
  },
  {
   "cell_type": "code",
   "execution_count": null,
   "metadata": {},
   "outputs": [],
   "source": []
  },
  {
   "cell_type": "code",
   "execution_count": null,
   "metadata": {},
   "outputs": [],
   "source": []
  },
  {
   "cell_type": "code",
   "execution_count": null,
   "metadata": {},
   "outputs": [],
   "source": []
  },
  {
   "cell_type": "code",
   "execution_count": null,
   "metadata": {},
   "outputs": [],
   "source": []
  },
  {
   "cell_type": "code",
   "execution_count": null,
   "metadata": {},
   "outputs": [],
   "source": []
  }
 ],
 "metadata": {
  "kernelspec": {
   "display_name": "pydatavenv",
   "language": "python",
   "name": "pydatavenv"
  },
  "language_info": {
   "codemirror_mode": {
    "name": "ipython",
    "version": 3
   },
   "file_extension": ".py",
   "mimetype": "text/x-python",
   "name": "python",
   "nbconvert_exporter": "python",
   "pygments_lexer": "ipython3",
   "version": "3.7.9"
  }
 },
 "nbformat": 4,
 "nbformat_minor": 4
}
