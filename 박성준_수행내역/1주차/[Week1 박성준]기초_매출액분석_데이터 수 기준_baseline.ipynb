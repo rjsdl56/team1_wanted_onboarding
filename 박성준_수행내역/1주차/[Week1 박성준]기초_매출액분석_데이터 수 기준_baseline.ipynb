{
 "cells": [
  {
   "cell_type": "markdown",
   "metadata": {},
   "source": [
    "# 분석일자\n",
    "2021.05.02"
   ]
  },
  {
   "cell_type": "markdown",
   "metadata": {},
   "source": [
    "# 선요약\n",
    "\n",
    "\n",
    "### 가정 : 데이터가 많으면 유니콘 기업으로 볼 수 있을 것이다.\n",
    "### 결론 : 데이터가 많다고 유니콘기업으로 분류할 수 없다.\n",
    "\n",
    "`매출액`을 기준으로 간단한 시각화 처리를 진행했습니다.    \n",
    "하지만 특정 기업을 선정하는 방식에 논리적 비약이 존재합니다.(ex. 유니콘기업으로 추정되는 기업을 긴 시간 추적했을 것이다.)   \n",
    "보다 효과적인 분석방법을 고려할 필요가 있으며, 의견 제시 부탁드립니다."
   ]
  },
  {
   "cell_type": "code",
   "execution_count": null,
   "metadata": {},
   "outputs": [],
   "source": []
  },
  {
   "cell_type": "code",
   "execution_count": null,
   "metadata": {},
   "outputs": [],
   "source": []
  },
  {
   "cell_type": "markdown",
   "metadata": {},
   "source": [
    "## 팀프로젝트 Week1 ‒원티드 국민연금DB를 이용해서 유니콘 기업 발굴하기\n",
    "\n",
    "원티드는 크레딧잡 서비스를 운영하고 있습니다.       \n",
    "이 데이터는 국민연금가입 사업장 내역이라는 공개데이터를 기반으로 합니다.         \n",
    "국민연금가입을 했다면 기록에 남을 수 밖에 없는 모든 기업 데이터를 통해 여러 인사이트를 도출할 수 있습니다.     \n",
    "\n",
    "미리 진행된 데이터전처리를 통해 기업을 식별할 수는 있는 테이블을 제공해드립니다.      \n",
    "이 데이터를 조인하면 회사의 국민연금고지금액, 매출액, 인원수를 월별로 볼 수 있습니다.         \n",
    "이를 통해 2015년부터 2019년사이의 추이를 그려보시고 유니콘기업으로 보이는 기업들을 나름의 방식으로 찾아주세요.         \n",
    "\n",
    "이 문제에 대한 정답은 없습니다.         \n",
    "따라서 솔루션을 제공해드릴 수는 없는 점 양해바랍니다.        \n"
   ]
  },
  {
   "cell_type": "markdown",
   "metadata": {},
   "source": [
    "데이터정보\n",
    "\n",
    "- 회사수: 약5,000개\n",
    "- 연도 : 2015 ~ 2019\n",
    "- 월별데이터: 직원수, 국민연금보험료(인원 수에 대한 상한선_최대고지금액이 존재함)\n",
    "- 년단위데이터: 매출액(천 원 단위)\n",
    "\n",
    "  \n",
    "\n",
    "EDA 목표\n",
    "\n",
    "- 위 데이터들의 분포(직원수, 매출액, 보험료, +@)\n",
    "- 몇몇 회사를 선택하여 데이터 흐름 살펴보기\n",
    "- 데이터 사이의 관계에 대해 유의미한 결론을 찾아봅시다. (아이디어 수립==>EDA를 통해 관찰)"
   ]
  },
  {
   "cell_type": "markdown",
   "metadata": {},
   "source": [
    "# =============================================="
   ]
  },
  {
   "cell_type": "markdown",
   "metadata": {},
   "source": [
    "### 방법론 소고\n",
    "\n",
    "어떻게 유니콘 기업을 발견해낼 것인가?       \n",
    "\n",
    "유니콘 기업에 대한 사전적 정의는 아래와 같다.      \n",
    "**[유니콘 기업(Unicorn)은 기업 가치가 10억 달러(=1조 원) 이상이고 창업한 지 10년 이하인 비상장 스타트업 기업을 말한다.](https://ko.wikipedia.org/wiki/%EC%9C%A0%EB%8B%88%EC%BD%98_%EA%B8%B0%EC%97%85)**       \n",
    "\n",
    "\n",
    "이때 창업한 지 10년 이하 라는 조건을 고려할 필요는 없다. (2015~2019이기 때문)   \n",
    "그렇다면 활용해야 할 조건은 **기업가치가 1조 원 이상이라는 조건**이다.    \n",
    "하지만 기업가치라는 영역은 단순 계산이 불가능한 부분이며, 여러 복합적 요소를 고려해야 한다.       \n",
    "때문에 몇몇 요소를 고려해 기업가치가 높을 것으로 보이는 기업을 찾아보자.        \n",
    "\n",
    "\n",
    "\n",
    "\n",
    "### 기본 접근 방향\n",
    "1. 매출액 성장에 기반한 분석 ✔\n",
    "   \n",
    "   \n",
    "   \n",
    "2. ~직원수 성장에 기반한 분석~\n",
    "    - ~사세 확장에 따른 직원 충원~\n",
    "    \n",
    "    \n",
    "3. ~국민연금 납부액 성장에 기반한 분석~\n",
    "    - ~국민연금의 일반적인 회사 부담은 4.5% 이다.~\n",
    "    "
   ]
  },
  {
   "cell_type": "markdown",
   "metadata": {},
   "source": [
    "# ================================================================="
   ]
  },
  {
   "cell_type": "code",
   "execution_count": 4,
   "metadata": {},
   "outputs": [
    {
     "name": "stdout",
     "output_type": "stream",
     "text": [
      "파이썬 버전 : 3.7.9 (default, Aug 31 2020, 17:10:11) [MSC v.1916 64 bit (AMD64)]\n",
      "판다스 버전 : 1.1.3\n"
     ]
    }
   ],
   "source": [
    "# 라이브러리 임포트\n",
    "import os\n",
    "import pandas as pd\n",
    "import matplotlib.pyplot as plt\n",
    "import sys\n",
    "\n",
    "import warnings\n",
    "warnings.filterwarnings('ignore')\n",
    "\n",
    "print(\"파이썬 버전 :\",sys.version)\n",
    "print(\"판다스 버전 :\",pd.__version__)"
   ]
  },
  {
   "cell_type": "code",
   "execution_count": 5,
   "metadata": {},
   "outputs": [
    {
     "data": {
      "text/plain": [
       "['company_nps_data.csv']"
      ]
     },
     "execution_count": 5,
     "metadata": {},
     "output_type": "execute_result"
    }
   ],
   "source": [
    "# 데이터 확인\n",
    "path = \"C:/Users/parkgun/Desktop/프리온보딩/팀프로젝트_1주차/data\"\n",
    "os.listdir(path)"
   ]
  },
  {
   "cell_type": "code",
   "execution_count": 6,
   "metadata": {},
   "outputs": [
    {
     "data": {
      "text/html": [
       "<div>\n",
       "<style scoped>\n",
       "    .dataframe tbody tr th:only-of-type {\n",
       "        vertical-align: middle;\n",
       "    }\n",
       "\n",
       "    .dataframe tbody tr th {\n",
       "        vertical-align: top;\n",
       "    }\n",
       "\n",
       "    .dataframe thead th {\n",
       "        text-align: right;\n",
       "    }\n",
       "</style>\n",
       "<table border=\"1\" class=\"dataframe\">\n",
       "  <thead>\n",
       "    <tr style=\"text-align: right;\">\n",
       "      <th></th>\n",
       "      <th>회사ID</th>\n",
       "      <th>연매출액</th>\n",
       "      <th>년도</th>\n",
       "      <th>월</th>\n",
       "      <th>월별_연금보험료</th>\n",
       "      <th>월별_직원수</th>\n",
       "    </tr>\n",
       "  </thead>\n",
       "  <tbody>\n",
       "    <tr>\n",
       "      <th>0</th>\n",
       "      <td>233757</td>\n",
       "      <td>41688077</td>\n",
       "      <td>2018</td>\n",
       "      <td>7</td>\n",
       "      <td>8912380</td>\n",
       "      <td>36</td>\n",
       "    </tr>\n",
       "    <tr>\n",
       "      <th>1</th>\n",
       "      <td>123464</td>\n",
       "      <td>1760695</td>\n",
       "      <td>2018</td>\n",
       "      <td>3</td>\n",
       "      <td>942380</td>\n",
       "      <td>5</td>\n",
       "    </tr>\n",
       "    <tr>\n",
       "      <th>2</th>\n",
       "      <td>342124</td>\n",
       "      <td>3221341</td>\n",
       "      <td>2018</td>\n",
       "      <td>7</td>\n",
       "      <td>781180</td>\n",
       "      <td>4</td>\n",
       "    </tr>\n",
       "    <tr>\n",
       "      <th>3</th>\n",
       "      <td>386420</td>\n",
       "      <td>4815584</td>\n",
       "      <td>2015</td>\n",
       "      <td>11</td>\n",
       "      <td>3795900</td>\n",
       "      <td>14</td>\n",
       "    </tr>\n",
       "    <tr>\n",
       "      <th>4</th>\n",
       "      <td>129243</td>\n",
       "      <td>9799736</td>\n",
       "      <td>2018</td>\n",
       "      <td>10</td>\n",
       "      <td>40724680</td>\n",
       "      <td>151</td>\n",
       "    </tr>\n",
       "  </tbody>\n",
       "</table>\n",
       "</div>"
      ],
      "text/plain": [
       "     회사ID      연매출액    년도   월  월별_연금보험료  월별_직원수\n",
       "0  233757  41688077  2018   7   8912380      36\n",
       "1  123464   1760695  2018   3    942380       5\n",
       "2  342124   3221341  2018   7    781180       4\n",
       "3  386420   4815584  2015  11   3795900      14\n",
       "4  129243   9799736  2018  10  40724680     151"
      ]
     },
     "metadata": {},
     "output_type": "display_data"
    }
   ],
   "source": [
    "# 데이터 불러오기\n",
    "df = pd.read_csv(path+\"/company_nps_data.csv\", encoding=\"cp949\")\n",
    "display(df.head())"
   ]
  },
  {
   "cell_type": "code",
   "execution_count": 7,
   "metadata": {},
   "outputs": [
    {
     "name": "stdout",
     "output_type": "stream",
     "text": [
      "데이터 길이 : 99801\n"
     ]
    }
   ],
   "source": [
    "# 전체 파일 길이 \n",
    "print(\"데이터 길이 :\", len(df))"
   ]
  },
  {
   "cell_type": "code",
   "execution_count": 8,
   "metadata": {},
   "outputs": [
    {
     "data": {
      "text/plain": [
       "회사ID        0\n",
       "연매출액        0\n",
       "년도          0\n",
       "월           0\n",
       "월별_연금보험료    0\n",
       "월별_직원수      0\n",
       "dtype: int64"
      ]
     },
     "execution_count": 8,
     "metadata": {},
     "output_type": "execute_result"
    }
   ],
   "source": [
    "# 결측치 확인\n",
    "df.isna().sum()"
   ]
  },
  {
   "cell_type": "code",
   "execution_count": 9,
   "metadata": {},
   "outputs": [
    {
     "name": "stdout",
     "output_type": "stream",
     "text": [
      "column : 회사ID\n",
      "The number of unique : 5000\n",
      "\n",
      "column : 연매출액\n",
      "The number of unique : 10108\n",
      "\n",
      "column : 년도\n",
      "The number of unique : 5\n",
      "\n",
      "column : 월\n",
      "The number of unique : 12\n",
      "\n",
      "column : 월별_연금보험료\n",
      "The number of unique : 50747\n",
      "\n",
      "column : 월별_직원수\n",
      "The number of unique : 1187\n",
      "\n"
     ]
    }
   ],
   "source": [
    "# 컬럼별 유니크 값 출력 ==> 특이점 없음\n",
    "for col in df.columns:\n",
    "    print(f\"column : {col}\")\n",
    "    print(f\"The number of unique : {df[col].nunique()}\")\n",
    "    print()"
   ]
  },
  {
   "cell_type": "code",
   "execution_count": 10,
   "metadata": {},
   "outputs": [],
   "source": [
    "# 회사 ID별 중복 행 갯수 확인\n",
    "check_df = df.groupby(['회사ID']).size()"
   ]
  },
  {
   "cell_type": "code",
   "execution_count": 11,
   "metadata": {},
   "outputs": [
    {
     "data": {
      "text/html": [
       "<div>\n",
       "<style scoped>\n",
       "    .dataframe tbody tr th:only-of-type {\n",
       "        vertical-align: middle;\n",
       "    }\n",
       "\n",
       "    .dataframe tbody tr th {\n",
       "        vertical-align: top;\n",
       "    }\n",
       "\n",
       "    .dataframe thead th {\n",
       "        text-align: right;\n",
       "    }\n",
       "</style>\n",
       "<table border=\"1\" class=\"dataframe\">\n",
       "  <thead>\n",
       "    <tr style=\"text-align: right;\">\n",
       "      <th></th>\n",
       "      <th>num</th>\n",
       "    </tr>\n",
       "    <tr>\n",
       "      <th>회사ID</th>\n",
       "      <th></th>\n",
       "    </tr>\n",
       "  </thead>\n",
       "  <tbody>\n",
       "    <tr>\n",
       "      <th>63</th>\n",
       "      <td>12</td>\n",
       "    </tr>\n",
       "    <tr>\n",
       "      <th>95</th>\n",
       "      <td>12</td>\n",
       "    </tr>\n",
       "    <tr>\n",
       "      <th>102</th>\n",
       "      <td>8</td>\n",
       "    </tr>\n",
       "    <tr>\n",
       "      <th>295</th>\n",
       "      <td>8</td>\n",
       "    </tr>\n",
       "    <tr>\n",
       "      <th>414</th>\n",
       "      <td>12</td>\n",
       "    </tr>\n",
       "    <tr>\n",
       "      <th>...</th>\n",
       "      <td>...</td>\n",
       "    </tr>\n",
       "    <tr>\n",
       "      <th>2400284</th>\n",
       "      <td>7</td>\n",
       "    </tr>\n",
       "    <tr>\n",
       "      <th>2437574</th>\n",
       "      <td>1</td>\n",
       "    </tr>\n",
       "    <tr>\n",
       "      <th>2693684</th>\n",
       "      <td>6</td>\n",
       "    </tr>\n",
       "    <tr>\n",
       "      <th>3312354</th>\n",
       "      <td>5</td>\n",
       "    </tr>\n",
       "    <tr>\n",
       "      <th>5159723</th>\n",
       "      <td>1</td>\n",
       "    </tr>\n",
       "  </tbody>\n",
       "</table>\n",
       "<p>5000 rows × 1 columns</p>\n",
       "</div>"
      ],
      "text/plain": [
       "         num\n",
       "회사ID        \n",
       "63        12\n",
       "95        12\n",
       "102        8\n",
       "295        8\n",
       "414       12\n",
       "...      ...\n",
       "2400284    7\n",
       "2437574    1\n",
       "2693684    6\n",
       "3312354    5\n",
       "5159723    1\n",
       "\n",
       "[5000 rows x 1 columns]"
      ]
     },
     "metadata": {},
     "output_type": "display_data"
    }
   ],
   "source": [
    "new_df = pd.DataFrame(check_df)\n",
    "new_df.columns = ['num']\n",
    "\n",
    "# 회사 ID 별 행 갯수 출력\n",
    "display(new_df)"
   ]
  },
  {
   "cell_type": "markdown",
   "metadata": {},
   "source": [
    "# 의문점\n",
    "\n",
    "- 왜 어떤 것은 데이터가 하나이고, 어떤 것은 여러 개인가? \n",
    "    - 모두 유니콘 기업인데 유니콘 기업으로 특정되었던 때를 추출한건가?\n",
    "    - 분명 전처리 된 데이터라고 했음\n",
    "    - 1개밖에 남지 않았던 이유와 12개 전부가 남은 이유를 찾아야 할 필요가 있음\n",
    "\n",
    "\n",
    "- 여러 개인 데이터는 특정 연도의 12개월인지 확인할 필요가 있음 ==> 해가 넘어가는지 안넘어가는지 \n",
    "    - 12개를 넘어가는 데이터가 있는지도 확인해야 함"
   ]
  },
  {
   "cell_type": "code",
   "execution_count": 12,
   "metadata": {},
   "outputs": [],
   "source": [
    "# 한 해는 12개월이니까 최소 1년을 넘는 기업들 위주로 찾아보자.\n",
    "df_12 = new_df[new_df['num'] > 12]"
   ]
  },
  {
   "cell_type": "code",
   "execution_count": 13,
   "metadata": {},
   "outputs": [
    {
     "data": {
      "text/html": [
       "<div>\n",
       "<style scoped>\n",
       "    .dataframe tbody tr th:only-of-type {\n",
       "        vertical-align: middle;\n",
       "    }\n",
       "\n",
       "    .dataframe tbody tr th {\n",
       "        vertical-align: top;\n",
       "    }\n",
       "\n",
       "    .dataframe thead th {\n",
       "        text-align: right;\n",
       "    }\n",
       "</style>\n",
       "<table border=\"1\" class=\"dataframe\">\n",
       "  <thead>\n",
       "    <tr style=\"text-align: right;\">\n",
       "      <th></th>\n",
       "      <th>num</th>\n",
       "    </tr>\n",
       "    <tr>\n",
       "      <th>회사ID</th>\n",
       "      <th></th>\n",
       "    </tr>\n",
       "  </thead>\n",
       "  <tbody>\n",
       "    <tr>\n",
       "      <th>14271</th>\n",
       "      <td>50</td>\n",
       "    </tr>\n",
       "    <tr>\n",
       "      <th>395238</th>\n",
       "      <td>50</td>\n",
       "    </tr>\n",
       "    <tr>\n",
       "      <th>404192</th>\n",
       "      <td>50</td>\n",
       "    </tr>\n",
       "    <tr>\n",
       "      <th>296819</th>\n",
       "      <td>50</td>\n",
       "    </tr>\n",
       "    <tr>\n",
       "      <th>134575</th>\n",
       "      <td>50</td>\n",
       "    </tr>\n",
       "    <tr>\n",
       "      <th>138077</th>\n",
       "      <td>50</td>\n",
       "    </tr>\n",
       "    <tr>\n",
       "      <th>135668</th>\n",
       "      <td>50</td>\n",
       "    </tr>\n",
       "    <tr>\n",
       "      <th>237625</th>\n",
       "      <td>50</td>\n",
       "    </tr>\n",
       "    <tr>\n",
       "      <th>128174</th>\n",
       "      <td>50</td>\n",
       "    </tr>\n",
       "    <tr>\n",
       "      <th>442525</th>\n",
       "      <td>50</td>\n",
       "    </tr>\n",
       "    <tr>\n",
       "      <th>442467</th>\n",
       "      <td>50</td>\n",
       "    </tr>\n",
       "    <tr>\n",
       "      <th>130756</th>\n",
       "      <td>50</td>\n",
       "    </tr>\n",
       "    <tr>\n",
       "      <th>250472</th>\n",
       "      <td>50</td>\n",
       "    </tr>\n",
       "    <tr>\n",
       "      <th>155754</th>\n",
       "      <td>50</td>\n",
       "    </tr>\n",
       "    <tr>\n",
       "      <th>192812</th>\n",
       "      <td>48</td>\n",
       "    </tr>\n",
       "    <tr>\n",
       "      <th>478922</th>\n",
       "      <td>48</td>\n",
       "    </tr>\n",
       "    <tr>\n",
       "      <th>419945</th>\n",
       "      <td>48</td>\n",
       "    </tr>\n",
       "    <tr>\n",
       "      <th>165163</th>\n",
       "      <td>48</td>\n",
       "    </tr>\n",
       "    <tr>\n",
       "      <th>303882</th>\n",
       "      <td>48</td>\n",
       "    </tr>\n",
       "    <tr>\n",
       "      <th>280967</th>\n",
       "      <td>46</td>\n",
       "    </tr>\n",
       "  </tbody>\n",
       "</table>\n",
       "</div>"
      ],
      "text/plain": [
       "        num\n",
       "회사ID       \n",
       "14271    50\n",
       "395238   50\n",
       "404192   50\n",
       "296819   50\n",
       "134575   50\n",
       "138077   50\n",
       "135668   50\n",
       "237625   50\n",
       "128174   50\n",
       "442525   50\n",
       "442467   50\n",
       "130756   50\n",
       "250472   50\n",
       "155754   50\n",
       "192812   48\n",
       "478922   48\n",
       "419945   48\n",
       "165163   48\n",
       "303882   48\n",
       "280967   46"
      ]
     },
     "metadata": {},
     "output_type": "display_data"
    }
   ],
   "source": [
    "# 1년 넘게 측정된 기업 ==> 예전부터 지속적으로 관찰되었을 것이다.\n",
    "display(df_12.sort_values(by='num', ascending=False).head(20)) # 총 14개가 50개 ==> 데이터가 50개인 아이디를 추려봅시다."
   ]
  },
  {
   "cell_type": "code",
   "execution_count": 14,
   "metadata": {},
   "outputs": [],
   "source": [
    "df_50 = df_12[df_12['num']==50]"
   ]
  },
  {
   "cell_type": "code",
   "execution_count": 15,
   "metadata": {},
   "outputs": [
    {
     "data": {
      "text/plain": [
       "Int64Index([ 14271, 128174, 130756, 134575, 135668, 138077, 155754, 237625,\n",
       "            250472, 296819, 395238, 404192, 442467, 442525],\n",
       "           dtype='int64', name='회사ID')"
      ]
     },
     "metadata": {},
     "output_type": "display_data"
    }
   ],
   "source": [
    "# 행 개수가 50개인 회사ID 나열\n",
    "display(df_50.index)"
   ]
  },
  {
   "cell_type": "code",
   "execution_count": 16,
   "metadata": {},
   "outputs": [],
   "source": [
    "# 우선 행 데이터가 50개인 회사ID 리스트\n",
    "list_50 = [14271, 128174, 130756, 134575, 135668, 138077, 155754, 237625, 250472, 296819, 395238, 404192, 442467, 442525]"
   ]
  },
  {
   "cell_type": "code",
   "execution_count": 17,
   "metadata": {},
   "outputs": [
    {
     "data": {
      "text/html": [
       "<div>\n",
       "<style scoped>\n",
       "    .dataframe tbody tr th:only-of-type {\n",
       "        vertical-align: middle;\n",
       "    }\n",
       "\n",
       "    .dataframe tbody tr th {\n",
       "        vertical-align: top;\n",
       "    }\n",
       "\n",
       "    .dataframe thead th {\n",
       "        text-align: right;\n",
       "    }\n",
       "</style>\n",
       "<table border=\"1\" class=\"dataframe\">\n",
       "  <thead>\n",
       "    <tr style=\"text-align: right;\">\n",
       "      <th></th>\n",
       "      <th>연매출액</th>\n",
       "      <th>월별_연금보험료</th>\n",
       "      <th>월별_직원수</th>\n",
       "      <th>년월</th>\n",
       "    </tr>\n",
       "  </thead>\n",
       "  <tbody>\n",
       "    <tr>\n",
       "      <th>19588</th>\n",
       "      <td>1199495</td>\n",
       "      <td>2571840</td>\n",
       "      <td>11</td>\n",
       "      <td>201511</td>\n",
       "    </tr>\n",
       "    <tr>\n",
       "      <th>44251</th>\n",
       "      <td>1199495</td>\n",
       "      <td>3558780</td>\n",
       "      <td>15</td>\n",
       "      <td>201512</td>\n",
       "    </tr>\n",
       "    <tr>\n",
       "      <th>39783</th>\n",
       "      <td>4257715</td>\n",
       "      <td>3358340</td>\n",
       "      <td>15</td>\n",
       "      <td>201601</td>\n",
       "    </tr>\n",
       "    <tr>\n",
       "      <th>27519</th>\n",
       "      <td>4257715</td>\n",
       "      <td>3142340</td>\n",
       "      <td>14</td>\n",
       "      <td>201602</td>\n",
       "    </tr>\n",
       "    <tr>\n",
       "      <th>4503</th>\n",
       "      <td>4257715</td>\n",
       "      <td>3016340</td>\n",
       "      <td>13</td>\n",
       "      <td>201603</td>\n",
       "    </tr>\n",
       "    <tr>\n",
       "      <th>76714</th>\n",
       "      <td>4257715</td>\n",
       "      <td>3016340</td>\n",
       "      <td>13</td>\n",
       "      <td>201604</td>\n",
       "    </tr>\n",
       "    <tr>\n",
       "      <th>26844</th>\n",
       "      <td>4257715</td>\n",
       "      <td>2899340</td>\n",
       "      <td>12</td>\n",
       "      <td>201605</td>\n",
       "    </tr>\n",
       "    <tr>\n",
       "      <th>51843</th>\n",
       "      <td>4257715</td>\n",
       "      <td>3183300</td>\n",
       "      <td>13</td>\n",
       "      <td>201606</td>\n",
       "    </tr>\n",
       "    <tr>\n",
       "      <th>36296</th>\n",
       "      <td>4257715</td>\n",
       "      <td>3994700</td>\n",
       "      <td>14</td>\n",
       "      <td>201607</td>\n",
       "    </tr>\n",
       "    <tr>\n",
       "      <th>71375</th>\n",
       "      <td>4257715</td>\n",
       "      <td>4166140</td>\n",
       "      <td>16</td>\n",
       "      <td>201608</td>\n",
       "    </tr>\n",
       "    <tr>\n",
       "      <th>75401</th>\n",
       "      <td>4257715</td>\n",
       "      <td>4419580</td>\n",
       "      <td>17</td>\n",
       "      <td>201609</td>\n",
       "    </tr>\n",
       "    <tr>\n",
       "      <th>9707</th>\n",
       "      <td>4257715</td>\n",
       "      <td>4476720</td>\n",
       "      <td>18</td>\n",
       "      <td>201610</td>\n",
       "    </tr>\n",
       "    <tr>\n",
       "      <th>21203</th>\n",
       "      <td>4257715</td>\n",
       "      <td>4270440</td>\n",
       "      <td>17</td>\n",
       "      <td>201611</td>\n",
       "    </tr>\n",
       "    <tr>\n",
       "      <th>29971</th>\n",
       "      <td>4257715</td>\n",
       "      <td>4261440</td>\n",
       "      <td>17</td>\n",
       "      <td>201612</td>\n",
       "    </tr>\n",
       "    <tr>\n",
       "      <th>27743</th>\n",
       "      <td>5005248</td>\n",
       "      <td>3412760</td>\n",
       "      <td>15</td>\n",
       "      <td>201701</td>\n",
       "    </tr>\n",
       "    <tr>\n",
       "      <th>66131</th>\n",
       "      <td>5005248</td>\n",
       "      <td>3754760</td>\n",
       "      <td>17</td>\n",
       "      <td>201702</td>\n",
       "    </tr>\n",
       "    <tr>\n",
       "      <th>11376</th>\n",
       "      <td>5005248</td>\n",
       "      <td>3576300</td>\n",
       "      <td>16</td>\n",
       "      <td>201703</td>\n",
       "    </tr>\n",
       "    <tr>\n",
       "      <th>61603</th>\n",
       "      <td>5005248</td>\n",
       "      <td>3576300</td>\n",
       "      <td>16</td>\n",
       "      <td>201704</td>\n",
       "    </tr>\n",
       "    <tr>\n",
       "      <th>51484</th>\n",
       "      <td>5005248</td>\n",
       "      <td>3200720</td>\n",
       "      <td>15</td>\n",
       "      <td>201705</td>\n",
       "    </tr>\n",
       "    <tr>\n",
       "      <th>34273</th>\n",
       "      <td>5005248</td>\n",
       "      <td>3407720</td>\n",
       "      <td>16</td>\n",
       "      <td>201706</td>\n",
       "    </tr>\n",
       "    <tr>\n",
       "      <th>21698</th>\n",
       "      <td>5005248</td>\n",
       "      <td>3650320</td>\n",
       "      <td>16</td>\n",
       "      <td>201707</td>\n",
       "    </tr>\n",
       "    <tr>\n",
       "      <th>13510</th>\n",
       "      <td>5005248</td>\n",
       "      <td>3851360</td>\n",
       "      <td>18</td>\n",
       "      <td>201708</td>\n",
       "    </tr>\n",
       "    <tr>\n",
       "      <th>67630</th>\n",
       "      <td>5005248</td>\n",
       "      <td>3851360</td>\n",
       "      <td>18</td>\n",
       "      <td>201709</td>\n",
       "    </tr>\n",
       "    <tr>\n",
       "      <th>8568</th>\n",
       "      <td>5005248</td>\n",
       "      <td>3851360</td>\n",
       "      <td>18</td>\n",
       "      <td>201710</td>\n",
       "    </tr>\n",
       "    <tr>\n",
       "      <th>11885</th>\n",
       "      <td>5005248</td>\n",
       "      <td>3851360</td>\n",
       "      <td>18</td>\n",
       "      <td>201711</td>\n",
       "    </tr>\n",
       "    <tr>\n",
       "      <th>18629</th>\n",
       "      <td>5005248</td>\n",
       "      <td>3851360</td>\n",
       "      <td>18</td>\n",
       "      <td>201712</td>\n",
       "    </tr>\n",
       "    <tr>\n",
       "      <th>87826</th>\n",
       "      <td>8388401</td>\n",
       "      <td>3851360</td>\n",
       "      <td>18</td>\n",
       "      <td>201801</td>\n",
       "    </tr>\n",
       "    <tr>\n",
       "      <th>53877</th>\n",
       "      <td>8388401</td>\n",
       "      <td>3851360</td>\n",
       "      <td>18</td>\n",
       "      <td>201802</td>\n",
       "    </tr>\n",
       "    <tr>\n",
       "      <th>93222</th>\n",
       "      <td>8388401</td>\n",
       "      <td>3851360</td>\n",
       "      <td>18</td>\n",
       "      <td>201803</td>\n",
       "    </tr>\n",
       "    <tr>\n",
       "      <th>70378</th>\n",
       "      <td>8388401</td>\n",
       "      <td>3851360</td>\n",
       "      <td>18</td>\n",
       "      <td>201804</td>\n",
       "    </tr>\n",
       "    <tr>\n",
       "      <th>13322</th>\n",
       "      <td>8388401</td>\n",
       "      <td>4067260</td>\n",
       "      <td>19</td>\n",
       "      <td>201805</td>\n",
       "    </tr>\n",
       "    <tr>\n",
       "      <th>56599</th>\n",
       "      <td>8388401</td>\n",
       "      <td>4223220</td>\n",
       "      <td>20</td>\n",
       "      <td>201806</td>\n",
       "    </tr>\n",
       "    <tr>\n",
       "      <th>49960</th>\n",
       "      <td>8388401</td>\n",
       "      <td>4240440</td>\n",
       "      <td>20</td>\n",
       "      <td>201807</td>\n",
       "    </tr>\n",
       "    <tr>\n",
       "      <th>25583</th>\n",
       "      <td>8388401</td>\n",
       "      <td>4396400</td>\n",
       "      <td>21</td>\n",
       "      <td>201808</td>\n",
       "    </tr>\n",
       "    <tr>\n",
       "      <th>70352</th>\n",
       "      <td>8388401</td>\n",
       "      <td>4692660</td>\n",
       "      <td>23</td>\n",
       "      <td>201809</td>\n",
       "    </tr>\n",
       "    <tr>\n",
       "      <th>41940</th>\n",
       "      <td>8388401</td>\n",
       "      <td>4551360</td>\n",
       "      <td>22</td>\n",
       "      <td>201810</td>\n",
       "    </tr>\n",
       "    <tr>\n",
       "      <th>44876</th>\n",
       "      <td>8388401</td>\n",
       "      <td>4519140</td>\n",
       "      <td>22</td>\n",
       "      <td>201811</td>\n",
       "    </tr>\n",
       "    <tr>\n",
       "      <th>11974</th>\n",
       "      <td>8388401</td>\n",
       "      <td>4685640</td>\n",
       "      <td>23</td>\n",
       "      <td>201812</td>\n",
       "    </tr>\n",
       "    <tr>\n",
       "      <th>6456</th>\n",
       "      <td>9039340</td>\n",
       "      <td>4519140</td>\n",
       "      <td>22</td>\n",
       "      <td>201901</td>\n",
       "    </tr>\n",
       "    <tr>\n",
       "      <th>8345</th>\n",
       "      <td>9039340</td>\n",
       "      <td>4363180</td>\n",
       "      <td>21</td>\n",
       "      <td>201902</td>\n",
       "    </tr>\n",
       "    <tr>\n",
       "      <th>35762</th>\n",
       "      <td>9039340</td>\n",
       "      <td>4363180</td>\n",
       "      <td>21</td>\n",
       "      <td>201903</td>\n",
       "    </tr>\n",
       "    <tr>\n",
       "      <th>75167</th>\n",
       "      <td>9039340</td>\n",
       "      <td>4363180</td>\n",
       "      <td>21</td>\n",
       "      <td>201904</td>\n",
       "    </tr>\n",
       "    <tr>\n",
       "      <th>9157</th>\n",
       "      <td>9039340</td>\n",
       "      <td>4549120</td>\n",
       "      <td>22</td>\n",
       "      <td>201905</td>\n",
       "    </tr>\n",
       "    <tr>\n",
       "      <th>85455</th>\n",
       "      <td>9039340</td>\n",
       "      <td>4889040</td>\n",
       "      <td>24</td>\n",
       "      <td>201906</td>\n",
       "    </tr>\n",
       "    <tr>\n",
       "      <th>45713</th>\n",
       "      <td>9039340</td>\n",
       "      <td>5302140</td>\n",
       "      <td>24</td>\n",
       "      <td>201907</td>\n",
       "    </tr>\n",
       "    <tr>\n",
       "      <th>99432</th>\n",
       "      <td>9039340</td>\n",
       "      <td>5049880</td>\n",
       "      <td>23</td>\n",
       "      <td>201908</td>\n",
       "    </tr>\n",
       "    <tr>\n",
       "      <th>23125</th>\n",
       "      <td>9039340</td>\n",
       "      <td>5049880</td>\n",
       "      <td>23</td>\n",
       "      <td>201909</td>\n",
       "    </tr>\n",
       "    <tr>\n",
       "      <th>46724</th>\n",
       "      <td>9039340</td>\n",
       "      <td>4863940</td>\n",
       "      <td>22</td>\n",
       "      <td>201910</td>\n",
       "    </tr>\n",
       "    <tr>\n",
       "      <th>18278</th>\n",
       "      <td>9039340</td>\n",
       "      <td>5124940</td>\n",
       "      <td>23</td>\n",
       "      <td>201911</td>\n",
       "    </tr>\n",
       "    <tr>\n",
       "      <th>84280</th>\n",
       "      <td>9039340</td>\n",
       "      <td>5124940</td>\n",
       "      <td>23</td>\n",
       "      <td>201912</td>\n",
       "    </tr>\n",
       "  </tbody>\n",
       "</table>\n",
       "</div>"
      ],
      "text/plain": [
       "          연매출액  월별_연금보험료  월별_직원수      년월\n",
       "19588  1199495   2571840      11  201511\n",
       "44251  1199495   3558780      15  201512\n",
       "39783  4257715   3358340      15  201601\n",
       "27519  4257715   3142340      14  201602\n",
       "4503   4257715   3016340      13  201603\n",
       "76714  4257715   3016340      13  201604\n",
       "26844  4257715   2899340      12  201605\n",
       "51843  4257715   3183300      13  201606\n",
       "36296  4257715   3994700      14  201607\n",
       "71375  4257715   4166140      16  201608\n",
       "75401  4257715   4419580      17  201609\n",
       "9707   4257715   4476720      18  201610\n",
       "21203  4257715   4270440      17  201611\n",
       "29971  4257715   4261440      17  201612\n",
       "27743  5005248   3412760      15  201701\n",
       "66131  5005248   3754760      17  201702\n",
       "11376  5005248   3576300      16  201703\n",
       "61603  5005248   3576300      16  201704\n",
       "51484  5005248   3200720      15  201705\n",
       "34273  5005248   3407720      16  201706\n",
       "21698  5005248   3650320      16  201707\n",
       "13510  5005248   3851360      18  201708\n",
       "67630  5005248   3851360      18  201709\n",
       "8568   5005248   3851360      18  201710\n",
       "11885  5005248   3851360      18  201711\n",
       "18629  5005248   3851360      18  201712\n",
       "87826  8388401   3851360      18  201801\n",
       "53877  8388401   3851360      18  201802\n",
       "93222  8388401   3851360      18  201803\n",
       "70378  8388401   3851360      18  201804\n",
       "13322  8388401   4067260      19  201805\n",
       "56599  8388401   4223220      20  201806\n",
       "49960  8388401   4240440      20  201807\n",
       "25583  8388401   4396400      21  201808\n",
       "70352  8388401   4692660      23  201809\n",
       "41940  8388401   4551360      22  201810\n",
       "44876  8388401   4519140      22  201811\n",
       "11974  8388401   4685640      23  201812\n",
       "6456   9039340   4519140      22  201901\n",
       "8345   9039340   4363180      21  201902\n",
       "35762  9039340   4363180      21  201903\n",
       "75167  9039340   4363180      21  201904\n",
       "9157   9039340   4549120      22  201905\n",
       "85455  9039340   4889040      24  201906\n",
       "45713  9039340   5302140      24  201907\n",
       "99432  9039340   5049880      23  201908\n",
       "23125  9039340   5049880      23  201909\n",
       "46724  9039340   4863940      22  201910\n",
       "18278  9039340   5124940      23  201911\n",
       "84280  9039340   5124940      23  201912"
      ]
     },
     "metadata": {},
     "output_type": "display_data"
    }
   ],
   "source": [
    "# 일단 예시로 하나만 뽑아보자\n",
    "df_ID_14271 = df[df['회사ID']==14271]\n",
    "\n",
    "# 연도와 월을 묶어서 컬럼 형성\n",
    "df_ID_14271['년월'] = pd.to_datetime(df['년도'].astype(str) + df['월'].astype(str), format='%Y%m').dt.strftime('%Y%m')\n",
    "\n",
    "# 회사ID, 연도와 월을 제거해보자\n",
    "df_ID_14271.drop(df_ID_14271[['회사ID','년도','월']], axis=1, inplace=True)\n",
    "\n",
    "# 시간순으로 나열해보자\n",
    "df_ID_14271= df_ID_14271.sort_values(by='년월')\n",
    "\n",
    "# 확인\n",
    "display(df_ID_14271)"
   ]
  },
  {
   "cell_type": "markdown",
   "metadata": {},
   "source": [
    "# 생각해볼 것\n",
    "- 일정한 시간 순서로 데이터가 존재한다.\n",
    "- 월별 연금보험료와 직원수는 비례한다. \n",
    "- 월별 직원수에 따라 연금보험료는 줄어드는 부분이 존재한다. (중간 변화를 어떻게 처리해야 하는가?)\n",
    "- 월별 직원수와 연금보험료는 묶어서 처리해야 한다.\n",
    "- 연매출은 계속해서 늘어난다. (일관적인 상승을 기대)"
   ]
  },
  {
   "cell_type": "code",
   "execution_count": 18,
   "metadata": {},
   "outputs": [
    {
     "data": {
      "text/plain": [
       "[<matplotlib.lines.Line2D at 0x17237bed1c8>]"
      ]
     },
     "execution_count": 18,
     "metadata": {},
     "output_type": "execute_result"
    },
    {
     "data": {
      "image/png": "[encoded data removed]",
      "text/plain": [
       "<Figure size 1440x720 with 1 Axes>"
      ]
     },
     "metadata": {
      "needs_background": "light"
     },
     "output_type": "display_data"
    }
   ],
   "source": [
    "# df_ID_14271 시각화\n",
    "\n",
    "%matplotlib inline\n",
    "plt.rc('font', family='Malgun Gothic')\n",
    "plt.figure(figsize=(20,10))\n",
    "plt.xticks(rotation='vertical')\n",
    "plt.plot(df_ID_14271['년월'],df_ID_14271['연매출액'])\n"
   ]
  },
  {
   "cell_type": "markdown",
   "metadata": {},
   "source": [
    "\n",
    "## 확인해볼 것\n",
    "- 과연 기록이 많으면 좋은 기업인가?\n",
    "- 함수로 위의 과정을 간략화한 뒤, 14개의 데이터를 모두 그려보자."
   ]
  },
  {
   "cell_type": "code",
   "execution_count": 19,
   "metadata": {},
   "outputs": [],
   "source": [
    "# 함수 구조가 좀 이상함 ==> 다시 생각해볼 것\n",
    "\n",
    "def check_sales(df, x):\n",
    "\n",
    "    pre_name = 'df_ID_'\n",
    "    new_name = pre_name + str(x)\n",
    "    \n",
    "    print()\n",
    "    print(x, \"회사 그래프입니다.\")    \n",
    "    \n",
    "    # 특정 기업 선택\n",
    "    new_name = df[df['회사ID']==x]\n",
    "\n",
    "    # 연도와 월을 묶어서 컬럼 형성\n",
    "    new_name['년월'] = pd.to_datetime(df['년도'].astype(str) + df['월'].astype(str), format='%Y%m').dt.strftime('%Y%m')\n",
    "\n",
    "    # 회사ID, 연도와 월을 제거해보자\n",
    "    new_name.drop(new_name[['회사ID','년도','월']], axis=1, inplace=True)\n",
    "\n",
    "    # 시간순으로 나열\n",
    "    new_name= new_name.sort_values(by='년월')\n",
    "\n",
    "    plt.figure(figsize=(10,5))\n",
    "    plt.xticks(rotation='vertical')\n",
    "    plt.title(x)\n",
    "    plt.plot(new_name['년월'],new_name['연매출액'])\n",
    "    plt.show()\n"
   ]
  },
  {
   "cell_type": "code",
   "execution_count": 20,
   "metadata": {
    "scrolled": false
   },
   "outputs": [
    {
     "name": "stdout",
     "output_type": "stream",
     "text": [
      "\n",
      "14271 회사 그래프입니다.\n"
     ]
    },
    {
     "data": {
      "image/png": "[encoded data removed]",
      "text/plain": [
       "<Figure size 720x360 with 1 Axes>"
      ]
     },
     "metadata": {
      "needs_background": "light"
     },
     "output_type": "display_data"
    },
    {
     "name": "stdout",
     "output_type": "stream",
     "text": [
      "\n",
      "128174 회사 그래프입니다.\n"
     ]
    },
    {
     "data": {
      "image/png": "[encoded data removed]",
      "text/plain": [
       "<Figure size 720x360 with 1 Axes>"
      ]
     },
     "metadata": {
      "needs_background": "light"
     },
     "output_type": "display_data"
    },
    {
     "name": "stdout",
     "output_type": "stream",
     "text": [
      "\n",
      "130756 회사 그래프입니다.\n"
     ]
    },
    {
     "data": {
      "image/png": "[encoded data removed]",
      "text/plain": [
       "<Figure size 720x360 with 1 Axes>"
      ]
     },
     "metadata": {
      "needs_background": "light"
     },
     "output_type": "display_data"
    },
    {
     "name": "stdout",
     "output_type": "stream",
     "text": [
      "\n",
      "134575 회사 그래프입니다.\n"
     ]
    },
    {
     "data": {
      "image/png": "[encoded data removed]",
      "text/plain": [
       "<Figure size 720x360 with 1 Axes>"
      ]
     },
     "metadata": {
      "needs_background": "light"
     },
     "output_type": "display_data"
    },
    {
     "name": "stdout",
     "output_type": "stream",
     "text": [
      "\n",
      "135668 회사 그래프입니다.\n"
     ]
    },
    {
     "data": {
      "image/png": "[encoded data removed]",
      "text/plain": [
       "<Figure size 720x360 with 1 Axes>"
      ]
     },
     "metadata": {
      "needs_background": "light"
     },
     "output_type": "display_data"
    },
    {
     "name": "stdout",
     "output_type": "stream",
     "text": [
      "\n",
      "138077 회사 그래프입니다.\n"
     ]
    },
    {
     "data": {
      "image/png": "[encoded data removed]",
      "text/plain": [
       "<Figure size 720x360 with 1 Axes>"
      ]
     },
     "metadata": {
      "needs_background": "light"
     },
     "output_type": "display_data"
    },
    {
     "name": "stdout",
     "output_type": "stream",
     "text": [
      "\n",
      "155754 회사 그래프입니다.\n"
     ]
    },
    {
     "data": {
      "image/png": "[encoded data removed]",
      "text/plain": [
       "<Figure size 720x360 with 1 Axes>"
      ]
     },
     "metadata": {
      "needs_background": "light"
     },
     "output_type": "display_data"
    },
    {
     "name": "stdout",
     "output_type": "stream",
     "text": [
      "\n",
      "237625 회사 그래프입니다.\n"
     ]
    },
    {
     "data": {
      "image/png": "[encoded data removed]",
      "text/plain": [
       "<Figure size 720x360 with 1 Axes>"
      ]
     },
     "metadata": {
      "needs_background": "light"
     },
     "output_type": "display_data"
    },
    {
     "name": "stdout",
     "output_type": "stream",
     "text": [
      "\n",
      "250472 회사 그래프입니다.\n"
     ]
    },
    {
     "data": {
      "image/png": "[encoded data removed]",
      "text/plain": [
       "<Figure size 720x360 with 1 Axes>"
      ]
     },
     "metadata": {
      "needs_background": "light"
     },
     "output_type": "display_data"
    },
    {
     "name": "stdout",
     "output_type": "stream",
     "text": [
      "\n",
      "296819 회사 그래프입니다.\n"
     ]
    },
    {
     "data": {
      "image/png": "[encoded data removed]",
      "text/plain": [
       "<Figure size 720x360 with 1 Axes>"
      ]
     },
     "metadata": {
      "needs_background": "light"
     },
     "output_type": "display_data"
    },
    {
     "name": "stdout",
     "output_type": "stream",
     "text": [
      "\n",
      "395238 회사 그래프입니다.\n"
     ]
    },
    {
     "data": {
      "image/png": "[encoded data removed]",
      "text/plain": [
       "<Figure size 720x360 with 1 Axes>"
      ]
     },
     "metadata": {
      "needs_background": "light"
     },
     "output_type": "display_data"
    },
    {
     "name": "stdout",
     "output_type": "stream",
     "text": [
      "\n",
      "404192 회사 그래프입니다.\n"
     ]
    },
    {
     "data": {
      "image/png": "[encoded data removed]",
      "text/plain": [
       "<Figure size 720x360 with 1 Axes>"
      ]
     },
     "metadata": {
      "needs_background": "light"
     },
     "output_type": "display_data"
    },
    {
     "name": "stdout",
     "output_type": "stream",
     "text": [
      "\n",
      "442467 회사 그래프입니다.\n"
     ]
    },
    {
     "data": {
      "image/png": "[encoded data removed]",
      "text/plain": [
       "<Figure size 720x360 with 1 Axes>"
      ]
     },
     "metadata": {
      "needs_background": "light"
     },
     "output_type": "display_data"
    },
    {
     "name": "stdout",
     "output_type": "stream",
     "text": [
      "\n",
      "442525 회사 그래프입니다.\n"
     ]
    },
    {
     "data": {
      "image/png": "[encoded data removed]",
      "text/plain": [
       "<Figure size 720x360 with 1 Axes>"
      ]
     },
     "metadata": {
      "needs_background": "light"
     },
     "output_type": "display_data"
    }
   ],
   "source": [
    "for i in list_50 :\n",
    "    check_sales(df,i)"
   ]
  },
  {
   "cell_type": "markdown",
   "metadata": {},
   "source": [
    "# 시각화 결과에 대한 생각\n",
    "- 무조건적으로 데이터가 많다고 좋은 기업은 아니다.\n",
    "\n",
    "# 생각해볼 것\n",
    "- 일시적으로 하락한 뒤 다시 성장하는 기업을 어떻게 분류해야 하는가?"
   ]
  },
  {
   "cell_type": "code",
   "execution_count": null,
   "metadata": {},
   "outputs": [],
   "source": []
  },
  {
   "cell_type": "code",
   "execution_count": null,
   "metadata": {},
   "outputs": [],
   "source": []
  }
 ],
 "metadata": {
  "kernelspec": {
   "display_name": "pydatavenv",
   "language": "python",
   "name": "pydatavenv"
  },
  "language_info": {
   "codemirror_mode": {
    "name": "ipython",
    "version": 3
   },
   "file_extension": ".py",
   "mimetype": "text/x-python",
   "name": "python",
   "nbconvert_exporter": "python",
   "pygments_lexer": "ipython3",
   "version": "3.7.9"
  }
 },
 "nbformat": 4,
 "nbformat_minor": 4
}
