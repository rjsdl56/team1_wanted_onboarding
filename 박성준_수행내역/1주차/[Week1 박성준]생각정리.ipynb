{
 "cells": [
  {
   "cell_type": "markdown",
   "metadata": {},
   "source": [
    "# 분석 후 생각해볼 점"
   ]
  },
  {
   "cell_type": "markdown",
   "metadata": {},
   "source": [
    "### 매출액과 직원수 변화가 전혀 없는 회사들이 존재한다. \n",
    "    - Paper 컴퍼니인가?\n",
    "    - 이를 제외해야 할지 고민해보자\n",
    "    \n",
    "### 실제 기업데이터를 보면 매출액이 일시적으로 줄어드는 순간도 존재한다.\n",
    "    - 단순히 마지막 순간에 매출액을 가지고 판단하는 것이 옳은가? (직전 순간 매출액이 더 높을 수도)\n",
    "    - 매출이 줄어드는 것을 고려한다면 어떠한 형식으로 고려할 것인가?\n",
    "    \n",
    "### 유니콘 기업을 찾아내는 알고리즘에 대해 생각해볼 필요가 있다.\n",
    "    - 매출액과 직원수만으로 유니콘 기업이라 판단할 수 있는가? (Top 10만 생각한다면 가능)\n",
    "    - 현재는 시각화 후 상승곡선을 그리는 기업만을 추출한 상태이다. 상승곡선을 그리는 것만 유니콘이라 할 수 없다.\n",
    "    - 유니콘기업이라 명확하게 판단할 수 있는 로직이 필요하다.\n",
    " "
   ]
  },
  {
   "cell_type": "code",
   "execution_count": null,
   "metadata": {},
   "outputs": [],
   "source": []
  }
 ],
 "metadata": {
  "kernelspec": {
   "display_name": "pydatavenv",
   "language": "python",
   "name": "pydatavenv"
  },
  "language_info": {
   "codemirror_mode": {
    "name": "ipython",
    "version": 3
   },
   "file_extension": ".py",
   "mimetype": "text/x-python",
   "name": "python",
   "nbconvert_exporter": "python",
   "pygments_lexer": "ipython3",
   "version": "3.7.9"
  }
 },
 "nbformat": 4,
 "nbformat_minor": 4
}
