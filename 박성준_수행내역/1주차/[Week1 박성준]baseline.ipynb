{
 "cells": [
  {
   "cell_type": "code",
   "execution_count": null,
   "metadata": {},
   "outputs": [],
   "source": [
    "# 라이브러리 임포트\n",
    "import os\n",
    "import pandas as pd\n",
    "import matplotlib.pyplot as plt\n",
    "import sys\n",
    "\n",
    "import warnings\n",
    "warnings.filterwarnings('ignore')\n",
    "\n",
    "print(\"파이썬 버전 :\",sys.version)\n",
    "print(\"판다스 버전 :\",pd.__version__)"
   ]
  },
  {
   "cell_type": "code",
   "execution_count": null,
   "metadata": {},
   "outputs": [],
   "source": [
    "# 데이터 확인\n",
    "path = \"C:/Users/parkgun/Desktop/프리온보딩/팀프로젝트_1주차/data\"\n",
    "print(os.listdir(path))\n",
    "\n",
    "# 데이터 불러오기\n",
    "df = pd.read_csv(path+\"/company_nps_data.csv\", encoding=\"cp949\")\n",
    "display(df.head())"
   ]
  },
  {
   "cell_type": "code",
   "execution_count": null,
   "metadata": {},
   "outputs": [],
   "source": [
    "# 연도와 월을 묶어서 컬럼 형성\n",
    "df['년월'] = pd.to_datetime(df['년도'].astype(str) + df['월'].astype(str), format='%Y%m').dt.strftime('%Y%m')\n",
    "\n",
    "# 회사ID, 연도와 월을 제거해보자\n",
    "df.drop(df[['년도','월']], axis=1, inplace=True)\n",
    "\n",
    "# 시간순으로 나열해보자\n",
    "df= df.sort_values(by='년월')"
   ]
  },
  {
   "cell_type": "code",
   "execution_count": null,
   "metadata": {},
   "outputs": [],
   "source": []
  }
 ],
 "metadata": {
  "kernelspec": {
   "display_name": "pydatavenv",
   "language": "python",
   "name": "pydatavenv"
  },
  "language_info": {
   "codemirror_mode": {
    "name": "ipython",
    "version": 3
   },
   "file_extension": ".py",
   "mimetype": "text/x-python",
   "name": "python",
   "nbconvert_exporter": "python",
   "pygments_lexer": "ipython3",
   "version": "3.7.9"
  }
 },
 "nbformat": 4,
 "nbformat_minor": 4
}
