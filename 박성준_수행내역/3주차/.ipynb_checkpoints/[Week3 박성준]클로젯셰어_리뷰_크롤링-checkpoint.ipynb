{
 "cells": [
  {
   "cell_type": "code",
   "execution_count": 2,
   "metadata": {},
   "outputs": [],
   "source": [
    "from selenium import webdriver\n",
    "from selenium.webdriver.common.keys import Keys # 엔터키 입력용\n",
    "from selenium.webdriver.support.ui import WebDriverWait\n",
    "from selenium.webdriver.common.by import By\n",
    "from selenium.webdriver.support import expected_conditions as EC\n",
    "import pandas as pd\n",
    "import time"
   ]
  },
  {
   "cell_type": "code",
   "execution_count": 3,
   "metadata": {},
   "outputs": [],
   "source": [
    "## 구글 리뷰\n",
    "\n",
    "# 드라이버\n",
    "driver = webdriver.Chrome('C:/Temp/chromedriver') # 웹드라이버 객체 생성\n",
    "\n",
    "# 구글을 열어서 키워드 입력 후 이동\n",
    "driver.get('https://play.google.com/store/apps/details?id=com.tc.closetshare&showAllReviews=true') # 구글 홈페이지 내용 렌더링\n",
    "time.sleep(1)\n",
    "\n",
    "# 모든 댓글 불러오기\n",
    "driver.execute_script(\"window.scrollTo(0, document.body.scrollHeight);\")\n",
    "time.sleep(2)\n",
    "driver.execute_script(\"window.scrollTo(0, document.body.scrollHeight);\")\n",
    "time.sleep(2)\n",
    "driver.execute_script(\"window.scrollTo(0, document.body.scrollHeight);\")\n",
    "\n",
    "\n",
    "google_review_list = []\n",
    "\n",
    "# 댓글 수집하기\n",
    "for x in range(1,138) :\n",
    "    review = driver.find_element_by_css_selector(\"#fcxH9b > div.WpDbMd > c-wiz > div > div.ZfcPIb > div > div > main > div > div.W4P4ne > div:nth-child(2) > div > div:nth-child(\"+str(x)+\") > div > div.d15Mdf.bAhLNe > div.UD7Dzf > span:nth-child(1)\")\n",
    "    google_review_list.append(review.text)\n",
    "    "
   ]
  },
  {
   "cell_type": "code",
   "execution_count": 4,
   "metadata": {
    "scrolled": false
   },
   "outputs": [],
   "source": [
    "# 애플 리뷰\n",
    "\n",
    "\n",
    "# 드라이버\n",
    "driver = webdriver.Chrome('C:/Temp/chromedriver') # 웹드라이버 객체 생성\n",
    "\n",
    "# 구글을 열어서 키워드 입력 후 이동\n",
    "driver.get('https://apps.apple.com/kr/app/%ED%81%B4%EB%A1%9C%EC%A0%AF%EC%85%B0%EC%96%B4-no-1-%ED%8C%A8%EC%85%98%EA%B3%B5%EC%9C%A0%ED%94%8C%EB%9E%AB%ED%8F%BC/id1436676772#see-all/reviews') # 구글 홈페이지 내용 렌더링\n",
    "time.sleep(1)\n",
    "\n",
    "# 모든 댓글 불러오기\n",
    "\n",
    "for _ in range(19) :\n",
    "    driver.execute_script(\"window.scrollTo(0, document.body.scrollHeight);\")\n",
    "    time.sleep(2)\n",
    "\n",
    "\n",
    "apple_review_list = []\n",
    "\n",
    "# 댓글 수집하기\n",
    "for x in range(83,102,2) :\n",
    "    try :\n",
    "        review = driver.find_element_by_css_selector(\"#ember\"+str(x)+\" > div.we-customer-review.lockup > blockquote > div > p:nth-child(1)\")\n",
    "        apple_review_list.append(review.text)\n",
    "    except :    \n",
    "        review = driver.find_element_by_css_selector(\"#ember\"+str(x)+\" > div.we-customer-review.lockup > blockquote > div > p\")\n",
    "        apple_review_list.append(review.text)\n",
    "\n",
    "\n",
    "for x in range(116,625,2) :\n",
    "    try :\n",
    "        try : \n",
    "            review = driver.find_element_by_css_selector(\"#ember\"+str(x)+\" > div.we-customer-review.lockup > blockquote > div > p:nth-child(1)\")\n",
    "            apple_review_list.append(review.text)\n",
    "        except :\n",
    "            review = driver.find_element_by_css_selector(\"#ember\"+str(x)+\" > div.we-customer-review.lockup > blockquote > div > p\")\n",
    "            apple_review_list.append(review.text)\n",
    "    except :    \n",
    "        pass\n",
    "\n"
   ]
  },
  {
   "cell_type": "code",
   "execution_count": 5,
   "metadata": {},
   "outputs": [],
   "source": [
    "review_list = google_review_list + apple_review_list"
   ]
  },
  {
   "cell_type": "code",
   "execution_count": 6,
   "metadata": {
    "scrolled": true
   },
   "outputs": [],
   "source": [
    "df = pd.DataFrame(review_list)"
   ]
  },
  {
   "cell_type": "code",
   "execution_count": 7,
   "metadata": {},
   "outputs": [],
   "source": [
    "df.columns = [\"review\"]"
   ]
  },
  {
   "cell_type": "code",
   "execution_count": 8,
   "metadata": {},
   "outputs": [],
   "source": [
    "# 특수문자 전처리\n",
    "import re\n",
    "\n",
    "# 텍스트 정제 함수 : 한글 이외의 문자는 전부 제거합니다.\n",
    "def text_cleaning(text):\n",
    "    content = re.sub(\"[^a-zA-Z0-9ㄱ-힣]\", \"\", text)\n",
    "    \n",
    "    return content"
   ]
  },
  {
   "cell_type": "code",
   "execution_count": 9,
   "metadata": {},
   "outputs": [
    {
     "data": {
      "text/html": [
       "<div>\n",
       "<style scoped>\n",
       "    .dataframe tbody tr th:only-of-type {\n",
       "        vertical-align: middle;\n",
       "    }\n",
       "\n",
       "    .dataframe tbody tr th {\n",
       "        vertical-align: top;\n",
       "    }\n",
       "\n",
       "    .dataframe thead th {\n",
       "        text-align: right;\n",
       "    }\n",
       "</style>\n",
       "<table border=\"1\" class=\"dataframe\">\n",
       "  <thead>\n",
       "    <tr style=\"text-align: right;\">\n",
       "      <th></th>\n",
       "      <th>review</th>\n",
       "      <th>cleaning</th>\n",
       "    </tr>\n",
       "  </thead>\n",
       "  <tbody>\n",
       "    <tr>\n",
       "      <th>315</th>\n",
       "      <td>한두번밖에 안입을 것 같아 사기도 뭐하고 하던 와중에 검색하다가 알게됬어요!!!! ...</td>\n",
       "      <td>한두번밖에안입을것같아사기도뭐하고하던와중에검색하다가알게됬어요옷장에안입는옷은쟁여놓기는싫...</td>\n",
       "    </tr>\n",
       "    <tr>\n",
       "      <th>316</th>\n",
       "      <td>피로연 원피스까지!!👍🏻👍🏻</td>\n",
       "      <td>피로연원피스까지</td>\n",
       "    </tr>\n",
       "    <tr>\n",
       "      <th>317</th>\n",
       "      <td>정액권 구매하자마자 들어가보니 빌릴옷도 형편없어서 바로 취소신청했습니다. 카톡상담으...</td>\n",
       "      <td>정액권구매하자마자들어가보니빌릴옷도형편없어서바로취소신청했습니다카톡상담으로취소요청까지했...</td>\n",
       "    </tr>\n",
       "    <tr>\n",
       "      <th>318</th>\n",
       "      <td>여자들이라면 공감ㅋㅋㅋㅋ 평소에 비싸서 사기 엄두도 못냈던 브랜드 옷도 같은 가격에...</td>\n",
       "      <td>여자들이라면공감ㅋㅋㅋㅋ평소에비싸서사기엄두도못냈던브랜드옷도같은가격에빌릴수있는부분이너무...</td>\n",
       "    </tr>\n",
       "    <tr>\n",
       "      <th>319</th>\n",
       "      <td>옷 물량은 많아지는데 입을 만한 옷은 일단 거의 대여중이고, 검색 설정 자체가 한계...</td>\n",
       "      <td>옷물량은많아지는데입을만한옷은일단거의대여중이고검색설정자체가한계가많아서옷찾기가모래밭에서...</td>\n",
       "    </tr>\n",
       "  </tbody>\n",
       "</table>\n",
       "</div>"
      ],
      "text/plain": [
       "                                                review  \\\n",
       "315  한두번밖에 안입을 것 같아 사기도 뭐하고 하던 와중에 검색하다가 알게됬어요!!!! ...   \n",
       "316                                    피로연 원피스까지!!👍🏻👍🏻   \n",
       "317  정액권 구매하자마자 들어가보니 빌릴옷도 형편없어서 바로 취소신청했습니다. 카톡상담으...   \n",
       "318  여자들이라면 공감ㅋㅋㅋㅋ 평소에 비싸서 사기 엄두도 못냈던 브랜드 옷도 같은 가격에...   \n",
       "319  옷 물량은 많아지는데 입을 만한 옷은 일단 거의 대여중이고, 검색 설정 자체가 한계...   \n",
       "\n",
       "                                              cleaning  \n",
       "315  한두번밖에안입을것같아사기도뭐하고하던와중에검색하다가알게됬어요옷장에안입는옷은쟁여놓기는싫...  \n",
       "316                                           피로연원피스까지  \n",
       "317  정액권구매하자마자들어가보니빌릴옷도형편없어서바로취소신청했습니다카톡상담으로취소요청까지했...  \n",
       "318  여자들이라면공감ㅋㅋㅋㅋ평소에비싸서사기엄두도못냈던브랜드옷도같은가격에빌릴수있는부분이너무...  \n",
       "319  옷물량은많아지는데입을만한옷은일단거의대여중이고검색설정자체가한계가많아서옷찾기가모래밭에서...  "
      ]
     },
     "execution_count": 9,
     "metadata": {},
     "output_type": "execute_result"
    }
   ],
   "source": [
    "# ‘특수문자제거’ 컬럼을 생성\n",
    "df['cleaning'] = df['review'].apply(lambda x: text_cleaning(x))\n",
    "df.tail()"
   ]
  },
  {
   "cell_type": "code",
   "execution_count": 10,
   "metadata": {},
   "outputs": [],
   "source": [
    "# 명사추출을 위한 함수 정의\n",
    "from konlpy.tag import Okt\n",
    "from collections import Counter\n",
    "\n",
    "# 한국어 약식 불용어사전 예시 파일입니다. 출처 - (https://www.ranks.nl/stopwords/korean)\n",
    "korean_stopwords_path = \"./data/korean_stopwords.txt\"\n",
    "with open(korean_stopwords_path, encoding='utf8') as f:\n",
    "    stopwords = f.readlines()\n",
    "stopwords = [x.strip() for x in stopwords]\n",
    "\n",
    "def get_nouns(x):\n",
    "    nouns_tagger = Okt()\n",
    "    nouns = nouns_tagger.nouns(x)\n",
    "    \n",
    "    # 한글자 키워드를 제거합니다.\n",
    "    nouns = [noun for noun in nouns if len(noun) > 1]\n",
    "    \n",
    "    # 불용어를 제거합니다.\n",
    "    nouns = [noun for noun in nouns if noun not in stopwords]\n",
    "    \n",
    "    return nouns"
   ]
  },
  {
   "cell_type": "code",
   "execution_count": 11,
   "metadata": {},
   "outputs": [],
   "source": [
    "# ‘명사’ 컬럼에 이를 적용\n",
    "df['noun'] = df['cleaning'].apply(lambda x: get_nouns(x))\n",
    "df.to_csv(\"./data/리뷰크롤링.csv\")"
   ]
  },
  {
   "cell_type": "code",
   "execution_count": 12,
   "metadata": {},
   "outputs": [],
   "source": [
    "dataset = []\n",
    "for x in df['noun'] :\n",
    "    dataset.append(x)"
   ]
  },
  {
   "cell_type": "code",
   "execution_count": 13,
   "metadata": {},
   "outputs": [],
   "source": [
    "# apriori에 필요한 모듈 설치 -> pandas와 mlxtend 미리 설치해야 함\n",
    "import pandas as pd\n",
    "from mlxtend.preprocessing import TransactionEncoder\n",
    "from mlxtend.frequent_patterns import apriori\n",
    "from mlxtend.frequent_patterns import association_rules"
   ]
  },
  {
   "cell_type": "code",
   "execution_count": 14,
   "metadata": {},
   "outputs": [
    {
     "data": {
      "text/html": [
       "<div>\n",
       "<style scoped>\n",
       "    .dataframe tbody tr th:only-of-type {\n",
       "        vertical-align: middle;\n",
       "    }\n",
       "\n",
       "    .dataframe tbody tr th {\n",
       "        vertical-align: top;\n",
       "    }\n",
       "\n",
       "    .dataframe thead th {\n",
       "        text-align: right;\n",
       "    }\n",
       "</style>\n",
       "<table border=\"1\" class=\"dataframe\">\n",
       "  <thead>\n",
       "    <tr style=\"text-align: right;\">\n",
       "      <th></th>\n",
       "      <th>support</th>\n",
       "      <th>itemsets</th>\n",
       "    </tr>\n",
       "  </thead>\n",
       "  <tbody>\n",
       "    <tr>\n",
       "      <th>0</th>\n",
       "      <td>0.062500</td>\n",
       "      <td>(가격)</td>\n",
       "    </tr>\n",
       "    <tr>\n",
       "      <th>1</th>\n",
       "      <td>0.062500</td>\n",
       "      <td>(개선)</td>\n",
       "    </tr>\n",
       "    <tr>\n",
       "      <th>2</th>\n",
       "      <td>0.062500</td>\n",
       "      <td>(대여)</td>\n",
       "    </tr>\n",
       "    <tr>\n",
       "      <th>3</th>\n",
       "      <td>0.106250</td>\n",
       "      <td>(서비스)</td>\n",
       "    </tr>\n",
       "    <tr>\n",
       "      <th>4</th>\n",
       "      <td>0.078125</td>\n",
       "      <td>(셰어)</td>\n",
       "    </tr>\n",
       "  </tbody>\n",
       "</table>\n",
       "</div>"
      ],
      "text/plain": [
       "    support itemsets\n",
       "0  0.062500     (가격)\n",
       "1  0.062500     (개선)\n",
       "2  0.062500     (대여)\n",
       "3  0.106250    (서비스)\n",
       "4  0.078125     (셰어)"
      ]
     },
     "metadata": {},
     "output_type": "display_data"
    },
    {
     "data": {
      "text/html": [
       "<div>\n",
       "<style scoped>\n",
       "    .dataframe tbody tr th:only-of-type {\n",
       "        vertical-align: middle;\n",
       "    }\n",
       "\n",
       "    .dataframe tbody tr th {\n",
       "        vertical-align: top;\n",
       "    }\n",
       "\n",
       "    .dataframe thead th {\n",
       "        text-align: right;\n",
       "    }\n",
       "</style>\n",
       "<table border=\"1\" class=\"dataframe\">\n",
       "  <thead>\n",
       "    <tr style=\"text-align: right;\">\n",
       "      <th></th>\n",
       "      <th>antecedents</th>\n",
       "      <th>consequents</th>\n",
       "      <th>antecedent support</th>\n",
       "      <th>consequent support</th>\n",
       "      <th>support</th>\n",
       "      <th>confidence</th>\n",
       "      <th>lift</th>\n",
       "      <th>leverage</th>\n",
       "      <th>conviction</th>\n",
       "    </tr>\n",
       "  </thead>\n",
       "  <tbody>\n",
       "    <tr>\n",
       "      <th>5</th>\n",
       "      <td>(제발, 서비스)</td>\n",
       "      <td>(개선)</td>\n",
       "      <td>0.0125</td>\n",
       "      <td>0.06250</td>\n",
       "      <td>0.0125</td>\n",
       "      <td>1.0</td>\n",
       "      <td>16.000000</td>\n",
       "      <td>0.011719</td>\n",
       "      <td>inf</td>\n",
       "    </tr>\n",
       "    <tr>\n",
       "      <th>6</th>\n",
       "      <td>(제발, 개선)</td>\n",
       "      <td>(서비스)</td>\n",
       "      <td>0.0125</td>\n",
       "      <td>0.10625</td>\n",
       "      <td>0.0125</td>\n",
       "      <td>1.0</td>\n",
       "      <td>9.411765</td>\n",
       "      <td>0.011172</td>\n",
       "      <td>inf</td>\n",
       "    </tr>\n",
       "  </tbody>\n",
       "</table>\n",
       "</div>"
      ],
      "text/plain": [
       "  antecedents consequents  antecedent support  consequent support  support  \\\n",
       "5   (제발, 서비스)        (개선)              0.0125             0.06250   0.0125   \n",
       "6    (제발, 개선)       (서비스)              0.0125             0.10625   0.0125   \n",
       "\n",
       "   confidence       lift  leverage  conviction  \n",
       "5         1.0  16.000000  0.011719         inf  \n",
       "6         1.0   9.411765  0.011172         inf  "
      ]
     },
     "execution_count": 14,
     "metadata": {},
     "output_type": "execute_result"
    }
   ],
   "source": [
    "# 데이터셋을 원핫인코딩처럼 트랜스포밍해주기!\n",
    "te = TransactionEncoder()\n",
    "te_result = te.fit(dataset).transform(dataset)\n",
    "\n",
    "\n",
    "# 트랜스포밍된 결과를 데이터프레임으로 형성\n",
    "# 컬럼명이 키워드 / 각 row마다 포함된 키워드에 True를 반환\n",
    "df = pd.DataFrame(te_result, columns=te.columns_)\n",
    "\n",
    "\n",
    "# 지지도를 0.6로 낮춰서 apriori 실행\n",
    "keywordset1 = apriori(df, min_support=0.06, use_colnames=True).head()\n",
    "display(keywordset1)\n",
    "\n",
    "# 지지도를 0.6 / 신뢰도를 0.8\n",
    "keywordset2 = apriori(df, min_support=0.01, use_colnames=True)\n",
    "association_rules(keywordset2, metric='confidence', min_threshold=0.8)[5:7]\n",
    "\n",
    "\n",
    "# support = A와 B가 동시에 일어난 확률 / 전체 횟수\n",
    "# confidence = A와 B가 동시에 일어난 확률 / A가 일어난 횟수\n",
    "# lift = A와 B가 동시에 일어난 확률 / A와 B가 독립일 확률 "
   ]
  },
  {
   "cell_type": "code",
   "execution_count": null,
   "metadata": {},
   "outputs": [],
   "source": []
  }
 ],
 "metadata": {
  "kernelspec": {
   "display_name": "pydatavenv",
   "language": "python",
   "name": "pydatavenv"
  },
  "language_info": {
   "codemirror_mode": {
    "name": "ipython",
    "version": 3
   },
   "file_extension": ".py",
   "mimetype": "text/x-python",
   "name": "python",
   "nbconvert_exporter": "python",
   "pygments_lexer": "ipython3",
   "version": "3.7.9"
  }
 },
 "nbformat": 4,
 "nbformat_minor": 4
}
