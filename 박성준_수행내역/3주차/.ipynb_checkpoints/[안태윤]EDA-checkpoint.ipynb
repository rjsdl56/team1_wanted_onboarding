{
 "cells": [
  {
   "cell_type": "markdown",
   "metadata": {},
   "source": [
    "**1. 프로젝트 개요<br>\n",
    "&nbsp;1.1 프로젝트 목표<br>\n",
    "&nbsp;1.2. 분석데이터<br>**\n",
    "<br>\n",
    "**2.데이터전처리<br>\n",
    "&nbsp;2.1. 파이썬패키지 및 데이터 로딩<br>\n",
    "&nbsp;2.2. 데이터파악<br>\n",
    "&nbsp;2.3. 데이터클렌징<br>\n",
    "&nbsp;&nbsp;2.3.1. 데이터 결측치 처리<br>\n",
    "&nbsp;&nbsp;2.3.2. 데이터 이상치 처리<br>\n",
    "<br>\n",
    "3.EDA<br>\n",
    "&nbsp;3.1. EDA목표<br>\n",
    "&nbsp;3.2. EDA분석<br>\n",
    "&nbsp;&nbsp;3.2.1.데이터 분포 및 데이터간 상관관계 확인<br>\n",
    "&nbsp;3.3. EDA결론<br>\n",
    "&nbsp;&nbsp;3.3.1. EDA정리<br>\n",
    "&nbsp;&nbsp;3.3.2. 가설수립<br>**"
   ]
  },
  {
   "cell_type": "markdown",
   "metadata": {},
   "source": [
    "# 1. 프로젝트 개요<br>\n",
    "## 1.1 프로젝트 목표<br>\n",
    "**클로젯셰어의 신규 구매데이터를 토대로 인사이트 및 액션플랜 도출**\n",
    "## 1.2. 분석데이터<br>\n",
    "**클로젯셰어_과제DB 대체 자료.csv**"
   ]
  },
  {
   "cell_type": "markdown",
   "metadata": {},
   "source": [
    "# 2.데이터전처리<br>\n",
    "## 2.1. 파이썬패키지 및 데이터 로딩<br>"
   ]
  },
  {
   "cell_type": "code",
   "execution_count": 4,
   "metadata": {},
   "outputs": [],
   "source": [
    "#EDA관련 패키지 구성 및 디스플레이 설정\n",
    "import pandas as pd\n",
    "import numpy as np\n",
    "import datetime as dt\n",
    "import matplotlib.pyplot as plt\n",
    "import seaborn as sns\n",
    "import re\n",
    "import math\n",
    "from IPython.display import set_matplotlib_formats\n",
    "import warnings\n",
    "import datetime\n",
    "warnings.filterwarnings('ignore')\n",
    "plt.rc('font', family='Malgun Gothic')\n",
    "plt.rc('axes', unicode_minus=False)\n",
    "set_matplotlib_formats('retina')\n",
    "pd.set_option('display.max_rows', 30)\n",
    "pd.set_option('display.max_columns', None)\n",
    "pd.set_option('display.float_format', '{:.2f}'.format)\n",
    "\n",
    "#RandomForestRegressor 관련 패키지 구성\n",
    "from sklearn.tree import export_graphviz\n",
    "import graphviz\n",
    "from sklearn.model_selection import train_test_split\n",
    "from sklearn.ensemble import RandomForestRegressor\n",
    "from sklearn.model_selection import GridSearchCV"
   ]
  },
  {
   "cell_type": "code",
   "execution_count": 5,
   "metadata": {},
   "outputs": [
    {
     "data": {
      "text/html": [
       "<div>\n",
       "<style scoped>\n",
       "    .dataframe tbody tr th:only-of-type {\n",
       "        vertical-align: middle;\n",
       "    }\n",
       "\n",
       "    .dataframe tbody tr th {\n",
       "        vertical-align: top;\n",
       "    }\n",
       "\n",
       "    .dataframe thead th {\n",
       "        text-align: right;\n",
       "    }\n",
       "</style>\n",
       "<table border=\"1\" class=\"dataframe\">\n",
       "  <thead>\n",
       "    <tr style=\"text-align: right;\">\n",
       "      <th></th>\n",
       "      <th>brandnm</th>\n",
       "      <th>goodsnm</th>\n",
       "      <th>USER</th>\n",
       "      <th>reg_date</th>\n",
       "      <th>order_date</th>\n",
       "      <th>p_type</th>\n",
       "      <th>sub_type</th>\n",
       "      <th>app_yn</th>\n",
       "    </tr>\n",
       "  </thead>\n",
       "  <tbody>\n",
       "    <tr>\n",
       "      <th>0</th>\n",
       "      <td>Gucci</td>\n",
       "      <td>flower dionysus shoulder bag beige</td>\n",
       "      <td>a161237</td>\n",
       "      <td>2019-12-06</td>\n",
       "      <td>2021-01-15</td>\n",
       "      <td>7days</td>\n",
       "      <td>BA</td>\n",
       "      <td>Y</td>\n",
       "    </tr>\n",
       "    <tr>\n",
       "      <th>1</th>\n",
       "      <td>El estilo de Claire</td>\n",
       "      <td>beads cropped jacket black</td>\n",
       "      <td>a1140859</td>\n",
       "      <td>2021-01-02</td>\n",
       "      <td>2021-01-15</td>\n",
       "      <td>4days</td>\n",
       "      <td>O</td>\n",
       "      <td>NaN</td>\n",
       "    </tr>\n",
       "    <tr>\n",
       "      <th>2</th>\n",
       "      <td>Danha</td>\n",
       "      <td>embroidery point oriental mini skirt blue</td>\n",
       "      <td>a1140859</td>\n",
       "      <td>2021-01-02</td>\n",
       "      <td>2021-01-15</td>\n",
       "      <td>4days</td>\n",
       "      <td>B</td>\n",
       "      <td>NaN</td>\n",
       "    </tr>\n",
       "    <tr>\n",
       "      <th>3</th>\n",
       "      <td>Danha</td>\n",
       "      <td>graphics pattern top pink</td>\n",
       "      <td>a1140859</td>\n",
       "      <td>2021-01-02</td>\n",
       "      <td>2021-01-15</td>\n",
       "      <td>4days</td>\n",
       "      <td>T</td>\n",
       "      <td>NaN</td>\n",
       "    </tr>\n",
       "    <tr>\n",
       "      <th>4</th>\n",
       "      <td>Burberry London</td>\n",
       "      <td>buckle basic pattern zipup-jumper navy</td>\n",
       "      <td>a1140740</td>\n",
       "      <td>2021-01-01</td>\n",
       "      <td>2021-01-15</td>\n",
       "      <td>7days</td>\n",
       "      <td>O</td>\n",
       "      <td>Y</td>\n",
       "    </tr>\n",
       "  </tbody>\n",
       "</table>\n",
       "</div>"
      ],
      "text/plain": [
       "               brandnm                                    goodsnm      USER  \\\n",
       "0                Gucci         flower dionysus shoulder bag beige   a161237   \n",
       "1  El estilo de Claire                 beads cropped jacket black  a1140859   \n",
       "2                Danha  embroidery point oriental mini skirt blue  a1140859   \n",
       "3                Danha                  graphics pattern top pink  a1140859   \n",
       "4      Burberry London     buckle basic pattern zipup-jumper navy  a1140740   \n",
       "\n",
       "     reg_date  order_date p_type sub_type app_yn  \n",
       "0  2019-12-06  2021-01-15  7days       BA      Y  \n",
       "1  2021-01-02  2021-01-15  4days        O    NaN  \n",
       "2  2021-01-02  2021-01-15  4days        B    NaN  \n",
       "3  2021-01-02  2021-01-15  4days        T    NaN  \n",
       "4  2021-01-01  2021-01-15  7days        O      Y  "
      ]
     },
     "execution_count": 5,
     "metadata": {},
     "output_type": "execute_result"
    }
   ],
   "source": [
    "df_ori=pd.read_csv('클로젯셰어_과제DB 대체 자료.csv', encoding='cp949')\n",
    "df_ori.head()"
   ]
  },
  {
   "cell_type": "code",
   "execution_count": 6,
   "metadata": {},
   "outputs": [],
   "source": [
    "df=df_ori.copy()"
   ]
  },
  {
   "cell_type": "markdown",
   "metadata": {},
   "source": [
    "## 2.2. 데이터파악<br>"
   ]
  },
  {
   "cell_type": "code",
   "execution_count": 7,
   "metadata": {},
   "outputs": [
    {
     "name": "stdout",
     "output_type": "stream",
     "text": [
      "<class 'pandas.core.frame.DataFrame'>\n",
      "RangeIndex: 1471 entries, 0 to 1470\n",
      "Data columns (total 8 columns):\n",
      " #   Column      Non-Null Count  Dtype \n",
      "---  ------      --------------  ----- \n",
      " 0   brandnm     1442 non-null   object\n",
      " 1   goodsnm     1471 non-null   object\n",
      " 2   USER        1471 non-null   object\n",
      " 3   reg_date    1466 non-null   object\n",
      " 4   order_date  1471 non-null   object\n",
      " 5   p_type      1471 non-null   object\n",
      " 6   sub_type    1471 non-null   object\n",
      " 7   app_yn      1295 non-null   object\n",
      "dtypes: object(8)\n",
      "memory usage: 92.1+ KB\n"
     ]
    }
   ],
   "source": [
    "#클로젯셰어_과제DB 대체 자료.csv 데이터에 대한 기본적 파악\n",
    "df.info()"
   ]
  },
  {
   "cell_type": "markdown",
   "metadata": {},
   "source": [
    ">**(1).brandnm: 아이템의 브랜드 이름 컬럼 : 범주형 <br>\n",
    "(2).goodsnm : 아이템의 특성을 담은 이름 컬럼 : 범주형 <br>\n",
    "(3). USER : 사용자 ID 컬럼 : 범주형 <br>\n",
    "(4). reg_date : 사용자 가입일 컬럼 : 날짜형 <br>\n",
    "(5). order_date : 아이템 주문일 컬럼 : 날짜형<br>\n",
    "(6). p_type : 주문 상품권 종류 5일 7일 : 범주형<br>\n",
    "(7). sub_type : 주문 아이템 카테고리 : 범주형 <br>\n",
    "(8). add_yn : 사용자의 어플리케이션 사용 여부 : 범주형**"
   ]
  },
  {
   "cell_type": "markdown",
   "metadata": {},
   "source": [
    "## 2.2. 데이터클렌징<br>\n",
    "### 2.2.1. 데이터 결측치 처리<br>"
   ]
  },
  {
   "cell_type": "code",
   "execution_count": 8,
   "metadata": {},
   "outputs": [
    {
     "name": "stdout",
     "output_type": "stream",
     "text": [
      "brandnm        29\n",
      "goodsnm         0\n",
      "USER            0\n",
      "reg_date        5\n",
      "order_date      0\n",
      "p_type          0\n",
      "sub_type        0\n",
      "app_yn        176\n",
      "dtype: int64\n",
      "<class 'pandas.core.frame.DataFrame'>\n",
      "RangeIndex: 1471 entries, 0 to 1470\n",
      "Data columns (total 8 columns):\n",
      " #   Column      Non-Null Count  Dtype \n",
      "---  ------      --------------  ----- \n",
      " 0   brandnm     1442 non-null   object\n",
      " 1   goodsnm     1471 non-null   object\n",
      " 2   USER        1471 non-null   object\n",
      " 3   reg_date    1466 non-null   object\n",
      " 4   order_date  1471 non-null   object\n",
      " 5   p_type      1471 non-null   object\n",
      " 6   sub_type    1471 non-null   object\n",
      " 7   app_yn      1295 non-null   object\n",
      "dtypes: object(8)\n",
      "memory usage: 92.1+ KB\n",
      "None\n"
     ]
    }
   ],
   "source": [
    "print(df.isnull().sum())\n",
    "print(df.info())"
   ]
  },
  {
   "cell_type": "code",
   "execution_count": 9,
   "metadata": {},
   "outputs": [
    {
     "name": "stdout",
     "output_type": "stream",
     "text": [
      "AxesSubplot(0.125,0.125;0.775x0.755)\n"
     ]
    },
    {
     "data": {
      "image/png": "[encoded data removed]",
      "text/plain": [
       "<Figure size 432x288 with 1 Axes>"
      ]
     },
     "metadata": {
      "image/png": {
       "height": 244,
       "width": 378
      },
      "needs_background": "light"
     },
     "output_type": "display_data"
    }
   ],
   "source": [
    "#app_yn컬럼 결측치 확인\n",
    "df_appyn=df['app_yn'].value_counts().plot(kind='bar')\n",
    "print(df_appyn)"
   ]
  },
  {
   "cell_type": "code",
   "execution_count": 10,
   "metadata": {},
   "outputs": [],
   "source": [
    "df['app_yn'].fillna('N',inplace=True)"
   ]
  },
  {
   "cell_type": "code",
   "execution_count": 11,
   "metadata": {},
   "outputs": [
    {
     "name": "stdout",
     "output_type": "stream",
     "text": [
      "brandnm       0\n",
      "goodsnm       0\n",
      "USER          0\n",
      "reg_date      0\n",
      "order_date    0\n",
      "p_type        0\n",
      "sub_type      0\n",
      "app_yn        0\n",
      "dtype: int64\n",
      "<class 'pandas.core.frame.DataFrame'>\n",
      "Int64Index: 1437 entries, 0 to 1470\n",
      "Data columns (total 8 columns):\n",
      " #   Column      Non-Null Count  Dtype \n",
      "---  ------      --------------  ----- \n",
      " 0   brandnm     1437 non-null   object\n",
      " 1   goodsnm     1437 non-null   object\n",
      " 2   USER        1437 non-null   object\n",
      " 3   reg_date    1437 non-null   object\n",
      " 4   order_date  1437 non-null   object\n",
      " 5   p_type      1437 non-null   object\n",
      " 6   sub_type    1437 non-null   object\n",
      " 7   app_yn      1437 non-null   object\n",
      "dtypes: object(8)\n",
      "memory usage: 101.0+ KB\n",
      "None\n"
     ]
    }
   ],
   "source": [
    "df.dropna(inplace=True)\n",
    "print(df.isnull().sum())\n",
    "print(df.info())"
   ]
  },
  {
   "cell_type": "markdown",
   "metadata": {},
   "source": [
    ">**brandnm컬럼값이 없는 데이터행은 삭제처리<br>\n",
    "app_yn컬럼이 없는 데이터행은 app_yn컬럼에 값 'N' 부여**"
   ]
  },
  {
   "cell_type": "markdown",
   "metadata": {},
   "source": [
    "### 2.2.2. 데이터 이상치 처리<br>"
   ]
  },
  {
   "cell_type": "code",
   "execution_count": 12,
   "metadata": {},
   "outputs": [
    {
     "name": "stdout",
     "output_type": "stream",
     "text": [
      "Gucci                230\n",
      "Chanel                90\n",
      "Saint Laurent         86\n",
      "Louis Vuitton         79\n",
      "Prada                 58\n",
      "                    ... \n",
      "At Corner              1\n",
      "Spring Crocus          1\n",
      "Anna Sui               1\n",
      "McGinn                 1\n",
      "Armani Collezioni      1\n",
      "Name: brandnm, Length: 244, dtype: int64\n"
     ]
    }
   ],
   "source": [
    "#brandnm 컬럼 분포 확인\n",
    "df_brandnm=df['brandnm'].value_counts()\n",
    "print(df_brandnm)"
   ]
  },
  {
   "cell_type": "code",
   "execution_count": 13,
   "metadata": {},
   "outputs": [
    {
     "name": "stdout",
     "output_type": "stream",
     "text": [
      "chevron quilted cross bag black     23\n",
      "classic clutch black                12\n",
      "boy chanel clutch black             11\n",
      "padlock GG canvas shoulder bag       9\n",
      "mini sunset chain bag black          8\n",
      "                                    ..\n",
      "thames hobo shoulder bag brown       1\n",
      "classic cross bag black              1\n",
      "peter pan collar coat black          1\n",
      "GG marmont shoulder bag pink         1\n",
      "ruffle tweed pattern blouse pink     1\n",
      "Name: goodsnm, Length: 947, dtype: int64\n"
     ]
    }
   ],
   "source": [
    "#goodsnm 컬럼 분포 확인\n",
    "df_goodsnm=df['goodsnm'].value_counts()\n",
    "print(df_goodsnm)"
   ]
  },
  {
   "cell_type": "code",
   "execution_count": 14,
   "metadata": {},
   "outputs": [
    {
     "name": "stdout",
     "output_type": "stream",
     "text": [
      "가장 많은 데이터를 가진 고객의 데이터 수는 11 입니다.\n",
      "a1149461    11\n",
      "a1149583    10\n",
      "a1142677     9\n",
      "a189404      7\n",
      "a1143701     7\n",
      "            ..\n",
      "a1146304     1\n",
      "a1138513     1\n",
      "a1135783     1\n",
      "a1148848     1\n",
      "a193947      1\n",
      "Name: USER, Length: 1209, dtype: int64\n"
     ]
    }
   ],
   "source": [
    "#USER 컬럼 분포 확인\n",
    "df_USER=df['USER'].value_counts()\n",
    "print('가장 많은 데이터를 가진 고객의 데이터 수는 %d 입니다.' %(df_USER.max()))\n",
    "print(df_USER)"
   ]
  },
  {
   "cell_type": "code",
   "execution_count": 15,
   "metadata": {},
   "outputs": [
    {
     "data": {
      "text/plain": [
       "Text(0.5, 1.0, 'USER별 활용가능 데이터 수의 분포')"
      ]
     },
     "execution_count": 15,
     "metadata": {},
     "output_type": "execute_result"
    },
    {
     "data": {
      "image/png": "[encoded data removed]",
      "text/plain": [
       "<Figure size 432x288 with 1 Axes>"
      ]
     },
     "metadata": {
      "image/png": {
       "height": 279,
       "width": 392
      },
      "needs_background": "light"
     },
     "output_type": "display_data"
    }
   ],
   "source": [
    "#USER 컬럼 분포 확인\n",
    "plt.hist(df_USER, range=(0,11), bins=10)\n",
    "plt.xlabel('USER별 활용가능 데이터')\n",
    "plt.ylabel('수')\n",
    "plt.title('USER별 활용가능 데이터 수의 분포')"
   ]
  },
  {
   "cell_type": "code",
   "execution_count": 16,
   "metadata": {},
   "outputs": [
    {
     "data": {
      "text/html": [
       "<div>\n",
       "<style scoped>\n",
       "    .dataframe tbody tr th:only-of-type {\n",
       "        vertical-align: middle;\n",
       "    }\n",
       "\n",
       "    .dataframe tbody tr th {\n",
       "        vertical-align: top;\n",
       "    }\n",
       "\n",
       "    .dataframe thead th {\n",
       "        text-align: right;\n",
       "    }\n",
       "</style>\n",
       "<table border=\"1\" class=\"dataframe\">\n",
       "  <thead>\n",
       "    <tr style=\"text-align: right;\">\n",
       "      <th></th>\n",
       "      <th>reg_date</th>\n",
       "    </tr>\n",
       "  </thead>\n",
       "  <tbody>\n",
       "    <tr>\n",
       "      <th>2017-06-24</th>\n",
       "      <td>1</td>\n",
       "    </tr>\n",
       "    <tr>\n",
       "      <th>2017-07-02</th>\n",
       "      <td>1</td>\n",
       "    </tr>\n",
       "    <tr>\n",
       "      <th>2018-03-09</th>\n",
       "      <td>1</td>\n",
       "    </tr>\n",
       "    <tr>\n",
       "      <th>2018-03-20</th>\n",
       "      <td>1</td>\n",
       "    </tr>\n",
       "    <tr>\n",
       "      <th>2018-03-27</th>\n",
       "      <td>1</td>\n",
       "    </tr>\n",
       "    <tr>\n",
       "      <th>...</th>\n",
       "      <td>...</td>\n",
       "    </tr>\n",
       "    <tr>\n",
       "      <th>2021-03-27</th>\n",
       "      <td>7</td>\n",
       "    </tr>\n",
       "    <tr>\n",
       "      <th>2021-03-28</th>\n",
       "      <td>14</td>\n",
       "    </tr>\n",
       "    <tr>\n",
       "      <th>2021-03-29</th>\n",
       "      <td>9</td>\n",
       "    </tr>\n",
       "    <tr>\n",
       "      <th>2021-03-30</th>\n",
       "      <td>10</td>\n",
       "    </tr>\n",
       "    <tr>\n",
       "      <th>2021-03-31</th>\n",
       "      <td>7</td>\n",
       "    </tr>\n",
       "  </tbody>\n",
       "</table>\n",
       "<p>363 rows × 1 columns</p>\n",
       "</div>"
      ],
      "text/plain": [
       "            reg_date\n",
       "2017-06-24         1\n",
       "2017-07-02         1\n",
       "2018-03-09         1\n",
       "2018-03-20         1\n",
       "2018-03-27         1\n",
       "...              ...\n",
       "2021-03-27         7\n",
       "2021-03-28        14\n",
       "2021-03-29         9\n",
       "2021-03-30        10\n",
       "2021-03-31         7\n",
       "\n",
       "[363 rows x 1 columns]"
      ]
     },
     "execution_count": 16,
     "metadata": {},
     "output_type": "execute_result"
    }
   ],
   "source": [
    "#reg_date 컬럼 분포 확인\n",
    "df_reg_date=pd.DataFrame(df['reg_date'].value_counts()).sort_index(ascending=True)\n",
    "df_reg_date"
   ]
  },
  {
   "cell_type": "code",
   "execution_count": 17,
   "metadata": {},
   "outputs": [
    {
     "data": {
      "text/html": [
       "<div>\n",
       "<style scoped>\n",
       "    .dataframe tbody tr th:only-of-type {\n",
       "        vertical-align: middle;\n",
       "    }\n",
       "\n",
       "    .dataframe tbody tr th {\n",
       "        vertical-align: top;\n",
       "    }\n",
       "\n",
       "    .dataframe thead th {\n",
       "        text-align: right;\n",
       "    }\n",
       "</style>\n",
       "<table border=\"1\" class=\"dataframe\">\n",
       "  <thead>\n",
       "    <tr style=\"text-align: right;\">\n",
       "      <th></th>\n",
       "      <th>order_date</th>\n",
       "    </tr>\n",
       "  </thead>\n",
       "  <tbody>\n",
       "    <tr>\n",
       "      <th>2021-01-01</th>\n",
       "      <td>4</td>\n",
       "    </tr>\n",
       "    <tr>\n",
       "      <th>2021-01-02</th>\n",
       "      <td>1</td>\n",
       "    </tr>\n",
       "    <tr>\n",
       "      <th>2021-01-03</th>\n",
       "      <td>6</td>\n",
       "    </tr>\n",
       "    <tr>\n",
       "      <th>2021-01-04</th>\n",
       "      <td>7</td>\n",
       "    </tr>\n",
       "    <tr>\n",
       "      <th>2021-01-05</th>\n",
       "      <td>14</td>\n",
       "    </tr>\n",
       "    <tr>\n",
       "      <th>...</th>\n",
       "      <td>...</td>\n",
       "    </tr>\n",
       "    <tr>\n",
       "      <th>2021-03-27</th>\n",
       "      <td>2</td>\n",
       "    </tr>\n",
       "    <tr>\n",
       "      <th>2021-03-28</th>\n",
       "      <td>17</td>\n",
       "    </tr>\n",
       "    <tr>\n",
       "      <th>2021-03-29</th>\n",
       "      <td>20</td>\n",
       "    </tr>\n",
       "    <tr>\n",
       "      <th>2021-03-30</th>\n",
       "      <td>21</td>\n",
       "    </tr>\n",
       "    <tr>\n",
       "      <th>2021-03-31</th>\n",
       "      <td>37</td>\n",
       "    </tr>\n",
       "  </tbody>\n",
       "</table>\n",
       "<p>90 rows × 1 columns</p>\n",
       "</div>"
      ],
      "text/plain": [
       "            order_date\n",
       "2021-01-01           4\n",
       "2021-01-02           1\n",
       "2021-01-03           6\n",
       "2021-01-04           7\n",
       "2021-01-05          14\n",
       "...                ...\n",
       "2021-03-27           2\n",
       "2021-03-28          17\n",
       "2021-03-29          20\n",
       "2021-03-30          21\n",
       "2021-03-31          37\n",
       "\n",
       "[90 rows x 1 columns]"
      ]
     },
     "execution_count": 17,
     "metadata": {},
     "output_type": "execute_result"
    }
   ],
   "source": [
    "#order_date 컬럼 분포 확인\n",
    "df_orderdate=pd.DataFrame(df['order_date'].value_counts()).sort_index(ascending=True)\n",
    "df_orderdate"
   ]
  },
  {
   "cell_type": "code",
   "execution_count": 18,
   "metadata": {},
   "outputs": [
    {
     "data": {
      "text/plain": [
       "<AxesSubplot:>"
      ]
     },
     "execution_count": 18,
     "metadata": {},
     "output_type": "execute_result"
    },
    {
     "data": {
      "image/png": "[encoded data removed]",
      "text/plain": [
       "<Figure size 432x288 with 1 Axes>"
      ]
     },
     "metadata": {
      "image/png": {
       "height": 249,
       "width": 367
      },
      "needs_background": "light"
     },
     "output_type": "display_data"
    }
   ],
   "source": [
    "#order_date 컬럼 분포 확인\n",
    "df_orderdate.plot()"
   ]
  },
  {
   "cell_type": "code",
   "execution_count": 19,
   "metadata": {},
   "outputs": [
    {
     "name": "stdout",
     "output_type": "stream",
     "text": [
      "AxesSubplot(0.125,0.125;0.775x0.755)\n"
     ]
    },
    {
     "data": {
      "image/png": "[encoded data removed]",
      "text/plain": [
       "<Figure size 432x288 with 1 Axes>"
      ]
     },
     "metadata": {
      "image/png": {
       "height": 264,
       "width": 372
      },
      "needs_background": "light"
     },
     "output_type": "display_data"
    }
   ],
   "source": [
    "#p_type 컬럼 분포 확인\n",
    "df_ptype=df['p_type'].value_counts().plot(kind='bar')\n",
    "print(df_ptype)"
   ]
  },
  {
   "cell_type": "code",
   "execution_count": 20,
   "metadata": {},
   "outputs": [
    {
     "name": "stdout",
     "output_type": "stream",
     "text": [
      "AxesSubplot(0.125,0.125;0.775x0.755)\n"
     ]
    }
   ],
   "source": [
    "print(df_ptype)"
   ]
  },
  {
   "cell_type": "code",
   "execution_count": 21,
   "metadata": {},
   "outputs": [
    {
     "name": "stdout",
     "output_type": "stream",
     "text": [
      "AxesSubplot(0.125,0.125;0.775x0.755)\n"
     ]
    },
    {
     "data": {
      "image/png": "[encoded data removed]",
      "text/plain": [
       "<Figure size 432x288 with 1 Axes>"
      ]
     },
     "metadata": {
      "image/png": {
       "height": 251,
       "width": 372
      },
      "needs_background": "light"
     },
     "output_type": "display_data"
    }
   ],
   "source": [
    "#sub_type 컬럼 분포 확인\n",
    "df_subtype=df['sub_type'].value_counts().plot(kind='bar')\n",
    "print(df_subtype)"
   ]
  },
  {
   "cell_type": "code",
   "execution_count": 22,
   "metadata": {},
   "outputs": [
    {
     "name": "stdout",
     "output_type": "stream",
     "text": [
      "AxesSubplot(0.125,0.125;0.775x0.755)\n"
     ]
    },
    {
     "data": {
      "image/png": "[encoded data removed]",
      "text/plain": [
       "<Figure size 432x288 with 1 Axes>"
      ]
     },
     "metadata": {
      "image/png": {
       "height": 246,
       "width": 378
      },
      "needs_background": "light"
     },
     "output_type": "display_data"
    }
   ],
   "source": [
    "#app_yn 컬럼 분포 확인\n",
    "df_appyn=df['app_yn'].value_counts().plot(kind='bar')\n",
    "print(df_appyn)"
   ]
  },
  {
   "cell_type": "markdown",
   "metadata": {},
   "source": [
    ">**이상치라고 특정할 수 있는 데이터는 보이지 않음**"
   ]
  },
  {
   "cell_type": "markdown",
   "metadata": {},
   "source": [
    "# 3.EDA<br>\n",
    "## 3.1. EDA목표<br>\n",
    "**컬럼들관의 상관관계를 확인하고 인사이트를 도출**<br>\n",
    "## 3.2. EDA분석<br>\n",
    "### 3.2.1.데이터 분포 및 데이터간 상관관계 확인<br>"
   ]
  },
  {
   "cell_type": "markdown",
   "metadata": {},
   "source": [
    "#### (1). 월별 분석"
   ]
  },
  {
   "cell_type": "code",
   "execution_count": 23,
   "metadata": {},
   "outputs": [],
   "source": [
    "#월별로 데이터 분할\n",
    "df_month=df.copy()\n",
    "df_month.order_date = pd.to_datetime(df_month.order_date)\n",
    "df_month.reg_date = pd.to_datetime(df_month.reg_date) "
   ]
  },
  {
   "cell_type": "code",
   "execution_count": 24,
   "metadata": {},
   "outputs": [
    {
     "name": "stdout",
     "output_type": "stream",
     "text": [
      "<class 'pandas.core.frame.DataFrame'>\n",
      "Int64Index: 1437 entries, 0 to 1470\n",
      "Data columns (total 8 columns):\n",
      " #   Column      Non-Null Count  Dtype         \n",
      "---  ------      --------------  -----         \n",
      " 0   brandnm     1437 non-null   object        \n",
      " 1   goodsnm     1437 non-null   object        \n",
      " 2   USER        1437 non-null   object        \n",
      " 3   reg_date    1437 non-null   datetime64[ns]\n",
      " 4   order_date  1437 non-null   datetime64[ns]\n",
      " 5   p_type      1437 non-null   object        \n",
      " 6   sub_type    1437 non-null   object        \n",
      " 7   app_yn      1437 non-null   object        \n",
      "dtypes: datetime64[ns](2), object(6)\n",
      "memory usage: 101.0+ KB\n"
     ]
    }
   ],
   "source": [
    "#월별로 데이터 분할\n",
    "df_month.info()"
   ]
  },
  {
   "cell_type": "code",
   "execution_count": 25,
   "metadata": {},
   "outputs": [],
   "source": [
    "#월별로 데이터 분할\n",
    "df_month1=df_month[df_month['order_date'].dt.month==1]\n",
    "df_month2=df_month[df_month['order_date'].dt.month==2]\n",
    "df_month3=df_month[df_month['order_date'].dt.month==3]"
   ]
  },
  {
   "cell_type": "code",
   "execution_count": 26,
   "metadata": {},
   "outputs": [],
   "source": [
    "#월별 가입 소요기간컬럼만들기\n",
    "df_month1['trans_period']=(df_month1['order_date']-df_month1['reg_date']).dt.days\n",
    "df_month2['trans_period']=(df_month2['order_date']-df_month2['reg_date']).dt.days\n",
    "df_month3['trans_period']=(df_month3['order_date']-df_month3['reg_date']).dt.days"
   ]
  },
  {
   "cell_type": "code",
   "execution_count": 27,
   "metadata": {},
   "outputs": [
    {
     "name": "stdout",
     "output_type": "stream",
     "text": [
      "<class 'pandas.core.frame.DataFrame'>\n",
      "Int64Index: 364 entries, 0 to 376\n",
      "Data columns (total 9 columns):\n",
      " #   Column        Non-Null Count  Dtype         \n",
      "---  ------        --------------  -----         \n",
      " 0   brandnm       364 non-null    object        \n",
      " 1   goodsnm       364 non-null    object        \n",
      " 2   USER          364 non-null    object        \n",
      " 3   reg_date      364 non-null    datetime64[ns]\n",
      " 4   order_date    364 non-null    datetime64[ns]\n",
      " 5   p_type        364 non-null    object        \n",
      " 6   sub_type      364 non-null    object        \n",
      " 7   app_yn        364 non-null    object        \n",
      " 8   trans_period  364 non-null    int64         \n",
      "dtypes: datetime64[ns](2), int64(1), object(6)\n",
      "memory usage: 28.4+ KB\n"
     ]
    }
   ],
   "source": [
    "df_month1.info()"
   ]
  },
  {
   "cell_type": "code",
   "execution_count": 28,
   "metadata": {},
   "outputs": [
    {
     "data": {
      "text/plain": [
       "<AxesSubplot:xlabel='order_date'>"
      ]
     },
     "execution_count": 28,
     "metadata": {},
     "output_type": "execute_result"
    },
    {
     "data": {
      "image/png": "[encoded data removed]",
      "text/plain": [
       "<Figure size 432x288 with 1 Axes>"
      ]
     },
     "metadata": {
      "image/png": {
       "height": 267,
       "width": 384
      },
      "needs_background": "light"
     },
     "output_type": "display_data"
    }
   ],
   "source": [
    "df_month1[['order_date','trans_period']]\n",
    "df_month1.plot(x='order_date',y='trans_period')"
   ]
  },
  {
   "cell_type": "code",
   "execution_count": 29,
   "metadata": {},
   "outputs": [
    {
     "data": {
      "text/plain": [
       "<AxesSubplot:xlabel='order_date'>"
      ]
     },
     "execution_count": 29,
     "metadata": {},
     "output_type": "execute_result"
    },
    {
     "data": {
      "image/png": "[encoded data removed]",
      "text/plain": [
       "<Figure size 432x288 with 1 Axes>"
      ]
     },
     "metadata": {
      "image/png": {
       "height": 267,
       "width": 384
      },
      "needs_background": "light"
     },
     "output_type": "display_data"
    }
   ],
   "source": [
    "df_month2[['order_date','trans_period']]\n",
    "df_month2.plot(x='order_date',y='trans_period')"
   ]
  },
  {
   "cell_type": "code",
   "execution_count": 30,
   "metadata": {},
   "outputs": [
    {
     "data": {
      "text/plain": [
       "<AxesSubplot:xlabel='order_date'>"
      ]
     },
     "execution_count": 30,
     "metadata": {},
     "output_type": "execute_result"
    },
    {
     "data": {
      "image/png": "[encoded data removed]",
      "text/plain": [
       "<Figure size 432x288 with 1 Axes>"
      ]
     },
     "metadata": {
      "image/png": {
       "height": 267,
       "width": 384
      },
      "needs_background": "light"
     },
     "output_type": "display_data"
    }
   ],
   "source": [
    "df_month3[['order_date','trans_period']]\n",
    "df_month3.plot(x='order_date',y='trans_period')"
   ]
  },
  {
   "cell_type": "code",
   "execution_count": 31,
   "metadata": {},
   "outputs": [
    {
     "name": "stdout",
     "output_type": "stream",
     "text": [
      "112.31043956043956\n",
      "90.6322869955157\n",
      "114.72408293460926\n",
      "14.0\n",
      "3.0\n",
      "3.0\n"
     ]
    }
   ],
   "source": [
    "#월별 전환기간 평균, 중앙값 추이\n",
    "print(df_month1['trans_period'].mean())\n",
    "print(df_month2['trans_period'].mean())\n",
    "print(df_month3['trans_period'].mean())\n",
    "print(df_month1['trans_period'].median())\n",
    "print(df_month2['trans_period'].median())\n",
    "print(df_month3['trans_period'].median())"
   ]
  },
  {
   "cell_type": "code",
   "execution_count": null,
   "metadata": {},
   "outputs": [],
   "source": [
    "#월별 전환기간 평균, 중앙값 추이\n",
    "ax = city_df.plot(kind='bar', title='날씨', figsize=(12, 4), legend=True, fontsize=12)\n",
    "ax.set_xlabel('도시', fontsize=12)          # x축 정보 표시\n",
    "ax.set_ylabel('기온/습도', fontsize=12)     # y축 정보 표시\n",
    "ax.legend(['기온', '습도'], fontsize=12)    # 범례 지정"
   ]
  },
  {
   "cell_type": "code",
   "execution_count": 32,
   "metadata": {},
   "outputs": [
    {
     "name": "stdout",
     "output_type": "stream",
     "text": [
      "count    364.00\n",
      "mean     112.31\n",
      "std      221.27\n",
      "min        0.00\n",
      "25%        2.00\n",
      "50%       14.00\n",
      "75%       75.25\n",
      "max     1304.00\n",
      "Name: trans_period, dtype: float64\n",
      "count    446.00\n",
      "mean      90.63\n",
      "std      189.82\n",
      "min        0.00\n",
      "25%        0.00\n",
      "50%        3.00\n",
      "75%       62.75\n",
      "max     1046.00\n",
      "Name: trans_period, dtype: float64\n",
      "count    627.00\n",
      "mean     114.72\n",
      "std      209.23\n",
      "min        0.00\n",
      "25%        0.00\n",
      "50%        3.00\n",
      "75%      126.50\n",
      "max     1107.00\n",
      "Name: trans_period, dtype: float64\n"
     ]
    }
   ],
   "source": [
    "#월별 전환기간 분포확인\n",
    "print(df_month1['trans_period'].describe())\n",
    "print(df_month2['trans_period'].describe())\n",
    "print(df_month3['trans_period'].describe())"
   ]
  },
  {
   "cell_type": "code",
   "execution_count": 29,
   "metadata": {},
   "outputs": [
    {
     "data": {
      "image/png": "[encoded data removed]",
      "text/plain": [
       "<Figure size 504x720 with 1 Axes>"
      ]
     },
     "metadata": {
      "image/png": {
       "height": 575,
       "width": 434
      },
      "needs_background": "light"
     },
     "output_type": "display_data"
    }
   ],
   "source": [
    "#월별 전환기간 분포(1월)\n",
    "plt.figure(figsize=(7,10))\n",
    "boxplot=df_month1.boxplot(column='trans_period')\n",
    "plt.show()"
   ]
  },
  {
   "cell_type": "code",
   "execution_count": 30,
   "metadata": {},
   "outputs": [
    {
     "data": {
      "image/png": "[encoded data removed]",
      "text/plain": [
       "<Figure size 504x720 with 1 Axes>"
      ]
     },
     "metadata": {
      "image/png": {
       "height": 575,
       "width": 434
      },
      "needs_background": "light"
     },
     "output_type": "display_data"
    }
   ],
   "source": [
    "#월별 전환기간 분포(2월)\n",
    "plt.figure(figsize=(7,10))\n",
    "boxplot=df_month2.boxplot(column='trans_period')\n",
    "plt.show()"
   ]
  },
  {
   "cell_type": "code",
   "execution_count": 31,
   "metadata": {},
   "outputs": [
    {
     "data": {
      "image/png": "[encoded data removed]",
      "text/plain": [
       "<Figure size 504x720 with 1 Axes>"
      ]
     },
     "metadata": {
      "image/png": {
       "height": 575,
       "width": 434
      },
      "needs_background": "light"
     },
     "output_type": "display_data"
    }
   ],
   "source": [
    "#월별 전환기간 분포(3월)\n",
    "plt.figure(figsize=(7,10))\n",
    "boxplot=df_month3.boxplot(column='trans_period')\n",
    "plt.show()"
   ]
  },
  {
   "cell_type": "markdown",
   "metadata": {},
   "source": [
    ">**전환기간 0~3일은 TS등급** <br>\n",
    "**전환기간 4~200일 TA등급**<br>\n",
    "**전환기간 200~600일 TB등급**<br>\n",
    "**전환기간 600일이상 TC등급**<br>"
   ]
  },
  {
   "cell_type": "code",
   "execution_count": 67,
   "metadata": {},
   "outputs": [],
   "source": [
    "#전환기간 컬럼만들기\n",
    "df_month['trans_period']=(df_month['order_date']-df_month['reg_date']).dt.days"
   ]
  },
  {
   "cell_type": "code",
   "execution_count": 68,
   "metadata": {},
   "outputs": [
    {
     "data": {
      "text/html": [
       "<div>\n",
       "<style scoped>\n",
       "    .dataframe tbody tr th:only-of-type {\n",
       "        vertical-align: middle;\n",
       "    }\n",
       "\n",
       "    .dataframe tbody tr th {\n",
       "        vertical-align: top;\n",
       "    }\n",
       "\n",
       "    .dataframe thead th {\n",
       "        text-align: right;\n",
       "    }\n",
       "</style>\n",
       "<table border=\"1\" class=\"dataframe\">\n",
       "  <thead>\n",
       "    <tr style=\"text-align: right;\">\n",
       "      <th></th>\n",
       "      <th>brandnm</th>\n",
       "      <th>goodsnm</th>\n",
       "      <th>USER</th>\n",
       "      <th>reg_date</th>\n",
       "      <th>order_date</th>\n",
       "      <th>p_type</th>\n",
       "      <th>sub_type</th>\n",
       "      <th>app_yn</th>\n",
       "      <th>trans_period</th>\n",
       "    </tr>\n",
       "  </thead>\n",
       "  <tbody>\n",
       "    <tr>\n",
       "      <th>0</th>\n",
       "      <td>Gucci</td>\n",
       "      <td>flower dionysus shoulder bag beige</td>\n",
       "      <td>a161237</td>\n",
       "      <td>2019-12-06</td>\n",
       "      <td>2021-01-15</td>\n",
       "      <td>7days</td>\n",
       "      <td>BA</td>\n",
       "      <td>Y</td>\n",
       "      <td>406</td>\n",
       "    </tr>\n",
       "    <tr>\n",
       "      <th>1</th>\n",
       "      <td>El estilo de Claire</td>\n",
       "      <td>beads cropped jacket black</td>\n",
       "      <td>a1140859</td>\n",
       "      <td>2021-01-02</td>\n",
       "      <td>2021-01-15</td>\n",
       "      <td>4days</td>\n",
       "      <td>O</td>\n",
       "      <td>N</td>\n",
       "      <td>13</td>\n",
       "    </tr>\n",
       "    <tr>\n",
       "      <th>2</th>\n",
       "      <td>Danha</td>\n",
       "      <td>embroidery point oriental mini skirt blue</td>\n",
       "      <td>a1140859</td>\n",
       "      <td>2021-01-02</td>\n",
       "      <td>2021-01-15</td>\n",
       "      <td>4days</td>\n",
       "      <td>B</td>\n",
       "      <td>N</td>\n",
       "      <td>13</td>\n",
       "    </tr>\n",
       "    <tr>\n",
       "      <th>3</th>\n",
       "      <td>Danha</td>\n",
       "      <td>graphics pattern top pink</td>\n",
       "      <td>a1140859</td>\n",
       "      <td>2021-01-02</td>\n",
       "      <td>2021-01-15</td>\n",
       "      <td>4days</td>\n",
       "      <td>T</td>\n",
       "      <td>N</td>\n",
       "      <td>13</td>\n",
       "    </tr>\n",
       "    <tr>\n",
       "      <th>4</th>\n",
       "      <td>Burberry London</td>\n",
       "      <td>buckle basic pattern zipup-jumper navy</td>\n",
       "      <td>a1140740</td>\n",
       "      <td>2021-01-01</td>\n",
       "      <td>2021-01-15</td>\n",
       "      <td>7days</td>\n",
       "      <td>O</td>\n",
       "      <td>Y</td>\n",
       "      <td>14</td>\n",
       "    </tr>\n",
       "    <tr>\n",
       "      <th>...</th>\n",
       "      <td>...</td>\n",
       "      <td>...</td>\n",
       "      <td>...</td>\n",
       "      <td>...</td>\n",
       "      <td>...</td>\n",
       "      <td>...</td>\n",
       "      <td>...</td>\n",
       "      <td>...</td>\n",
       "      <td>...</td>\n",
       "    </tr>\n",
       "    <tr>\n",
       "      <th>1466</th>\n",
       "      <td>Yves Saint Laurent</td>\n",
       "      <td>logo point clutch bag pink</td>\n",
       "      <td>a119721</td>\n",
       "      <td>2019-04-10</td>\n",
       "      <td>2021-03-01</td>\n",
       "      <td>7days</td>\n",
       "      <td>BA</td>\n",
       "      <td>Y</td>\n",
       "      <td>691</td>\n",
       "    </tr>\n",
       "    <tr>\n",
       "      <th>1467</th>\n",
       "      <td>Prada</td>\n",
       "      <td>saffiano lux M gray</td>\n",
       "      <td>a1146069</td>\n",
       "      <td>2021-02-11</td>\n",
       "      <td>2021-03-01</td>\n",
       "      <td>7days</td>\n",
       "      <td>BA</td>\n",
       "      <td>Y</td>\n",
       "      <td>18</td>\n",
       "    </tr>\n",
       "    <tr>\n",
       "      <th>1468</th>\n",
       "      <td>Burberry</td>\n",
       "      <td>basic pattern sweater beige</td>\n",
       "      <td>a1147848</td>\n",
       "      <td>2021-02-28</td>\n",
       "      <td>2021-03-01</td>\n",
       "      <td>7days</td>\n",
       "      <td>T</td>\n",
       "      <td>Y</td>\n",
       "      <td>1</td>\n",
       "    </tr>\n",
       "    <tr>\n",
       "      <th>1469</th>\n",
       "      <td>Chanel</td>\n",
       "      <td>graphics pattern sweat-shirts white</td>\n",
       "      <td>a1147788</td>\n",
       "      <td>2021-02-28</td>\n",
       "      <td>2021-03-01</td>\n",
       "      <td>7days</td>\n",
       "      <td>T</td>\n",
       "      <td>Y</td>\n",
       "      <td>1</td>\n",
       "    </tr>\n",
       "    <tr>\n",
       "      <th>1470</th>\n",
       "      <td>Burberry</td>\n",
       "      <td>classic trench coat beige</td>\n",
       "      <td>a190054</td>\n",
       "      <td>2020-03-24</td>\n",
       "      <td>2021-03-01</td>\n",
       "      <td>4days</td>\n",
       "      <td>O</td>\n",
       "      <td>Y</td>\n",
       "      <td>342</td>\n",
       "    </tr>\n",
       "  </tbody>\n",
       "</table>\n",
       "<p>1437 rows × 9 columns</p>\n",
       "</div>"
      ],
      "text/plain": [
       "                  brandnm                                    goodsnm  \\\n",
       "0                   Gucci         flower dionysus shoulder bag beige   \n",
       "1     El estilo de Claire                 beads cropped jacket black   \n",
       "2                   Danha  embroidery point oriental mini skirt blue   \n",
       "3                   Danha                  graphics pattern top pink   \n",
       "4         Burberry London     buckle basic pattern zipup-jumper navy   \n",
       "...                   ...                                        ...   \n",
       "1466   Yves Saint Laurent                 logo point clutch bag pink   \n",
       "1467                Prada                        saffiano lux M gray   \n",
       "1468             Burberry                basic pattern sweater beige   \n",
       "1469               Chanel        graphics pattern sweat-shirts white   \n",
       "1470             Burberry                  classic trench coat beige   \n",
       "\n",
       "          USER   reg_date order_date p_type sub_type app_yn  trans_period  \n",
       "0      a161237 2019-12-06 2021-01-15  7days       BA      Y           406  \n",
       "1     a1140859 2021-01-02 2021-01-15  4days        O      N            13  \n",
       "2     a1140859 2021-01-02 2021-01-15  4days        B      N            13  \n",
       "3     a1140859 2021-01-02 2021-01-15  4days        T      N            13  \n",
       "4     a1140740 2021-01-01 2021-01-15  7days        O      Y            14  \n",
       "...        ...        ...        ...    ...      ...    ...           ...  \n",
       "1466   a119721 2019-04-10 2021-03-01  7days       BA      Y           691  \n",
       "1467  a1146069 2021-02-11 2021-03-01  7days       BA      Y            18  \n",
       "1468  a1147848 2021-02-28 2021-03-01  7days        T      Y             1  \n",
       "1469  a1147788 2021-02-28 2021-03-01  7days        T      Y             1  \n",
       "1470   a190054 2020-03-24 2021-03-01  4days        O      Y           342  \n",
       "\n",
       "[1437 rows x 9 columns]"
      ]
     },
     "execution_count": 68,
     "metadata": {},
     "output_type": "execute_result"
    }
   ],
   "source": [
    "df_month"
   ]
  },
  {
   "cell_type": "code",
   "execution_count": 38,
   "metadata": {},
   "outputs": [],
   "source": [
    "#전환기간별 등급 나누기\n",
    "df_ts=df_month[(df_month['trans_period']>=0) & (df_month['trans_period']<=3)]\n",
    "df_ta=df_month[(df_month['trans_period']>=4) & (df_month['trans_period']<=200)]\n",
    "df_tb=df_month[(df_month['trans_period']>=201) & (df_month['trans_period']<=600)]\n",
    "df_tc=df_month[df_month['trans_period']>600]"
   ]
  },
  {
   "cell_type": "code",
   "execution_count": 81,
   "metadata": {},
   "outputs": [
    {
     "data": {
      "text/plain": [
       "620"
      ]
     },
     "execution_count": 81,
     "metadata": {},
     "output_type": "execute_result"
    }
   ],
   "source": [
    "len(df_ts['USER'].unique())\n"
   ]
  },
  {
   "cell_type": "code",
   "execution_count": 40,
   "metadata": {},
   "outputs": [
    {
     "name": "stdout",
     "output_type": "stream",
     "text": [
      "Gucci            135\n",
      "Saint Laurent     56\n",
      "Chanel            56\n",
      "Louis Vuitton     50\n",
      "Prada             30\n",
      "                ... \n",
      "Egoist             1\n",
      "Victoria Bay       1\n",
      "Becla              1\n",
      "roajeu             1\n",
      "Coach              1\n",
      "Name: brandnm, Length: 150, dtype: int64\n"
     ]
    }
   ],
   "source": [
    "#ts등급 분포 탐색\n",
    "df_tsb=df_ts['brandnm'].value_counts()\n",
    "print(df_tsb)"
   ]
  },
  {
   "cell_type": "code",
   "execution_count": 96,
   "metadata": {},
   "outputs": [
    {
     "data": {
      "text/plain": [
       "13"
      ]
     },
     "execution_count": 96,
     "metadata": {},
     "output_type": "execute_result"
    }
   ],
   "source": [
    "df_tem=df[df['brandnm']=='Michaa']\n",
    "len(df_tem)"
   ]
  },
  {
   "cell_type": "code",
   "execution_count": 85,
   "metadata": {},
   "outputs": [
    {
     "name": "stdout",
     "output_type": "stream",
     "text": [
      "Prada                 3\n",
      "Yves Saint Laurent    3\n",
      "Chloe                 3\n",
      "Sandro                3\n",
      "Saint Laurent         3\n",
      "Louis Vuitton         3\n",
      "Celine                2\n",
      "Valentino             2\n",
      "Michaa                2\n",
      "Gucci                 2\n",
      "Dewl                  1\n",
      "Burberry              1\n",
      "Molliolli             1\n",
      "And You               1\n",
      "Andersson Bell        1\n",
      "Fayewoo               1\n",
      "Allsaints             1\n",
      "Leah                  1\n",
      "The Centaur           1\n",
      "Rouje                 1\n",
      "Name: brandnm, dtype: int64\n"
     ]
    }
   ],
   "source": [
    "#tc등급 분포 탐색\n",
    "df_tcb=df_tc['brandnm'].value_counts()\n",
    "print(df_tcb.head(20))"
   ]
  },
  {
   "cell_type": "code",
   "execution_count": 41,
   "metadata": {},
   "outputs": [
    {
     "name": "stdout",
     "output_type": "stream",
     "text": [
      "Y    601\n",
      "N    108\n",
      "Name: app_yn, dtype: int64\n"
     ]
    }
   ],
   "source": [
    "#ts등급 분포 탐색\n",
    "df_tsa=df_ts['app_yn'].value_counts()\n",
    "print(df_tsa)"
   ]
  },
  {
   "cell_type": "code",
   "execution_count": 97,
   "metadata": {},
   "outputs": [
    {
     "name": "stdout",
     "output_type": "stream",
     "text": [
      "Y    57\n",
      "N     4\n",
      "Name: app_yn, dtype: int64\n"
     ]
    }
   ],
   "source": [
    "#tc등급 분포 탐색\n",
    "df_tca=df_tc['app_yn'].value_counts()\n",
    "print(df_tca)"
   ]
  },
  {
   "cell_type": "code",
   "execution_count": 42,
   "metadata": {},
   "outputs": [
    {
     "name": "stdout",
     "output_type": "stream",
     "text": [
      "4days    383\n",
      "7days    326\n",
      "Name: p_type, dtype: int64\n"
     ]
    }
   ],
   "source": [
    "#ts등급 분포 탐색\n",
    "df_tsp=df_ts['p_type'].value_counts()\n",
    "print(df_tsp)"
   ]
  },
  {
   "cell_type": "code",
   "execution_count": 98,
   "metadata": {},
   "outputs": [
    {
     "name": "stdout",
     "output_type": "stream",
     "text": [
      "4days    40\n",
      "7days    21\n",
      "Name: p_type, dtype: int64\n"
     ]
    }
   ],
   "source": [
    "#ts등급 분포 탐색\n",
    "df_tcp=df_tc['p_type'].value_counts()\n",
    "print(df_tcp)"
   ]
  },
  {
   "cell_type": "code",
   "execution_count": 99,
   "metadata": {},
   "outputs": [
    {
     "name": "stdout",
     "output_type": "stream",
     "text": [
      "0.3917884481558803\n",
      "0.3442622950819672\n",
      "0.459802538787024\n"
     ]
    }
   ],
   "source": [
    "print(563/(874+563))\n",
    "print(21/(21+40))\n",
    "print(326/(383+326))"
   ]
  },
  {
   "cell_type": "code",
   "execution_count": 51,
   "metadata": {},
   "outputs": [
    {
     "name": "stdout",
     "output_type": "stream",
     "text": [
      "AxesSubplot(0.125,0.125;0.775x0.755)\n"
     ]
    },
    {
     "data": {
      "image/png": "[encoded data removed]",
      "text/plain": [
       "<Figure size 432x288 with 1 Axes>"
      ]
     },
     "metadata": {
      "image/png": {
       "height": 251,
       "width": 372
      },
      "needs_background": "light"
     },
     "output_type": "display_data"
    }
   ],
   "source": [
    "#ts등급 분포 탐색\n",
    "df_tss=df_ts['sub_type'].value_counts().plot(kind='bar')\n",
    "print(df_tss)"
   ]
  },
  {
   "cell_type": "code",
   "execution_count": 50,
   "metadata": {},
   "outputs": [
    {
     "name": "stdout",
     "output_type": "stream",
     "text": [
      "AxesSubplot(0.125,0.125;0.775x0.755)\n"
     ]
    },
    {
     "data": {
      "image/png": "[encoded data removed]",
      "text/plain": [
       "<Figure size 432x288 with 1 Axes>"
      ]
     },
     "metadata": {
      "image/png": {
       "height": 251,
       "width": 372
      },
      "needs_background": "light"
     },
     "output_type": "display_data"
    }
   ],
   "source": [
    "#sub_type 컬럼 분포 확인\n",
    "df_subtype=df['sub_type'].value_counts().plot(kind='bar')\n",
    "print(df_subtype)"
   ]
  },
  {
   "cell_type": "code",
   "execution_count": 56,
   "metadata": {},
   "outputs": [
    {
     "data": {
      "text/html": [
       "<div>\n",
       "<style scoped>\n",
       "    .dataframe tbody tr th:only-of-type {\n",
       "        vertical-align: middle;\n",
       "    }\n",
       "\n",
       "    .dataframe tbody tr th {\n",
       "        vertical-align: top;\n",
       "    }\n",
       "\n",
       "    .dataframe thead th {\n",
       "        text-align: right;\n",
       "    }\n",
       "</style>\n",
       "<table border=\"1\" class=\"dataframe\">\n",
       "  <thead>\n",
       "    <tr style=\"text-align: right;\">\n",
       "      <th></th>\n",
       "      <th>brandnm</th>\n",
       "      <th>goodsnm</th>\n",
       "      <th>USER</th>\n",
       "      <th>reg_date</th>\n",
       "      <th>order_date</th>\n",
       "      <th>p_type</th>\n",
       "      <th>sub_type</th>\n",
       "      <th>app_yn</th>\n",
       "      <th>trans_period</th>\n",
       "    </tr>\n",
       "  </thead>\n",
       "  <tbody>\n",
       "    <tr>\n",
       "      <th>8</th>\n",
       "      <td>Gucci</td>\n",
       "      <td>dionysus cross bag</td>\n",
       "      <td>a1143028</td>\n",
       "      <td>2021-01-14</td>\n",
       "      <td>2021-01-15</td>\n",
       "      <td>4days</td>\n",
       "      <td>BA</td>\n",
       "      <td>Y</td>\n",
       "      <td>1</td>\n",
       "    </tr>\n",
       "    <tr>\n",
       "      <th>15</th>\n",
       "      <td>Prada</td>\n",
       "      <td>logo hobo bag black</td>\n",
       "      <td>a1143143</td>\n",
       "      <td>2021-01-15</td>\n",
       "      <td>2021-01-15</td>\n",
       "      <td>4days</td>\n",
       "      <td>BA</td>\n",
       "      <td>Y</td>\n",
       "      <td>0</td>\n",
       "    </tr>\n",
       "    <tr>\n",
       "      <th>16</th>\n",
       "      <td>Gucci</td>\n",
       "      <td>microssima mini cross body bag pink</td>\n",
       "      <td>a1142921</td>\n",
       "      <td>2021-01-14</td>\n",
       "      <td>2021-01-14</td>\n",
       "      <td>4days</td>\n",
       "      <td>BA</td>\n",
       "      <td>Y</td>\n",
       "      <td>0</td>\n",
       "    </tr>\n",
       "    <tr>\n",
       "      <th>17</th>\n",
       "      <td>Time</td>\n",
       "      <td>pocket basic pattern coat black</td>\n",
       "      <td>a1142921</td>\n",
       "      <td>2021-01-14</td>\n",
       "      <td>2021-01-14</td>\n",
       "      <td>4days</td>\n",
       "      <td>O</td>\n",
       "      <td>Y</td>\n",
       "      <td>0</td>\n",
       "    </tr>\n",
       "    <tr>\n",
       "      <th>18</th>\n",
       "      <td>The Izzat</td>\n",
       "      <td>check pattern double breasted coat gray</td>\n",
       "      <td>a1142834</td>\n",
       "      <td>2021-01-13</td>\n",
       "      <td>2021-01-14</td>\n",
       "      <td>4days</td>\n",
       "      <td>O</td>\n",
       "      <td>Y</td>\n",
       "      <td>1</td>\n",
       "    </tr>\n",
       "    <tr>\n",
       "      <th>...</th>\n",
       "      <td>...</td>\n",
       "      <td>...</td>\n",
       "      <td>...</td>\n",
       "      <td>...</td>\n",
       "      <td>...</td>\n",
       "      <td>...</td>\n",
       "      <td>...</td>\n",
       "      <td>...</td>\n",
       "      <td>...</td>\n",
       "    </tr>\n",
       "    <tr>\n",
       "      <th>1463</th>\n",
       "      <td>Burberry</td>\n",
       "      <td>check mackenzie cross bag pink</td>\n",
       "      <td>a1147938</td>\n",
       "      <td>2021-03-01</td>\n",
       "      <td>2021-03-01</td>\n",
       "      <td>7days</td>\n",
       "      <td>BA</td>\n",
       "      <td>Y</td>\n",
       "      <td>0</td>\n",
       "    </tr>\n",
       "    <tr>\n",
       "      <th>1464</th>\n",
       "      <td>Burberry London</td>\n",
       "      <td>embroidery basic pattern wool sweater brown</td>\n",
       "      <td>a1147932</td>\n",
       "      <td>2021-03-01</td>\n",
       "      <td>2021-03-01</td>\n",
       "      <td>4days</td>\n",
       "      <td>T</td>\n",
       "      <td>Y</td>\n",
       "      <td>0</td>\n",
       "    </tr>\n",
       "    <tr>\n",
       "      <th>1465</th>\n",
       "      <td>London Fog</td>\n",
       "      <td>button basic pattern coat grey</td>\n",
       "      <td>a1147932</td>\n",
       "      <td>2021-03-01</td>\n",
       "      <td>2021-03-01</td>\n",
       "      <td>4days</td>\n",
       "      <td>O</td>\n",
       "      <td>Y</td>\n",
       "      <td>0</td>\n",
       "    </tr>\n",
       "    <tr>\n",
       "      <th>1468</th>\n",
       "      <td>Burberry</td>\n",
       "      <td>basic pattern sweater beige</td>\n",
       "      <td>a1147848</td>\n",
       "      <td>2021-02-28</td>\n",
       "      <td>2021-03-01</td>\n",
       "      <td>7days</td>\n",
       "      <td>T</td>\n",
       "      <td>Y</td>\n",
       "      <td>1</td>\n",
       "    </tr>\n",
       "    <tr>\n",
       "      <th>1469</th>\n",
       "      <td>Chanel</td>\n",
       "      <td>graphics pattern sweat-shirts white</td>\n",
       "      <td>a1147788</td>\n",
       "      <td>2021-02-28</td>\n",
       "      <td>2021-03-01</td>\n",
       "      <td>7days</td>\n",
       "      <td>T</td>\n",
       "      <td>Y</td>\n",
       "      <td>1</td>\n",
       "    </tr>\n",
       "  </tbody>\n",
       "</table>\n",
       "<p>709 rows × 9 columns</p>\n",
       "</div>"
      ],
      "text/plain": [
       "              brandnm                                      goodsnm      USER  \\\n",
       "8               Gucci                           dionysus cross bag  a1143028   \n",
       "15              Prada                          logo hobo bag black  a1143143   \n",
       "16              Gucci          microssima mini cross body bag pink  a1142921   \n",
       "17               Time              pocket basic pattern coat black  a1142921   \n",
       "18          The Izzat      check pattern double breasted coat gray  a1142834   \n",
       "...               ...                                          ...       ...   \n",
       "1463         Burberry               check mackenzie cross bag pink  a1147938   \n",
       "1464  Burberry London  embroidery basic pattern wool sweater brown  a1147932   \n",
       "1465       London Fog               button basic pattern coat grey  a1147932   \n",
       "1468         Burberry                  basic pattern sweater beige  a1147848   \n",
       "1469           Chanel          graphics pattern sweat-shirts white  a1147788   \n",
       "\n",
       "       reg_date order_date p_type sub_type app_yn  trans_period  \n",
       "8    2021-01-14 2021-01-15  4days       BA      Y             1  \n",
       "15   2021-01-15 2021-01-15  4days       BA      Y             0  \n",
       "16   2021-01-14 2021-01-14  4days       BA      Y             0  \n",
       "17   2021-01-14 2021-01-14  4days        O      Y             0  \n",
       "18   2021-01-13 2021-01-14  4days        O      Y             1  \n",
       "...         ...        ...    ...      ...    ...           ...  \n",
       "1463 2021-03-01 2021-03-01  7days       BA      Y             0  \n",
       "1464 2021-03-01 2021-03-01  4days        T      Y             0  \n",
       "1465 2021-03-01 2021-03-01  4days        O      Y             0  \n",
       "1468 2021-02-28 2021-03-01  7days        T      Y             1  \n",
       "1469 2021-02-28 2021-03-01  7days        T      Y             1  \n",
       "\n",
       "[709 rows x 9 columns]"
      ]
     },
     "execution_count": 56,
     "metadata": {},
     "output_type": "execute_result"
    }
   ],
   "source": [
    "df_ts"
   ]
  },
  {
   "cell_type": "code",
   "execution_count": 55,
   "metadata": {},
   "outputs": [
    {
     "name": "stdout",
     "output_type": "stream",
     "text": [
      "<class 'pandas.core.frame.DataFrame'>\n",
      "DatetimeIndex: 88 entries, 2020-12-31 to 2021-03-31\n",
      "Data columns (total 1 columns):\n",
      " #   Column    Non-Null Count  Dtype\n",
      "---  ------    --------------  -----\n",
      " 0   reg_date  88 non-null     int64\n",
      "dtypes: int64(1)\n",
      "memory usage: 1.4 KB\n"
     ]
    }
   ],
   "source": [
    "#ts등급 분포 탐색\n",
    "df_tsr=pd.DataFrame(df_ts['reg_date'].value_counts()).sort_index(ascending=True)\n",
    "df_tsr.info()"
   ]
  },
  {
   "cell_type": "code",
   "execution_count": 54,
   "metadata": {},
   "outputs": [
    {
     "name": "stdout",
     "output_type": "stream",
     "text": [
      "<class 'pandas.core.frame.DataFrame'>\n",
      "Index: 363 entries, 2017-06-24 to 2021-03-31\n",
      "Data columns (total 1 columns):\n",
      " #   Column    Non-Null Count  Dtype\n",
      "---  ------    --------------  -----\n",
      " 0   reg_date  363 non-null    int64\n",
      "dtypes: int64(1)\n",
      "memory usage: 5.7+ KB\n"
     ]
    }
   ],
   "source": [
    "#reg_date 컬럼 분포 확인\n",
    "df_reg_date=pd.DataFrame(df['reg_date'].value_counts()).sort_index(ascending=True)\n",
    "df_reg_date.info()"
   ]
  },
  {
   "cell_type": "code",
   "execution_count": 62,
   "metadata": {},
   "outputs": [
    {
     "name": "stdout",
     "output_type": "stream",
     "text": [
      "chevron quilted cross bag black                16\n",
      "boy chanel clutch black                        11\n",
      "dionysus cross bag beige                        7\n",
      "classic clutch black                            7\n",
      "epi tote bag black                              6\n",
      "mini sunset chain bag black                     6\n",
      "quilted shoulder bag black                      6\n",
      "padlock GG canvas shoulder bag                  5\n",
      "microssima emily mini bag black                 5\n",
      "monogram cross body bag black                   4\n",
      "logo pointed cross bag black                    4\n",
      "monogram clutch brown                           4\n",
      "button flower pattern H-Line dress lavender     4\n",
      "chevron quilting cross bag cream                4\n",
      "dionysus shoulder bag beige                     4\n",
      "Name: goodsnm, dtype: int64\n"
     ]
    }
   ],
   "source": [
    "#ts등급 분포 탐색\n",
    "df_tsg=df_ts['goodsnm'].value_counts()\n",
    "print(df_tsg.head(15))"
   ]
  },
  {
   "cell_type": "code",
   "execution_count": 67,
   "metadata": {},
   "outputs": [
    {
     "name": "stdout",
     "output_type": "stream",
     "text": [
      "chevron quilted cross bag black            23\n",
      "classic clutch black                       12\n",
      "boy chanel clutch black                    11\n",
      "padlock GG canvas shoulder bag              9\n",
      "dionysus shoulder bag beige                 8\n",
      "mini sunset chain bag black                 8\n",
      "epi tote bag black                          8\n",
      "dionysus cross bag beige                    7\n",
      "monogram clutch brown                       7\n",
      "flap cross bag black                        7\n",
      "quilted shoulder bag black                  7\n",
      "mammont chain wallet bag black              6\n",
      "microssima emily mini bag black             6\n",
      "basic pattern H-Line dress black            6\n",
      "logo pointed cross bag black                5\n",
      "monogram shoulder bag black                 5\n",
      "vintage web shoulder bag black              5\n",
      "chevron pattern chain bag beige             5\n",
      "logo pointed cross bag                      5\n",
      "alma epi pm tote bag black                  5\n",
      "quilted calfskin shoulder bag               5\n",
      "strap basic pattern wrap-coat black         5\n",
      "marmont GG logo quilted bag black           5\n",
      "belt basic pattern trench-coat beige        5\n",
      "mamont chain mini cross bag black           5\n",
      "mamont chain bag black                      5\n",
      "croisiere patent lady bag                   5\n",
      "dionysos velvet chain shoulder bag navy     5\n",
      "sylvie leather mini chain bag black         5\n",
      "luggage bag black                           5\n",
      "Name: goodsnm, dtype: int64\n"
     ]
    }
   ],
   "source": [
    "#goodsnm 컬럼 분포 확인\n",
    "df_goodsnm=df['goodsnm'].value_counts()\n",
    "print(df_goodsnm.head(30))"
   ]
  },
  {
   "cell_type": "code",
   "execution_count": 68,
   "metadata": {},
   "outputs": [
    {
     "name": "stdout",
     "output_type": "stream",
     "text": [
      "가장 많은 데이터를 가진 고객의 데이터 수는 11 입니다.\n",
      "a1149461    11\n",
      "a1149583    10\n",
      "a1149542     6\n",
      "a1142679     4\n",
      "a1144535     4\n",
      "            ..\n",
      "a1151301     1\n",
      "a1145719     1\n",
      "a1150825     1\n",
      "a1144380     1\n",
      "a1150326     1\n",
      "Name: USER, Length: 620, dtype: int64\n"
     ]
    }
   ],
   "source": [
    "#USER 컬럼 분포 확인\n",
    "df_tsu=df_ts['USER'].value_counts()\n",
    "print('가장 많은 데이터를 가진 고객의 데이터 수는 %d 입니다.' %(df_tsu.max()))\n",
    "print(df_tsu)"
   ]
  },
  {
   "cell_type": "code",
   "execution_count": null,
   "metadata": {},
   "outputs": [],
   "source": [
    "(1).brandnm: 아이템의 브랜드 이름 컬럼 : 범주형\n",
    "(2).goodsnm : 아이템의 특성을 담은 이름 컬럼 : 범주형\n",
    "(3). USER : 사용자 ID 컬럼 : 범주형\n",
    "(4). reg_date : 사용자 가입일 컬럼 : 날짜형\n",
    "(5). order_date : 아이템 주문일 컬럼 : 날짜형\n",
    "(6). p_type : 주문 상품권 종류 5일 7일 : 범주형\n",
    "(7). sub_type : 주문 아이템 카테고리 : 범주형\n",
    "(8). add_yn : 사용자의 어플리케이션 사용 여부 : 범주형"
   ]
  },
  {
   "cell_type": "markdown",
   "metadata": {},
   "source": [
    "#### (2). 상품별 분석"
   ]
  },
  {
   "cell_type": "code",
   "execution_count": 116,
   "metadata": {},
   "outputs": [
    {
     "name": "stdout",
     "output_type": "stream",
     "text": [
      "Gucci              230\n",
      "Chanel              90\n",
      "Saint Laurent       86\n",
      "Louis Vuitton       79\n",
      "Prada               58\n",
      "                  ... \n",
      "cecilie bahnsen      1\n",
      "VOV                  1\n",
      "Covernat             1\n",
      "Burberry Brit        1\n",
      "A BY A               1\n",
      "Name: brandnm, Length: 244, dtype: int64\n"
     ]
    }
   ],
   "source": [
    "#brandnm 컬럼 분포 확인\n",
    "df_brandnm=df['brandnm'].value_counts()\n",
    "print(df_brandnm)"
   ]
  },
  {
   "cell_type": "code",
   "execution_count": 117,
   "metadata": {
    "scrolled": true
   },
   "outputs": [
    {
     "data": {
      "text/plain": [
       "Text(0.5, 1.0, '브랜드별 보유 구매데이터 수(1~10)의 분포')"
      ]
     },
     "execution_count": 117,
     "metadata": {},
     "output_type": "execute_result"
    },
    {
     "data": {
      "image/png": "[encoded data removed]",
      "text/plain": [
       "<Figure size 432x288 with 1 Axes>"
      ]
     },
     "metadata": {
      "image/png": {
       "height": 279,
       "width": 387
      },
      "needs_background": "light"
     },
     "output_type": "display_data"
    }
   ],
   "source": [
    "#브랜드 컬럼 분포 확인\n",
    "plt.hist(df_brandnm, range=(1,11), bins=10)\n",
    "plt.xlabel('브랜드별 보유 구매데이터 개수')\n",
    "plt.ylabel('수')\n",
    "plt.title('브랜드별 보유 구매데이터 수(1~10)의 분포')"
   ]
  },
  {
   "cell_type": "code",
   "execution_count": 123,
   "metadata": {},
   "outputs": [
    {
     "data": {
      "text/html": [
       "<div>\n",
       "<style scoped>\n",
       "    .dataframe tbody tr th:only-of-type {\n",
       "        vertical-align: middle;\n",
       "    }\n",
       "\n",
       "    .dataframe tbody tr th {\n",
       "        vertical-align: top;\n",
       "    }\n",
       "\n",
       "    .dataframe thead th {\n",
       "        text-align: right;\n",
       "    }\n",
       "</style>\n",
       "<table border=\"1\" class=\"dataframe\">\n",
       "  <thead>\n",
       "    <tr style=\"text-align: right;\">\n",
       "      <th></th>\n",
       "      <th>brandnm</th>\n",
       "    </tr>\n",
       "  </thead>\n",
       "  <tbody>\n",
       "    <tr>\n",
       "      <th>count</th>\n",
       "      <td>244.00</td>\n",
       "    </tr>\n",
       "    <tr>\n",
       "      <th>mean</th>\n",
       "      <td>5.89</td>\n",
       "    </tr>\n",
       "    <tr>\n",
       "      <th>std</th>\n",
       "      <td>18.40</td>\n",
       "    </tr>\n",
       "    <tr>\n",
       "      <th>min</th>\n",
       "      <td>1.00</td>\n",
       "    </tr>\n",
       "    <tr>\n",
       "      <th>25%</th>\n",
       "      <td>1.00</td>\n",
       "    </tr>\n",
       "    <tr>\n",
       "      <th>50%</th>\n",
       "      <td>1.00</td>\n",
       "    </tr>\n",
       "    <tr>\n",
       "      <th>75%</th>\n",
       "      <td>3.25</td>\n",
       "    </tr>\n",
       "    <tr>\n",
       "      <th>max</th>\n",
       "      <td>230.00</td>\n",
       "    </tr>\n",
       "  </tbody>\n",
       "</table>\n",
       "</div>"
      ],
      "text/plain": [
       "       brandnm\n",
       "count   244.00\n",
       "mean      5.89\n",
       "std      18.40\n",
       "min       1.00\n",
       "25%       1.00\n",
       "50%       1.00\n",
       "75%       3.25\n",
       "max     230.00"
      ]
     },
     "execution_count": 123,
     "metadata": {},
     "output_type": "execute_result"
    }
   ],
   "source": [
    "df_brandnm=pd.DataFrame(df_brandnm)\n",
    "df_brandnm.describe()"
   ]
  },
  {
   "cell_type": "code",
   "execution_count": 190,
   "metadata": {},
   "outputs": [
    {
     "data": {
      "text/plain": [
       "4.375"
      ]
     },
     "execution_count": 190,
     "metadata": {},
     "output_type": "execute_result"
    }
   ],
   "source": [
    "1+1.5*(3.25-1)\n",
    "#50퍼센트값 + 1.5*(75퍼센트값-25퍼센트값)"
   ]
  },
  {
   "cell_type": "code",
   "execution_count": 122,
   "metadata": {},
   "outputs": [
    {
     "data": {
      "image/png": "[encoded data removed]",
      "text/plain": [
       "<Figure size 504x720 with 1 Axes>"
      ]
     },
     "metadata": {
      "image/png": {
       "height": 575,
       "width": 428
      },
      "needs_background": "light"
     },
     "output_type": "display_data"
    }
   ],
   "source": [
    "#브랜드 컬럼 분포 확인\n",
    "plt.figure(figsize=(7,10))\n",
    "boxplot=df_brandnm.boxplot(column='brandnm')\n",
    "plt.show()"
   ]
  },
  {
   "cell_type": "markdown",
   "metadata": {},
   "source": [
    "> **대부분의 브랜드는 기간내 구매데이터 개수가 1개**\n",
    "> **통계적 이상치는 4.375개(7개)\n",
    "> 클로젯세어는 특정브랜드군에 너무 쏠림현상이강하다."
   ]
  },
  {
   "cell_type": "markdown",
   "metadata": {},
   "source": [
    "#### (3). 시계열 분석"
   ]
  },
  {
   "cell_type": "code",
   "execution_count": 46,
   "metadata": {},
   "outputs": [],
   "source": [
    "#시계열 분석 데이터프레임 생성\n",
    "df_time=df.copy()\n",
    "df_time.order_date = pd.to_datetime(df_time.order_date)\n",
    "df_time.reg_date = pd.to_datetime(df_time.reg_date) "
   ]
  },
  {
   "cell_type": "code",
   "execution_count": 58,
   "metadata": {},
   "outputs": [],
   "source": [
    "#요일 계산 함수\n",
    "def myday(x) :\n",
    "    days=['월요일','화요일','수요일','목요일','금요일','토요일','일요일']\n",
    "    a=x.weekday()\n",
    "    return days[a]"
   ]
  },
  {
   "cell_type": "code",
   "execution_count": 59,
   "metadata": {},
   "outputs": [
    {
     "data": {
      "text/html": [
       "<div>\n",
       "<style scoped>\n",
       "    .dataframe tbody tr th:only-of-type {\n",
       "        vertical-align: middle;\n",
       "    }\n",
       "\n",
       "    .dataframe tbody tr th {\n",
       "        vertical-align: top;\n",
       "    }\n",
       "\n",
       "    .dataframe thead th {\n",
       "        text-align: right;\n",
       "    }\n",
       "</style>\n",
       "<table border=\"1\" class=\"dataframe\">\n",
       "  <thead>\n",
       "    <tr style=\"text-align: right;\">\n",
       "      <th></th>\n",
       "      <th>brandnm</th>\n",
       "      <th>goodsnm</th>\n",
       "      <th>USER</th>\n",
       "      <th>reg_date</th>\n",
       "      <th>order_date</th>\n",
       "      <th>p_type</th>\n",
       "      <th>sub_type</th>\n",
       "      <th>app_yn</th>\n",
       "      <th>days</th>\n",
       "    </tr>\n",
       "  </thead>\n",
       "  <tbody>\n",
       "    <tr>\n",
       "      <th>0</th>\n",
       "      <td>Gucci</td>\n",
       "      <td>flower dionysus shoulder bag beige</td>\n",
       "      <td>a161237</td>\n",
       "      <td>2019-12-06</td>\n",
       "      <td>2021-01-15</td>\n",
       "      <td>7days</td>\n",
       "      <td>BA</td>\n",
       "      <td>Y</td>\n",
       "      <td>금요일</td>\n",
       "    </tr>\n",
       "    <tr>\n",
       "      <th>1</th>\n",
       "      <td>El estilo de Claire</td>\n",
       "      <td>beads cropped jacket black</td>\n",
       "      <td>a1140859</td>\n",
       "      <td>2021-01-02</td>\n",
       "      <td>2021-01-15</td>\n",
       "      <td>4days</td>\n",
       "      <td>O</td>\n",
       "      <td>N</td>\n",
       "      <td>금요일</td>\n",
       "    </tr>\n",
       "    <tr>\n",
       "      <th>2</th>\n",
       "      <td>Danha</td>\n",
       "      <td>embroidery point oriental mini skirt blue</td>\n",
       "      <td>a1140859</td>\n",
       "      <td>2021-01-02</td>\n",
       "      <td>2021-01-15</td>\n",
       "      <td>4days</td>\n",
       "      <td>B</td>\n",
       "      <td>N</td>\n",
       "      <td>금요일</td>\n",
       "    </tr>\n",
       "    <tr>\n",
       "      <th>3</th>\n",
       "      <td>Danha</td>\n",
       "      <td>graphics pattern top pink</td>\n",
       "      <td>a1140859</td>\n",
       "      <td>2021-01-02</td>\n",
       "      <td>2021-01-15</td>\n",
       "      <td>4days</td>\n",
       "      <td>T</td>\n",
       "      <td>N</td>\n",
       "      <td>금요일</td>\n",
       "    </tr>\n",
       "    <tr>\n",
       "      <th>4</th>\n",
       "      <td>Burberry London</td>\n",
       "      <td>buckle basic pattern zipup-jumper navy</td>\n",
       "      <td>a1140740</td>\n",
       "      <td>2021-01-01</td>\n",
       "      <td>2021-01-15</td>\n",
       "      <td>7days</td>\n",
       "      <td>O</td>\n",
       "      <td>Y</td>\n",
       "      <td>금요일</td>\n",
       "    </tr>\n",
       "    <tr>\n",
       "      <th>...</th>\n",
       "      <td>...</td>\n",
       "      <td>...</td>\n",
       "      <td>...</td>\n",
       "      <td>...</td>\n",
       "      <td>...</td>\n",
       "      <td>...</td>\n",
       "      <td>...</td>\n",
       "      <td>...</td>\n",
       "      <td>...</td>\n",
       "    </tr>\n",
       "    <tr>\n",
       "      <th>1466</th>\n",
       "      <td>Yves Saint Laurent</td>\n",
       "      <td>logo point clutch bag pink</td>\n",
       "      <td>a119721</td>\n",
       "      <td>2019-04-10</td>\n",
       "      <td>2021-03-01</td>\n",
       "      <td>7days</td>\n",
       "      <td>BA</td>\n",
       "      <td>Y</td>\n",
       "      <td>월요일</td>\n",
       "    </tr>\n",
       "    <tr>\n",
       "      <th>1467</th>\n",
       "      <td>Prada</td>\n",
       "      <td>saffiano lux M gray</td>\n",
       "      <td>a1146069</td>\n",
       "      <td>2021-02-11</td>\n",
       "      <td>2021-03-01</td>\n",
       "      <td>7days</td>\n",
       "      <td>BA</td>\n",
       "      <td>Y</td>\n",
       "      <td>월요일</td>\n",
       "    </tr>\n",
       "    <tr>\n",
       "      <th>1468</th>\n",
       "      <td>Burberry</td>\n",
       "      <td>basic pattern sweater beige</td>\n",
       "      <td>a1147848</td>\n",
       "      <td>2021-02-28</td>\n",
       "      <td>2021-03-01</td>\n",
       "      <td>7days</td>\n",
       "      <td>T</td>\n",
       "      <td>Y</td>\n",
       "      <td>월요일</td>\n",
       "    </tr>\n",
       "    <tr>\n",
       "      <th>1469</th>\n",
       "      <td>Chanel</td>\n",
       "      <td>graphics pattern sweat-shirts white</td>\n",
       "      <td>a1147788</td>\n",
       "      <td>2021-02-28</td>\n",
       "      <td>2021-03-01</td>\n",
       "      <td>7days</td>\n",
       "      <td>T</td>\n",
       "      <td>Y</td>\n",
       "      <td>월요일</td>\n",
       "    </tr>\n",
       "    <tr>\n",
       "      <th>1470</th>\n",
       "      <td>Burberry</td>\n",
       "      <td>classic trench coat beige</td>\n",
       "      <td>a190054</td>\n",
       "      <td>2020-03-24</td>\n",
       "      <td>2021-03-01</td>\n",
       "      <td>4days</td>\n",
       "      <td>O</td>\n",
       "      <td>Y</td>\n",
       "      <td>월요일</td>\n",
       "    </tr>\n",
       "  </tbody>\n",
       "</table>\n",
       "<p>1437 rows × 9 columns</p>\n",
       "</div>"
      ],
      "text/plain": [
       "                  brandnm                                    goodsnm  \\\n",
       "0                   Gucci         flower dionysus shoulder bag beige   \n",
       "1     El estilo de Claire                 beads cropped jacket black   \n",
       "2                   Danha  embroidery point oriental mini skirt blue   \n",
       "3                   Danha                  graphics pattern top pink   \n",
       "4         Burberry London     buckle basic pattern zipup-jumper navy   \n",
       "...                   ...                                        ...   \n",
       "1466   Yves Saint Laurent                 logo point clutch bag pink   \n",
       "1467                Prada                        saffiano lux M gray   \n",
       "1468             Burberry                basic pattern sweater beige   \n",
       "1469               Chanel        graphics pattern sweat-shirts white   \n",
       "1470             Burberry                  classic trench coat beige   \n",
       "\n",
       "          USER   reg_date order_date p_type sub_type app_yn days  \n",
       "0      a161237 2019-12-06 2021-01-15  7days       BA      Y  금요일  \n",
       "1     a1140859 2021-01-02 2021-01-15  4days        O      N  금요일  \n",
       "2     a1140859 2021-01-02 2021-01-15  4days        B      N  금요일  \n",
       "3     a1140859 2021-01-02 2021-01-15  4days        T      N  금요일  \n",
       "4     a1140740 2021-01-01 2021-01-15  7days        O      Y  금요일  \n",
       "...        ...        ...        ...    ...      ...    ...  ...  \n",
       "1466   a119721 2019-04-10 2021-03-01  7days       BA      Y  월요일  \n",
       "1467  a1146069 2021-02-11 2021-03-01  7days       BA      Y  월요일  \n",
       "1468  a1147848 2021-02-28 2021-03-01  7days        T      Y  월요일  \n",
       "1469  a1147788 2021-02-28 2021-03-01  7days        T      Y  월요일  \n",
       "1470   a190054 2020-03-24 2021-03-01  4days        O      Y  월요일  \n",
       "\n",
       "[1437 rows x 9 columns]"
      ]
     },
     "execution_count": 59,
     "metadata": {},
     "output_type": "execute_result"
    }
   ],
   "source": [
    "#요일 컬럼 생성\n",
    "df_time['days']=df_time['order_date'].map(lambda x : myday(x))\n",
    "df_time"
   ]
  },
  {
   "cell_type": "code",
   "execution_count": 86,
   "metadata": {},
   "outputs": [
    {
     "data": {
      "text/html": [
       "<div>\n",
       "<style scoped>\n",
       "    .dataframe tbody tr th:only-of-type {\n",
       "        vertical-align: middle;\n",
       "    }\n",
       "\n",
       "    .dataframe tbody tr th {\n",
       "        vertical-align: top;\n",
       "    }\n",
       "\n",
       "    .dataframe thead th {\n",
       "        text-align: right;\n",
       "    }\n",
       "</style>\n",
       "<table border=\"1\" class=\"dataframe\">\n",
       "  <thead>\n",
       "    <tr style=\"text-align: right;\">\n",
       "      <th></th>\n",
       "      <th>days</th>\n",
       "      <th>order_count</th>\n",
       "    </tr>\n",
       "  </thead>\n",
       "  <tbody>\n",
       "    <tr>\n",
       "      <th>0</th>\n",
       "      <td>월요일</td>\n",
       "      <td>199</td>\n",
       "    </tr>\n",
       "    <tr>\n",
       "      <th>1</th>\n",
       "      <td>화요일</td>\n",
       "      <td>286</td>\n",
       "    </tr>\n",
       "    <tr>\n",
       "      <th>2</th>\n",
       "      <td>수요일</td>\n",
       "      <td>328</td>\n",
       "    </tr>\n",
       "    <tr>\n",
       "      <th>3</th>\n",
       "      <td>목요일</td>\n",
       "      <td>273</td>\n",
       "    </tr>\n",
       "    <tr>\n",
       "      <th>4</th>\n",
       "      <td>금요일</td>\n",
       "      <td>190</td>\n",
       "    </tr>\n",
       "    <tr>\n",
       "      <th>5</th>\n",
       "      <td>토요일</td>\n",
       "      <td>60</td>\n",
       "    </tr>\n",
       "    <tr>\n",
       "      <th>6</th>\n",
       "      <td>일요일</td>\n",
       "      <td>101</td>\n",
       "    </tr>\n",
       "  </tbody>\n",
       "</table>\n",
       "</div>"
      ],
      "text/plain": [
       "  days  order_count\n",
       "0  월요일          199\n",
       "1  화요일          286\n",
       "2  수요일          328\n",
       "3  목요일          273\n",
       "4  금요일          190\n",
       "5  토요일           60\n",
       "6  일요일          101"
      ]
     },
     "execution_count": 86,
     "metadata": {},
     "output_type": "execute_result"
    }
   ],
   "source": [
    "#요일별 주문량 확인\n",
    "df_time_days=df_time.groupby(df_time['days']).count()\n",
    "df_time_days.reset_index(inplace=True)\n",
    "df_time_days=df_time_days[['days','USER']]\n",
    "df_time_days.rename(columns={'USER':'order_count'},inplace=True)\n",
    "df_time_days=df_time_days.reindex(index=[3,6,2,1,0,5,4])\n",
    "df_time_days.reset_index(inplace=True)\n",
    "df_time_days=df_time_days.drop('index',axis=1)\n",
    "df_time_days"
   ]
  },
  {
   "cell_type": "code",
   "execution_count": 87,
   "metadata": {},
   "outputs": [
    {
     "data": {
      "text/plain": [
       "<AxesSubplot:xlabel='days', ylabel='order_count'>"
      ]
     },
     "execution_count": 87,
     "metadata": {},
     "output_type": "execute_result"
    },
    {
     "data": {
      "image/png": "[encoded data removed]",
      "text/plain": [
       "<Figure size 432x288 with 1 Axes>"
      ]
     },
     "metadata": {
      "image/png": {
       "height": 263,
       "width": 387
      },
      "needs_background": "light"
     },
     "output_type": "display_data"
    }
   ],
   "source": [
    "#요일별 주문량 추이 그래프\n",
    "sns.barplot(data=df_time_days,x='days',y= \"order_count\")"
   ]
  },
  {
   "cell_type": "code",
   "execution_count": 131,
   "metadata": {},
   "outputs": [],
   "source": [
    "df_time_sd=df_time[['sub_type','days']]\n",
    "df_time_sd['count']=1\n",
    "df_time_sd=df_time_sd.groupby(['days','sub_type']).count()\n",
    "df_time_sd.reset_index(inplace=True)"
   ]
  },
  {
   "cell_type": "code",
   "execution_count": null,
   "metadata": {},
   "outputs": [],
   "source": []
  }
 ],
 "metadata": {
  "kernelspec": {
   "display_name": "Python 3",
   "language": "python",
   "name": "python3"
  },
  "language_info": {
   "codemirror_mode": {
    "name": "ipython",
    "version": 3
   },
   "file_extension": ".py",
   "mimetype": "text/x-python",
   "name": "python",
   "nbconvert_exporter": "python",
   "pygments_lexer": "ipython3",
   "version": "3.8.3"
  },
  "toc": {
   "base_numbering": 1,
   "nav_menu": {},
   "number_sections": false,
   "sideBar": true,
   "skip_h1_title": false,
   "title_cell": "Table of Contents",
   "title_sidebar": "Contents",
   "toc_cell": false,
   "toc_position": {},
   "toc_section_display": true,
   "toc_window_display": false
  }
 },
 "nbformat": 4,
 "nbformat_minor": 5
}
