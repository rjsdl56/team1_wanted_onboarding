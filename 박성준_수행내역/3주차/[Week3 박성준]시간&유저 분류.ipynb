{
 "cells": [
  {
   "cell_type": "markdown",
   "metadata": {},
   "source": [
    "# ‘클로젯셰어’를 위한 Team 1의 Deep Driving\n",
    "   \n",
    "## 접근 방법 1. 고객 분류별 접근\n",
    "<분류 방법1> 구매까지 걸리는 기간에 따른 분류 [TS/A/B/C 등급분류]            \n",
    "<분류 방법2> 구매 수량에 따른 분류 [일반/우량 분류]              \n",
    "<분류 방법3> 가입일(*2021-1-1 기준)에 따른 분류 [신규/기존 분류]         \n",
    "\n",
    "## 접근 방법 2. 고객 행동 단계별 접근\n",
    "Step 1. 잠재 고객 확보에 주력하라! (Acquisition) ==> BAG의 아이템 개수를 늘린다.        \n",
    "Step 2. 구매고객으로 연결하라! (Activation) ==> ?? acquisition과 연결           \n",
    "Step 3. 우량고객의 파이를 늘려라! (Revenue) ==> 대량의옷을 빌릴 때 5+1            \n",
    "Jumping Step 고객 충성도에 보상하라! ==> 개인 커스터마이징 서비스 필요(고급화전략)         "
   ]
  },
  {
   "cell_type": "markdown",
   "metadata": {},
   "source": [
    "# 내용정리\n",
    "\n",
    "- 1월에서 3월로 이동할수록 아우터의 사용은 줄어들고, 드레스와 상의,하의의 서비스 이용 수가 높아짐     \n",
    "- 한 번에 많이 이용하는 우량고객들의 sub_type은 모집단과 다르다. (의류를 선호 ==> Mixed 아이템 추천)        \n",
    "- 현재 클로젯셰어가 가지고 있는 아이템의 수를 비교 (의류 3만 8천 / 가방 2천)    \n",
    "- 가방의 절대적인 수를 늘려야 할 필요성이 있음 (일반 유저 대상)    \n",
    "- 현재 의류는 개인쇼핑몰을 운영하는 대상으로 타겟팅하여 프로모션할 필요성이 있음          \n",
    "\n",
    "\n",
    "# 아이디어\n",
    "- how(기업-4days) : 4월부터 이용이 많아질 상의, 하의, 드레스를 주축으로 대량 이용 고객에게 혜택을 주어야 함 (5+1) / 빠른 로테이션 필요\n",
    "- how(개인-주중) : 화수목 이용고객 프로모션(할인행사 - BA보다 의류쪽으로 행사)      \n",
    "- how(개인-휴일) : 7days 유입을 위한 고급아이템 추천 or 개인 코디네이팅 서비스?           \n",
    "- how(개인-전체) : BAG의 아이템 수를 늘려서 고객 확보         "
   ]
  },
  {
   "cell_type": "markdown",
   "metadata": {},
   "source": [
    "# 분석 인사이트 정리\n",
    "\n",
    "## 전체데이터\n",
    "- **화, 수, 목 에 해당하는 요일에 주문건수가 높다.**\n",
    "- 쉬는 날에는 4days타입보다 7days 타입을 더 많이 사용한다.\n",
    "- **모든 요일에서 BA를 선호한다.**\n",
    "- 대체로 앱에 유입된다.\n",
    "- 공휴일은 일수가 적지만, 비율로 보면 높은 편\n",
    "- 1에서 3월로 갈수록 커지는 전체 이용객 수\n",
    "- **2월에서 3월로 넘어갈 때 드레스 이용건수가 갑자기 커짐**\n",
    "- 3월로 넘어가며 아우터가 살짝 줄어듦\n",
    "- 상의, 하의의 비중도 조금씩 늘어나는 편\n",
    "- 대체로 주중에 많은 요일별 주문건수\n",
    "- 하지만 7days의 경우 휴일에 더 많은 이용\n",
    "- 주중 휴일 여부가 sub_type이나 app_yn 에는 영향을 주지 않는다.\n",
    "\n",
    "\n",
    "\n",
    "## 주중데이터 (전체 87%)\n",
    "- **화, 수, 목에 해당하는 날에 가장 주문이 많음** \n",
    "- 전체적인 추세가 모집단과 동일\n",
    "- 가장 선호하는 브랜드는 구찌 / 가장 선호하는 아이템은 입생로랑\n",
    "- **계절이 바뀜에 따라 선호하는 아이템 카테고리가 O에서 D로 바뀜 (1위는 BA)**\n",
    "- 선호하는 브랜드는 주중 데이터와 2개 정도 차이남 (대체로 일치)\n",
    "\n",
    "\n",
    "\n",
    "## 휴일데이터 (전체 13%)\n",
    "- **일요일 > 토요일 > 공휴일 순으로 주문이 많음**\n",
    "- 모집단과 달리 p_type이 7days가 높다\n",
    "- 휴일 데이터의 60%가 7days\n",
    "- 왜 토요일이 아닌 일요일지는 추측만 가능 (다음날 옷 걱정하면서 시키기)\n",
    "- 일반인이 7days를 시키는 게 4days보다 더 이득 (가격이 더 높음)\n",
    "- 7days 고객은 돈을 더 많이 써도 상관없다는 것 ==> 개인 커스터마이징된 서비스를 제공 (코디 등)\n",
    "\n",
    "\n",
    "## 우량고객 (3회 이상 사용 : 14%)\n",
    "- **우량고객은 7days를 자주 이용할 것이라는 예측은 틀림 (4days를 선호)**\n",
    "- 모집단이 BA를 선호하는 것과 달리, T,B,D가 압도적으로 높음\n",
    "- 3개 이상 / 8개 이상 이용하는 고객은 4days를 더 선호 ==> **로테이션이 빠르게 돌아가면 7days보다 이득을 얻을 수도 (1주 로테이션)**\n",
    "    - ex. 금요일에 시키면 월화수목 (1주 대여 로테이션 아이템 만들기?)\n",
    "- 우량고객의 경우 7+1과 같은 전략이 필요\n",
    "\n",
    "\n",
    "## 1회 이용고객 (74%)\n",
    "- 전체 고객 중 1월에 1번만 이용한 고객의 비율 : 19.0 %\n",
    "- 전체 고객 중 2월에 1번만 이용한 고객의 비율 : 23.0 %\n",
    "- 전체 고객 중 3월에 1번만 이용한 고객의 비율 : 33.0 %\n",
    "- 전체 분포와 달리 아이템 카데고리 중 TP를 선호하는 경향을 가짐"
   ]
  },
  {
   "cell_type": "code",
   "execution_count": null,
   "metadata": {},
   "outputs": [],
   "source": []
  },
  {
   "cell_type": "markdown",
   "metadata": {},
   "source": [
    "## 1. EDA 및 결측치 처리"
   ]
  },
  {
   "cell_type": "code",
   "execution_count": 1,
   "metadata": {},
   "outputs": [],
   "source": [
    "# 필요한 패키지는 추가로 설치하시면 됩니다!! \n",
    "import pandas as pd\n",
    "import numpy as np\n",
    "import matplotlib.pyplot as plt\n",
    "import seaborn as sns\n",
    "import os\n",
    "\n",
    "import warnings\n",
    "warnings.filterwarnings('ignore')"
   ]
  },
  {
   "cell_type": "code",
   "execution_count": 2,
   "metadata": {},
   "outputs": [],
   "source": [
    "## 시각화 폰트 설정 함수입니다.\n",
    "\n",
    "def get_font_family():\n",
    "    \"\"\"\n",
    "    시스템 환경에 따른 기본 폰트명을 반환하는 함수\n",
    "    \"\"\"\n",
    "    import platform\n",
    "    system_name = platform.system()\n",
    "    # colab 사용자는 system_name이 'Linux'로 확인\n",
    "\n",
    "    if system_name == \"Darwin\" :\n",
    "        font_family = \"AppleGothic\"\n",
    "    elif system_name == \"Windows\":\n",
    "        font_family = \"Malgun Gothic\"\n",
    "    else:\n",
    "        # Linux\n",
    "        # colab에서는 runtime을 <꼭> 재시작 해야함.\n",
    "        # 런타임을 재시작 하지 않고 폰트 설치를 하면 기본 설정 폰트가 로드되어 한글이 깨짐.\n",
    "        !apt-get update -qq\n",
    "        !apt-get install fonts-nanum -qq  > /dev/null\n",
    "\n",
    "        import matplotlib.font_manager as fm\n",
    "\n",
    "        fontpath = '/usr/share/fonts/truetype/nanum/NanumBarunGothic.ttf'\n",
    "        font = fm.FontProperties(fname=fontpath, size=9)\n",
    "        fm._rebuild()\n",
    "        font_family = \"NanumBarunGothic\"\n",
    "    return font_family"
   ]
  },
  {
   "cell_type": "code",
   "execution_count": 3,
   "metadata": {},
   "outputs": [],
   "source": [
    "# 시각화를 위한 폰트설정\n",
    "# 위에서 만든 함수를 통해 시스템 폰트를 불러와서 font_family 라는 변수에 할당.\n",
    "a = get_font_family()\n",
    "# 폰트설정\n",
    "import matplotlib.pyplot as plt \n",
    "plt.rc(\"font\", family = a)\n",
    "# 마이너스폰트 설정\n",
    "plt.rc(\"axes\", unicode_minus=False)\n",
    "# ggplot으로 그래프 스타일 설정\n",
    "#plt.style.use(\"ggplot\")"
   ]
  },
  {
   "cell_type": "code",
   "execution_count": 4,
   "metadata": {},
   "outputs": [],
   "source": [
    "# 데이터 불러오기\n",
    "df = pd.read_excel('./data/클로젯셰어_과제DB 대체 자료.xlsx')"
   ]
  },
  {
   "cell_type": "code",
   "execution_count": 5,
   "metadata": {},
   "outputs": [],
   "source": [
    "# brandnm 결측치 보완\n",
    "df['brandnm'].fillna(\"Mixed\", inplace=True) # TP는 전부 결측치 ==> Mixed로 수정\n",
    "\n",
    "# app_yn 결측치 보완\n",
    "df['app_yn'].fillna(\"N\", inplace=True) # 이용하지 않은 사람 ==> N으로 처리\n",
    "\n",
    "# 결측치 제거 ==> reg_data 누락 5개 삭제처리\n",
    "df = df.dropna(axis=0)\n",
    "\n",
    "# 인덱스 재설정 \n",
    "df = df.reset_index().drop(\"index\", axis=1)"
   ]
  },
  {
   "cell_type": "code",
   "execution_count": 6,
   "metadata": {},
   "outputs": [
    {
     "data": {
      "text/html": [
       "<div>\n",
       "<style scoped>\n",
       "    .dataframe tbody tr th:only-of-type {\n",
       "        vertical-align: middle;\n",
       "    }\n",
       "\n",
       "    .dataframe tbody tr th {\n",
       "        vertical-align: top;\n",
       "    }\n",
       "\n",
       "    .dataframe thead th {\n",
       "        text-align: right;\n",
       "    }\n",
       "</style>\n",
       "<table border=\"1\" class=\"dataframe\">\n",
       "  <thead>\n",
       "    <tr style=\"text-align: right;\">\n",
       "      <th></th>\n",
       "      <th>brandnm</th>\n",
       "      <th>goodsnm</th>\n",
       "      <th>USER</th>\n",
       "      <th>reg_date</th>\n",
       "      <th>order_date</th>\n",
       "      <th>p_type</th>\n",
       "      <th>sub_type</th>\n",
       "      <th>app_yn</th>\n",
       "      <th>days</th>\n",
       "    </tr>\n",
       "  </thead>\n",
       "  <tbody>\n",
       "    <tr>\n",
       "      <th>0</th>\n",
       "      <td>Gucci</td>\n",
       "      <td>flower dionysus shoulder bag beige</td>\n",
       "      <td>a161237</td>\n",
       "      <td>2019-12-06</td>\n",
       "      <td>2021-01-15</td>\n",
       "      <td>7days</td>\n",
       "      <td>BA</td>\n",
       "      <td>Y</td>\n",
       "      <td>4</td>\n",
       "    </tr>\n",
       "    <tr>\n",
       "      <th>1</th>\n",
       "      <td>El estilo de Claire</td>\n",
       "      <td>beads cropped jacket black</td>\n",
       "      <td>a1140859</td>\n",
       "      <td>2021-01-02</td>\n",
       "      <td>2021-01-15</td>\n",
       "      <td>4days</td>\n",
       "      <td>O</td>\n",
       "      <td>N</td>\n",
       "      <td>4</td>\n",
       "    </tr>\n",
       "    <tr>\n",
       "      <th>2</th>\n",
       "      <td>Danha</td>\n",
       "      <td>embroidery point oriental mini skirt blue</td>\n",
       "      <td>a1140859</td>\n",
       "      <td>2021-01-02</td>\n",
       "      <td>2021-01-15</td>\n",
       "      <td>4days</td>\n",
       "      <td>B</td>\n",
       "      <td>N</td>\n",
       "      <td>4</td>\n",
       "    </tr>\n",
       "    <tr>\n",
       "      <th>3</th>\n",
       "      <td>Danha</td>\n",
       "      <td>graphics pattern top pink</td>\n",
       "      <td>a1140859</td>\n",
       "      <td>2021-01-02</td>\n",
       "      <td>2021-01-15</td>\n",
       "      <td>4days</td>\n",
       "      <td>T</td>\n",
       "      <td>N</td>\n",
       "      <td>4</td>\n",
       "    </tr>\n",
       "    <tr>\n",
       "      <th>4</th>\n",
       "      <td>Burberry London</td>\n",
       "      <td>buckle basic pattern zipup-jumper navy</td>\n",
       "      <td>a1140740</td>\n",
       "      <td>2021-01-01</td>\n",
       "      <td>2021-01-15</td>\n",
       "      <td>7days</td>\n",
       "      <td>O</td>\n",
       "      <td>Y</td>\n",
       "      <td>4</td>\n",
       "    </tr>\n",
       "    <tr>\n",
       "      <th>...</th>\n",
       "      <td>...</td>\n",
       "      <td>...</td>\n",
       "      <td>...</td>\n",
       "      <td>...</td>\n",
       "      <td>...</td>\n",
       "      <td>...</td>\n",
       "      <td>...</td>\n",
       "      <td>...</td>\n",
       "      <td>...</td>\n",
       "    </tr>\n",
       "    <tr>\n",
       "      <th>1461</th>\n",
       "      <td>Yves Saint Laurent</td>\n",
       "      <td>logo point clutch bag pink</td>\n",
       "      <td>a119721</td>\n",
       "      <td>2019-04-10</td>\n",
       "      <td>2021-03-01</td>\n",
       "      <td>7days</td>\n",
       "      <td>BA</td>\n",
       "      <td>Y</td>\n",
       "      <td>0</td>\n",
       "    </tr>\n",
       "    <tr>\n",
       "      <th>1462</th>\n",
       "      <td>Prada</td>\n",
       "      <td>saffiano lux M gray</td>\n",
       "      <td>a1146069</td>\n",
       "      <td>2021-02-11</td>\n",
       "      <td>2021-03-01</td>\n",
       "      <td>7days</td>\n",
       "      <td>BA</td>\n",
       "      <td>Y</td>\n",
       "      <td>0</td>\n",
       "    </tr>\n",
       "    <tr>\n",
       "      <th>1463</th>\n",
       "      <td>Burberry</td>\n",
       "      <td>basic pattern sweater beige</td>\n",
       "      <td>a1147848</td>\n",
       "      <td>2021-02-28</td>\n",
       "      <td>2021-03-01</td>\n",
       "      <td>7days</td>\n",
       "      <td>T</td>\n",
       "      <td>Y</td>\n",
       "      <td>0</td>\n",
       "    </tr>\n",
       "    <tr>\n",
       "      <th>1464</th>\n",
       "      <td>Chanel</td>\n",
       "      <td>graphics pattern sweat-shirts white</td>\n",
       "      <td>a1147788</td>\n",
       "      <td>2021-02-28</td>\n",
       "      <td>2021-03-01</td>\n",
       "      <td>7days</td>\n",
       "      <td>T</td>\n",
       "      <td>Y</td>\n",
       "      <td>0</td>\n",
       "    </tr>\n",
       "    <tr>\n",
       "      <th>1465</th>\n",
       "      <td>Burberry</td>\n",
       "      <td>classic trench coat beige</td>\n",
       "      <td>a190054</td>\n",
       "      <td>2020-03-24</td>\n",
       "      <td>2021-03-01</td>\n",
       "      <td>4days</td>\n",
       "      <td>O</td>\n",
       "      <td>Y</td>\n",
       "      <td>0</td>\n",
       "    </tr>\n",
       "  </tbody>\n",
       "</table>\n",
       "<p>1466 rows × 9 columns</p>\n",
       "</div>"
      ],
      "text/plain": [
       "                  brandnm                                    goodsnm  \\\n",
       "0                   Gucci         flower dionysus shoulder bag beige   \n",
       "1     El estilo de Claire                 beads cropped jacket black   \n",
       "2                   Danha  embroidery point oriental mini skirt blue   \n",
       "3                   Danha                  graphics pattern top pink   \n",
       "4         Burberry London     buckle basic pattern zipup-jumper navy   \n",
       "...                   ...                                        ...   \n",
       "1461   Yves Saint Laurent                 logo point clutch bag pink   \n",
       "1462                Prada                        saffiano lux M gray   \n",
       "1463             Burberry                basic pattern sweater beige   \n",
       "1464               Chanel        graphics pattern sweat-shirts white   \n",
       "1465             Burberry                  classic trench coat beige   \n",
       "\n",
       "          USER   reg_date order_date p_type sub_type app_yn  days  \n",
       "0      a161237 2019-12-06 2021-01-15  7days       BA      Y     4  \n",
       "1     a1140859 2021-01-02 2021-01-15  4days        O      N     4  \n",
       "2     a1140859 2021-01-02 2021-01-15  4days        B      N     4  \n",
       "3     a1140859 2021-01-02 2021-01-15  4days        T      N     4  \n",
       "4     a1140740 2021-01-01 2021-01-15  7days        O      Y     4  \n",
       "...        ...        ...        ...    ...      ...    ...   ...  \n",
       "1461   a119721 2019-04-10 2021-03-01  7days       BA      Y     0  \n",
       "1462  a1146069 2021-02-11 2021-03-01  7days       BA      Y     0  \n",
       "1463  a1147848 2021-02-28 2021-03-01  7days        T      Y     0  \n",
       "1464  a1147788 2021-02-28 2021-03-01  7days        T      Y     0  \n",
       "1465   a190054 2020-03-24 2021-03-01  4days        O      Y     0  \n",
       "\n",
       "[1466 rows x 9 columns]"
      ]
     },
     "execution_count": 6,
     "metadata": {},
     "output_type": "execute_result"
    }
   ],
   "source": [
    "# 요일 표시 (0~6)\n",
    "df['days'] = df.order_date.dt.weekday  # 주문 요일 넣어주기 (월=0)\n",
    "df"
   ]
  },
  {
   "cell_type": "code",
   "execution_count": 7,
   "metadata": {},
   "outputs": [],
   "source": [
    "# 공휴일 표시 (공휴일==7)\n",
    "holiday_list = ['2021-01-01', '2021-02-11', '2021-02-12', '2021-02-13', '2021-03-01']\n",
    "\n",
    "for i in range(len(df)) :\n",
    "    if df['order_date'].loc[i].strftime('%Y-%m-%d') in holiday_list :\n",
    "        df['days'].loc[i] = 7"
   ]
  },
  {
   "cell_type": "code",
   "execution_count": 8,
   "metadata": {},
   "outputs": [],
   "source": [
    "# 주중 주말,공휴일 구분 ==> 주중과 휴일 2가지로 구분 (object)\n",
    "\n",
    "df['day_type'] = \"주중\"\n",
    "\n",
    "# day_type 주중 : 0 / 주말 : 1\n",
    "for num in range(len(df)) :\n",
    "    if df['days'].iloc[num] > 4 :\n",
    "        df['day_type'].iloc[num] = \"휴일\""
   ]
  },
  {
   "cell_type": "code",
   "execution_count": 9,
   "metadata": {},
   "outputs": [],
   "source": [
    "# 요일 한글로 바꾸자\n",
    "for day_num in range(len(df)) :\n",
    "    a = df['days'].iloc[day_num]\n",
    "    days=['월요일','화요일','수요일','목요일','금요일','토요일','일요일','공휴일']\n",
    "    df['days'].iloc[day_num] = days[a]"
   ]
  },
  {
   "cell_type": "code",
   "execution_count": 10,
   "metadata": {},
   "outputs": [
    {
     "data": {
      "text/html": [
       "<div>\n",
       "<style scoped>\n",
       "    .dataframe tbody tr th:only-of-type {\n",
       "        vertical-align: middle;\n",
       "    }\n",
       "\n",
       "    .dataframe tbody tr th {\n",
       "        vertical-align: top;\n",
       "    }\n",
       "\n",
       "    .dataframe thead th {\n",
       "        text-align: right;\n",
       "    }\n",
       "</style>\n",
       "<table border=\"1\" class=\"dataframe\">\n",
       "  <thead>\n",
       "    <tr style=\"text-align: right;\">\n",
       "      <th></th>\n",
       "      <th>brandnm</th>\n",
       "      <th>goodsnm</th>\n",
       "      <th>USER</th>\n",
       "      <th>reg_date</th>\n",
       "      <th>order_date</th>\n",
       "      <th>p_type</th>\n",
       "      <th>sub_type</th>\n",
       "      <th>app_yn</th>\n",
       "      <th>days</th>\n",
       "      <th>day_type</th>\n",
       "      <th>month</th>\n",
       "    </tr>\n",
       "  </thead>\n",
       "  <tbody>\n",
       "    <tr>\n",
       "      <th>0</th>\n",
       "      <td>Gucci</td>\n",
       "      <td>flower dionysus shoulder bag beige</td>\n",
       "      <td>a161237</td>\n",
       "      <td>2019-12-06</td>\n",
       "      <td>2021-01-15</td>\n",
       "      <td>7days</td>\n",
       "      <td>BA</td>\n",
       "      <td>Y</td>\n",
       "      <td>금요일</td>\n",
       "      <td>주중</td>\n",
       "      <td>01</td>\n",
       "    </tr>\n",
       "    <tr>\n",
       "      <th>1</th>\n",
       "      <td>El estilo de Claire</td>\n",
       "      <td>beads cropped jacket black</td>\n",
       "      <td>a1140859</td>\n",
       "      <td>2021-01-02</td>\n",
       "      <td>2021-01-15</td>\n",
       "      <td>4days</td>\n",
       "      <td>O</td>\n",
       "      <td>N</td>\n",
       "      <td>금요일</td>\n",
       "      <td>주중</td>\n",
       "      <td>01</td>\n",
       "    </tr>\n",
       "    <tr>\n",
       "      <th>2</th>\n",
       "      <td>Danha</td>\n",
       "      <td>embroidery point oriental mini skirt blue</td>\n",
       "      <td>a1140859</td>\n",
       "      <td>2021-01-02</td>\n",
       "      <td>2021-01-15</td>\n",
       "      <td>4days</td>\n",
       "      <td>B</td>\n",
       "      <td>N</td>\n",
       "      <td>금요일</td>\n",
       "      <td>주중</td>\n",
       "      <td>01</td>\n",
       "    </tr>\n",
       "    <tr>\n",
       "      <th>3</th>\n",
       "      <td>Danha</td>\n",
       "      <td>graphics pattern top pink</td>\n",
       "      <td>a1140859</td>\n",
       "      <td>2021-01-02</td>\n",
       "      <td>2021-01-15</td>\n",
       "      <td>4days</td>\n",
       "      <td>T</td>\n",
       "      <td>N</td>\n",
       "      <td>금요일</td>\n",
       "      <td>주중</td>\n",
       "      <td>01</td>\n",
       "    </tr>\n",
       "    <tr>\n",
       "      <th>4</th>\n",
       "      <td>Burberry London</td>\n",
       "      <td>buckle basic pattern zipup-jumper navy</td>\n",
       "      <td>a1140740</td>\n",
       "      <td>2021-01-01</td>\n",
       "      <td>2021-01-15</td>\n",
       "      <td>7days</td>\n",
       "      <td>O</td>\n",
       "      <td>Y</td>\n",
       "      <td>금요일</td>\n",
       "      <td>주중</td>\n",
       "      <td>01</td>\n",
       "    </tr>\n",
       "  </tbody>\n",
       "</table>\n",
       "</div>"
      ],
      "text/plain": [
       "               brandnm                                    goodsnm      USER  \\\n",
       "0                Gucci         flower dionysus shoulder bag beige   a161237   \n",
       "1  El estilo de Claire                 beads cropped jacket black  a1140859   \n",
       "2                Danha  embroidery point oriental mini skirt blue  a1140859   \n",
       "3                Danha                  graphics pattern top pink  a1140859   \n",
       "4      Burberry London     buckle basic pattern zipup-jumper navy  a1140740   \n",
       "\n",
       "    reg_date order_date p_type sub_type app_yn days day_type month  \n",
       "0 2019-12-06 2021-01-15  7days       BA      Y  금요일       주중    01  \n",
       "1 2021-01-02 2021-01-15  4days        O      N  금요일       주중    01  \n",
       "2 2021-01-02 2021-01-15  4days        B      N  금요일       주중    01  \n",
       "3 2021-01-02 2021-01-15  4days        T      N  금요일       주중    01  \n",
       "4 2021-01-01 2021-01-15  7days        O      Y  금요일       주중    01  "
      ]
     },
     "metadata": {},
     "output_type": "display_data"
    }
   ],
   "source": [
    "# 월단위 만들기 ==> object\n",
    "df['month'] = df.order_date.dt.strftime('%m')\n",
    "display(df.head())"
   ]
  },
  {
   "cell_type": "code",
   "execution_count": 11,
   "metadata": {},
   "outputs": [],
   "source": [
    "# 이용일까지 걸린 시간 컬럼 만들기\n",
    "df['How_long'] = df['order_date'] - df['reg_date']\n",
    "# timedelta가 아닌 int 형으로 바꾸기 \n",
    "df['How_long'] = df['How_long'].dt.days"
   ]
  },
  {
   "cell_type": "code",
   "execution_count": null,
   "metadata": {},
   "outputs": [],
   "source": []
  },
  {
   "cell_type": "markdown",
   "metadata": {},
   "source": [
    "## 2. 전체 데이터 시각화"
   ]
  },
  {
   "cell_type": "code",
   "execution_count": 12,
   "metadata": {},
   "outputs": [
    {
     "data": {
      "image/png": "[encoded data removed]",
      "text/plain": [
       "<Figure size 1080x720 with 4 Axes>"
      ]
     },
     "metadata": {
      "needs_background": "light"
     },
     "output_type": "display_data"
    }
   ],
   "source": [
    "# 아람님 코드\n",
    "\n",
    "# 2021년 1분기 전체 이용객 요일별 분류\n",
    "\n",
    "f, ax  = plt.subplots(2,2,figsize=(15,10))\n",
    "plt.subplot(221)\n",
    "sns.countplot(data=df, x='days')\n",
    "plt.title('요일별 주문 건수')\n",
    "\n",
    "plt.subplot(222)\n",
    "sns.countplot(data=df, x='day_type', hue='p_type')\n",
    "plt.title('p_type별 요일별 주문건')\n",
    "\n",
    "plt.subplot(223)\n",
    "sns.countplot(data=df, x='days', hue='sub_type')\n",
    "plt.title('sub_type별 요일별 주문건')\n",
    "\n",
    "plt.subplot(224)\n",
    "sns.countplot(data=df, x='days', hue='app_yn')\n",
    "plt.title('앱 유입여부')\n",
    "\n",
    "plt.suptitle('2021년 1분기 전체 요일별 이용객 분류',fontsize=30, fontweight = 'bold')\n",
    "plt.show()\n"
   ]
  },
  {
   "cell_type": "code",
   "execution_count": 13,
   "metadata": {},
   "outputs": [
    {
     "data": {
      "image/png": "[encoded data removed]",
      "text/plain": [
       "<Figure size 1080x720 with 4 Axes>"
      ]
     },
     "metadata": {
      "needs_background": "light"
     },
     "output_type": "display_data"
    }
   ],
   "source": [
    "# 2021년 1분기 전체 이용객 분류\n",
    "\n",
    "f, ax  = plt.subplots(2,2,figsize=(15,10))\n",
    "plt.subplot(221)\n",
    "sns.countplot(data=df, x='month')\n",
    "plt.title('월별 주문 건수')\n",
    "\n",
    "plt.subplot(222)\n",
    "sns.countplot(data=df, x='month', hue='p_type')\n",
    "plt.title('p_type별 월별 주문건')\n",
    "\n",
    "plt.subplot(223)\n",
    "sns.countplot(data=df, x='month', hue='sub_type')\n",
    "plt.title('sub_type별 월별 주문건')\n",
    "\n",
    "plt.subplot(224)\n",
    "sns.countplot(data=df, x='month', hue='app_yn')\n",
    "plt.title('월별 앱 유입여부')\n",
    "\n",
    "plt.suptitle('2021년 1분기 전체 월별 이용객 분류',fontsize=30, fontweight = 'bold')\n",
    "plt.show()\n"
   ]
  },
  {
   "cell_type": "code",
   "execution_count": 14,
   "metadata": {},
   "outputs": [
    {
     "data": {
      "image/png": "[encoded data removed]",
      "text/plain": [
       "<Figure size 1080x720 with 4 Axes>"
      ]
     },
     "metadata": {
      "needs_background": "light"
     },
     "output_type": "display_data"
    }
   ],
   "source": [
    "# 2021년 1분기 전체 이용객 분류\n",
    "\n",
    "f, ax  = plt.subplots(2,2,figsize=(15,10))\n",
    "plt.subplot(221)\n",
    "sns.countplot(data=df, x='day_type')\n",
    "plt.title('휴무에 따른 주문 건수')\n",
    "\n",
    "plt.subplot(222)\n",
    "sns.countplot(data=df, x='day_type', hue='p_type')\n",
    "plt.title('p_type별 휴무에 따른 주문건')\n",
    "\n",
    "plt.subplot(223)\n",
    "sns.countplot(data=df, x='day_type', hue='sub_type')\n",
    "plt.title('sub_type별 휴무에 따른 주문건')\n",
    "\n",
    "plt.subplot(224)\n",
    "sns.countplot(data=df, x='day_type', hue='app_yn')\n",
    "plt.title('앱 유입여부')\n",
    "\n",
    "plt.suptitle('2021년 1분기 전체 휴무에 따른 이용객 분류',fontsize=30, fontweight = 'bold')\n",
    "plt.show()\n"
   ]
  },
  {
   "cell_type": "code",
   "execution_count": 15,
   "metadata": {},
   "outputs": [
    {
     "data": {
      "text/plain": [
       "Gucci                 230\n",
       "Chanel                 90\n",
       "Saint Laurent          86\n",
       "Louis Vuitton          79\n",
       "Prada                  58\n",
       "Burberry               53\n",
       "Yves Saint Laurent     38\n",
       "Thom Browne            33\n",
       "Mixed                  29\n",
       "Celine                 28\n",
       "Name: brandnm, dtype: int64"
      ]
     },
     "execution_count": 15,
     "metadata": {},
     "output_type": "execute_result"
    }
   ],
   "source": [
    "# 유저가 가장 선호 브랜드 top 10\n",
    "df['brandnm'].value_counts().head(10) "
   ]
  },
  {
   "cell_type": "code",
   "execution_count": 16,
   "metadata": {},
   "outputs": [
    {
     "data": {
      "text/plain": [
       "BA    688\n",
       "O     266\n",
       "D     261\n",
       "T     164\n",
       "B      58\n",
       "Name: sub_type, dtype: int64"
      ]
     },
     "execution_count": 16,
     "metadata": {},
     "output_type": "execute_result"
    }
   ],
   "source": [
    "# 유저가 가장 선호하는 카테고리 top 5\n",
    "df['sub_type'].value_counts().head(5)"
   ]
  },
  {
   "cell_type": "markdown",
   "metadata": {},
   "source": [
    "### 좀더 깊게 들어가봅시다.\n",
    "### 왜 사람들은 주중에 더 많이 빌릴까요?\n",
    "\n",
    "![배송기간](./data/배송기간.PNG)\n",
    "\n",
    "### 배송기간을 고려할 때, 실이용기간은 1~2일 뒤로 보는 것이 더 합리적입니다.\n",
    "\n",
    "### 그럼 보통 사람들은 어떻게 이용할까요?\n",
    "![대여기준1](./data/대여기준1.PNG)\n",
    "\n",
    "### 실제로 반납기준을 보면 주말에 반납기간이 끝나더라도 수거는 월요일에 진행됩니다.\n",
    "![반납일](./data/반납일.PNG)"
   ]
  },
  {
   "cell_type": "markdown",
   "metadata": {},
   "source": [
    "### 정리\n",
    "- 일반 유저의 입장에서 토요일에 결제일이 완료되면, 일요일까지 쓸 수 있습니다. (이용일을 늘리는 효과)\n",
    "- 또한 금,토,일 과 같이 여유시간이 많은 요일에 클로젯셰어 아이템을 이용할 기회가 많다고 판단됩니다."
   ]
  },
  {
   "cell_type": "markdown",
   "metadata": {},
   "source": [
    "## 3. 주중 데이터 시각화 및 분석\n",
    "- 화수목에 자주 이용\n",
    "- 주중 이용패턴은 어떻게 되는가?\n",
    "- 화수목과 이용패턴을 연결하여 promotion idea 도출\n"
   ]
  },
  {
   "cell_type": "code",
   "execution_count": 17,
   "metadata": {},
   "outputs": [],
   "source": [
    "# 주중 데이터만으로 분석을 좀 더 진행해봅시다.\n",
    "df_weekday = df[df['day_type']==\"주중\"]"
   ]
  },
  {
   "cell_type": "code",
   "execution_count": 18,
   "metadata": {},
   "outputs": [
    {
     "data": {
      "image/png": "[encoded data removed]",
      "text/plain": [
       "<Figure size 1080x720 with 4 Axes>"
      ]
     },
     "metadata": {
      "needs_background": "light"
     },
     "output_type": "display_data"
    }
   ],
   "source": [
    "# 주중 데이터만으로 분석을 좀 더 진행해봅시다.\n",
    "df_weekday = df[df['day_type']==\"주중\"]\n",
    "\n",
    "# 2021년 1분기 주중고객 요일별 분류\n",
    "f, ax  = plt.subplots(2,2,figsize=(15,10))\n",
    "plt.subplot(221)\n",
    "sns.countplot(data=df_weekday, x='days')\n",
    "plt.title('주중 주문 건수')\n",
    "\n",
    "plt.subplot(222)\n",
    "sns.countplot(data=df_weekday, x='day_type', hue='p_type') # 4일권과 40개 정도 차이\n",
    "plt.title('p_type별 주중 주문건')\n",
    "\n",
    "plt.subplot(223)\n",
    "sns.countplot(data=df_weekday, x='day_type', hue='sub_type')\n",
    "plt.title('sub_type별 주중 주문건')\n",
    "\n",
    "plt.subplot(224)\n",
    "sns.countplot(data=df_weekday, x='day_type', hue='app_yn')\n",
    "plt.title('앱 유입여부')\n",
    "\n",
    "plt.suptitle('2021년 1분기 주중 고객 분류',fontsize=30, fontweight = 'bold')\n",
    "plt.show()"
   ]
  },
  {
   "cell_type": "code",
   "execution_count": 19,
   "metadata": {},
   "outputs": [],
   "source": [
    "# 선호하는 브랜드는 ?\n",
    "df_weekday['brandnm'].value_counts().head(10)\n",
    "weekday_brand = df_weekday['brandnm'].value_counts().head(10).keys()"
   ]
  },
  {
   "cell_type": "code",
   "execution_count": 20,
   "metadata": {
    "scrolled": true
   },
   "outputs": [
    {
     "data": {
      "text/plain": [
       "Gucci                 196\n",
       "Saint Laurent          77\n",
       "Chanel                 73\n",
       "Louis Vuitton          67\n",
       "Prada                  52\n",
       "Burberry               42\n",
       "Thom Browne            31\n",
       "Yves Saint Laurent     31\n",
       "Celine                 26\n",
       "Mixed                  25\n",
       "Name: brandnm, dtype: int64"
      ]
     },
     "execution_count": 20,
     "metadata": {},
     "output_type": "execute_result"
    }
   ],
   "source": [
    "# 주중 가장 선호 브랜드 top 10\n",
    "df_weekday['brandnm'].value_counts().head(10)"
   ]
  },
  {
   "cell_type": "code",
   "execution_count": 21,
   "metadata": {},
   "outputs": [
    {
     "data": {
      "text/plain": [
       "chevron quilted cross bag black    21\n",
       "classic clutch black               11\n",
       "boy chanel clutch black             9\n",
       "dionysus shoulder bag beige         8\n",
       "mini sunset chain bag black         8\n",
       "flap cross bag black                7\n",
       "dionysus cross bag beige            7\n",
       "padlock GG canvas shoulder bag      7\n",
       "monogram clutch brown               6\n",
       "quilted calfskin shoulder bag       5\n",
       "Name: goodsnm, dtype: int64"
      ]
     },
     "execution_count": 21,
     "metadata": {},
     "output_type": "execute_result"
    }
   ],
   "source": [
    "# 주중 가장 선호 아이템 top 10\n",
    "df_weekday['goodsnm'].value_counts().head(10)\n",
    "\n",
    "# chevron quilted cross bag black 이건 도대체 어떤 상품일까 ==> 입생로랑"
   ]
  },
  {
   "cell_type": "code",
   "execution_count": 22,
   "metadata": {},
   "outputs": [],
   "source": [
    "# 주중 데이터만으로 분석을 좀 더 진행해봅시다.\n",
    "df_weekday = df[df['day_type']==\"주중\"]\n",
    "\n",
    "## 주중 데이터 월별 분석\n",
    "# 주중 데이터만으로 분석을 좀 더 진행해봅시다.\n",
    "df_weekday_month_1 = df_weekday[df_weekday['month']==\"01\"]\n",
    "df_weekday_month_2 = df_weekday[df_weekday['month']==\"02\"]\n",
    "df_weekday_month_3 = df_weekday[df_weekday['month']==\"03\"]"
   ]
  },
  {
   "cell_type": "code",
   "execution_count": 23,
   "metadata": {},
   "outputs": [
    {
     "data": {
      "text/plain": [
       "BA    128\n",
       "O      72\n",
       "D      54\n",
       "T      51\n",
       "TP      7\n",
       "Name: sub_type, dtype: int64"
      ]
     },
     "execution_count": 23,
     "metadata": {},
     "output_type": "execute_result"
    }
   ],
   "source": [
    "# 주중 데이터 중 1월 이용자가 가장 선호하는 카테고리 top 5\n",
    "df_weekday_month_1['sub_type'].value_counts().head(5)"
   ]
  },
  {
   "cell_type": "code",
   "execution_count": 24,
   "metadata": {},
   "outputs": [
    {
     "data": {
      "text/plain": [
       "BA    205\n",
       "O      84\n",
       "D      63\n",
       "T      34\n",
       "TP      7\n",
       "Name: sub_type, dtype: int64"
      ]
     },
     "execution_count": 24,
     "metadata": {},
     "output_type": "execute_result"
    }
   ],
   "source": [
    "# 주중 데이터 중 2월 이용자가 가장 선호하는 카테고리 top 5\n",
    "df_weekday_month_2['sub_type'].value_counts().head(5)"
   ]
  },
  {
   "cell_type": "code",
   "execution_count": 25,
   "metadata": {},
   "outputs": [
    {
     "data": {
      "text/plain": [
       "BA    264\n",
       "D     114\n",
       "O      68\n",
       "T      59\n",
       "B      36\n",
       "Name: sub_type, dtype: int64"
      ]
     },
     "execution_count": 25,
     "metadata": {},
     "output_type": "execute_result"
    }
   ],
   "source": [
    "# 주중 데이터 중 3월 이용자가 가장 선호하는 카테고리 top 5\n",
    "df_weekday_month_3['sub_type'].value_counts().head(5) # 3월에 D가 O를 역전"
   ]
  },
  {
   "cell_type": "code",
   "execution_count": null,
   "metadata": {},
   "outputs": [],
   "source": []
  },
  {
   "cell_type": "markdown",
   "metadata": {},
   "source": [
    "## 4. 주말 데이터 시각화 및 분석\n",
    "- 7days가 더 많은 이용패턴\n",
    "- 왜 7days가 더 많을까에 대한 이유 찾기\n",
    "- 7days가 더 많은까에 대한 이유가 우량고객과 관련이 있는가? ==> 3개 이상 이용을 우량고객으로 보았을 때 X\n",
    "- 어떻게 프로모션 할 것인가\n"
   ]
  },
  {
   "cell_type": "code",
   "execution_count": 26,
   "metadata": {},
   "outputs": [],
   "source": [
    "# 반대로 주말에는 7days의 이용권이 높은 편입니다.\n",
    "df_weekend = df[df['day_type']==\"휴일\"]"
   ]
  },
  {
   "cell_type": "code",
   "execution_count": 27,
   "metadata": {},
   "outputs": [
    {
     "data": {
      "image/png": "[encoded data removed]",
      "text/plain": [
       "<Figure size 1080x720 with 4 Axes>"
      ]
     },
     "metadata": {
      "needs_background": "light"
     },
     "output_type": "display_data"
    }
   ],
   "source": [
    "# 반대로 주말에는 7days의 이용권이 높은 편입니다.\n",
    "df_weekend = df[df['day_type']==\"휴일\"]\n",
    "\n",
    "# 2021년 1분기 주말고객 분류\n",
    "f, ax  = plt.subplots(2,2,figsize=(15,10))\n",
    "plt.subplot(221)\n",
    "sns.countplot(data=df_weekend, x='days')\n",
    "plt.title('주말 주문 건수')\n",
    "\n",
    "plt.subplot(222)\n",
    "sns.countplot(data=df_weekend, x='day_type', hue='p_type') # 4일권과 40개 정도 차이\n",
    "plt.title('p_type별 주말 주문건')\n",
    "\n",
    "plt.subplot(223)\n",
    "sns.countplot(data=df_weekend, x='day_type', hue='sub_type')\n",
    "plt.title('sub_type별 주말 주문건')\n",
    "\n",
    "plt.subplot(224)\n",
    "sns.countplot(data=df_weekend, x='day_type', hue='app_yn')\n",
    "plt.title('앱 유입여부')\n",
    "\n",
    "plt.suptitle('2021년 1분기 주말 고객 분류',fontsize=30, fontweight = 'bold')\n",
    "plt.show()\n",
    "\n",
    "\n",
    "## 월요일부터 이용하기 위해 토요일, 일요일 주문\n",
    "## "
   ]
  },
  {
   "cell_type": "code",
   "execution_count": 28,
   "metadata": {},
   "outputs": [],
   "source": [
    "# 선호하는 브랜드는 ?\n",
    "df_weekend['brandnm'].value_counts().head(10)\n",
    "weekend_brand = df_weekend['brandnm'].value_counts().head(10).keys()"
   ]
  },
  {
   "cell_type": "code",
   "execution_count": 29,
   "metadata": {},
   "outputs": [],
   "source": [
    "# set(weekday_brand) - set(weekend_brand) # 2개 출력"
   ]
  },
  {
   "cell_type": "code",
   "execution_count": 30,
   "metadata": {},
   "outputs": [
    {
     "data": {
      "text/plain": [
       "Gucci                 34\n",
       "Chanel                17\n",
       "Louis Vuitton         12\n",
       "Burberry              11\n",
       "Saint Laurent          9\n",
       "Yves Saint Laurent     7\n",
       "Fendi                  6\n",
       "Prada                  6\n",
       "Mixed                  4\n",
       "Lucky Chouette         4\n",
       "Name: brandnm, dtype: int64"
      ]
     },
     "execution_count": 30,
     "metadata": {},
     "output_type": "execute_result"
    }
   ],
   "source": [
    "# 주말 가장 선호 브랜드 top 10\n",
    "df_weekend['brandnm'].value_counts().head(10)"
   ]
  },
  {
   "cell_type": "code",
   "execution_count": 31,
   "metadata": {},
   "outputs": [
    {
     "data": {
      "text/plain": [
       "kate small monogram bag beige           3\n",
       "epi tote bag black                      3\n",
       "chevron quilted cross bag black         2\n",
       "quilted shoulder bag black              2\n",
       "monogram envelope chain cross bag       2\n",
       "sylvie mini chain ribbon bag white      2\n",
       "double button long coat white           2\n",
       "padlock GG canvas shoulder bag          2\n",
       "belt basic pattern trench-coat beige    2\n",
       "vintage web shoulder bag black          2\n",
       "Name: goodsnm, dtype: int64"
      ]
     },
     "execution_count": 31,
     "metadata": {},
     "output_type": "execute_result"
    }
   ],
   "source": [
    "# 주말 가장 선호 아이템 top 10\n",
    "df_weekend['goodsnm'].value_counts().head(10)\n",
    "\n",
    "## 큰 차이 없음"
   ]
  },
  {
   "cell_type": "code",
   "execution_count": 32,
   "metadata": {},
   "outputs": [
    {
     "data": {
      "text/plain": [
       "BA    91\n",
       "O     42\n",
       "D     30\n",
       "T     20\n",
       "B      8\n",
       "Name: sub_type, dtype: int64"
      ]
     },
     "execution_count": 32,
     "metadata": {},
     "output_type": "execute_result"
    }
   ],
   "source": [
    "# 주말 가장 선호 아이템 카테고리 top 5\n",
    "df_weekend['sub_type'].value_counts().head(5)\n",
    "\n",
    "# 백이 가장 많음"
   ]
  },
  {
   "cell_type": "code",
   "execution_count": 33,
   "metadata": {},
   "outputs": [],
   "source": [
    "## 주말 데이터 월별 분석\n",
    "# 주말 데이터만으로 분석을 좀 더 진행해봅시다.\n",
    "df_weekend_month_1 = df_weekend[df_weekend['month']==\"01\"]\n",
    "df_weekend_month_2 = df_weekend[df_weekend['month']==\"02\"]\n",
    "df_weekend_month_3 = df_weekend[df_weekend['month']==\"03\"]"
   ]
  },
  {
   "cell_type": "code",
   "execution_count": 34,
   "metadata": {},
   "outputs": [
    {
     "data": {
      "text/plain": [
       "BA    19\n",
       "D     10\n",
       "O     10\n",
       "T      9\n",
       "B      4\n",
       "Name: sub_type, dtype: int64"
      ]
     },
     "execution_count": 34,
     "metadata": {},
     "output_type": "execute_result"
    }
   ],
   "source": [
    "# 주말 데이터 중 1월 이용자가 가장 선호하는 카테고리 top 5\n",
    "df_weekend_month_1['sub_type'].value_counts().head(5)"
   ]
  },
  {
   "cell_type": "code",
   "execution_count": 35,
   "metadata": {},
   "outputs": [
    {
     "data": {
      "text/plain": [
       "BA    27\n",
       "O     13\n",
       "D      6\n",
       "T      5\n",
       "B      2\n",
       "Name: sub_type, dtype: int64"
      ]
     },
     "execution_count": 35,
     "metadata": {},
     "output_type": "execute_result"
    }
   ],
   "source": [
    "# 주말 데이터 중 2월 이용자가 가장 선호하는 카테고리 top 5\n",
    "df_weekend_month_2['sub_type'].value_counts().head(5)"
   ]
  },
  {
   "cell_type": "code",
   "execution_count": 36,
   "metadata": {},
   "outputs": [
    {
     "data": {
      "text/plain": [
       "BA    45\n",
       "O     19\n",
       "D     14\n",
       "T      6\n",
       "B      2\n",
       "Name: sub_type, dtype: int64"
      ]
     },
     "execution_count": 36,
     "metadata": {},
     "output_type": "execute_result"
    }
   ],
   "source": [
    "# 주말 데이터 중 3월 이용자가 가장 선호하는 카테고리 top 5\n",
    "df_weekend_month_3['sub_type'].value_counts().head(5) # 아우터가 여전히 상위권을 유지"
   ]
  },
  {
   "cell_type": "code",
   "execution_count": null,
   "metadata": {},
   "outputs": [],
   "source": []
  },
  {
   "cell_type": "code",
   "execution_count": null,
   "metadata": {},
   "outputs": [],
   "source": []
  },
  {
   "cell_type": "markdown",
   "metadata": {},
   "source": [
    "### 왜 7days가 많을까"
   ]
  },
  {
   "cell_type": "code",
   "execution_count": 37,
   "metadata": {},
   "outputs": [],
   "source": [
    "df_weekend_7days = df_weekend[df_weekend['p_type']==\"7days\"]"
   ]
  },
  {
   "cell_type": "code",
   "execution_count": 38,
   "metadata": {},
   "outputs": [
    {
     "data": {
      "text/html": [
       "<div>\n",
       "<style scoped>\n",
       "    .dataframe tbody tr th:only-of-type {\n",
       "        vertical-align: middle;\n",
       "    }\n",
       "\n",
       "    .dataframe tbody tr th {\n",
       "        vertical-align: top;\n",
       "    }\n",
       "\n",
       "    .dataframe thead th {\n",
       "        text-align: right;\n",
       "    }\n",
       "</style>\n",
       "<table border=\"1\" class=\"dataframe\">\n",
       "  <thead>\n",
       "    <tr style=\"text-align: right;\">\n",
       "      <th></th>\n",
       "      <th>brandnm</th>\n",
       "      <th>goodsnm</th>\n",
       "      <th>USER</th>\n",
       "      <th>reg_date</th>\n",
       "      <th>order_date</th>\n",
       "      <th>p_type</th>\n",
       "      <th>sub_type</th>\n",
       "      <th>app_yn</th>\n",
       "      <th>days</th>\n",
       "      <th>day_type</th>\n",
       "      <th>month</th>\n",
       "      <th>How_long</th>\n",
       "    </tr>\n",
       "  </thead>\n",
       "  <tbody>\n",
       "    <tr>\n",
       "      <th>66</th>\n",
       "      <td>Michaa</td>\n",
       "      <td>slit basic pattern skirt white</td>\n",
       "      <td>a1140758</td>\n",
       "      <td>2021-01-01</td>\n",
       "      <td>2021-01-10</td>\n",
       "      <td>7days</td>\n",
       "      <td>B</td>\n",
       "      <td>Y</td>\n",
       "      <td>일요일</td>\n",
       "      <td>휴일</td>\n",
       "      <td>01</td>\n",
       "      <td>9</td>\n",
       "    </tr>\n",
       "    <tr>\n",
       "      <th>67</th>\n",
       "      <td>Saint Laurent</td>\n",
       "      <td>button basic pattern blazer black</td>\n",
       "      <td>a1140758</td>\n",
       "      <td>2021-01-01</td>\n",
       "      <td>2021-01-10</td>\n",
       "      <td>7days</td>\n",
       "      <td>O</td>\n",
       "      <td>Y</td>\n",
       "      <td>일요일</td>\n",
       "      <td>휴일</td>\n",
       "      <td>01</td>\n",
       "      <td>9</td>\n",
       "    </tr>\n",
       "    <tr>\n",
       "      <th>68</th>\n",
       "      <td>Vivienne Westwood Red Label</td>\n",
       "      <td>check pattern unbalance skirt ivory</td>\n",
       "      <td>a1140758</td>\n",
       "      <td>2021-01-01</td>\n",
       "      <td>2021-01-10</td>\n",
       "      <td>7days</td>\n",
       "      <td>B</td>\n",
       "      <td>Y</td>\n",
       "      <td>일요일</td>\n",
       "      <td>휴일</td>\n",
       "      <td>01</td>\n",
       "      <td>9</td>\n",
       "    </tr>\n",
       "    <tr>\n",
       "      <th>69</th>\n",
       "      <td>Vivienne Westwood</td>\n",
       "      <td>pocket stripe pattern jacket</td>\n",
       "      <td>a1140758</td>\n",
       "      <td>2021-01-01</td>\n",
       "      <td>2021-01-10</td>\n",
       "      <td>7days</td>\n",
       "      <td>O</td>\n",
       "      <td>Y</td>\n",
       "      <td>일요일</td>\n",
       "      <td>휴일</td>\n",
       "      <td>01</td>\n",
       "      <td>9</td>\n",
       "    </tr>\n",
       "    <tr>\n",
       "      <th>70</th>\n",
       "      <td>MSGM</td>\n",
       "      <td>basic pattern top black</td>\n",
       "      <td>a1140758</td>\n",
       "      <td>2021-01-01</td>\n",
       "      <td>2021-01-10</td>\n",
       "      <td>7days</td>\n",
       "      <td>T</td>\n",
       "      <td>Y</td>\n",
       "      <td>일요일</td>\n",
       "      <td>휴일</td>\n",
       "      <td>01</td>\n",
       "      <td>9</td>\n",
       "    </tr>\n",
       "  </tbody>\n",
       "</table>\n",
       "</div>"
      ],
      "text/plain": [
       "                        brandnm                              goodsnm  \\\n",
       "66                       Michaa       slit basic pattern skirt white   \n",
       "67                Saint Laurent    button basic pattern blazer black   \n",
       "68  Vivienne Westwood Red Label  check pattern unbalance skirt ivory   \n",
       "69            Vivienne Westwood         pocket stripe pattern jacket   \n",
       "70                         MSGM              basic pattern top black   \n",
       "\n",
       "        USER   reg_date order_date p_type sub_type app_yn days day_type month  \\\n",
       "66  a1140758 2021-01-01 2021-01-10  7days        B      Y  일요일       휴일    01   \n",
       "67  a1140758 2021-01-01 2021-01-10  7days        O      Y  일요일       휴일    01   \n",
       "68  a1140758 2021-01-01 2021-01-10  7days        B      Y  일요일       휴일    01   \n",
       "69  a1140758 2021-01-01 2021-01-10  7days        O      Y  일요일       휴일    01   \n",
       "70  a1140758 2021-01-01 2021-01-10  7days        T      Y  일요일       휴일    01   \n",
       "\n",
       "    How_long  \n",
       "66         9  \n",
       "67         9  \n",
       "68         9  \n",
       "69         9  \n",
       "70         9  "
      ]
     },
     "metadata": {},
     "output_type": "display_data"
    }
   ],
   "source": [
    "display(df_weekend_7days.head())"
   ]
  },
  {
   "cell_type": "code",
   "execution_count": 39,
   "metadata": {},
   "outputs": [],
   "source": [
    "# 데이터 내부 살펴보기 함수\n",
    "def search_data(df):\n",
    "    print(\"유니크값 확인 :\")\n",
    "    for col in df.columns:\n",
    "        print(f\"column : {col}\")\n",
    "        print(f\"The number of unique : {df[col].nunique()}\")\n",
    "        print()\n",
    "        print(df[col].value_counts().head(5))\n",
    "        print()\n",
    "        print(\"=========================================================\")"
   ]
  },
  {
   "cell_type": "code",
   "execution_count": 40,
   "metadata": {
    "scrolled": false
   },
   "outputs": [
    {
     "name": "stdout",
     "output_type": "stream",
     "text": [
      "유니크값 확인 :\n",
      "column : brandnm\n",
      "The number of unique : 41\n",
      "\n",
      "Gucci                 23\n",
      "Chanel                16\n",
      "Louis Vuitton          9\n",
      "Burberry               8\n",
      "Yves Saint Laurent     6\n",
      "Name: brandnm, dtype: int64\n",
      "\n",
      "=========================================================\n",
      "column : goodsnm\n",
      "The number of unique : 106\n",
      "\n",
      "epi tote bag black                   3\n",
      "chevron quilted cross bag black      2\n",
      "quilted shoulder bag black           2\n",
      "kate small monogram bag beige        2\n",
      "monogram envelope chain cross bag    2\n",
      "Name: goodsnm, dtype: int64\n",
      "\n",
      "=========================================================\n",
      "column : USER\n",
      "The number of unique : 102\n",
      "\n",
      "a1140758    5\n",
      "a157879     4\n",
      "a1147589    3\n",
      "a163815     2\n",
      "a145138     2\n",
      "Name: USER, dtype: int64\n",
      "\n",
      "=========================================================\n",
      "column : reg_date\n",
      "The number of unique : 70\n",
      "\n",
      "2021-01-01    5\n",
      "2021-03-13    5\n",
      "2021-03-01    4\n",
      "2021-02-28    4\n",
      "2019-11-23    4\n",
      "Name: reg_date, dtype: int64\n",
      "\n",
      "=========================================================\n",
      "column : order_date\n",
      "The number of unique : 30\n",
      "\n",
      "2021-03-28    11\n",
      "2021-03-01    11\n",
      "2021-02-28     8\n",
      "2021-03-20     7\n",
      "2021-01-10     6\n",
      "Name: order_date, dtype: int64\n",
      "\n",
      "=========================================================\n",
      "column : p_type\n",
      "The number of unique : 1\n",
      "\n",
      "7days    116\n",
      "Name: p_type, dtype: int64\n",
      "\n",
      "=========================================================\n",
      "column : sub_type\n",
      "The number of unique : 6\n",
      "\n",
      "BA    63\n",
      "O     26\n",
      "D     13\n",
      "T      9\n",
      "B      4\n",
      "Name: sub_type, dtype: int64\n",
      "\n",
      "=========================================================\n",
      "column : app_yn\n",
      "The number of unique : 2\n",
      "\n",
      "Y    106\n",
      "N     10\n",
      "Name: app_yn, dtype: int64\n",
      "\n",
      "=========================================================\n",
      "column : days\n",
      "The number of unique : 3\n",
      "\n",
      "일요일    63\n",
      "토요일    32\n",
      "공휴일    21\n",
      "Name: days, dtype: int64\n",
      "\n",
      "=========================================================\n",
      "column : day_type\n",
      "The number of unique : 1\n",
      "\n",
      "휴일    116\n",
      "Name: day_type, dtype: int64\n",
      "\n",
      "=========================================================\n",
      "column : month\n",
      "The number of unique : 3\n",
      "\n",
      "03    54\n",
      "02    33\n",
      "01    29\n",
      "Name: month, dtype: int64\n",
      "\n",
      "=========================================================\n",
      "column : How_long\n",
      "The number of unique : 42\n",
      "\n",
      "0    33\n",
      "3    15\n",
      "2     8\n",
      "9     6\n",
      "1     5\n",
      "Name: How_long, dtype: int64\n",
      "\n",
      "=========================================================\n"
     ]
    }
   ],
   "source": [
    "search_data(df_weekend_7days)\n",
    "\n",
    "# 백을 가장 많이 이용\n",
    "# How_long이 대체로 짧음\n",
    "# 자주 이용하는 아이템 대부분이 bag"
   ]
  },
  {
   "cell_type": "code",
   "execution_count": 41,
   "metadata": {},
   "outputs": [
    {
     "name": "stdout",
     "output_type": "stream",
     "text": [
      "전체 데이터 중 주중 데이터 비율 : 87.0 %\n",
      "전체 데이터 중 주말 데이터 비율 : 13.0 %\n"
     ]
    }
   ],
   "source": [
    "print(\"전체 데이터 중 주중 데이터 비율 :\", round(len(df_weekday) / len(df),2)*100, \"%\")\n",
    "print(\"전체 데이터 중 주말 데이터 비율 :\", round(len(df_weekend) / len(df),2)*100, \"%\")"
   ]
  },
  {
   "cell_type": "code",
   "execution_count": 42,
   "metadata": {},
   "outputs": [
    {
     "name": "stdout",
     "output_type": "stream",
     "text": [
      "휴일 데이터 중 7days 데이터 비율 : 59.0 %\n"
     ]
    }
   ],
   "source": [
    "print(\"휴일 데이터 중 7days 데이터 비율 :\", round(len(df_weekend_7days) / len(df_weekend),2)*100, \"%\")"
   ]
  },
  {
   "cell_type": "code",
   "execution_count": 43,
   "metadata": {},
   "outputs": [],
   "source": [
    "# 왜 일요일에 시킬까 ==> 토요일이 아닌 일요일인 이유? 그냥 다음날 옷 입을 걱정 하면서 시킨 거 같다"
   ]
  },
  {
   "cell_type": "code",
   "execution_count": null,
   "metadata": {},
   "outputs": [],
   "source": []
  },
  {
   "cell_type": "markdown",
   "metadata": {},
   "source": [
    "## 주중 주말 비교 분석\n",
    "\n",
    "- 선호하는 브랜드의 순위는 차이가 있지만, 대체로 일치 (2개가 다름)\n",
    "- 가장 선호하는 아이템 타입은 주중, 휴일 모두 BA\n",
    "- 일요일에 특히 주문이 많음\n",
    "- 주말에 이용하는 고객들의 가입 후 전환까지 대체로 9일 이내임\n",
    "- 대부분이 TS에 해당"
   ]
  },
  {
   "cell_type": "code",
   "execution_count": null,
   "metadata": {},
   "outputs": [],
   "source": []
  },
  {
   "cell_type": "code",
   "execution_count": null,
   "metadata": {},
   "outputs": [],
   "source": []
  },
  {
   "cell_type": "markdown",
   "metadata": {},
   "source": [
    "## 5. 우량고객 분석"
   ]
  },
  {
   "cell_type": "code",
   "execution_count": 44,
   "metadata": {},
   "outputs": [
    {
     "name": "stdout",
     "output_type": "stream",
     "text": [
      "50\n"
     ]
    }
   ],
   "source": [
    "# 3개 이상 쓰는 유저 찾기\n",
    "value_dict = df.USER.value_counts()\n",
    "more3 = list(value_dict[value_dict.values > 2].index) # 3개 이상 이용한 고객\n",
    "print(len(more3)) # 50 명"
   ]
  },
  {
   "cell_type": "code",
   "execution_count": 45,
   "metadata": {},
   "outputs": [
    {
     "name": "stdout",
     "output_type": "stream",
     "text": [
      "전체 고객 중 우량고객 고객의 비율 : 3.0 %\n"
     ]
    }
   ],
   "source": [
    "print(\"전체 고객 중 우량고객 고객의 비율 :\", round((len(more3)/len(df)),2)*100,\"%\")"
   ]
  },
  {
   "cell_type": "code",
   "execution_count": 46,
   "metadata": {},
   "outputs": [],
   "source": [
    "# 3개 이상 쓰는 유저들의 데이터프레임을 만들어봅시다.\n",
    "col_name = df.columns\n",
    "df_pop_user = pd.DataFrame(columns=col_name)\n",
    "\n",
    "for x in more3 :\n",
    "    new_df = df[df['USER']==x]\n",
    "    df_pop_user = pd.concat([df_pop_user, new_df])"
   ]
  },
  {
   "cell_type": "code",
   "execution_count": 47,
   "metadata": {},
   "outputs": [
    {
     "data": {
      "text/plain": [
       "Mixed                  8\n",
       "Max Mara               6\n",
       "El estilo de Claire    6\n",
       "Burberry               6\n",
       "Saint Laurent          5\n",
       "Burberry London        5\n",
       "Christian Dior         5\n",
       "Michaa                 4\n",
       "Thom Browne            4\n",
       "Balmain                4\n",
       "Name: brandnm, dtype: int64"
      ]
     },
     "execution_count": 47,
     "metadata": {},
     "output_type": "execute_result"
    }
   ],
   "source": [
    "# 3개 이상 쓰는 유저가 가장 선호 브랜드 top 10\n",
    "df_pop_user['brandnm'].value_counts().head(10)\n",
    "\n",
    "# Mixed ==> 코디가 따로 필요없어서 편함"
   ]
  },
  {
   "cell_type": "code",
   "execution_count": 48,
   "metadata": {},
   "outputs": [
    {
     "data": {
      "text/plain": [
       "T     50\n",
       "D     50\n",
       "O     37\n",
       "B     32\n",
       "BA    21\n",
       "Name: sub_type, dtype: int64"
      ]
     },
     "execution_count": 48,
     "metadata": {},
     "output_type": "execute_result"
    }
   ],
   "source": [
    "# 3개 이상 쓰는 유저가 가장 선호하는 카테고리 top 5\n",
    "df_pop_user['sub_type'].value_counts().head(5)\n",
    "\n",
    "# 드레스, 티, 아우터, 바지가 상위권 ==> bag이 아니다."
   ]
  },
  {
   "cell_type": "code",
   "execution_count": 49,
   "metadata": {},
   "outputs": [
    {
     "data": {
      "image/png": "[encoded data removed]",
      "text/plain": [
       "<Figure size 1080x720 with 4 Axes>"
      ]
     },
     "metadata": {
      "needs_background": "light"
     },
     "output_type": "display_data"
    }
   ],
   "source": [
    "# 2021년 1분기 우량고객_1 요일별 분류\n",
    "\n",
    "f, ax  = plt.subplots(2,2,figsize=(15,10))\n",
    "plt.subplot(221)\n",
    "sns.countplot(data=df_pop_user, x='day_type')\n",
    "plt.title('휴무에 따른 주문 건수')\n",
    "\n",
    "plt.subplot(222)\n",
    "sns.countplot(data=df_pop_user, x='day_type', hue='p_type')\n",
    "plt.title('p_type별 휴무에 따른 주문건')\n",
    "\n",
    "plt.subplot(223)\n",
    "sns.countplot(data=df_pop_user, x='day_type', hue='sub_type')\n",
    "plt.title('sub_type별 휴무에 따른 주문건')\n",
    "\n",
    "plt.subplot(224)\n",
    "sns.countplot(data=df_pop_user, x='day_type', hue='app_yn')\n",
    "plt.title('앱 유입여부')\n",
    "\n",
    "plt.suptitle('2021년 1분기 휴무에 따른 우량고객 분류',fontsize=30, fontweight = 'bold')\n",
    "plt.show()"
   ]
  },
  {
   "cell_type": "code",
   "execution_count": 50,
   "metadata": {},
   "outputs": [
    {
     "name": "stdout",
     "output_type": "stream",
     "text": [
      "3\n"
     ]
    }
   ],
   "source": [
    "# 8개 이상 쓰는 유저 찾기\n",
    "value_dict2 = df.USER.value_counts()\n",
    "more8 = list(value_dict[value_dict.values > 7].index) # 3개 이상 이용한 고객\n",
    "print(len(more8)) # 3 명"
   ]
  },
  {
   "cell_type": "code",
   "execution_count": 51,
   "metadata": {},
   "outputs": [],
   "source": [
    "# 8개 이상 쓰는 유저들의 데이터프레임을 만들어봅시다.\n",
    "col_name = df.columns\n",
    "df_pop_user_8 = pd.DataFrame(columns=col_name)\n",
    "\n",
    "for x in more8 :\n",
    "    new_df = df[df['USER']==x]\n",
    "    df_pop_user_8 = pd.concat([df_pop_user_8, new_df])"
   ]
  },
  {
   "cell_type": "code",
   "execution_count": 52,
   "metadata": {},
   "outputs": [
    {
     "data": {
      "text/plain": [
       "Mine                   2\n",
       "It michaa              2\n",
       "Michaa                 2\n",
       "Musinsa standard       2\n",
       "Ted Baker              1\n",
       "System homme           1\n",
       "Theory                 1\n",
       "El estilo de Claire    1\n",
       "Alice & Olivia         1\n",
       "Covernat               1\n",
       "Name: brandnm, dtype: int64"
      ]
     },
     "execution_count": 52,
     "metadata": {},
     "output_type": "execute_result"
    }
   ],
   "source": [
    "# 8개 이상 쓰는 유저가 가장 선호 브랜드 top 10\n",
    "df_pop_user_8['brandnm'].value_counts().head(10)"
   ]
  },
  {
   "cell_type": "code",
   "execution_count": 53,
   "metadata": {},
   "outputs": [
    {
     "data": {
      "text/plain": [
       "T     16\n",
       "B     10\n",
       "D      2\n",
       "O      1\n",
       "BA     1\n",
       "Name: sub_type, dtype: int64"
      ]
     },
     "execution_count": 53,
     "metadata": {},
     "output_type": "execute_result"
    }
   ],
   "source": [
    "# 8개 이상 쓰는 유저가 가장 선호하는 카테고리 top 5\n",
    "df_pop_user_8['sub_type'].value_counts().head(5)"
   ]
  },
  {
   "cell_type": "code",
   "execution_count": 54,
   "metadata": {
    "scrolled": false
   },
   "outputs": [
    {
     "data": {
      "image/png": "[encoded data removed]",
      "text/plain": [
       "<Figure size 1080x720 with 4 Axes>"
      ]
     },
     "metadata": {
      "needs_background": "light"
     },
     "output_type": "display_data"
    }
   ],
   "source": [
    "# 2021년 1분기 우량고객_1 요일별 분류 ==> 4 days만 씀 / \n",
    "\n",
    "f, ax  = plt.subplots(2,2,figsize=(15,10))\n",
    "plt.subplot(221)\n",
    "sns.countplot(data=df_pop_user_8, x='days') # 큰 의미가 없음\n",
    "plt.title('휴무에 따른 주문 건수')\n",
    "\n",
    "plt.subplot(222)\n",
    "sns.countplot(data=df_pop_user_8, x='day_type', hue='p_type') # 주중만 존재\n",
    "plt.title('p_type별 휴무에 따른 주문건')\n",
    "\n",
    "plt.subplot(223)\n",
    "sns.countplot(data=df_pop_user_8, x='day_type', hue='sub_type') # BAG이 엄청 낮다!!\n",
    "plt.title('sub_type별 휴무에 따른 주문건')\n",
    "\n",
    "plt.subplot(224)\n",
    "sns.countplot(data=df_pop_user_8, x='day_type', hue='app_yn') # \n",
    "plt.title('앱 유입여부')\n",
    "\n",
    "plt.suptitle('2021년 1분기 휴무에 따른 최우수 우량고객 분류',fontsize=30, fontweight = 'bold')\n",
    "plt.show()"
   ]
  },
  {
   "cell_type": "markdown",
   "metadata": {},
   "source": [
    "## 6. 일반고객 분석"
   ]
  },
  {
   "cell_type": "code",
   "execution_count": 55,
   "metadata": {},
   "outputs": [
    {
     "name": "stdout",
     "output_type": "stream",
     "text": [
      "1090\n"
     ]
    }
   ],
   "source": [
    "# 1번만 쓰는 유저 찾기\n",
    "normal_dict = df.USER.value_counts()\n",
    "only1 = list(value_dict[value_dict.values < 2].index) # 1개 이하로 이용한 고객\n",
    "print(len(only1)) # 1090 명"
   ]
  },
  {
   "cell_type": "code",
   "execution_count": 56,
   "metadata": {},
   "outputs": [],
   "source": [
    "# 1번만 쓰는 유저들의 데이터프레임을 만들어봅시다.\n",
    "col_name = df.columns\n",
    "df_normal = pd.DataFrame(columns=col_name)\n",
    "\n",
    "for x in only1 :\n",
    "    new_df = df[df['USER']==x]\n",
    "    df_normal = pd.concat([df_normal, new_df])"
   ]
  },
  {
   "cell_type": "code",
   "execution_count": 57,
   "metadata": {},
   "outputs": [
    {
     "name": "stdout",
     "output_type": "stream",
     "text": [
      "전체 고객 중 1번만 이용한 고객의 비율 : 74.0 %\n"
     ]
    }
   ],
   "source": [
    "print(\"전체 고객 중 1번만 이용한 고객의 비율 :\", round((len(df_normal)/len(df)),2)*100,\"%\")"
   ]
  },
  {
   "cell_type": "code",
   "execution_count": 58,
   "metadata": {},
   "outputs": [
    {
     "data": {
      "image/png": "[encoded data removed]",
      "text/plain": [
       "<Figure size 1080x720 with 4 Axes>"
      ]
     },
     "metadata": {
      "needs_background": "light"
     },
     "output_type": "display_data"
    }
   ],
   "source": [
    "# 2021년 1분기 1번만 이용한 고객 분류 ==> 모집단과 비슷한 형태를 가짐\n",
    "f, ax  = plt.subplots(2,2,figsize=(15,10))\n",
    "plt.subplot(221)\n",
    "sns.countplot(data=df_normal, x='days')\n",
    "plt.title('요일별 주문 건수')\n",
    "\n",
    "plt.subplot(222)\n",
    "sns.countplot(data=df_normal, x='day_type', hue='p_type') # 4일권과 40개 정도 차이\n",
    "plt.title('p_type별 주문건')\n",
    "\n",
    "plt.subplot(223)\n",
    "sns.countplot(data=df_normal, x='day_type', hue='sub_type')\n",
    "plt.title('sub_type별 주문건')\n",
    "\n",
    "plt.subplot(224)\n",
    "sns.countplot(data=df_normal, x='day_type', hue='app_yn')\n",
    "plt.title('앱 유입여부')\n",
    "\n",
    "plt.suptitle('2021년 1분기 1회 이용 고객 분류',fontsize=30, fontweight = 'bold')\n",
    "plt.show()"
   ]
  },
  {
   "cell_type": "code",
   "execution_count": 59,
   "metadata": {},
   "outputs": [],
   "source": [
    "# 월 단위\n",
    "df_normal_month_01 = df_normal[df_normal[\"month\"]==\"01\"]\n",
    "df_normal_month_02 = df_normal[df_normal[\"month\"]==\"02\"]\n",
    "df_normal_month_03 = df_normal[df_normal[\"month\"]==\"03\"]"
   ]
  },
  {
   "cell_type": "code",
   "execution_count": 60,
   "metadata": {},
   "outputs": [
    {
     "name": "stdout",
     "output_type": "stream",
     "text": [
      "전체 고객 중 1월에 1번만 이용한 고객의 비율 : 19.0 %\n",
      "전체 고객 중 2월에 1번만 이용한 고객의 비율 : 23.0 %\n",
      "전체 고객 중 3월에 1번만 이용한 고객의 비율 : 33.0 %\n"
     ]
    }
   ],
   "source": [
    "print(\"전체 고객 중 1월에 1번만 이용한 고객의 비율 :\", round((len(df_normal_month_01)/len(df)),2)*100,\"%\")\n",
    "print(\"전체 고객 중 2월에 1번만 이용한 고객의 비율 :\", round((len(df_normal_month_02)/len(df)),2)*100,\"%\")\n",
    "print(\"전체 고객 중 3월에 1번만 이용한 고객의 비율 :\", round((len(df_normal_month_03)/len(df)),2)*100,\"%\")"
   ]
  },
  {
   "cell_type": "code",
   "execution_count": 61,
   "metadata": {},
   "outputs": [
    {
     "data": {
      "text/plain": [
       "Gucci                 209\n",
       "Chanel                 83\n",
       "Saint Laurent          78\n",
       "Louis Vuitton          72\n",
       "Prada                  51\n",
       "Burberry               37\n",
       "Yves Saint Laurent     33\n",
       "Celine                 26\n",
       "Thom Browne            23\n",
       "Fendi                  21\n",
       "Name: brandnm, dtype: int64"
      ]
     },
     "execution_count": 61,
     "metadata": {},
     "output_type": "execute_result"
    }
   ],
   "source": [
    "# 1번만 쓰는 유저가 가장 선호 브랜드 top 10\n",
    "df_normal['brandnm'].value_counts().head(10) "
   ]
  },
  {
   "cell_type": "code",
   "execution_count": 62,
   "metadata": {},
   "outputs": [
    {
     "data": {
      "text/plain": [
       "{'Fendi'}"
      ]
     },
     "execution_count": 62,
     "metadata": {},
     "output_type": "execute_result"
    }
   ],
   "source": [
    "normal_list = df_normal['brandnm'].value_counts().head(10).keys()\n",
    "all_list = df['brandnm'].value_counts().head(10).keys()\n",
    "set(normal_list) - set(all_list)\n",
    "\n",
    "# 모집단과 선호 브랜드 차이 : Fendi"
   ]
  },
  {
   "cell_type": "code",
   "execution_count": 63,
   "metadata": {},
   "outputs": [
    {
     "data": {
      "text/plain": [
       "BA    621\n",
       "O     183\n",
       "D     162\n",
       "T      89\n",
       "TP     20\n",
       "Name: sub_type, dtype: int64"
      ]
     },
     "execution_count": 63,
     "metadata": {},
     "output_type": "execute_result"
    }
   ],
   "source": [
    "# 1번만 쓰는 유저가 가장 선호하는 카테고리 top 5\n",
    "df_normal['sub_type'].value_counts().head(5) # 모집단과 큰 차이는 TP ==> 투피스를 이용함"
   ]
  },
  {
   "cell_type": "code",
   "execution_count": null,
   "metadata": {},
   "outputs": [],
   "source": []
  },
  {
   "cell_type": "markdown",
   "metadata": {},
   "source": [
    "## 7. 월별 sun_type 확인"
   ]
  },
  {
   "cell_type": "markdown",
   "metadata": {},
   "source": [
    "### 월별로 sub_type의 변화를 봐야한다."
   ]
  },
  {
   "cell_type": "code",
   "execution_count": 64,
   "metadata": {},
   "outputs": [],
   "source": [
    "df_month_01 = df[df[\"month\"]==\"01\"]\n",
    "df_month_02 = df[df[\"month\"]==\"02\"]\n",
    "df_month_03 = df[df[\"month\"]==\"03\"]"
   ]
  },
  {
   "cell_type": "code",
   "execution_count": 65,
   "metadata": {},
   "outputs": [
    {
     "data": {
      "image/png": "[encoded data removed]",
      "text/plain": [
       "<Figure size 432x288 with 1 Axes>"
      ]
     },
     "metadata": {
      "needs_background": "light"
     },
     "output_type": "display_data"
    }
   ],
   "source": [
    "# sub_type\n",
    "sns.countplot(x ='sub_type', data = df_month_01)\n",
    "plt.title(\"상품 카테고리별 전체 이용 추이\")\n",
    "plt.show()"
   ]
  },
  {
   "cell_type": "code",
   "execution_count": 66,
   "metadata": {},
   "outputs": [
    {
     "data": {
      "image/png": "[encoded data removed]",
      "text/plain": [
       "<Figure size 432x288 with 1 Axes>"
      ]
     },
     "metadata": {
      "needs_background": "light"
     },
     "output_type": "display_data"
    }
   ],
   "source": [
    "# sub_type\n",
    "sns.countplot(x ='sub_type', data = df_month_02)\n",
    "plt.title(\"상품 카테고리별 전체 이용 추이\")\n",
    "plt.show()"
   ]
  },
  {
   "cell_type": "code",
   "execution_count": 67,
   "metadata": {},
   "outputs": [
    {
     "data": {
      "image/png": "[encoded data removed]",
      "text/plain": [
       "<Figure size 432x288 with 1 Axes>"
      ]
     },
     "metadata": {
      "needs_background": "light"
     },
     "output_type": "display_data"
    }
   ],
   "source": [
    "# sub_type\n",
    "sns.countplot(x ='sub_type', data = df_month_03) \n",
    "plt.title(\"상품 카테고리별 전체 이용 추이\")\n",
    "plt.show()\n",
    "\n",
    "## 3월에 드레스가 많이 늘어나고, 아우터가 줄어듦 \n",
    "# T가 늘어남"
   ]
  },
  {
   "cell_type": "markdown",
   "metadata": {},
   "source": [
    "## 8. 7days 이용자 분석"
   ]
  },
  {
   "cell_type": "code",
   "execution_count": 68,
   "metadata": {},
   "outputs": [],
   "source": [
    "## 7days만 알아봅시다 ==> How_long이 짧은가?\n",
    "df_7days = df[df['p_type']==\"7days\"]"
   ]
  },
  {
   "cell_type": "code",
   "execution_count": 69,
   "metadata": {},
   "outputs": [
    {
     "name": "stdout",
     "output_type": "stream",
     "text": [
      "7days 이용자 중 TS의 비중 : 23.87 %\n"
     ]
    }
   ],
   "source": [
    "check_ts = df_7days['How_long'].value_counts()\n",
    "ts = list(check_ts[check_ts.values < 4].index) # 7days고객 중 ts인 비율  ==> 절반밖에 안됨 \n",
    "print(\"7days 이용자 중 TS의 비중 :\",round((len(ts)/len(df_7days))*100,2),\"%\")"
   ]
  },
  {
   "cell_type": "code",
   "execution_count": 70,
   "metadata": {},
   "outputs": [
    {
     "data": {
      "image/png": "[encoded data removed]",
      "text/plain": [
       "<Figure size 1080x720 with 4 Axes>"
      ]
     },
     "metadata": {
      "needs_background": "light"
     },
     "output_type": "display_data"
    }
   ],
   "source": [
    "# 2021년 1분기 우량고객 요일별 분류\n",
    "f, ax  = plt.subplots(2,2,figsize=(15,10))\n",
    "plt.subplot(221)\n",
    "sns.countplot(data=df_7days, x='days')\n",
    "plt.title('7days 요일별 주문 건수')\n",
    "\n",
    "plt.subplot(222)\n",
    "sns.countplot(data=df_7days, x='day_type', hue='day_type') # 4일권과 40개 정도 차이\n",
    "plt.title('7days day_type별 주문건')\n",
    "\n",
    "plt.subplot(223)\n",
    "sns.countplot(data=df_7days, x='day_type', hue='sub_type')\n",
    "plt.title('7days sub_type별 주문건')\n",
    "\n",
    "plt.subplot(224)\n",
    "sns.countplot(data=df_7days, x='day_type', hue='app_yn')\n",
    "plt.title('앱 유입여부')\n",
    "\n",
    "plt.suptitle('2021년 1분기 7days 고객 분류',fontsize=30, fontweight = 'bold')\n",
    "plt.show()\n",
    "\n",
    "\n",
    "## 월요일부터 이용하기 위해 토요일, 일요일 주문\n",
    "## "
   ]
  },
  {
   "cell_type": "code",
   "execution_count": null,
   "metadata": {},
   "outputs": [],
   "source": []
  },
  {
   "cell_type": "code",
   "execution_count": 71,
   "metadata": {},
   "outputs": [],
   "source": [
    "# 승규님 확인용"
   ]
  },
  {
   "cell_type": "code",
   "execution_count": 72,
   "metadata": {},
   "outputs": [
    {
     "name": "stdout",
     "output_type": "stream",
     "text": [
      "1090\n",
      "전체 고객 중 1번만 이용한 고객의 비율 : 74.0 %\n"
     ]
    }
   ],
   "source": [
    "# 퍼센티지 체크\n",
    "\n",
    "# 1번만 쓰는 유저 찾기\n",
    "normal_dict = df.USER.value_counts()\n",
    "only1 = list(value_dict[value_dict.values < 2].index) # 1개 이하로 이용한 고객\n",
    "print(len(only1)) # 1090 명\n",
    "\n",
    "# 1번만 쓰는 유저들의 데이터프레임을 만들어봅시다.\n",
    "col_name = df.columns\n",
    "df_normal = pd.DataFrame(columns=col_name)\n",
    "\n",
    "for x in only1 :\n",
    "    new_df = df[df['USER']==x]\n",
    "    df_normal = pd.concat([df_normal, new_df])\n",
    "    \n",
    "print(\"전체 고객 중 1번만 이용한 고객의 비율 :\", round((len(df_normal)/len(df)),2)*100,\"%\")"
   ]
  },
  {
   "cell_type": "code",
   "execution_count": 73,
   "metadata": {},
   "outputs": [
    {
     "name": "stdout",
     "output_type": "stream",
     "text": [
      "89\n",
      "전체 고객 중 2번만 이용한 고객의 비율 : 12.0 %\n"
     ]
    }
   ],
   "source": [
    "# 퍼센티지 체크\n",
    "\n",
    "# 2번만 쓰는 유저 찾기\n",
    "normal_dict = df.USER.value_counts()\n",
    "only2 = list(normal_dict[value_dict.values == 2].index) # 1개 이하로 이용한 고객\n",
    "print(len(only2)) # \n",
    "\n",
    "# 1번만 쓰는 유저들의 데이터프레임을 만들어봅시다.\n",
    "col_name = df.columns\n",
    "df_2 = pd.DataFrame(columns=col_name)\n",
    "\n",
    "for x in only2 :\n",
    "    new_df = df[df['USER']==x]\n",
    "    df_2 = pd.concat([df_2, new_df])\n",
    "    \n",
    "print(\"전체 고객 중 2번만 이용한 고객의 비율 :\", round((len(df_2)/len(df)),2)*100,\"%\")"
   ]
  },
  {
   "cell_type": "code",
   "execution_count": 74,
   "metadata": {},
   "outputs": [
    {
     "name": "stdout",
     "output_type": "stream",
     "text": [
      "50\n",
      "전체 고객 중 3번 이상 이용한 고객의 비율 : 14.000000000000002 %\n"
     ]
    }
   ],
   "source": [
    "# 퍼센티지 체크\n",
    "\n",
    "# 3번 이상 쓰는 유저 찾기\n",
    "normal_dict = df.USER.value_counts()\n",
    "more3 = list(normal_dict[value_dict.values > 2].index) # 1개 이하로 이용한 고객\n",
    "print(len(more3)) # \n",
    "\n",
    "# 1번만 쓰는 유저들의 데이터프레임을 만들어봅시다.\n",
    "col_name = df.columns\n",
    "df_3 = pd.DataFrame(columns=col_name)\n",
    "\n",
    "for x in more3 :\n",
    "    new_df = df[df['USER']==x]\n",
    "    df_3 = pd.concat([df_3, new_df])\n",
    "    \n",
    "print(\"전체 고객 중 3번 이상 이용한 고객의 비율 :\", round((len(df_3)/len(df)),2)*100,\"%\")"
   ]
  },
  {
   "cell_type": "code",
   "execution_count": null,
   "metadata": {},
   "outputs": [],
   "source": []
  },
  {
   "cell_type": "code",
   "execution_count": null,
   "metadata": {},
   "outputs": [],
   "source": []
  }
 ],
 "metadata": {
  "kernelspec": {
   "display_name": "pydatavenv",
   "language": "python",
   "name": "pydatavenv"
  },
  "language_info": {
   "codemirror_mode": {
    "name": "ipython",
    "version": 3
   },
   "file_extension": ".py",
   "mimetype": "text/x-python",
   "name": "python",
   "nbconvert_exporter": "python",
   "pygments_lexer": "ipython3",
   "version": "3.7.9"
  }
 },
 "nbformat": 4,
 "nbformat_minor": 4
}
