{
 "cells": [
  {
   "cell_type": "code",
   "execution_count": 1,
   "metadata": {},
   "outputs": [],
   "source": [
    "import pandas as pd\n",
    "import numpy as np\n",
    "import sys\n",
    "import warnings\n",
    "warnings.filterwarnings('ignore')\n",
    "import seaborn as sns\n",
    "# plt.style.use('seaborn-whitegrid')\n",
    "import os\n",
    "from datetime import date"
   ]
  },
  {
   "cell_type": "code",
   "execution_count": 2,
   "metadata": {},
   "outputs": [],
   "source": [
    "def get_font_family():\n",
    "    \"\"\"\n",
    "    시스템 환경에 따른 기본 폰트명을 반환하는 함수\n",
    "    \"\"\"\n",
    "    import platform\n",
    "    system_name = platform.system()\n",
    "    # colab 사용자는 system_name이 'Linux'로 확인\n",
    "\n",
    "    if system_name == \"Darwin\" :\n",
    "        font_family = \"AppleGothic\"\n",
    "    elif system_name == \"Windows\":\n",
    "        font_family = \"Malgun Gothic\"\n",
    "    else:\n",
    "        # Linux\n",
    "        # colab에서는 runtime을 <꼭> 재시작 해야함.\n",
    "        # 런타임을 재시작 하지 않고 폰트 설치를 하면 기본 설정 폰트가 로드되어 한글이 깨짐.\n",
    "        !apt-get update -qq\n",
    "        !apt-get install fonts-nanum -qq  > /dev/null\n",
    "\n",
    "        import matplotlib.font_manager as fm\n",
    "\n",
    "        fontpath = '/usr/share/fonts/truetype/nanum/NanumBarunGothic.ttf'\n",
    "        font = fm.FontProperties(fname=fontpath, size=9)\n",
    "        fm._rebuild()\n",
    "        font_family = \"NanumBarunGothic\"\n",
    "    return font_family"
   ]
  },
  {
   "cell_type": "code",
   "execution_count": 3,
   "metadata": {},
   "outputs": [],
   "source": [
    "# 시각화를 위한 폰트설정\n",
    "# 위에서 만든 함수를 통해 시스템 폰트를 불러와서 font_family 라는 변수에 할당.\n",
    "a = get_font_family()\n",
    "# 폰트설정\n",
    "import matplotlib.pyplot as plt \n",
    "plt.rc(\"font\", family = a)\n",
    "# 마이너스폰트 설정\n",
    "plt.rc(\"axes\", unicode_minus=False)\n",
    "# ggplot으로 그래프 스타일 설정\n",
    "#plt.style.use(\"ggplot\")\n"
   ]
  },
  {
   "cell_type": "code",
   "execution_count": 37,
   "metadata": {},
   "outputs": [],
   "source": [
    "df_ori = pd.read_excel(\"클로젯셰어_과제DB 대체 자료.xlsx\")"
   ]
  },
  {
   "cell_type": "code",
   "execution_count": 38,
   "metadata": {},
   "outputs": [],
   "source": [
    "df = df_ori.copy()"
   ]
  },
  {
   "cell_type": "code",
   "execution_count": 39,
   "metadata": {},
   "outputs": [],
   "source": [
    "df['app_yn'].fillna('N', inplace=True)"
   ]
  },
  {
   "cell_type": "code",
   "execution_count": 40,
   "metadata": {},
   "outputs": [
    {
     "name": "stdout",
     "output_type": "stream",
     "text": [
      "brandnm       0\n",
      "goodsnm       0\n",
      "USER          0\n",
      "reg_date      0\n",
      "order_date    0\n",
      "p_type        0\n",
      "sub_type      0\n",
      "app_yn        0\n",
      "dtype: int64\n",
      "<class 'pandas.core.frame.DataFrame'>\n",
      "Int64Index: 1437 entries, 0 to 1470\n",
      "Data columns (total 8 columns):\n",
      " #   Column      Non-Null Count  Dtype         \n",
      "---  ------      --------------  -----         \n",
      " 0   brandnm     1437 non-null   object        \n",
      " 1   goodsnm     1437 non-null   object        \n",
      " 2   USER        1437 non-null   object        \n",
      " 3   reg_date    1437 non-null   datetime64[ns]\n",
      " 4   order_date  1437 non-null   datetime64[ns]\n",
      " 5   p_type      1437 non-null   object        \n",
      " 6   sub_type    1437 non-null   object        \n",
      " 7   app_yn      1437 non-null   object        \n",
      "dtypes: datetime64[ns](2), object(6)\n",
      "memory usage: 101.0+ KB\n",
      "None\n"
     ]
    }
   ],
   "source": [
    "df.dropna(inplace=True)\n",
    "print(df.isnull().sum())\n",
    "print(df.info())"
   ]
  },
  {
   "cell_type": "code",
   "execution_count": 41,
   "metadata": {},
   "outputs": [
    {
     "data": {
      "text/html": [
       "<div>\n",
       "<style scoped>\n",
       "    .dataframe tbody tr th:only-of-type {\n",
       "        vertical-align: middle;\n",
       "    }\n",
       "\n",
       "    .dataframe tbody tr th {\n",
       "        vertical-align: top;\n",
       "    }\n",
       "\n",
       "    .dataframe thead th {\n",
       "        text-align: right;\n",
       "    }\n",
       "</style>\n",
       "<table border=\"1\" class=\"dataframe\">\n",
       "  <thead>\n",
       "    <tr style=\"text-align: right;\">\n",
       "      <th></th>\n",
       "      <th>brandnm</th>\n",
       "      <th>goodsnm</th>\n",
       "      <th>reg_date</th>\n",
       "      <th>order_date</th>\n",
       "      <th>p_type</th>\n",
       "      <th>sub_type</th>\n",
       "      <th>app_yn</th>\n",
       "      <th>FirstOrder</th>\n",
       "    </tr>\n",
       "    <tr>\n",
       "      <th>USER</th>\n",
       "      <th></th>\n",
       "      <th></th>\n",
       "      <th></th>\n",
       "      <th></th>\n",
       "      <th></th>\n",
       "      <th></th>\n",
       "      <th></th>\n",
       "      <th></th>\n",
       "    </tr>\n",
       "  </thead>\n",
       "  <tbody>\n",
       "    <tr>\n",
       "      <th>a161237</th>\n",
       "      <td>Gucci</td>\n",
       "      <td>flower dionysus shoulder bag beige</td>\n",
       "      <td>2019-12-06</td>\n",
       "      <td>2021-01-15</td>\n",
       "      <td>7days</td>\n",
       "      <td>BA</td>\n",
       "      <td>Y</td>\n",
       "      <td>2021-01-15</td>\n",
       "    </tr>\n",
       "    <tr>\n",
       "      <th>a1140859</th>\n",
       "      <td>El estilo de Claire</td>\n",
       "      <td>beads cropped jacket black</td>\n",
       "      <td>2021-01-02</td>\n",
       "      <td>2021-01-15</td>\n",
       "      <td>4days</td>\n",
       "      <td>O</td>\n",
       "      <td>N</td>\n",
       "      <td>2021-01-15</td>\n",
       "    </tr>\n",
       "  </tbody>\n",
       "</table>\n",
       "</div>"
      ],
      "text/plain": [
       "                      brandnm                             goodsnm   reg_date  \\\n",
       "USER                                                                           \n",
       "a161237                 Gucci  flower dionysus shoulder bag beige 2019-12-06   \n",
       "a1140859  El estilo de Claire          beads cropped jacket black 2021-01-02   \n",
       "\n",
       "         order_date p_type sub_type app_yn FirstOrder  \n",
       "USER                                                   \n",
       "a161237  2021-01-15  7days       BA      Y 2021-01-15  \n",
       "a1140859 2021-01-15  4days        O      N 2021-01-15  "
      ]
     },
     "execution_count": 41,
     "metadata": {},
     "output_type": "execute_result"
    }
   ],
   "source": [
    "#유저로 묶고 \n",
    "#order_date중 가장 낮은 값 사용 \n",
    "\n",
    "df.set_index(\"USER\", inplace=True)\n",
    "FirstOrder = df.groupby(df.index)[\"order_date\"].min()\n",
    "df['FirstOrder'] = FirstOrder\n",
    "df.head(2)"
   ]
  },
  {
   "cell_type": "code",
   "execution_count": 42,
   "metadata": {},
   "outputs": [
    {
     "data": {
      "text/html": [
       "<div>\n",
       "<style scoped>\n",
       "    .dataframe tbody tr th:only-of-type {\n",
       "        vertical-align: middle;\n",
       "    }\n",
       "\n",
       "    .dataframe tbody tr th {\n",
       "        vertical-align: top;\n",
       "    }\n",
       "\n",
       "    .dataframe thead th {\n",
       "        text-align: right;\n",
       "    }\n",
       "</style>\n",
       "<table border=\"1\" class=\"dataframe\">\n",
       "  <thead>\n",
       "    <tr style=\"text-align: right;\">\n",
       "      <th></th>\n",
       "      <th>brandnm</th>\n",
       "      <th>goodsnm</th>\n",
       "      <th>reg_date</th>\n",
       "      <th>order_date</th>\n",
       "      <th>p_type</th>\n",
       "      <th>sub_type</th>\n",
       "      <th>app_yn</th>\n",
       "      <th>FirstOrder</th>\n",
       "      <th>How_Long</th>\n",
       "    </tr>\n",
       "    <tr>\n",
       "      <th>USER</th>\n",
       "      <th></th>\n",
       "      <th></th>\n",
       "      <th></th>\n",
       "      <th></th>\n",
       "      <th></th>\n",
       "      <th></th>\n",
       "      <th></th>\n",
       "      <th></th>\n",
       "      <th></th>\n",
       "    </tr>\n",
       "  </thead>\n",
       "  <tbody>\n",
       "    <tr>\n",
       "      <th>a161237</th>\n",
       "      <td>Gucci</td>\n",
       "      <td>flower dionysus shoulder bag beige</td>\n",
       "      <td>2019-12-06</td>\n",
       "      <td>2021-01-15</td>\n",
       "      <td>7days</td>\n",
       "      <td>BA</td>\n",
       "      <td>Y</td>\n",
       "      <td>2021-01-15</td>\n",
       "      <td>406 days</td>\n",
       "    </tr>\n",
       "    <tr>\n",
       "      <th>a1140859</th>\n",
       "      <td>El estilo de Claire</td>\n",
       "      <td>beads cropped jacket black</td>\n",
       "      <td>2021-01-02</td>\n",
       "      <td>2021-01-15</td>\n",
       "      <td>4days</td>\n",
       "      <td>O</td>\n",
       "      <td>N</td>\n",
       "      <td>2021-01-15</td>\n",
       "      <td>13 days</td>\n",
       "    </tr>\n",
       "    <tr>\n",
       "      <th>a1140859</th>\n",
       "      <td>Danha</td>\n",
       "      <td>embroidery point oriental mini skirt blue</td>\n",
       "      <td>2021-01-02</td>\n",
       "      <td>2021-01-15</td>\n",
       "      <td>4days</td>\n",
       "      <td>B</td>\n",
       "      <td>N</td>\n",
       "      <td>2021-01-15</td>\n",
       "      <td>13 days</td>\n",
       "    </tr>\n",
       "  </tbody>\n",
       "</table>\n",
       "</div>"
      ],
      "text/plain": [
       "                      brandnm                                    goodsnm  \\\n",
       "USER                                                                       \n",
       "a161237                 Gucci         flower dionysus shoulder bag beige   \n",
       "a1140859  El estilo de Claire                 beads cropped jacket black   \n",
       "a1140859                Danha  embroidery point oriental mini skirt blue   \n",
       "\n",
       "           reg_date order_date p_type sub_type app_yn FirstOrder How_Long  \n",
       "USER                                                                       \n",
       "a161237  2019-12-06 2021-01-15  7days       BA      Y 2021-01-15 406 days  \n",
       "a1140859 2021-01-02 2021-01-15  4days        O      N 2021-01-15  13 days  \n",
       "a1140859 2021-01-02 2021-01-15  4days        B      N 2021-01-15  13 days  "
      ]
     },
     "execution_count": 42,
     "metadata": {},
     "output_type": "execute_result"
    }
   ],
   "source": [
    "How_Long = df[\"FirstOrder\"] - df[\"reg_date\"]\n",
    "df[\"How_Long\"] = How_Long\n",
    "df.head(3)"
   ]
  },
  {
   "cell_type": "code",
   "execution_count": 43,
   "metadata": {},
   "outputs": [
    {
     "data": {
      "text/html": [
       "<div>\n",
       "<style scoped>\n",
       "    .dataframe tbody tr th:only-of-type {\n",
       "        vertical-align: middle;\n",
       "    }\n",
       "\n",
       "    .dataframe tbody tr th {\n",
       "        vertical-align: top;\n",
       "    }\n",
       "\n",
       "    .dataframe thead th {\n",
       "        text-align: right;\n",
       "    }\n",
       "</style>\n",
       "<table border=\"1\" class=\"dataframe\">\n",
       "  <thead>\n",
       "    <tr style=\"text-align: right;\">\n",
       "      <th></th>\n",
       "      <th>USER</th>\n",
       "      <th>brandnm</th>\n",
       "      <th>goodsnm</th>\n",
       "      <th>reg_date</th>\n",
       "      <th>order_date</th>\n",
       "      <th>p_type</th>\n",
       "      <th>sub_type</th>\n",
       "      <th>app_yn</th>\n",
       "      <th>FirstOrder</th>\n",
       "      <th>How_Long</th>\n",
       "    </tr>\n",
       "  </thead>\n",
       "  <tbody>\n",
       "    <tr>\n",
       "      <th>0</th>\n",
       "      <td>a161237</td>\n",
       "      <td>Gucci</td>\n",
       "      <td>flower dionysus shoulder bag beige</td>\n",
       "      <td>2019-12-06</td>\n",
       "      <td>2021-01-15</td>\n",
       "      <td>7days</td>\n",
       "      <td>BA</td>\n",
       "      <td>Y</td>\n",
       "      <td>2021-01-15</td>\n",
       "      <td>406 days</td>\n",
       "    </tr>\n",
       "    <tr>\n",
       "      <th>1</th>\n",
       "      <td>a1140859</td>\n",
       "      <td>El estilo de Claire</td>\n",
       "      <td>beads cropped jacket black</td>\n",
       "      <td>2021-01-02</td>\n",
       "      <td>2021-01-15</td>\n",
       "      <td>4days</td>\n",
       "      <td>O</td>\n",
       "      <td>N</td>\n",
       "      <td>2021-01-15</td>\n",
       "      <td>13 days</td>\n",
       "    </tr>\n",
       "  </tbody>\n",
       "</table>\n",
       "</div>"
      ],
      "text/plain": [
       "       USER              brandnm                             goodsnm  \\\n",
       "0   a161237                Gucci  flower dionysus shoulder bag beige   \n",
       "1  a1140859  El estilo de Claire          beads cropped jacket black   \n",
       "\n",
       "    reg_date order_date p_type sub_type app_yn FirstOrder How_Long  \n",
       "0 2019-12-06 2021-01-15  7days       BA      Y 2021-01-15 406 days  \n",
       "1 2021-01-02 2021-01-15  4days        O      N 2021-01-15  13 days  "
      ]
     },
     "execution_count": 43,
     "metadata": {},
     "output_type": "execute_result"
    }
   ],
   "source": [
    "df.reset_index(inplace=True)\n",
    "df.head(2)"
   ]
  },
  {
   "cell_type": "code",
   "execution_count": 44,
   "metadata": {},
   "outputs": [],
   "source": [
    "First_Day = df[\"FirstOrder\"].min()"
   ]
  },
  {
   "cell_type": "markdown",
   "metadata": {},
   "source": [
    "# 그룹 선언"
   ]
  },
  {
   "cell_type": "code",
   "execution_count": 46,
   "metadata": {},
   "outputs": [],
   "source": [
    "df[\"How_Long\"] = df[\"How_Long\"].astype('timedelta64[D]').astype(int)"
   ]
  },
  {
   "cell_type": "code",
   "execution_count": 50,
   "metadata": {
    "scrolled": false
   },
   "outputs": [
    {
     "data": {
      "text/html": [
       "<div>\n",
       "<style scoped>\n",
       "    .dataframe tbody tr th:only-of-type {\n",
       "        vertical-align: middle;\n",
       "    }\n",
       "\n",
       "    .dataframe tbody tr th {\n",
       "        vertical-align: top;\n",
       "    }\n",
       "\n",
       "    .dataframe thead th {\n",
       "        text-align: right;\n",
       "    }\n",
       "</style>\n",
       "<table border=\"1\" class=\"dataframe\">\n",
       "  <thead>\n",
       "    <tr style=\"text-align: right;\">\n",
       "      <th></th>\n",
       "      <th>USER</th>\n",
       "      <th>brandnm</th>\n",
       "      <th>goodsnm</th>\n",
       "      <th>reg_date</th>\n",
       "      <th>order_date</th>\n",
       "      <th>p_type</th>\n",
       "      <th>sub_type</th>\n",
       "      <th>app_yn</th>\n",
       "      <th>FirstOrder</th>\n",
       "      <th>How_Long</th>\n",
       "    </tr>\n",
       "  </thead>\n",
       "  <tbody>\n",
       "    <tr>\n",
       "      <th>0</th>\n",
       "      <td>a161237</td>\n",
       "      <td>Gucci</td>\n",
       "      <td>flower dionysus shoulder bag beige</td>\n",
       "      <td>2019-12-06</td>\n",
       "      <td>2021-01-15</td>\n",
       "      <td>7days</td>\n",
       "      <td>BA</td>\n",
       "      <td>Y</td>\n",
       "      <td>2021-01-15</td>\n",
       "      <td>406</td>\n",
       "    </tr>\n",
       "    <tr>\n",
       "      <th>1</th>\n",
       "      <td>a1140859</td>\n",
       "      <td>El estilo de Claire</td>\n",
       "      <td>beads cropped jacket black</td>\n",
       "      <td>2021-01-02</td>\n",
       "      <td>2021-01-15</td>\n",
       "      <td>4days</td>\n",
       "      <td>O</td>\n",
       "      <td>N</td>\n",
       "      <td>2021-01-15</td>\n",
       "      <td>13</td>\n",
       "    </tr>\n",
       "    <tr>\n",
       "      <th>2</th>\n",
       "      <td>a1140859</td>\n",
       "      <td>Danha</td>\n",
       "      <td>embroidery point oriental mini skirt blue</td>\n",
       "      <td>2021-01-02</td>\n",
       "      <td>2021-01-15</td>\n",
       "      <td>4days</td>\n",
       "      <td>B</td>\n",
       "      <td>N</td>\n",
       "      <td>2021-01-15</td>\n",
       "      <td>13</td>\n",
       "    </tr>\n",
       "  </tbody>\n",
       "</table>\n",
       "</div>"
      ],
      "text/plain": [
       "       USER              brandnm                                    goodsnm  \\\n",
       "0   a161237                Gucci         flower dionysus shoulder bag beige   \n",
       "1  a1140859  El estilo de Claire                 beads cropped jacket black   \n",
       "2  a1140859                Danha  embroidery point oriental mini skirt blue   \n",
       "\n",
       "    reg_date order_date p_type sub_type app_yn FirstOrder  How_Long  \n",
       "0 2019-12-06 2021-01-15  7days       BA      Y 2021-01-15       406  \n",
       "1 2021-01-02 2021-01-15  4days        O      N 2021-01-15        13  \n",
       "2 2021-01-02 2021-01-15  4days        B      N 2021-01-15        13  "
      ]
     },
     "execution_count": 50,
     "metadata": {},
     "output_type": "execute_result"
    }
   ],
   "source": [
    "df.head(3)"
   ]
  },
  {
   "cell_type": "code",
   "execution_count": 51,
   "metadata": {},
   "outputs": [
    {
     "data": {
      "text/html": [
       "<div>\n",
       "<style scoped>\n",
       "    .dataframe tbody tr th:only-of-type {\n",
       "        vertical-align: middle;\n",
       "    }\n",
       "\n",
       "    .dataframe tbody tr th {\n",
       "        vertical-align: top;\n",
       "    }\n",
       "\n",
       "    .dataframe thead th {\n",
       "        text-align: right;\n",
       "    }\n",
       "</style>\n",
       "<table border=\"1\" class=\"dataframe\">\n",
       "  <thead>\n",
       "    <tr style=\"text-align: right;\">\n",
       "      <th></th>\n",
       "      <th>USER</th>\n",
       "      <th>brandnm</th>\n",
       "      <th>goodsnm</th>\n",
       "      <th>reg_date</th>\n",
       "      <th>order_date</th>\n",
       "      <th>p_type</th>\n",
       "      <th>sub_type</th>\n",
       "      <th>app_yn</th>\n",
       "      <th>FirstOrder</th>\n",
       "      <th>How_Long</th>\n",
       "    </tr>\n",
       "  </thead>\n",
       "  <tbody>\n",
       "    <tr>\n",
       "      <th>0</th>\n",
       "      <td>a161237</td>\n",
       "      <td>Gucci</td>\n",
       "      <td>flower dionysus shoulder bag beige</td>\n",
       "      <td>2019-12-06</td>\n",
       "      <td>2021-01-15</td>\n",
       "      <td>7days</td>\n",
       "      <td>BA</td>\n",
       "      <td>Y</td>\n",
       "      <td>2021-01-15</td>\n",
       "      <td>406</td>\n",
       "    </tr>\n",
       "    <tr>\n",
       "      <th>387</th>\n",
       "      <td>a174601</td>\n",
       "      <td>Akro</td>\n",
       "      <td>strap basic pattern trench-coat beige</td>\n",
       "      <td>2020-01-17</td>\n",
       "      <td>2021-02-26</td>\n",
       "      <td>4days</td>\n",
       "      <td>O</td>\n",
       "      <td>Y</td>\n",
       "      <td>2021-02-26</td>\n",
       "      <td>406</td>\n",
       "    </tr>\n",
       "  </tbody>\n",
       "</table>\n",
       "</div>"
      ],
      "text/plain": [
       "        USER brandnm                                goodsnm   reg_date  \\\n",
       "0    a161237   Gucci     flower dionysus shoulder bag beige 2019-12-06   \n",
       "387  a174601    Akro  strap basic pattern trench-coat beige 2020-01-17   \n",
       "\n",
       "    order_date p_type sub_type app_yn FirstOrder  How_Long  \n",
       "0   2021-01-15  7days       BA      Y 2021-01-15       406  \n",
       "387 2021-02-26  4days        O      Y 2021-02-26       406  "
      ]
     },
     "execution_count": 51,
     "metadata": {},
     "output_type": "execute_result"
    }
   ],
   "source": [
    "df.query('405 < How_Long < 407')"
   ]
  },
  {
   "cell_type": "markdown",
   "metadata": {},
   "source": [
    "## df_TS 등급 0~3일"
   ]
  },
  {
   "cell_type": "code",
   "execution_count": 122,
   "metadata": {},
   "outputs": [],
   "source": [
    "df_TS = df.query('0 <= How_Long <= 3')"
   ]
  },
  {
   "cell_type": "code",
   "execution_count": 123,
   "metadata": {},
   "outputs": [],
   "source": [
    "df_TS.drop([\"order_date\",\"reg_date\",\"FirstOrder\"], axis=1, inplace=True)"
   ]
  },
  {
   "cell_type": "markdown",
   "metadata": {},
   "source": [
    "## df_TA 등급 4~200일"
   ]
  },
  {
   "cell_type": "code",
   "execution_count": 58,
   "metadata": {},
   "outputs": [],
   "source": [
    "df_TA = df.query('4 <= How_Long <= 200')"
   ]
  },
  {
   "cell_type": "code",
   "execution_count": 59,
   "metadata": {},
   "outputs": [],
   "source": [
    "df_TA.drop([\"order_date\",\"reg_date\",\"FirstOrder\"], axis=1, inplace=True)"
   ]
  },
  {
   "cell_type": "markdown",
   "metadata": {},
   "source": [
    "## df_TB 등급 200~600일"
   ]
  },
  {
   "cell_type": "code",
   "execution_count": 60,
   "metadata": {},
   "outputs": [],
   "source": [
    "df_TB = df.query('200 < How_Long <= 600')"
   ]
  },
  {
   "cell_type": "code",
   "execution_count": 61,
   "metadata": {},
   "outputs": [],
   "source": [
    "df_TB.drop([\"order_date\",\"reg_date\",\"FirstOrder\"], axis=1, inplace=True)"
   ]
  },
  {
   "cell_type": "markdown",
   "metadata": {},
   "source": [
    "## df_TC 등급 600일 이상"
   ]
  },
  {
   "cell_type": "code",
   "execution_count": 62,
   "metadata": {},
   "outputs": [],
   "source": [
    "df_TC = df.query('600 < How_Long')"
   ]
  },
  {
   "cell_type": "code",
   "execution_count": 64,
   "metadata": {},
   "outputs": [],
   "source": [
    "df_TC.drop([\"order_date\",\"reg_date\",\"FirstOrder\"], axis=1, inplace=True)"
   ]
  },
  {
   "cell_type": "markdown",
   "metadata": {},
   "source": [
    "### brandnm컬럼 비교 분석"
   ]
  },
  {
   "cell_type": "markdown",
   "metadata": {},
   "source": [
    "#### TS"
   ]
  },
  {
   "cell_type": "code",
   "execution_count": 124,
   "metadata": {},
   "outputs": [],
   "source": [
    "df_TS_value = pd.DataFrame(df_TS[\"brandnm\"].value_counts()).sort_index(ascending=False)"
   ]
  },
  {
   "cell_type": "code",
   "execution_count": 78,
   "metadata": {},
   "outputs": [],
   "source": [
    "df_TS_value = df_TS_value[df_TS_value[\"brandnm\"] > 3]"
   ]
  },
  {
   "cell_type": "code",
   "execution_count": 79,
   "metadata": {
    "scrolled": false
   },
   "outputs": [
    {
     "data": {
      "text/plain": [
       "<AxesSubplot:>"
      ]
     },
     "execution_count": 79,
     "metadata": {},
     "output_type": "execute_result"
    },
    {
     "data": {
      "image/png": "[encoded data removed]",
      "text/plain": [
       "<Figure size 432x288 with 1 Axes>"
      ]
     },
     "metadata": {
      "needs_background": "light"
     },
     "output_type": "display_data"
    }
   ],
   "source": [
    "df_TS_value.plot(kind=\"bar\")"
   ]
  },
  {
   "cell_type": "markdown",
   "metadata": {},
   "source": [
    "#### TA"
   ]
  },
  {
   "cell_type": "code",
   "execution_count": 106,
   "metadata": {},
   "outputs": [],
   "source": [
    "df_TA_value = pd.DataFrame(df_TA[\"brandnm\"].value_counts()).sort_index(ascending=False)"
   ]
  },
  {
   "cell_type": "code",
   "execution_count": 107,
   "metadata": {},
   "outputs": [],
   "source": [
    "df_TA_value = df_TA_value[df_TA_value['brandnm']>3]"
   ]
  },
  {
   "cell_type": "code",
   "execution_count": 108,
   "metadata": {},
   "outputs": [
    {
     "data": {
      "text/plain": [
       "<AxesSubplot:>"
      ]
     },
     "execution_count": 108,
     "metadata": {},
     "output_type": "execute_result"
    },
    {
     "data": {
      "image/png": "[encoded data removed]",
      "text/plain": [
       "<Figure size 432x288 with 1 Axes>"
      ]
     },
     "metadata": {
      "needs_background": "light"
     },
     "output_type": "display_data"
    }
   ],
   "source": [
    "df_TA_value.plot(kind=\"bar\")"
   ]
  },
  {
   "cell_type": "markdown",
   "metadata": {},
   "source": [
    "#### TB"
   ]
  },
  {
   "cell_type": "code",
   "execution_count": 109,
   "metadata": {},
   "outputs": [
    {
     "data": {
      "text/plain": [
       "<AxesSubplot:>"
      ]
     },
     "execution_count": 109,
     "metadata": {},
     "output_type": "execute_result"
    },
    {
     "data": {
      "image/png": "[encoded data removed]",
      "text/plain": [
       "<Figure size 432x288 with 1 Axes>"
      ]
     },
     "metadata": {
      "needs_background": "light"
     },
     "output_type": "display_data"
    }
   ],
   "source": [
    "df_TB_value = pd.DataFrame(df_TB[\"brandnm\"].value_counts()).sort_index(ascending=False)\n",
    "df_TB_value = df_TB_value[df_TB_value['brandnm']>3]\n",
    "df_TB_value.plot(kind=\"bar\")"
   ]
  },
  {
   "cell_type": "markdown",
   "metadata": {},
   "source": [
    "#### TC"
   ]
  },
  {
   "cell_type": "code",
   "execution_count": 115,
   "metadata": {},
   "outputs": [
    {
     "data": {
      "text/plain": [
       "<AxesSubplot:>"
      ]
     },
     "execution_count": 115,
     "metadata": {},
     "output_type": "execute_result"
    },
    {
     "data": {
      "image/png": "[encoded data removed]",
      "text/plain": [
       "<Figure size 432x288 with 1 Axes>"
      ]
     },
     "metadata": {
      "needs_background": "light"
     },
     "output_type": "display_data"
    }
   ],
   "source": [
    "df_TC_value = pd.DataFrame(df_TC[\"brandnm\"].value_counts()).sort_index(ascending=False)\n",
    "df_TC_value = df_TC_value[df_TC_value['brandnm']>=1]\n",
    "df_TC_value.plot(kind=\"bar\")"
   ]
  },
  {
   "cell_type": "code",
   "execution_count": 116,
   "metadata": {},
   "outputs": [
    {
     "data": {
      "text/plain": [
       "<AxesSubplot:>"
      ]
     },
     "execution_count": 116,
     "metadata": {},
     "output_type": "execute_result"
    },
    {
     "data": {
      "image/png": "[encoded data removed]",
      "text/plain": [
       "<Figure size 432x288 with 1 Axes>"
      ]
     },
     "metadata": {
      "needs_background": "light"
     },
     "output_type": "display_data"
    }
   ],
   "source": [
    "df_TC_value = pd.DataFrame(df_TC[\"brandnm\"].value_counts()).sort_index(ascending=False)\n",
    "df_TC_value = df_TC_value[df_TC_value['brandnm']>=2]\n",
    "df_TC_value.plot(kind=\"bar\") #여기여"
   ]
  },
  {
   "cell_type": "markdown",
   "metadata": {},
   "source": [
    "### TS - Gucci    "
   ]
  },
  {
   "cell_type": "code",
   "execution_count": null,
   "metadata": {},
   "outputs": [],
   "source": [
    "df_TS_copy = df_TS.copy() #ttt"
   ]
  },
  {
   "cell_type": "code",
   "execution_count": 147,
   "metadata": {},
   "outputs": [],
   "source": [
    "df_TS_copy = df_TS_copy .query('brandnm == \"Gucci\"')"
   ]
  },
  {
   "cell_type": "markdown",
   "metadata": {},
   "source": [
    "#### TS - Gucci - goodsnm"
   ]
  },
  {
   "cell_type": "code",
   "execution_count": 156,
   "metadata": {},
   "outputs": [],
   "source": [
    "df_TS_copy_goodsnm = pd.DataFrame(df_TS_copy[\"goodsnm\"].value_counts())"
   ]
  },
  {
   "cell_type": "code",
   "execution_count": 160,
   "metadata": {},
   "outputs": [
    {
     "data": {
      "text/plain": [
       "<AxesSubplot:>"
      ]
     },
     "execution_count": 160,
     "metadata": {},
     "output_type": "execute_result"
    },
    {
     "data": {
      "image/png": "[encoded data removed]",
      "text/plain": [
       "<Figure size 432x288 with 1 Axes>"
      ]
     },
     "metadata": {
      "needs_background": "light"
     },
     "output_type": "display_data"
    }
   ],
   "source": [
    "df_TS_copy_goodsnm[df_TS_copy_goodsnm[\"goodsnm\"] >1].plot(kind=\"bar\")"
   ]
  },
  {
   "cell_type": "code",
   "execution_count": 166,
   "metadata": {},
   "outputs": [
    {
     "data": {
      "text/plain": [
       "Index(['dionysus cross bag beige', 'padlock GG canvas shoulder bag',\n",
       "       'microssima emily mini bag black',\n",
       "       'button flower pattern H-Line dress lavender', 'flap cross bag black',\n",
       "       'dionysus shoulder bag beige', 'logo pointed cross bag black',\n",
       "       'dionysos velvet chain shoulder bag navy', 'leather point cross bag',\n",
       "       'mammont chain wallet bag black', 'wood handle dionysus bag',\n",
       "       'marmont gg logo quilted bag Black', 'dionysus cross bag',\n",
       "       'mamont chain mini cross bag black', 'GG marmont belt bag black',\n",
       "       'small logo pointed cross bag black', 'logo pointed cross bag',\n",
       "       'padlock GG canvas chain bag 2', 'GG clutch chain bag',\n",
       "       'unique vintage web mini cross bag', 'mamont bucket bag ivory',\n",
       "       'dionysus cross bag black', 'vintage web shoulder bag black',\n",
       "       'jackie 1961 hobo bag ivory', 'mamont chain bag black',\n",
       "       'monogram strap cross bag brown', 'microssima emily mini bag cream',\n",
       "       'sylvie mini chain ribbon bag red', 'marmont GG velvet bag purple',\n",
       "       'GG pattern cross body bag beige',\n",
       "       'graphics pattern sweat-shirts ivory',\n",
       "       'marmont GG logo quilted bag black', 'lettering pattern sweater black',\n",
       "       'vintage web round cross bag black', 'vintage web GG backpack',\n",
       "       'dionysus cross bag green', 'microssima emily shoulder bag black',\n",
       "       'mamont chain bag red', 'marmont gg logo quilted bag Black 2',\n",
       "       'sylvie leather mini chain bag black',\n",
       "       'printing lettering pattern t-shirts cream',\n",
       "       'quilted GG marmont clutch bag', 'GG marmont belt bag bluegreen',\n",
       "       'jacquard shoulder tote bag', 'GG marmont quilted-leather belt bag',\n",
       "       'scarf tote bag', 'flap cross bag grey', 'snake monogram bag beige',\n",
       "       'color block pattern wool sweater pink', 'ophidia small black',\n",
       "       'vintage web cross bag brown', 'vintage web GG two way bag brown',\n",
       "       'sylvie mini chain ribbon bag white', 'mammont cross bag multi',\n",
       "       'vintage web bucket bag brown', 'GG marmont shoulder bag pink',\n",
       "       'GG marmont leather belt bag 2', 'quilted GG momont cross bag black',\n",
       "       'ribbon basic pattern jacket pink', 'dionysus bag',\n",
       "       'monogram backpack brown', 'GG supreme clutch brown',\n",
       "       'microssima mini cross body bag pink',\n",
       "       'mixed pattern ribbon jacket multi', 'mammont tote red',\n",
       "       'Mamont top handle black bag', 'jackie 1961 hobo bag brown'],\n",
       "      dtype='object')"
      ]
     },
     "execution_count": 166,
     "metadata": {},
     "output_type": "execute_result"
    }
   ],
   "source": [
    "df_TS_copy_goodsnm[\"goodsnm\"].index"
   ]
  },
  {
   "cell_type": "markdown",
   "metadata": {},
   "source": [
    "#### 위 차트가 TS 그룹이 가장 좋아하는 상품 목록 (가장 좋아하는 브랜드: 구찌, 구찌에서 2번 이상 구매한 상품 목록)"
   ]
  },
  {
   "cell_type": "markdown",
   "metadata": {},
   "source": [
    "### 모집단 - Gucci"
   ]
  },
  {
   "cell_type": "code",
   "execution_count": 174,
   "metadata": {},
   "outputs": [],
   "source": [
    "df_copy = df.copy()"
   ]
  },
  {
   "cell_type": "code",
   "execution_count": 175,
   "metadata": {},
   "outputs": [],
   "source": [
    "df_copy = df_copy.query('brandnm == \"Gucci\"')"
   ]
  },
  {
   "cell_type": "code",
   "execution_count": 178,
   "metadata": {},
   "outputs": [
    {
     "data": {
      "text/plain": [
       "<AxesSubplot:>"
      ]
     },
     "execution_count": 178,
     "metadata": {},
     "output_type": "execute_result"
    },
    {
     "data": {
      "image/png": "[encoded data removed]",
      "text/plain": [
       "<Figure size 432x288 with 1 Axes>"
      ]
     },
     "metadata": {
      "needs_background": "light"
     },
     "output_type": "display_data"
    }
   ],
   "source": [
    "df_copy_goodsnm = pd.DataFrame(df_copy[\"goodsnm\"].value_counts())\n",
    "df_copy_goodsnm[df_copy_goodsnm[\"goodsnm\"] >2].plot(kind=\"bar\")"
   ]
  },
  {
   "cell_type": "code",
   "execution_count": 180,
   "metadata": {},
   "outputs": [
    {
     "data": {
      "text/plain": [
       "Index(['padlock GG canvas shoulder bag', 'dionysus shoulder bag beige',\n",
       "       'flap cross bag black', 'dionysus cross bag beige',\n",
       "       'microssima emily mini bag black', 'mammont chain wallet bag black',\n",
       "       'dionysos velvet chain shoulder bag navy',\n",
       "       'sylvie leather mini chain bag black', 'logo pointed cross bag',\n",
       "       'marmont GG logo quilted bag black', 'logo pointed cross bag black',\n",
       "       'mamont chain mini cross bag black', 'mamont chain bag black',\n",
       "       'vintage web shoulder bag black',\n",
       "       'button flower pattern H-Line dress lavender',\n",
       "       'dionysus cross bag black', 'marmont gg logo quilted bag Black',\n",
       "       'dionysus cross bag', 'flap cross bag grey',\n",
       "       'padlock GG canvas chain bag 2', 'GG clutch chain bag',\n",
       "       'brooch check pattern H-Line dress ivory',\n",
       "       'lettering pattern sweater black', 'vintage web round cross bag black',\n",
       "       'jackie 1961 hobo bag brown', 'microssima emily mini bag cream',\n",
       "       'GG marmont quilted-leather belt bag', 'leather point cross bag',\n",
       "       'sylvie mini chain ribbon bag red', 'wood handle dionysus bag',\n",
       "       'GG pattern cross body bag beige', 'mixed pattern knit top multi',\n",
       "       'marmont gg logo quilted bag Black 2', 'dionysus cross bag green',\n",
       "       'jackie 1961 hobo bag ivory', 'small logo pointed cross bag black',\n",
       "       'mamont bucket bag ivory', 'GG marmont belt bag black',\n",
       "       'super mini sylvie white', 'GG marmont belt bag bluegreen',\n",
       "       'mixed pattern ribbon jacket multi',\n",
       "       'graphics pattern sweat-shirts ivory', 'dionysus cross bag2',\n",
       "       'mamont chain bag red', 'vintage web GG two way bag brown',\n",
       "       'ophidia small black', 'unique vintage web mini cross bag',\n",
       "       'flower dionysus shoulder bag beige', 'vintage web GG backpack',\n",
       "       'marmont GG velvet bag purple', 'monogram strap cross bag brown',\n",
       "       'microssima emily shoulder bag black',\n",
       "       'sylvie mini chain ribbon bag white', 'GG supreme clutch brown',\n",
       "       'basic pattern A-Line dress cream', 'scarf tote bag',\n",
       "       'stripe pattern pointed cardigan', 'snake monogram bag beige',\n",
       "       'sylvie leather mini chain bag red', 'vintage web bucket bag brown',\n",
       "       'monogram mammont chain bag black',\n",
       "       'printing lettering pattern t-shirts cream',\n",
       "       'lettering point two way bag brown', 'GG pattern boston bag beige',\n",
       "       'Mickeymouse Round Shoulder Bag',\n",
       "       'basic pattern turtle neck sweater white',\n",
       "       'color block pattern wool sweater pink', 'jacquard shoulder tote bag',\n",
       "       'GG marmont shoulder bag pink', 'mammont cross bag multi',\n",
       "       'GG marmont cross bag bluegreen', 'ophidia GG mini bag',\n",
       "       'GG soho chain clutch bag black', 'quilted GG marmont clutch bag',\n",
       "       'microssima mini cross body bag pink', 'mammont tote red',\n",
       "       'vintage web cross bag brown', 'ribbon basic pattern jacket pink',\n",
       "       'pattern pointed a-line skirts', 'Mamont top handle black bag',\n",
       "       'leather pointed half sleeve dress', 'v neck floral printing dress',\n",
       "       'mamont chain cross body bag black', 'monogram backpack brown',\n",
       "       'dionysus bag', 'GG marmont leather belt bag 2',\n",
       "       'marmont gg logo quilted bag Black 4',\n",
       "       'quilted GG momont cross bag black',\n",
       "       'printing pattern sweat-shirts grey'],\n",
       "      dtype='object')"
      ]
     },
     "execution_count": 180,
     "metadata": {},
     "output_type": "execute_result"
    }
   ],
   "source": [
    "df_copy_goodsnm.index"
   ]
  },
  {
   "cell_type": "markdown",
   "metadata": {},
   "source": [
    "### TOP 3 비교 - 결과"
   ]
  },
  {
   "cell_type": "markdown",
   "metadata": {},
   "source": [
    "#### 모집단 \n",
    "padlock GG canvas shoulder bag > <br>\n",
    "dionysus shoulder bag beige ><br>\n",
    "flap cross bag black'& 'dionysus cross bag beige"
   ]
  },
  {
   "cell_type": "markdown",
   "metadata": {},
   "source": [
    "#### TS그룹 \n",
    "dionysus cross bag beige > <br>\n",
    "padlock GG canvas shoulder bag & microssima emily mini bag black > <br>\n",
    "'button flower pattern H-Line dress lavender'& 'flap cross bag black'&'dionysus shoulder bag beige'\n"
   ]
  },
  {
   "cell_type": "markdown",
   "metadata": {},
   "source": [
    "dionysus cross bag beige<br>\n",
    "TS그룹에서는 1위 상품 모집단에서는 3위 상품 "
   ]
  },
  {
   "cell_type": "markdown",
   "metadata": {},
   "source": [
    "padlock GG canvas shoulder bag <br>\n",
    "TS그룹에서는 2위 상품 모집단에서는 1위 상품 "
   ]
  },
  {
   "cell_type": "markdown",
   "metadata": {},
   "source": [
    "microssima emily mini bag black <br>\n",
    "TS그룹에서는 2위 상품  모집단에서는 4위 상품"
   ]
  },
  {
   "cell_type": "markdown",
   "metadata": {},
   "source": [
    "button flower pattern H-Line dress lavender <br>\n",
    "TS그룹에서는 3위 상품\n",
    "모집단에서는 5위 상품 "
   ]
  },
  {
   "cell_type": "markdown",
   "metadata": {},
   "source": [
    "flap cross bag black <br>\n",
    "TS그룹에서는 3위 상품 모집단에서도 3위 상품 "
   ]
  },
  {
   "cell_type": "markdown",
   "metadata": {},
   "source": [
    "dionysus shoulder bag beige<br>\n",
    "TS그룹에서는 3위상품 모집단에서는 2위 상품"
   ]
  },
  {
   "cell_type": "markdown",
   "metadata": {},
   "source": [
    "#### 결과: 구찌 상품에서 dionysus cross bag beiged와 button flower pattern H-Line dress lavender은 TS그룹이 모집단에 비해 더 선호하는 상품이다."
   ]
  },
  {
   "cell_type": "markdown",
   "metadata": {},
   "source": [
    "### TA - Gucci"
   ]
  },
  {
   "cell_type": "markdown",
   "metadata": {},
   "source": [
    "#### TA - Gucci - goodsnm"
   ]
  },
  {
   "cell_type": "code",
   "execution_count": 184,
   "metadata": {
    "scrolled": false
   },
   "outputs": [
    {
     "data": {
      "text/plain": [
       "<AxesSubplot:>"
      ]
     },
     "execution_count": 184,
     "metadata": {},
     "output_type": "execute_result"
    },
    {
     "data": {
      "image/png": "[encoded data removed]",
      "text/plain": [
       "<Figure size 432x288 with 1 Axes>"
      ]
     },
     "metadata": {
      "needs_background": "light"
     },
     "output_type": "display_data"
    }
   ],
   "source": [
    "df_TA_copy = df_TA.copy()\n",
    "df_TA_copy = df_TA_copy .query('brandnm == \"Gucci\"')\n",
    "df_TA_copy_goodsnm = pd.DataFrame(df_TA_copy[\"goodsnm\"].value_counts())\n",
    "df_TA_copy_goodsnm[df_TA_copy_goodsnm[\"goodsnm\"] >1].plot(kind=\"bar\")"
   ]
  },
  {
   "cell_type": "code",
   "execution_count": 186,
   "metadata": {},
   "outputs": [
    {
     "data": {
      "text/plain": [
       "Index(['mammont chain wallet bag black', 'mamont chain bag black',\n",
       "       'flap cross bag grey', 'super mini sylvie white',\n",
       "       'flap cross bag black', 'dionysus shoulder bag beige',\n",
       "       'mixed pattern knit top multi',\n",
       "       'dionysos velvet chain shoulder bag navy',\n",
       "       'GG marmont quilted-leather belt bag', 'dionysus cross bag2',\n",
       "       'padlock GG canvas shoulder bag', 'marmont GG logo quilted bag black',\n",
       "       'jackie 1961 hobo bag brown', 'vintage web shoulder bag black',\n",
       "       'sylvie leather mini chain bag black',\n",
       "       'basic pattern A-Line dress cream', 'mamont chain bag red',\n",
       "       'ophidia GG mini bag', 'sylvie mini chain ribbon bag red',\n",
       "       'GG marmont belt bag bluegreen', 'leather pointed half sleeve dress',\n",
       "       'brooch check pattern H-Line dress ivory',\n",
       "       'vintage web round cross bag black', 'stripe pattern pointed cardigan',\n",
       "       'mamont bucket bag ivory', 'pattern pointed a-line skirts',\n",
       "       'marmont gg logo quilted bag Black',\n",
       "       'marmont gg logo quilted bag Black 4',\n",
       "       'mixed pattern ribbon jacket multi', 'vintage web GG two way bag brown',\n",
       "       'lettering pattern sweater black', 'microssima emily mini bag cream',\n",
       "       'sylvie mini chain ribbon bag white', 'GG pattern cross body bag beige',\n",
       "       'dionysus cross bag black', 'logo pointed cross bag',\n",
       "       'v neck floral printing dress',\n",
       "       'basic pattern turtle neck sweater white', 'ophidia small black',\n",
       "       'GG pattern boston bag beige', 'mamont chain cross body bag black',\n",
       "       'GG marmont cross bag bluegreen', 'microssima emily mini bag black',\n",
       "       'GG soho chain clutch bag black', 'mamont chain mini cross bag black',\n",
       "       'printing pattern sweat-shirts grey'],\n",
       "      dtype='object')"
      ]
     },
     "execution_count": 186,
     "metadata": {},
     "output_type": "execute_result"
    }
   ],
   "source": [
    "df_TA_copy_goodsnm[\"goodsnm\"].index"
   ]
  },
  {
   "cell_type": "markdown",
   "metadata": {},
   "source": [
    "### TOP 3 비교 - 결과"
   ]
  },
  {
   "cell_type": "markdown",
   "metadata": {},
   "source": [
    "### 모집단"
   ]
  },
  {
   "cell_type": "markdown",
   "metadata": {},
   "source": [
    "padlock GG canvas shoulder bag > <br>\n",
    "dionysus shoulder bag beige ><br>\n",
    "flap cross bag black'& 'dionysus cross bag beige"
   ]
  },
  {
   "cell_type": "markdown",
   "metadata": {},
   "source": [
    "mammont chain wallet bag black <br>\n",
    "TA그룹 1위 상품 모집단 4위 상품 "
   ]
  },
  {
   "cell_type": "markdown",
   "metadata": {},
   "source": [
    "mamont chain bag black <br>\n",
    "TA그룹 1위 상품 모집단 4위 상품"
   ]
  },
  {
   "cell_type": "markdown",
   "metadata": {},
   "source": [
    "mamont chain bag black<br>\n",
    "TA그룹 1위 상품 모집단 6위 상품 "
   ]
  },
  {
   "cell_type": "markdown",
   "metadata": {},
   "source": [
    "super mini sylvie white <br>\n",
    "TA그룹 1위 상품 모집단 7위 상품"
   ]
  },
  {
   "cell_type": "markdown",
   "metadata": {},
   "source": [
    "flap cross bag grey<br>\n",
    "TA그룹 1위 상품 모집단 6위 상품"
   ]
  },
  {
   "cell_type": "markdown",
   "metadata": {},
   "source": [
    "dionysus shoulder bag beige <br>\n",
    "TA그룹에서 1위 TS그룹에서는 3위상품 모집단에서는 2위 상품"
   ]
  },
  {
   "cell_type": "markdown",
   "metadata": {},
   "source": [
    "### TB - Gucci"
   ]
  },
  {
   "cell_type": "markdown",
   "metadata": {},
   "source": [
    "#### TB - Gucci _ goodsnm"
   ]
  },
  {
   "cell_type": "code",
   "execution_count": 189,
   "metadata": {
    "scrolled": false
   },
   "outputs": [
    {
     "data": {
      "text/plain": [
       "<AxesSubplot:>"
      ]
     },
     "execution_count": 189,
     "metadata": {},
     "output_type": "execute_result"
    },
    {
     "data": {
      "image/png": "[encoded data removed]",
      "text/plain": [
       "<Figure size 432x288 with 1 Axes>"
      ]
     },
     "metadata": {
      "needs_background": "light"
     },
     "output_type": "display_data"
    }
   ],
   "source": [
    "df_TB_copy = df_TB.copy()\n",
    "df_TB_copy = df_TB_copy .query('brandnm == \"Gucci\"')\n",
    "df_TB_copy_goodsnm = pd.DataFrame(df_TB_copy[\"goodsnm\"].value_counts())\n",
    "df_TB_copy_goodsnm[df_TB_copy_goodsnm[\"goodsnm\"] >1].plot(kind=\"bar\")"
   ]
  },
  {
   "cell_type": "code",
   "execution_count": 192,
   "metadata": {},
   "outputs": [
    {
     "data": {
      "text/plain": [
       "Index(['flower dionysus shoulder bag beige', 'padlock GG canvas shoulder bag',\n",
       "       'marmont gg logo quilted bag Black 2',\n",
       "       'sylvie leather mini chain bag black',\n",
       "       'brooch check pattern H-Line dress ivory',\n",
       "       'mamont chain mini cross bag black', 'jackie 1961 hobo bag ivory',\n",
       "       'dionysus cross bag', 'dionysus cross bag green',\n",
       "       'marmont GG logo quilted bag black',\n",
       "       'sylvie leather mini chain bag red', 'logo pointed cross bag',\n",
       "       'lettering point two way bag brown', 'dionysus shoulder bag beige',\n",
       "       'Mickeymouse Round Shoulder Bag', 'GG supreme clutch brown',\n",
       "       'dionysus cross bag black', 'mixed pattern knit top multi',\n",
       "       'monogram mammont chain bag black', 'logo pointed cross bag black'],\n",
       "      dtype='object')"
      ]
     },
     "execution_count": 192,
     "metadata": {},
     "output_type": "execute_result"
    }
   ],
   "source": [
    "df_TB_copy_goodsnm.index"
   ]
  },
  {
   "cell_type": "markdown",
   "metadata": {},
   "source": [
    "### TOP 3 비교 - 결과"
   ]
  },
  {
   "cell_type": "markdown",
   "metadata": {},
   "source": [
    "### 모집단"
   ]
  },
  {
   "cell_type": "markdown",
   "metadata": {},
   "source": [
    "padlock GG canvas shoulder bag >\n",
    "dionysus shoulder bag beige >\n",
    "flap cross bag black'& 'dionysus cross bag beige"
   ]
  },
  {
   "cell_type": "markdown",
   "metadata": {},
   "source": [
    "flower dionysus shoulder bag beige <br>\n",
    "TB 1위 상품 모집단 10위 밖 상품 "
   ]
  },
  {
   "cell_type": "markdown",
   "metadata": {},
   "source": [
    "padlock GG canvas shoulder bag <br>\n",
    "TB 1위 상품 모집단 1위 상품 "
   ]
  },
  {
   "cell_type": "markdown",
   "metadata": {},
   "source": [
    "marmont gg logo quilted bag Black 2 <br>\n",
    "TB 1위 상품 모집단 7위 상품 "
   ]
  },
  {
   "cell_type": "markdown",
   "metadata": {},
   "source": [
    "sylvie leather mini chain bag black<br>\n",
    "TB 1위 상품 모집단 5위 상품 "
   ]
  },
  {
   "cell_type": "markdown",
   "metadata": {},
   "source": [
    "brooch check pattern H-Line dress ivory <br>\n",
    "TB1위 상품 모집단 7위 상품 "
   ]
  },
  {
   "cell_type": "markdown",
   "metadata": {},
   "source": [
    "### TC -goodsname"
   ]
  },
  {
   "cell_type": "code",
   "execution_count": 198,
   "metadata": {},
   "outputs": [
    {
     "data": {
      "text/plain": [
       "array(['Prada', 'Molliolli', 'Sandro', 'Plastic Island', 'Celine',\n",
       "       'Christian Dior', 'Escada', 'Saint Laurent', 'Yves Saint Laurent',\n",
       "       'Yves Saint Laurent', 'Delvaux', 'Louis Vuitton', 'Fendi',\n",
       "       'JDC Lucky Chouette', 'Saint Laurent', 'Burberry', 'Prada',\n",
       "       'El estilo de Claire', 'Chloe', 'Louis Vuitton', 'Balenciaga',\n",
       "       'Prada', 'The Centaur', 'Leah', 'Rosa.K', 'Michael Michael Kors',\n",
       "       'Sandro', 'Time', 'Collabotory', 'Vivienne Westwood', 'Mojosphine',\n",
       "       'Sorry Too Much Love', 'Dewl', 'Valentino', 'Rouje', 'Chloe',\n",
       "       'Gucci', 'Louis Vuitton', 'Saint Laurent', 'A.P.C.', 'Celine',\n",
       "       'Allsaints', 'And You', 'Valentino', 'Dint', 'Gucci', 'Fayewoo',\n",
       "       'Kenzo', 'Chloe', 'Cesare Paciotti', 'Andersson Bell', 'Sandro',\n",
       "       'Michaa', 'Michaa', 'Anna Sui', 'Lucky Chouette', 'Maje',\n",
       "       'Balmain', 'Recto.', 'Max Mara', 'Yves Saint Laurent'],\n",
       "      dtype=object)"
      ]
     },
     "execution_count": 198,
     "metadata": {},
     "output_type": "execute_result"
    }
   ],
   "source": [
    "df_TC[\"brandnm\"].values"
   ]
  }
 ],
 "metadata": {
  "kernelspec": {
   "display_name": "Python 3",
   "language": "python",
   "name": "python3"
  },
  "language_info": {
   "codemirror_mode": {
    "name": "ipython",
    "version": 3
   },
   "file_extension": ".py",
   "mimetype": "text/x-python",
   "name": "python",
   "nbconvert_exporter": "python",
   "pygments_lexer": "ipython3",
   "version": "3.8.3"
  }
 },
 "nbformat": 4,
 "nbformat_minor": 4
}
