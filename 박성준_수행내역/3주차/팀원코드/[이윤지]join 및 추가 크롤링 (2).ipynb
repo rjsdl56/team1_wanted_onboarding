{
 "cells": [
  {
   "cell_type": "code",
   "execution_count": 4,
   "metadata": {},
   "outputs": [
    {
     "ename": "FileNotFoundError",
     "evalue": "[Errno 2] File ./data/clsoet_share_bags.csv does not exist: './data/clsoet_share_bags.csv'",
     "output_type": "error",
     "traceback": [
      "\u001b[1;31m---------------------------------------------------------------------------\u001b[0m",
      "\u001b[1;31mFileNotFoundError\u001b[0m                         Traceback (most recent call last)",
      "\u001b[1;32m<ipython-input-4-7a6be0c8e0e4>\u001b[0m in \u001b[0;36m<module>\u001b[1;34m\u001b[0m\n\u001b[0;32m      1\u001b[0m \u001b[1;32mimport\u001b[0m \u001b[0mpandas\u001b[0m \u001b[1;32mas\u001b[0m \u001b[0mpd\u001b[0m\u001b[1;33m\u001b[0m\u001b[1;33m\u001b[0m\u001b[0m\n\u001b[0;32m      2\u001b[0m \u001b[1;33m\u001b[0m\u001b[0m\n\u001b[1;32m----> 3\u001b[1;33m \u001b[0mdt\u001b[0m \u001b[1;33m=\u001b[0m \u001b[0mpd\u001b[0m\u001b[1;33m.\u001b[0m\u001b[0mread_csv\u001b[0m\u001b[1;33m(\u001b[0m\u001b[1;34m'./data/clsoet_share_bags.csv'\u001b[0m\u001b[1;33m)\u001b[0m\u001b[1;33m.\u001b[0m\u001b[0mdrop\u001b[0m\u001b[1;33m(\u001b[0m\u001b[1;34m'Unnamed: 0'\u001b[0m\u001b[1;33m,\u001b[0m\u001b[0maxis\u001b[0m\u001b[1;33m=\u001b[0m\u001b[1;36m1\u001b[0m\u001b[1;33m)\u001b[0m\u001b[1;33m\u001b[0m\u001b[1;33m\u001b[0m\u001b[0m\n\u001b[0m\u001b[0;32m      4\u001b[0m \u001b[1;31m# cs_dt = pd.read_excel('./data/클로젯셰어_과제DB 대체 자료.xlsx')\u001b[0m\u001b[1;33m\u001b[0m\u001b[1;33m\u001b[0m\u001b[1;33m\u001b[0m\u001b[0m\n\u001b[0;32m      5\u001b[0m \u001b[1;33m\u001b[0m\u001b[0m\n",
      "\u001b[1;32m~\\anaconda3\\lib\\site-packages\\pandas\\io\\parsers.py\u001b[0m in \u001b[0;36mparser_f\u001b[1;34m(filepath_or_buffer, sep, delimiter, header, names, index_col, usecols, squeeze, prefix, mangle_dupe_cols, dtype, engine, converters, true_values, false_values, skipinitialspace, skiprows, skipfooter, nrows, na_values, keep_default_na, na_filter, verbose, skip_blank_lines, parse_dates, infer_datetime_format, keep_date_col, date_parser, dayfirst, cache_dates, iterator, chunksize, compression, thousands, decimal, lineterminator, quotechar, quoting, doublequote, escapechar, comment, encoding, dialect, error_bad_lines, warn_bad_lines, delim_whitespace, low_memory, memory_map, float_precision)\u001b[0m\n\u001b[0;32m    674\u001b[0m         )\n\u001b[0;32m    675\u001b[0m \u001b[1;33m\u001b[0m\u001b[0m\n\u001b[1;32m--> 676\u001b[1;33m         \u001b[1;32mreturn\u001b[0m \u001b[0m_read\u001b[0m\u001b[1;33m(\u001b[0m\u001b[0mfilepath_or_buffer\u001b[0m\u001b[1;33m,\u001b[0m \u001b[0mkwds\u001b[0m\u001b[1;33m)\u001b[0m\u001b[1;33m\u001b[0m\u001b[1;33m\u001b[0m\u001b[0m\n\u001b[0m\u001b[0;32m    677\u001b[0m \u001b[1;33m\u001b[0m\u001b[0m\n\u001b[0;32m    678\u001b[0m     \u001b[0mparser_f\u001b[0m\u001b[1;33m.\u001b[0m\u001b[0m__name__\u001b[0m \u001b[1;33m=\u001b[0m \u001b[0mname\u001b[0m\u001b[1;33m\u001b[0m\u001b[1;33m\u001b[0m\u001b[0m\n",
      "\u001b[1;32m~\\anaconda3\\lib\\site-packages\\pandas\\io\\parsers.py\u001b[0m in \u001b[0;36m_read\u001b[1;34m(filepath_or_buffer, kwds)\u001b[0m\n\u001b[0;32m    446\u001b[0m \u001b[1;33m\u001b[0m\u001b[0m\n\u001b[0;32m    447\u001b[0m     \u001b[1;31m# Create the parser.\u001b[0m\u001b[1;33m\u001b[0m\u001b[1;33m\u001b[0m\u001b[1;33m\u001b[0m\u001b[0m\n\u001b[1;32m--> 448\u001b[1;33m     \u001b[0mparser\u001b[0m \u001b[1;33m=\u001b[0m \u001b[0mTextFileReader\u001b[0m\u001b[1;33m(\u001b[0m\u001b[0mfp_or_buf\u001b[0m\u001b[1;33m,\u001b[0m \u001b[1;33m**\u001b[0m\u001b[0mkwds\u001b[0m\u001b[1;33m)\u001b[0m\u001b[1;33m\u001b[0m\u001b[1;33m\u001b[0m\u001b[0m\n\u001b[0m\u001b[0;32m    449\u001b[0m \u001b[1;33m\u001b[0m\u001b[0m\n\u001b[0;32m    450\u001b[0m     \u001b[1;32mif\u001b[0m \u001b[0mchunksize\u001b[0m \u001b[1;32mor\u001b[0m \u001b[0miterator\u001b[0m\u001b[1;33m:\u001b[0m\u001b[1;33m\u001b[0m\u001b[1;33m\u001b[0m\u001b[0m\n",
      "\u001b[1;32m~\\anaconda3\\lib\\site-packages\\pandas\\io\\parsers.py\u001b[0m in \u001b[0;36m__init__\u001b[1;34m(self, f, engine, **kwds)\u001b[0m\n\u001b[0;32m    878\u001b[0m             \u001b[0mself\u001b[0m\u001b[1;33m.\u001b[0m\u001b[0moptions\u001b[0m\u001b[1;33m[\u001b[0m\u001b[1;34m\"has_index_names\"\u001b[0m\u001b[1;33m]\u001b[0m \u001b[1;33m=\u001b[0m \u001b[0mkwds\u001b[0m\u001b[1;33m[\u001b[0m\u001b[1;34m\"has_index_names\"\u001b[0m\u001b[1;33m]\u001b[0m\u001b[1;33m\u001b[0m\u001b[1;33m\u001b[0m\u001b[0m\n\u001b[0;32m    879\u001b[0m \u001b[1;33m\u001b[0m\u001b[0m\n\u001b[1;32m--> 880\u001b[1;33m         \u001b[0mself\u001b[0m\u001b[1;33m.\u001b[0m\u001b[0m_make_engine\u001b[0m\u001b[1;33m(\u001b[0m\u001b[0mself\u001b[0m\u001b[1;33m.\u001b[0m\u001b[0mengine\u001b[0m\u001b[1;33m)\u001b[0m\u001b[1;33m\u001b[0m\u001b[1;33m\u001b[0m\u001b[0m\n\u001b[0m\u001b[0;32m    881\u001b[0m \u001b[1;33m\u001b[0m\u001b[0m\n\u001b[0;32m    882\u001b[0m     \u001b[1;32mdef\u001b[0m \u001b[0mclose\u001b[0m\u001b[1;33m(\u001b[0m\u001b[0mself\u001b[0m\u001b[1;33m)\u001b[0m\u001b[1;33m:\u001b[0m\u001b[1;33m\u001b[0m\u001b[1;33m\u001b[0m\u001b[0m\n",
      "\u001b[1;32m~\\anaconda3\\lib\\site-packages\\pandas\\io\\parsers.py\u001b[0m in \u001b[0;36m_make_engine\u001b[1;34m(self, engine)\u001b[0m\n\u001b[0;32m   1112\u001b[0m     \u001b[1;32mdef\u001b[0m \u001b[0m_make_engine\u001b[0m\u001b[1;33m(\u001b[0m\u001b[0mself\u001b[0m\u001b[1;33m,\u001b[0m \u001b[0mengine\u001b[0m\u001b[1;33m=\u001b[0m\u001b[1;34m\"c\"\u001b[0m\u001b[1;33m)\u001b[0m\u001b[1;33m:\u001b[0m\u001b[1;33m\u001b[0m\u001b[1;33m\u001b[0m\u001b[0m\n\u001b[0;32m   1113\u001b[0m         \u001b[1;32mif\u001b[0m \u001b[0mengine\u001b[0m \u001b[1;33m==\u001b[0m \u001b[1;34m\"c\"\u001b[0m\u001b[1;33m:\u001b[0m\u001b[1;33m\u001b[0m\u001b[1;33m\u001b[0m\u001b[0m\n\u001b[1;32m-> 1114\u001b[1;33m             \u001b[0mself\u001b[0m\u001b[1;33m.\u001b[0m\u001b[0m_engine\u001b[0m \u001b[1;33m=\u001b[0m \u001b[0mCParserWrapper\u001b[0m\u001b[1;33m(\u001b[0m\u001b[0mself\u001b[0m\u001b[1;33m.\u001b[0m\u001b[0mf\u001b[0m\u001b[1;33m,\u001b[0m \u001b[1;33m**\u001b[0m\u001b[0mself\u001b[0m\u001b[1;33m.\u001b[0m\u001b[0moptions\u001b[0m\u001b[1;33m)\u001b[0m\u001b[1;33m\u001b[0m\u001b[1;33m\u001b[0m\u001b[0m\n\u001b[0m\u001b[0;32m   1115\u001b[0m         \u001b[1;32melse\u001b[0m\u001b[1;33m:\u001b[0m\u001b[1;33m\u001b[0m\u001b[1;33m\u001b[0m\u001b[0m\n\u001b[0;32m   1116\u001b[0m             \u001b[1;32mif\u001b[0m \u001b[0mengine\u001b[0m \u001b[1;33m==\u001b[0m \u001b[1;34m\"python\"\u001b[0m\u001b[1;33m:\u001b[0m\u001b[1;33m\u001b[0m\u001b[1;33m\u001b[0m\u001b[0m\n",
      "\u001b[1;32m~\\anaconda3\\lib\\site-packages\\pandas\\io\\parsers.py\u001b[0m in \u001b[0;36m__init__\u001b[1;34m(self, src, **kwds)\u001b[0m\n\u001b[0;32m   1889\u001b[0m         \u001b[0mkwds\u001b[0m\u001b[1;33m[\u001b[0m\u001b[1;34m\"usecols\"\u001b[0m\u001b[1;33m]\u001b[0m \u001b[1;33m=\u001b[0m \u001b[0mself\u001b[0m\u001b[1;33m.\u001b[0m\u001b[0musecols\u001b[0m\u001b[1;33m\u001b[0m\u001b[1;33m\u001b[0m\u001b[0m\n\u001b[0;32m   1890\u001b[0m \u001b[1;33m\u001b[0m\u001b[0m\n\u001b[1;32m-> 1891\u001b[1;33m         \u001b[0mself\u001b[0m\u001b[1;33m.\u001b[0m\u001b[0m_reader\u001b[0m \u001b[1;33m=\u001b[0m \u001b[0mparsers\u001b[0m\u001b[1;33m.\u001b[0m\u001b[0mTextReader\u001b[0m\u001b[1;33m(\u001b[0m\u001b[0msrc\u001b[0m\u001b[1;33m,\u001b[0m \u001b[1;33m**\u001b[0m\u001b[0mkwds\u001b[0m\u001b[1;33m)\u001b[0m\u001b[1;33m\u001b[0m\u001b[1;33m\u001b[0m\u001b[0m\n\u001b[0m\u001b[0;32m   1892\u001b[0m         \u001b[0mself\u001b[0m\u001b[1;33m.\u001b[0m\u001b[0munnamed_cols\u001b[0m \u001b[1;33m=\u001b[0m \u001b[0mself\u001b[0m\u001b[1;33m.\u001b[0m\u001b[0m_reader\u001b[0m\u001b[1;33m.\u001b[0m\u001b[0munnamed_cols\u001b[0m\u001b[1;33m\u001b[0m\u001b[1;33m\u001b[0m\u001b[0m\n\u001b[0;32m   1893\u001b[0m \u001b[1;33m\u001b[0m\u001b[0m\n",
      "\u001b[1;32mpandas\\_libs\\parsers.pyx\u001b[0m in \u001b[0;36mpandas._libs.parsers.TextReader.__cinit__\u001b[1;34m()\u001b[0m\n",
      "\u001b[1;32mpandas\\_libs\\parsers.pyx\u001b[0m in \u001b[0;36mpandas._libs.parsers.TextReader._setup_parser_source\u001b[1;34m()\u001b[0m\n",
      "\u001b[1;31mFileNotFoundError\u001b[0m: [Errno 2] File ./data/clsoet_share_bags.csv does not exist: './data/clsoet_share_bags.csv'"
     ]
    }
   ],
   "source": [
    "import pandas as pd\n",
    "\n",
    "dt = pd.read_csv('./data/clsoet_share_bags.csv').drop('Unnamed: 0',axis=1)\n",
    "cs_dt = pd.read_excel('./data/클로젯셰어_과제DB 대체 자료.xlsx')\n",
    "\n",
    "dt.columns = ['brandnm', 'goodsnm', '4days', '7days']\n",
    "\n",
    "display(dt)\n",
    "display(cs_dt)"
   ]
  },
  {
   "cell_type": "markdown",
   "metadata": {},
   "source": [
    "# dt와 cs_dt join : left"
   ]
  },
  {
   "cell_type": "code",
   "execution_count": null,
   "metadata": {},
   "outputs": [],
   "source": [
    "merge_dt = pd.merge(dt, cs_dt, how='right', on=['brandnm','goodsnm'])\n",
    "merge_dt"
   ]
  },
  {
   "cell_type": "code",
   "execution_count": null,
   "metadata": {
    "scrolled": true
   },
   "outputs": [],
   "source": [
    "merge_dt.isnull().sum()"
   ]
  },
  {
   "cell_type": "code",
   "execution_count": null,
   "metadata": {},
   "outputs": [],
   "source": [
    "#merge_dt[merge_dt['brandnm'].isnull()]"
   ]
  },
  {
   "cell_type": "markdown",
   "metadata": {},
   "source": [
    "# inner join"
   ]
  },
  {
   "cell_type": "code",
   "execution_count": null,
   "metadata": {},
   "outputs": [],
   "source": [
    "inner_dt = pd.merge(cs_dt, dt, how='inner', on='goodsnm')\n",
    "inner_dt.drop('brandnm_y', axis=1, inplace=True)"
   ]
  },
  {
   "cell_type": "code",
   "execution_count": null,
   "metadata": {},
   "outputs": [],
   "source": [
    "an = inner_dt.app_yn.fillna('N')\n",
    "inner_dt['app_yn'] = an\n",
    "inner_dt"
   ]
  },
  {
   "cell_type": "code",
   "execution_count": null,
   "metadata": {},
   "outputs": [],
   "source": [
    "inner_dt.columns = ['brandnm', 'goodsnm', 'USER', 'reg_date' ,'order_date', 'p_type', 'sub_type', 'app_yn', '4days', '7days']\n",
    "inner_dt"
   ]
  },
  {
   "cell_type": "code",
   "execution_count": null,
   "metadata": {},
   "outputs": [],
   "source": [
    "inner_dt.to_csv('./data/bags_inner_dt.csv')"
   ]
  },
  {
   "cell_type": "code",
   "execution_count": null,
   "metadata": {},
   "outputs": [],
   "source": []
  },
  {
   "cell_type": "markdown",
   "metadata": {},
   "source": [
    "## 브랜드별 일회권 평균 값 구하기"
   ]
  },
  {
   "cell_type": "code",
   "execution_count": null,
   "metadata": {},
   "outputs": [],
   "source": [
    "inner_dt.brandnm.value_counts()"
   ]
  },
  {
   "cell_type": "code",
   "execution_count": null,
   "metadata": {
    "scrolled": true
   },
   "outputs": [],
   "source": [
    "inner_dt.query('brandnm == \"Chanel\"')"
   ]
  },
  {
   "cell_type": "code",
   "execution_count": null,
   "metadata": {},
   "outputs": [],
   "source": [
    "def get_font_family():\n",
    "    \"\"\"\n",
    "    시스템 환경에 따른 기본 폰트명을 반환하는 함수\n",
    "    \"\"\"\n",
    "    import platform\n",
    "    system_name = platform.system()\n",
    "    # colab 사용자는 system_name이 'Linux'로 확인\n",
    "\n",
    "    if system_name == \"Darwin\" :\n",
    "        font_family = \"AppleGothic\"\n",
    "    elif system_name == \"Windows\":\n",
    "        font_family = \"Malgun Gothic\"\n",
    "    else:\n",
    "        # Linux\n",
    "        # colab에서는 runtime을 <꼭> 재시작 해야함.\n",
    "        # 런타임을 재시작 하지 않고 폰트 설치를 하면 기본 설정 폰트가 로드되어 한글이 깨짐.\n",
    "        !apt-get update -qq\n",
    "        !apt-get install fonts-nanum -qq  > /dev/null\n",
    "\n",
    "        import matplotlib.font_manager as fm\n",
    "\n",
    "        fontpath = '/usr/share/fonts/truetype/nanum/NanumBarunGothic.ttf'\n",
    "        font = fm.FontProperties(fname=fontpath, size=9)\n",
    "        fm._rebuild()\n",
    "        font_family = \"NanumBarunGothic\"\n",
    "    return font_family"
   ]
  },
  {
   "cell_type": "code",
   "execution_count": null,
   "metadata": {},
   "outputs": [],
   "source": [
    "# 시각화를 위한 폰트설정\n",
    "# 위에서 만든 함수를 통해 시스템 폰트를 불러와서 font_family 라는 변수에 할당.\n",
    "a = get_font_family()\n",
    "# 폰트설정\n",
    "import matplotlib.pyplot as plt \n",
    "plt.rc(\"font\", family = a)\n",
    "# 마이너스폰트 설정\n",
    "plt.rc(\"axes\", unicode_minus=False)\n",
    "# ggplot으로 그래프 스타일 설정 / 개인 자유\n",
    "plt.style.use(\"ggplot\")\n",
    "\n",
    "import seaborn as sns\n",
    "%matplotlib inline\n",
    "\n",
    "import warnings\n",
    "warnings.filterwarnings(action='ignore')\n",
    "\n",
    "#한글 폰트 설정\n",
    "plt.rcParams['font.family'] = 'HYGothic-Extra'"
   ]
  },
  {
   "cell_type": "code",
   "execution_count": null,
   "metadata": {},
   "outputs": [],
   "source": [
    "plt.figure(figsize=(15,5))\n",
    "plt.subplot(121)\n",
    "plt.scatter(x='brandnm', y='4days', data=inner_dt)\n",
    "plt.xticks(rotation=-90)\n",
    "\n",
    "plt.subplot(122)\n",
    "plt.scatter(x='brandnm', y='7days', data=inner_dt)\n",
    "plt.xticks(rotation=-90)\n",
    "plt.show()"
   ]
  },
  {
   "cell_type": "markdown",
   "metadata": {},
   "source": [
    "- 일반적으로 7일권이 4일권보다 1만원 정도 비쌈"
   ]
  },
  {
   "cell_type": "code",
   "execution_count": null,
   "metadata": {},
   "outputs": [],
   "source": []
  },
  {
   "cell_type": "code",
   "execution_count": null,
   "metadata": {},
   "outputs": [],
   "source": [
    "brands_mean = inner_dt.groupby('brandnm').mean()\n",
    "brands_mean.reset_index(inplace=True)\n",
    "brands_mean"
   ]
  },
  {
   "cell_type": "markdown",
   "metadata": {},
   "source": [
    "# 데이터 합치기"
   ]
  },
  {
   "cell_type": "code",
   "execution_count": null,
   "metadata": {
    "scrolled": true
   },
   "outputs": [],
   "source": [
    "#concat\n",
    "concat_dt = pd.concat([cs_dt,inner_dt], axis=0)\n",
    "concat_dt"
   ]
  },
  {
   "cell_type": "code",
   "execution_count": 3,
   "metadata": {},
   "outputs": [
    {
     "ename": "NameError",
     "evalue": "name 'concat_dt' is not defined",
     "output_type": "error",
     "traceback": [
      "\u001b[1;31m---------------------------------------------------------------------------\u001b[0m",
      "\u001b[1;31mNameError\u001b[0m                                 Traceback (most recent call last)",
      "\u001b[1;32m<ipython-input-3-4c5dcdf2a228>\u001b[0m in \u001b[0;36m<module>\u001b[1;34m\u001b[0m\n\u001b[1;32m----> 1\u001b[1;33m \u001b[0mconcat_dt\u001b[0m\u001b[1;33m.\u001b[0m\u001b[0mquery\u001b[0m\u001b[1;33m(\u001b[0m\u001b[1;34m'sub_type == \"BA\"'\u001b[0m\u001b[1;33m)\u001b[0m\u001b[1;33m.\u001b[0m\u001b[0misnull\u001b[0m\u001b[1;33m(\u001b[0m\u001b[1;33m)\u001b[0m\u001b[1;33m.\u001b[0m\u001b[0msum\u001b[0m\u001b[1;33m(\u001b[0m\u001b[1;33m)\u001b[0m\u001b[1;33m\u001b[0m\u001b[1;33m\u001b[0m\u001b[0m\n\u001b[0m",
      "\u001b[1;31mNameError\u001b[0m: name 'concat_dt' is not defined"
     ]
    }
   ],
   "source": [
    "concat_dt.query('sub_type == \"BA\"').isnull().sum()"
   ]
  },
  {
   "cell_type": "code",
   "execution_count": null,
   "metadata": {},
   "outputs": [],
   "source": [
    "# 중복 제거 keep = last\n",
    "\n",
    "concat_dt = concat_dt.drop_duplicates(subset=['brandnm','goodsnm','USER','reg_date',\n",
    "                                  'order_date', 'p_type', 'sub_type', 'app_yn'], keep='last')"
   ]
  },
  {
   "cell_type": "code",
   "execution_count": null,
   "metadata": {
    "scrolled": true
   },
   "outputs": [],
   "source": [
    "concat_dt"
   ]
  },
  {
   "cell_type": "code",
   "execution_count": null,
   "metadata": {},
   "outputs": [],
   "source": [
    "concat_dt.query('sub_type == \"BA\"').isnull().sum()"
   ]
  },
  {
   "cell_type": "code",
   "execution_count": null,
   "metadata": {},
   "outputs": [],
   "source": [
    "a = concat_dt.query('sub_type == \"BA\"')\n",
    "print(a.brandnm.nunique()) # 47개 브랜드\n",
    "print(a.brandnm.unique())"
   ]
  },
  {
   "cell_type": "code",
   "execution_count": null,
   "metadata": {},
   "outputs": [],
   "source": [
    "concat_dt.duplicated().sum()"
   ]
  },
  {
   "cell_type": "code",
   "execution_count": null,
   "metadata": {},
   "outputs": [],
   "source": [
    "an = concat_dt.app_yn.fillna('N')\n",
    "concat_dt['app_yn'] = an\n",
    "concat_dt"
   ]
  },
  {
   "cell_type": "code",
   "execution_count": null,
   "metadata": {},
   "outputs": [],
   "source": [
    "concat_dt.reset_index(inplace=True)\n",
    "concat_dt.drop('index', axis=1, inplace=True)"
   ]
  },
  {
   "cell_type": "code",
   "execution_count": null,
   "metadata": {},
   "outputs": [],
   "source": [
    "zero4 = concat_dt['4days'].fillna(0) # 결측치를 0으로 채움\n",
    "concat_dt['4days'] = zero4\n",
    "\n",
    "zero7 = concat_dt['7days'].fillna(0) # 결측치를 0으로 채움\n",
    "concat_dt['7days'] = zero7"
   ]
  },
  {
   "cell_type": "code",
   "execution_count": null,
   "metadata": {
    "scrolled": true
   },
   "outputs": [],
   "source": [
    "concat_dt"
   ]
  },
  {
   "cell_type": "code",
   "execution_count": null,
   "metadata": {},
   "outputs": [],
   "source": [
    "concat_dt.isnull().sum()"
   ]
  },
  {
   "cell_type": "code",
   "execution_count": null,
   "metadata": {},
   "outputs": [],
   "source": [
    "#concat_dt[concat_dt['brandnm'].isnull()] # TP라서 상관 x"
   ]
  },
  {
   "cell_type": "code",
   "execution_count": null,
   "metadata": {},
   "outputs": [],
   "source": [
    "concat_dt.isnull().sum()"
   ]
  },
  {
   "cell_type": "code",
   "execution_count": null,
   "metadata": {},
   "outputs": [],
   "source": [
    "concat_dt[concat_dt['brandnm'].isnull()] # sub_type이 TP"
   ]
  },
  {
   "cell_type": "code",
   "execution_count": null,
   "metadata": {},
   "outputs": [],
   "source": []
  },
  {
   "cell_type": "markdown",
   "metadata": {},
   "source": [
    "### 나머지 33개 브랜드 값은??"
   ]
  },
  {
   "cell_type": "code",
   "execution_count": null,
   "metadata": {},
   "outputs": [],
   "source": [
    "excepted = concat_dt.loc[(concat_dt['4days'] == 0) & (concat_dt['sub_type'] == \"BA\")]\n",
    "excepted"
   ]
  },
  {
   "cell_type": "code",
   "execution_count": null,
   "metadata": {},
   "outputs": [],
   "source": [
    "excepted.brandnm.unique()"
   ]
  },
  {
   "cell_type": "code",
   "execution_count": null,
   "metadata": {},
   "outputs": [],
   "source": [
    "excepted.brandnm.nunique()"
   ]
  },
  {
   "cell_type": "code",
   "execution_count": null,
   "metadata": {},
   "outputs": [],
   "source": [
    "dt_brands = dt.groupby('brandnm').mean() #크롤링한 데이터를 바탕으로 한 평균 값\n",
    "dt_brands.reset_index(inplace=True)\n",
    "#dt_brands.drop('index', axis=1, inplace=True)\n",
    "dt_brands"
   ]
  },
  {
   "cell_type": "code",
   "execution_count": null,
   "metadata": {},
   "outputs": [],
   "source": [
    "# brands_mean = inner_dt.groupby('brandnm').mean()\n",
    "# brands_mean.reset_index(inplace=True)\n",
    "\n",
    "brands_mean"
   ]
  },
  {
   "cell_type": "code",
   "execution_count": null,
   "metadata": {},
   "outputs": [],
   "source": [
    "brands_means = pd.concat([dt_brands, brands_mean], axis=1)\n",
    "# dt_brands는 크롤링한 데이터의 평균값\n",
    "# brands_mean은 inner join한 데이터의 평균값\n",
    "brands_means"
   ]
  },
  {
   "cell_type": "markdown",
   "metadata": {},
   "source": [
    "- brands_mean에 없는 데이터를 dt_brands에서 가져옴\n",
    "    - FONTANA,SALVATORE FERRAGAMO, TRAVEL MATE <- 근데 얘네는 concat_data에 없음"
   ]
  },
  {
   "cell_type": "code",
   "execution_count": null,
   "metadata": {},
   "outputs": [],
   "source": [
    "## 평균 값을 4/7days nan 값에 넣기\n",
    "\n",
    "for i in range(len(concat_dt)):\n",
    "    if (concat_dt['sub_type'][i] == 'BA' and concat_dt['brandnm'][i] == 'Balenciaga'):\n",
    "        concat_dt['4days'][i] = 49000\n",
    "        concat_dt['7days'][i] = 59000\n",
    "        \n",
    "    elif (concat_dt['sub_type'][i] == 'BA' and concat_dt['brandnm'][i] == 'Celine'):\n",
    "        concat_dt['4days'][i] = 41500\n",
    "        concat_dt['7days'][i] = 51500\n",
    "\n",
    "    elif (concat_dt['sub_type'][i] == 'BA' and concat_dt['brandnm'][i] == 'Chanel'):\n",
    "        concat_dt['4days'][i] = 45800\n",
    "        concat_dt['7days'][i] = 55800\n",
    "\n",
    "    elif (concat_dt['sub_type'][i] == 'BA' and concat_dt['brandnm'][i] == 'Delvaux'):\n",
    "        concat_dt['4days'][i] = 59000\n",
    "        concat_dt['7days'][i] = 69000\n",
    "    \n",
    "    elif (concat_dt['sub_type'][i] == 'BA' and concat_dt['brandnm'][i] == 'Fendi'):\n",
    "        concat_dt['4days'][i] = 46500\n",
    "        concat_dt['7days'][i] = 56500\n",
    "    \n",
    "    elif (concat_dt['sub_type'][i] == 'BA' and concat_dt['brandnm'][i] == 'Gucci'):\n",
    "        concat_dt['4days'][i] = 46450\n",
    "        concat_dt['7days'][i] = 56450\n",
    "        \n",
    "    elif (concat_dt['sub_type'][i] == 'BA' and concat_dt['brandnm'][i] == 'Hermes'):\n",
    "        concat_dt['4days'][i] = 39000\n",
    "        concat_dt['7days'][i] = 49000\n",
    "    \n",
    "    elif (concat_dt['sub_type'][i] == 'BA' and concat_dt['brandnm'][i] == 'Louis Vuitton'):\n",
    "        concat_dt['4days'][i] = 45950\n",
    "        concat_dt['7days'][i] = 55950\n",
    "        \n",
    "    elif (concat_dt['sub_type'][i] == 'BA' and concat_dt['brandnm'][i] == 'Miu Miu'):\n",
    "        concat_dt['4days'][i] = 39000\n",
    "        concat_dt['7days'][i] = 49000\n",
    "    \n",
    "    elif (concat_dt['sub_type'][i] == 'BA' and concat_dt['brandnm'][i] == 'Prada'):\n",
    "        concat_dt['4days'][i] = 49000\n",
    "        concat_dt['7days'][i] = 59000\n",
    "    \n",
    "    elif (concat_dt['sub_type'][i] == 'BA' and concat_dt['brandnm'][i] == 'Rimowa'):\n",
    "        concat_dt['4days'][i] = 39000\n",
    "        concat_dt['7days'][i] = 49000\n",
    "    \n",
    "    elif (concat_dt['sub_type'][i] == 'BA' and concat_dt['brandnm'][i] == 'Saint Laurent'):\n",
    "        concat_dt['4days'][i] = 49000\n",
    "        concat_dt['7days'][i] = 59000\n",
    "    \n",
    "    elif (concat_dt['sub_type'][i] == 'BA' and concat_dt['brandnm'][i] == 'Valentino'):\n",
    "        concat_dt['4days'][i] = 39000\n",
    "        concat_dt['7days'][i] = 49000\n",
    "    \n",
    "    elif (concat_dt['sub_type'][i] == 'BA' and concat_dt['brandnm'][i] == 'Yves Saint Laurent'):\n",
    "        concat_dt['4days'][i] = 49000\n",
    "        concat_dt['7days'][i] = 59000\n",
    "\n",
    "    \n",
    "concat_dt.query('sub_type == \"BA\"')"
   ]
  },
  {
   "cell_type": "code",
   "execution_count": null,
   "metadata": {},
   "outputs": [],
   "source": [
    "excepted.brandnm.unique()"
   ]
  },
  {
   "cell_type": "code",
   "execution_count": null,
   "metadata": {},
   "outputs": [],
   "source": [
    "excepted.brandnm.nunique()"
   ]
  },
  {
   "cell_type": "markdown",
   "metadata": {},
   "source": [
    "## 33개 브랜드 크롤링?"
   ]
  },
  {
   "cell_type": "code",
   "execution_count": null,
   "metadata": {},
   "outputs": [],
   "source": [
    "### 검색 리스트 생성\n",
    "\n",
    "import numpy as np\n",
    "\n",
    "search_list = excepted['brandnm'].unique()\n",
    "s_df = pd.DataFrame(search_list)\n",
    "s_df.columns = ['keyword']\n",
    "\n",
    "search = list(np.array(s_df['keyword'].tolist()))\n",
    "\n",
    "search"
   ]
  },
  {
   "cell_type": "code",
   "execution_count": null,
   "metadata": {},
   "outputs": [],
   "source": [
    "from selenium import webdriver\n",
    "from selenium.webdriver.common.keys import Keys # 엔터키 입력용\n",
    "\n",
    "import pandas as pd\n",
    "import time"
   ]
  },
  {
   "cell_type": "code",
   "execution_count": null,
   "metadata": {},
   "outputs": [],
   "source": [
    "# 드라이버\n",
    "driver = webdriver.Chrome('C:/Temp/chromedriver') # 웹드라이버 객체 생성\n",
    "\n",
    "# 구글을 열어서 키워드 입력 후 이동\n",
    "driver.get('https://www.closetshare.com/theclozet/main/index') # 구글 홈페이지 내용 렌더링\n",
    "time.sleep(1)\n",
    "\n",
    "# 리스트 선언\n",
    "clothes_price_list_4 = []\n",
    "clothes_price_list_7 = []\n",
    "brandnm_list = []\n",
    "goodsnm_list = []\n",
    "\n",
    "\n",
    "# popup 제거\n",
    "popup = driver.find_element_by_css_selector(\"[id = 'notshow']\")\n",
    "popup.click()\n",
    "time.sleep(1)\n",
    "\n",
    "# 로그인 페이지 이동\n",
    "login = driver.find_element_by_css_selector(\"[id = 'account_login']\")\n",
    "login.click()\n",
    "time.sleep(1)\n",
    "\n",
    "# 로그인_이메일\n",
    "login_2 = driver.find_element_by_css_selector('#loginForm > ul > li.ic-email.ic-login-email > a > span')\n",
    "login_2.click()\n",
    "\n",
    "# 아이디\n",
    "email = driver.find_element_by_css_selector(\"[id = 'email']\")\n",
    "email.send_keys('rjs4770@naver.com') # 개인 아이디 입력\n",
    "\n",
    "# 패스워드\n",
    "password = driver.find_element_by_css_selector(\"[id = 'passwd']\")\n",
    "password.send_keys('Tjdwns4845!') # 개인 패스워드 입력\n",
    "\n",
    "# 로그인 엔터\n",
    "password.send_keys(Keys.ENTER)\n",
    "\n",
    "# 렌더링 1초 기다리자\n",
    "time.sleep(2)\n",
    "\n",
    "# 가방 카테고리 클릭\n",
    "bags = driver.find_element_by_css_selector('#cshrHeaderWeb > nav > ul > li:nth-child(2) > a')\n",
    "bags.click()\n",
    "time.sleep(2)\n",
    "\n",
    "# 필터링\n",
    "filtering = driver.find_element_by_css_selector('#days_flag')\n",
    "filtering.click()\n",
    "time.sleep(1)\n",
    "\n",
    "# 대여가능만 클릭\n",
    "driver.find_element_by_css_selector('[data =\"clist_filter_s1\"]').click()\n",
    "\n",
    "\n",
    "count = 0\n",
    "# 크롤링을 진행해봅시다\n",
    "\n",
    "for i in range(5):\n",
    "    # 검색창에 값 입력f\n",
    "    driver.find_element_by_xpath('//*[@id=\"frmList\"]/section/section[1]/div[1]/article[1]/input').send_keys(search[i]) # 검색어 입력\n",
    "    driver.find_element_by_xpath('//*[@id=\"goodsnmSesrch\"]').click() # 검색 버튼 클릭\n",
    "    time.sleep(1)\n",
    "    \n",
    "    for clothes_num in range(1,37) :\n",
    "        try : \n",
    "            # 브랜드명 수집 코드 입니다.\n",
    "            brandnm = driver.find_element_by_css_selector(\"#prod_list_item > a:nth-child(\"+str(clothes_num)+\") > span > span.brand\")\n",
    "            brandnm_list.append(brandnm.text)\n",
    "            print(\"브랜드 :\",brandnm.text)\n",
    "\n",
    "            # 아이템명 수집 코드입니다.\n",
    "            goodsnm = driver.find_element_by_css_selector('#prod_list_item > a:nth-child('+str(clothes_num)+') > span > span.cont')\n",
    "            goodsnm_list.append(goodsnm.text)\n",
    "            print(\"아이템 :\",goodsnm.text)\n",
    "\n",
    "\n",
    "            # 한 페이지 내 36개의 아이템을 indexing하여 클릭하기 위한 코드입니다.\n",
    "            clothes_index = driver.find_element_by_css_selector('#prod_list_item > a:nth-child('+str(clothes_num)+') > span > span.status.noto_m')\n",
    "            clothes_index.click()\n",
    "            time.sleep(2)\n",
    "\n",
    "            # 4일권 / 7일권 수집\n",
    "            # 가끔가다 보면 대여가 불가능한 제품들은 4일권과 7일권에 대한 가격 정보가 없습니다.\n",
    "            # 때문에 try, except 구문으로 가격이 없는 것은 0으로 대체합니다.\n",
    "            try : \n",
    "                price = driver.find_element_by_css_selector('#goodsValue_daily')\n",
    "                clothes_price_list_4.append(price.text.split('\\n')[0][5:11])\n",
    "                clothes_price_list_7.append(price.text.split('\\n')[1][5:11])\n",
    "                print(\"4일권 :\",price.text.split('\\n')[0][5:11])\n",
    "                print(\"7일권 :\",price.text.split('\\n')[1][5:11])\n",
    "            except :\n",
    "                clothes_price_list_4.append(0)\n",
    "                clothes_price_list_7.append(0)\n",
    "                print(\"4일권 :\",0)\n",
    "                print(\"7일권 :\",0)\n",
    "\n",
    "            # 뒤로 돌아가서 다른 아이템 정보를 가져올 준비를 합니다.\n",
    "            go_home = driver.find_element_by_xpath('//*[@id=\"cshrHeader\"]/h1/a')\n",
    "            go_home.click()\n",
    "            time.sleep(1)\n",
    "            \n",
    "        except :\n",
    "            pass\n",
    "\n",
    "        # 전체 아이템 중 몇 번째인지 확인하는 코드입니다.\n",
    "        count += 1\n",
    "        print(\"=====================================\", count, \"번째\")\n",
    "\n",
    "#     try :\n",
    "#         # 만일 두 아이템의 이름이 정확하게 일치하지 않으면\n",
    "#         if items[i] != driver.find_element_by_xpath('//*[@id=\"prod_list_item\"]/a/span/span[3]').text :\n",
    "#             price_4days.append('not same item')\n",
    "#             price_7days.append('not same item')\n",
    "            \n",
    "#             item_nm = items[i]\n",
    "#             bag_name.append(item_nm)\n",
    "            \n",
    "#             print(bag_name[i])\n",
    "#             print(\"4일권 :\",price_4days[i])\n",
    "#             print(\"7일권 :\",price_7days[i])\n",
    "            \n",
    "#             # 홈으로 돌아가서\n",
    "#             go_home = driver.find_element_by_xpath('//*[@id=\"cshrHeader\"]/h1/a')\n",
    "#             go_home.click()\n",
    "            \n",
    "#             # 다시 가방 카테고리 누르기\n",
    "#             bags = driver.find_element_by_css_selector('#cshrHeaderWeb > nav > ul > li:nth-child(2) > a')\n",
    "#             bags.click()\n",
    "#             time.sleep(2)\n",
    "            \n",
    "\n",
    "#         else : # 두 아이템의 이름이 같으면\n",
    "#             # 이거는 검색 결과가 하나만 나올 때 유효함 ㅜㅜ ↓\n",
    "#             item_nm = driver.find_element_by_xpath('//*[@id=\"prod_list_item\"]/a/span/span[3]').text\n",
    "#             bag_name.append(item_nm)\n",
    "        \n",
    "#             # 이미지 클릭해서 세부 페이지로 들어가기\n",
    "#             driver.find_element_by_xpath('//*[@id=\"prod_list_item\"]/a[1]/span').click()\n",
    "#             time.sleep(1)\n",
    "        \n",
    "#             # 4일권/7일권 가격 데이터 가져오기\n",
    "#             try : \n",
    "#                 price = driver.find_element_by_css_selector('#goodsValue_daily')\n",
    "#                 price_4days.append(price.text.split('\\n')[0][5:11])\n",
    "#                 price_7days.append(price.text.split('\\n')[1][5:11])\n",
    "#                 bag_name.append(item_nm)\n",
    "                \n",
    "#                 print(bag_name[i])\n",
    "#                 print(\"4일권 :\",price.text.split('\\n')[0][5:11])\n",
    "#                 print(\"7일권 :\",price.text.split('\\n')[1][5:11])\n",
    "#                 print(\"--------------------\")\n",
    "                \n",
    "#             except : # 가격 데이터 없으면\n",
    "#                 price_4days.append('no')\n",
    "#                 price_7days.append('no')\n",
    "#                 bag_name.append(item_nm)\n",
    "                \n",
    "#                 print(bag_name[i])\n",
    "#                 print(\"4일권 :\", price_4days[i])\n",
    "#                 print(\"7일권 :\", price_7days[i])\n",
    "#                 print(\"--------------------\")\n",
    "\n",
    "#             # 뒤로 돌아가서 다른 아이템 정보를 가져올 준비를 합니다.\n",
    "#             go_home = driver.find_element_by_xpath('//*[@id=\"cshrHeader\"]/h1/a')\n",
    "#             go_home.click()\n",
    "            \n",
    "#             bags = driver.find_element_by_css_selector('#cshrHeaderWeb > nav > ul > li:nth-child(2) > a')\n",
    "#             bags.click()\n",
    "        \n",
    "#     except :\n",
    "#         #에러나면(검색 결과가 없으면) pass 홈으로 돌아가서\n",
    "#         price_4days.append('no result')\n",
    "#         price_7days.append('no result')\n",
    "#         bag_name.append(item_nm)\n",
    "        \n",
    "#         print(bag_name[i])\n",
    "#         print(\"4일권 :\", price_4days[i])\n",
    "#         print(\"7일권 :\", price_7days[i])\n",
    "#         print(\"--------------------\")\n",
    "        \n",
    "#         go_home = driver.find_element_by_xpath('//*[@id=\"cshrHeader\"]/h1/a')\n",
    "#         go_home.click()\n",
    "\n",
    "#         # 다시 가방 카테고리 누르기\n",
    "#         bags = driver.find_element_by_css_selector('#cshrHeaderWeb > nav > ul > li:nth-child(2) > a')\n",
    "#         bags.click()\n",
    "#         time.sleep(2)"
   ]
  },
  {
   "cell_type": "code",
   "execution_count": null,
   "metadata": {},
   "outputs": [],
   "source": []
  },
  {
   "cell_type": "code",
   "execution_count": null,
   "metadata": {},
   "outputs": [],
   "source": []
  },
  {
   "cell_type": "code",
   "execution_count": null,
   "metadata": {},
   "outputs": [],
   "source": []
  },
  {
   "cell_type": "code",
   "execution_count": null,
   "metadata": {},
   "outputs": [],
   "source": []
  },
  {
   "cell_type": "code",
   "execution_count": null,
   "metadata": {},
   "outputs": [],
   "source": []
  },
  {
   "cell_type": "code",
   "execution_count": null,
   "metadata": {},
   "outputs": [],
   "source": []
  },
  {
   "cell_type": "markdown",
   "metadata": {},
   "source": [
    "## cs_dt에서 가방만"
   ]
  },
  {
   "cell_type": "code",
   "execution_count": null,
   "metadata": {},
   "outputs": [],
   "source": [
    "bags = cs_dt.query('sub_type == \"BA\"').reset_index()\n",
    "bags.drop('index', axis=1, inplace=True)\n",
    "bags# 692 rows"
   ]
  },
  {
   "cell_type": "markdown",
   "metadata": {},
   "source": [
    "### bags와 dt merge"
   ]
  },
  {
   "cell_type": "code",
   "execution_count": null,
   "metadata": {},
   "outputs": [],
   "source": [
    "bag_merge = pd.merge(bags, dt, how='left', on='goodsnm')\n",
    "bag_merge"
   ]
  },
  {
   "cell_type": "code",
   "execution_count": null,
   "metadata": {},
   "outputs": [],
   "source": [
    "an = bag_merge.app_yn.fillna('N')\n",
    "bag_merge['app_yn'] = an\n",
    "bag_merge"
   ]
  },
  {
   "cell_type": "code",
   "execution_count": null,
   "metadata": {},
   "outputs": [],
   "source": [
    "### 4days와 7days가 NaN인 곳 다른 값으로 채운 후 추출\n",
    "an = bag_merge['4days'].fillna(0)\n",
    "an2 = bag_merge['7days'].fillna(0)\n",
    "bag_merge['4days'] = an\n",
    "bag_merge['7days'] = an2\n",
    "bag_merge.drop('brandnm_y', axis=1, inplace=True)\n",
    "bag_merge"
   ]
  },
  {
   "cell_type": "code",
   "execution_count": null,
   "metadata": {},
   "outputs": [],
   "source": [
    "bag_merge.isnull().sum()"
   ]
  },
  {
   "cell_type": "code",
   "execution_count": null,
   "metadata": {},
   "outputs": [],
   "source": [
    "bag_merge.info()"
   ]
  },
  {
   "cell_type": "code",
   "execution_count": null,
   "metadata": {},
   "outputs": [],
   "source": [
    "# 가격 없는 데이터만 추출\n",
    "\n",
    "no_price = bag_merge.loc[(bag_merge['4days'] == 0) | (bag_merge['7days'] == 0)]\n",
    "no_price"
   ]
  },
  {
   "cell_type": "code",
   "execution_count": null,
   "metadata": {},
   "outputs": [],
   "source": []
  },
  {
   "cell_type": "code",
   "execution_count": null,
   "metadata": {},
   "outputs": [],
   "source": [
    "import numpy as np\n",
    "\n",
    "search_list = no_price['brandnm_x'] + ' ' + no_price['goodsnm'] # Series\n",
    "s_df = pd.DataFrame(search_list)\n",
    "s_df.columns = ['keyword']\n",
    "\n",
    "search = list(np.array(s_df['keyword'].tolist()))"
   ]
  },
  {
   "cell_type": "code",
   "execution_count": null,
   "metadata": {},
   "outputs": [],
   "source": [
    "search # 검색할 리스트"
   ]
  },
  {
   "cell_type": "code",
   "execution_count": null,
   "metadata": {},
   "outputs": [],
   "source": [
    "# 아이템 이름만 따로\n",
    "item_list = no_price['goodsnm']\n",
    "i_df = pd.DataFrame(item_list)\n",
    "i_df.columns = ['items']\n",
    "\n",
    "items = list(np.array(i_df['items'].tolist()))"
   ]
  },
  {
   "cell_type": "code",
   "execution_count": null,
   "metadata": {},
   "outputs": [],
   "source": [
    "from selenium import webdriver\n",
    "from selenium.webdriver.common.keys import Keys # 엔터키 입력용\n",
    "\n",
    "import pandas as pd\n",
    "import time"
   ]
  },
  {
   "cell_type": "code",
   "execution_count": null,
   "metadata": {},
   "outputs": [],
   "source": []
  },
  {
   "cell_type": "code",
   "execution_count": null,
   "metadata": {},
   "outputs": [],
   "source": [
    "print(search[:5], '\\n\\n')\n",
    "print(items[:5])"
   ]
  },
  {
   "cell_type": "code",
   "execution_count": null,
   "metadata": {},
   "outputs": [],
   "source": [
    "print(price_4days)\n",
    "print(price_7days)\n",
    "print(bag_name)"
   ]
  },
  {
   "cell_type": "code",
   "execution_count": null,
   "metadata": {},
   "outputs": [],
   "source": [
    "# 리스트들 df로 변환 - 209번까지 수집\n",
    "\n",
    "bag_test = pd.DataFrame([ x for x in zip(bag_name,price_4days,price_7days)])\n",
    "bag_test.columns = ['Bag','4days','7days']\n",
    "bag_test\n",
    "#bag_test.drop_duplicates()"
   ]
  },
  {
   "cell_type": "code",
   "execution_count": null,
   "metadata": {},
   "outputs": [],
   "source": []
  },
  {
   "cell_type": "code",
   "execution_count": null,
   "metadata": {},
   "outputs": [],
   "source": []
  },
  {
   "cell_type": "code",
   "execution_count": null,
   "metadata": {},
   "outputs": [],
   "source": []
  },
  {
   "cell_type": "code",
   "execution_count": null,
   "metadata": {},
   "outputs": [],
   "source": []
  }
 ],
 "metadata": {
  "kernelspec": {
   "display_name": "Python 3",
   "language": "python",
   "name": "python3"
  },
  "language_info": {
   "codemirror_mode": {
    "name": "ipython",
    "version": 3
   },
   "file_extension": ".py",
   "mimetype": "text/x-python",
   "name": "python",
   "nbconvert_exporter": "python",
   "pygments_lexer": "ipython3",
   "version": "3.8.3"
  },
  "toc": {
   "base_numbering": 1,
   "nav_menu": {},
   "number_sections": true,
   "sideBar": true,
   "skip_h1_title": false,
   "title_cell": "Table of Contents",
   "title_sidebar": "Contents",
   "toc_cell": false,
   "toc_position": {
    "height": "calc(100% - 180px)",
    "left": "10px",
    "top": "150px",
    "width": "165px"
   },
   "toc_section_display": true,
   "toc_window_display": true
  }
 },
 "nbformat": 4,
 "nbformat_minor": 4
}
