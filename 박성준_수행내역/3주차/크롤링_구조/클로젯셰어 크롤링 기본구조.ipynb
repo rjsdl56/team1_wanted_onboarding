{
 "cells": [
  {
   "cell_type": "code",
   "execution_count": null,
   "metadata": {},
   "outputs": [],
   "source": [
    "# 주소 : https://www.closetshare.com/theclozet/main/index"
   ]
  },
  {
   "cell_type": "code",
   "execution_count": 1,
   "metadata": {},
   "outputs": [],
   "source": [
    "from selenium import webdriver\n",
    "from selenium.webdriver.common.keys import Keys # 엔터키 입력용\n",
    "import pandas as pd\n",
    "import time"
   ]
  },
  {
   "cell_type": "code",
   "execution_count": 23,
   "metadata": {},
   "outputs": [
    {
     "name": "stdout",
     "output_type": "stream",
     "text": [
      "button stripe pattern H-Line dress\n",
      "['4일 - 29,000원', '7일 - 39,000원']\n"
     ]
    }
   ],
   "source": [
    "# 드라이버\n",
    "driver = webdriver.Chrome('C:/Temp/chromedriver') # 웹드라이버 객체 생성\n",
    "\n",
    "# 구글을 열어서 키워드 입력 후 이동\n",
    "driver.get('https://www.closetshare.com/theclozet/main/index') # 구글 홈페이지 내용 렌더링\n",
    "time.sleep(1)\n",
    "\n",
    "# 리스트 선언\n",
    "clothes_name_list = []\n",
    "clothes_price_list = []\n",
    "\n",
    "\n",
    "# # popup 제거\n",
    "# popup = driver.find_element_by_css_selector(\"[id = 'notshow']\")\n",
    "# popup.click()\n",
    "# time.sleep(1)\n",
    "\n",
    "# 로그인 페이지 이동\n",
    "login = driver.find_element_by_css_selector(\"[id = 'account_login']\")\n",
    "login.click()\n",
    "time.sleep(1)\n",
    "\n",
    "# 로그인_이메일\n",
    "login_2 = driver.find_element_by_css_selector('#loginForm > ul > li.ic-email.ic-login-email > a > span')\n",
    "login_2.click()\n",
    "\n",
    "# 아이디\n",
    "email = driver.find_element_by_css_selector(\"[id = 'email']\")\n",
    "email.send_keys('rjs4770@naver.com') # 개인 아이디 입력\n",
    "\n",
    "# 패스워드\n",
    "password = driver.find_element_by_css_selector(\"[id = 'passwd']\")\n",
    "password.send_keys('Tjdwns4845!') # 개인 패스워드 입력\n",
    "\n",
    "# 로그인 엔터\n",
    "password.send_keys(Keys.ENTER)\n",
    "\n",
    "# 렌더링 1초 기다리자\n",
    "time.sleep(2)\n",
    "\n",
    "# 의류 카테고리 클릭\n",
    "clothes = driver.find_element_by_css_selector('#cshrHeaderWeb > nav > ul > li:nth-child(1) > a')\n",
    "clothes.click()\n",
    "time.sleep(2)\n",
    "\n",
    "# 의류 목록 (1~36)\n",
    "clothes_index = driver.find_element_by_xpath('//*[@id=\"prod_list_item\"]/a[1]/span/span[1]')\n",
    "clothes_index.click()\n",
    "#prod_list_item > a:nth-child(1) > span > span.status.noto_m\n",
    "\n",
    "# 의류명\n",
    "clothes_name = driver.find_element_by_css_selector('#cshrContainer > div.goodsWrap > div.goodsTop > div.goodsTopTitleWrap > strong')\n",
    "print(clothes_name.text)\n",
    "\n",
    "# 4일권 / 7일권 ==> 나중에 홀수 짝수로 리스트를 구분해서 넣자 / 어차피 제품 수의 2배이다.\n",
    "price = driver.find_element_by_css_selector('#goodsValue_daily')\n",
    "clothes_price_list = clothes_price_list + price.text.split('\\n')\n"
   ]
  },
  {
   "cell_type": "code",
   "execution_count": null,
   "metadata": {},
   "outputs": [],
   "source": []
  },
  {
   "cell_type": "code",
   "execution_count": null,
   "metadata": {},
   "outputs": [],
   "source": []
  },
  {
   "cell_type": "code",
   "execution_count": null,
   "metadata": {},
   "outputs": [],
   "source": []
  },
  {
   "cell_type": "code",
   "execution_count": null,
   "metadata": {},
   "outputs": [],
   "source": []
  },
  {
   "cell_type": "code",
   "execution_count": null,
   "metadata": {},
   "outputs": [],
   "source": []
  },
  {
   "cell_type": "code",
   "execution_count": null,
   "metadata": {},
   "outputs": [],
   "source": []
  },
  {
   "cell_type": "code",
   "execution_count": null,
   "metadata": {},
   "outputs": [],
   "source": []
  },
  {
   "cell_type": "code",
   "execution_count": null,
   "metadata": {},
   "outputs": [],
   "source": []
  },
  {
   "cell_type": "code",
   "execution_count": null,
   "metadata": {},
   "outputs": [],
   "source": []
  },
  {
   "cell_type": "code",
   "execution_count": null,
   "metadata": {},
   "outputs": [],
   "source": []
  },
  {
   "cell_type": "code",
   "execution_count": null,
   "metadata": {},
   "outputs": [],
   "source": []
  },
  {
   "cell_type": "code",
   "execution_count": null,
   "metadata": {},
   "outputs": [],
   "source": []
  },
  {
   "cell_type": "code",
   "execution_count": null,
   "metadata": {},
   "outputs": [],
   "source": []
  },
  {
   "cell_type": "code",
   "execution_count": null,
   "metadata": {},
   "outputs": [],
   "source": []
  },
  {
   "cell_type": "code",
   "execution_count": null,
   "metadata": {},
   "outputs": [],
   "source": []
  },
  {
   "cell_type": "code",
   "execution_count": null,
   "metadata": {},
   "outputs": [],
   "source": []
  },
  {
   "cell_type": "code",
   "execution_count": null,
   "metadata": {},
   "outputs": [],
   "source": []
  },
  {
   "cell_type": "code",
   "execution_count": null,
   "metadata": {},
   "outputs": [],
   "source": []
  },
  {
   "cell_type": "code",
   "execution_count": null,
   "metadata": {},
   "outputs": [],
   "source": []
  }
 ],
 "metadata": {
  "kernelspec": {
   "display_name": "pydatavenv",
   "language": "python",
   "name": "pydatavenv"
  },
  "language_info": {
   "codemirror_mode": {
    "name": "ipython",
    "version": 3
   },
   "file_extension": ".py",
   "mimetype": "text/x-python",
   "name": "python",
   "nbconvert_exporter": "python",
   "pygments_lexer": "ipython3",
   "version": "3.7.9"
  }
 },
 "nbformat": 4,
 "nbformat_minor": 4
}
