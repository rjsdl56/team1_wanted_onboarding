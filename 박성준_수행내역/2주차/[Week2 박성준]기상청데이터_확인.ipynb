{
 "cells": [
  {
   "cell_type": "code",
   "execution_count": 1,
   "metadata": {},
   "outputs": [],
   "source": [
    "import pandas as pd"
   ]
  },
  {
   "cell_type": "code",
   "execution_count": 2,
   "metadata": {},
   "outputs": [],
   "source": [
    "weather_df = pd.read_csv(\"./data/기상청.csv\")\n",
    "weather_df.drop(\"Unnamed: 0\",axis=1,inplace=True)\n",
    "weather_df.loc[365] = ['2020-12-31', 0, 1]  # 12월 30일과 온도가 같기 때문에 동일하게 추가"
   ]
  },
  {
   "cell_type": "code",
   "execution_count": 3,
   "metadata": {},
   "outputs": [],
   "source": [
    "def search_data(df) :\n",
    "    print(\"유니크값 확인 :\")\n",
    "    for col in df.columns:\n",
    "        print(f\"column : {col}\")\n",
    "        print(f\"The number of unique : {df[col].nunique()}\")\n",
    "        print()"
   ]
  },
  {
   "cell_type": "code",
   "execution_count": 4,
   "metadata": {},
   "outputs": [
    {
     "name": "stdout",
     "output_type": "stream",
     "text": [
      "유니크값 확인 :\n",
      "column : 일자\n",
      "The number of unique : 366\n",
      "\n",
      "column : 강수여부\n",
      "The number of unique : 1\n",
      "\n",
      "column : 이상기온\n",
      "The number of unique : 2\n",
      "\n"
     ]
    }
   ],
   "source": [
    "search_data(weather_df)"
   ]
  },
  {
   "cell_type": "code",
   "execution_count": 6,
   "metadata": {},
   "outputs": [],
   "source": [
    "seoul_df = pd.read_csv(\"./data/서울시_기상데이터.csv\", encoding=\"cp949\")\n"
   ]
  },
  {
   "cell_type": "code",
   "execution_count": 7,
   "metadata": {},
   "outputs": [
    {
     "name": "stdout",
     "output_type": "stream",
     "text": [
      "유니크값 확인 :\n",
      "column : 지점\n",
      "The number of unique : 1\n",
      "\n",
      "column : 일시\n",
      "The number of unique : 8760\n",
      "\n",
      "column : 기온\n",
      "The number of unique : 455\n",
      "\n",
      "column : 강수량\n",
      "The number of unique : 117\n",
      "\n",
      "column : 풍속\n",
      "The number of unique : 78\n",
      "\n",
      "column : 습도\n",
      "The number of unique : 90\n",
      "\n",
      "column : 일조시간\n",
      "The number of unique : 11\n",
      "\n",
      "column : 적설량\n",
      "The number of unique : 38\n",
      "\n",
      "column : 지면온도\n",
      "The number of unique : 594\n",
      "\n",
      "column : 지중온도\n",
      "The number of unique : 268\n",
      "\n"
     ]
    }
   ],
   "source": [
    "search_data(seoul_df)"
   ]
  },
  {
   "cell_type": "code",
   "execution_count": 8,
   "metadata": {},
   "outputs": [
    {
     "name": "stdout",
     "output_type": "stream",
     "text": [
      "[ nan  0.   0.1  0.6  0.5  2.1  7.4  6.5  2.4  4.6  7.2  9.   7.1  6.2\n",
      "  4.   1.4  0.2  1.5  0.8  1.2  3.2  0.3  1.7  8.1  3.5  0.4  3.6  3.1\n",
      "  1.9  7.3  0.7  2.2  3.4  3.7  1.1  1.6  1.3  1.   2.5  2.6  1.8  3.3\n",
      "  0.9 18.9  6.7  2.7  4.1  7.7  6.6  7.8  2.   5.   5.6 13.3 10.8  2.3\n",
      " 12.4 11.  10.6  3.8  3.9  2.8  5.3 14.6  5.8  5.2  8.7 10.7 17.3 16.6\n",
      "  9.8 15.1 10.4 26.9  8.  19.  11.6  3.   5.5  2.9 12.2  8.9 19.8 15.3\n",
      " 16.3 21.6 11.7  6.1  6.3  6.  17.9 15.7 15.5  4.8  4.7  6.4 28.6  4.3\n",
      " 18.2 19.4 21.8 14.4 22.8  4.9 16.8 22.3  5.1  7.5 22.1 13.2  8.6  4.5\n",
      "  7.  29.5 11.5  5.9 42.1 36.8]\n"
     ]
    }
   ],
   "source": [
    "print(seoul_df['강수량'].unique())"
   ]
  },
  {
   "cell_type": "code",
   "execution_count": null,
   "metadata": {},
   "outputs": [],
   "source": []
  }
 ],
 "metadata": {
  "kernelspec": {
   "display_name": "pydatavenv",
   "language": "python",
   "name": "pydatavenv"
  },
  "language_info": {
   "codemirror_mode": {
    "name": "ipython",
    "version": 3
   },
   "file_extension": ".py",
   "mimetype": "text/x-python",
   "name": "python",
   "nbconvert_exporter": "python",
   "pygments_lexer": "ipython3",
   "version": "3.7.9"
  }
 },
 "nbformat": 4,
 "nbformat_minor": 4
}
