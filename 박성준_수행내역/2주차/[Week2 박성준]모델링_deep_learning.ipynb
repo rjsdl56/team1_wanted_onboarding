{
 "cells": [
  {
   "cell_type": "markdown",
   "metadata": {},
   "source": [
    "# 2주차 과제 제출에 포함되어야 하는 형태 (최소)\n",
    "1. 모델링에 대한 결과 .ipynb 파일 (team1_onboarding_week2_analysis.ipynb)\n",
    "2. np.random.seed(42) 설정\n",
    "3. Input : X데이터 : [user_id, +@]\n",
    "4. Output : Count column 예측값\n",
    "5. 2020.01.01~2020.09.30 : Training Data\n",
    "6. 2020.10.01~2020.12.31 : Test Data\n",
    "7. 2020.10.01~2020.12.31 구간에 대한 MSE, MAE 계산값\n",
    "8. 요일별 이용량에 대한 분석 - EDA\n",
    "9. 유저별 이용 count 값에 대한 분석 - EDA"
   ]
  },
  {
   "cell_type": "code",
   "execution_count": 1,
   "metadata": {},
   "outputs": [],
   "source": [
    "import os \n",
    "import pandas as pd\n",
    "import numpy as np\n",
    "\n",
    "import seaborn as sns\n",
    "import matplotlib.pyplot as plt\n",
    "plt.rcParams['font.family'] = 'Malgun Gothic'  # (Windows 용) 한글 출력을 위한 글꼴 설정\n",
    "\n",
    "from sklearn.model_selection import train_test_split\n",
    "from sklearn.ensemble import RandomForestRegressor\n",
    "import lightgbm as lgb\n",
    "\n",
    "import warnings\n",
    "warnings.filterwarnings(\"ignore\")\n",
    "\n",
    "# 랜덤시드 통일\n",
    "np.random.seed(42)"
   ]
  },
  {
   "cell_type": "code",
   "execution_count": 2,
   "metadata": {},
   "outputs": [],
   "source": [
    "def get_font_family():\n",
    "    \"\"\"\n",
    "    시스템 환경에 따른 기본 폰트명을 반환하는 함수\n",
    "    \"\"\"\n",
    "    import platform\n",
    "    system_name = platform.system()\n",
    "    # colab 사용자는 system_name이 'Linux'로 확인\n",
    "\n",
    "    if system_name == \"Darwin\" :\n",
    "        font_family = \"AppleGothic\"\n",
    "    elif system_name == \"Windows\":\n",
    "        font_family = \"Malgun Gothic\"\n",
    "    else:\n",
    "        # Linux\n",
    "        # colab에서는 runtime을 <꼭> 재시작 해야함.\n",
    "        # 런타임을 재시작 하지 않고 폰트 설치를 하면 기본 설정 폰트가 로드되어 한글이 깨짐.\n",
    "        !apt-get update -qq\n",
    "        !apt-get install fonts-nanum -qq  > /dev/null\n",
    "\n",
    "        import matplotlib.font_manager as fm\n",
    "\n",
    "        fontpath = '/usr/share/fonts/truetype/nanum/NanumBarunGothic.ttf'\n",
    "        font = fm.FontProperties(fname=fontpath, size=9)\n",
    "        fm._rebuild()\n",
    "        font_family = \"NanumBarunGothic\"\n",
    "    return font_family"
   ]
  },
  {
   "cell_type": "code",
   "execution_count": 3,
   "metadata": {},
   "outputs": [],
   "source": [
    "# 시각화를 위한 폰트설정\n",
    "# 위에서 만든 함수를 통해 시스템 폰트를 불러와서 font_family 라는 변수에 할당.\n",
    "a = get_font_family()\n",
    "# 폰트설정\n",
    "import matplotlib.pyplot as plt \n",
    "plt.rc(\"font\", family = a)\n",
    "# 마이너스폰트 설정\n",
    "plt.rc(\"axes\", unicode_minus=False)\n",
    "# ggplot으로 그래프 스타일 설정 / 개인 자유\n",
    "plt.style.use(\"ggplot\")"
   ]
  },
  {
   "cell_type": "code",
   "execution_count": 4,
   "metadata": {},
   "outputs": [
    {
     "data": {
      "text/plain": [
       "['2020교통량통합.xlsx',\n",
       " 'check.csv',\n",
       " 'final.csv',\n",
       " 'holiday.csv',\n",
       " 'metro.csv',\n",
       " '국가공휴일.xlsx',\n",
       " '기상청.csv',\n",
       " '디지털 스킬셋 기술과제.docx',\n",
       " '서울시_기상데이터.csv',\n",
       " '실전db.csv',\n",
       " '실전db_holiday.csv',\n",
       " '지하철노선위경도정보3.xlsx',\n",
       " '최종.csv']"
      ]
     },
     "execution_count": 4,
     "metadata": {},
     "output_type": "execute_result"
    }
   ],
   "source": [
    "# 데이터 확인\n",
    "os.listdir('data')"
   ]
  },
  {
   "cell_type": "code",
   "execution_count": 5,
   "metadata": {},
   "outputs": [],
   "source": [
    "# 데이터프레임 불러오기\n",
    "df = pd.read_csv(\"./data/최종.csv\")\n",
    "df = df.drop(\"Unnamed: 0\",axis=1)\n",
    "df = df.sort_values(by=\"DATE\")"
   ]
  },
  {
   "cell_type": "code",
   "execution_count": 6,
   "metadata": {},
   "outputs": [],
   "source": [
    "X_train = df[:623305]\n",
    "X_test = df[623305:]"
   ]
  },
  {
   "cell_type": "code",
   "execution_count": 7,
   "metadata": {},
   "outputs": [],
   "source": [
    "train_x = X_train.drop([\"DATE\", \"COUNT\"], axis=1)\n",
    "train_y = X_train['COUNT']"
   ]
  },
  {
   "cell_type": "code",
   "execution_count": 8,
   "metadata": {},
   "outputs": [],
   "source": [
    "test_x = X_test.drop([\"DATE\", \"COUNT\"], axis=1)\n",
    "real_count = X_test['COUNT']"
   ]
  },
  {
   "cell_type": "code",
   "execution_count": 9,
   "metadata": {},
   "outputs": [],
   "source": [
    "from tensorflow import keras\n",
    "\n",
    "# deep learning 모델 선언\n",
    "model = keras.Sequential([\n",
    "    keras.layers.Dense(128, activation='relu', input_shape=[len(train_x.columns)]),\n",
    "    keras.layers.Dense(128, activation='relu'),\n",
    "    keras.layers.Dense(1)\n",
    "])\n",
    "\n",
    "# 하이퍼파라미터 설정\n",
    "model.compile(\n",
    "    loss='mean_squared_error',\n",
    "    optimizer='adam',\n",
    "    metrics=['mse']\n",
    ")"
   ]
  },
  {
   "cell_type": "code",
   "execution_count": 10,
   "metadata": {},
   "outputs": [
    {
     "name": "stdout",
     "output_type": "stream",
     "text": [
      "Epoch 1/20\n",
      "1948/1948 [==============================] - 4s 2ms/step - loss: 5346360.5000 - mse: 5346360.5000 - val_loss: 104452.2656 - val_mse: 104452.2656\n",
      "Epoch 2/20\n",
      "1948/1948 [==============================] - 3s 2ms/step - loss: 2315058.5000 - mse: 2315058.5000 - val_loss: 0.3259 - val_mse: 0.3259\n",
      "Epoch 3/20\n",
      "1948/1948 [==============================] - 4s 2ms/step - loss: 1877939.2500 - mse: 1877939.2500 - val_loss: 580462.0625 - val_mse: 580462.0625\n",
      "Epoch 4/20\n",
      "1948/1948 [==============================] - 4s 2ms/step - loss: 823438.3750 - mse: 823438.3750 - val_loss: 158325.3906 - val_mse: 158325.3906\n",
      "Epoch 5/20\n",
      "1948/1948 [==============================] - 4s 2ms/step - loss: 1046547.7500 - mse: 1046547.7500 - val_loss: 0.7312 - val_mse: 0.7312\n",
      "Epoch 6/20\n",
      "1948/1948 [==============================] - 4s 2ms/step - loss: 549506.6875 - mse: 549506.6875 - val_loss: 0.8380 - val_mse: 0.8380\n",
      "Epoch 7/20\n",
      "1948/1948 [==============================] - 4s 2ms/step - loss: 554940.8750 - mse: 554940.8750 - val_loss: 2517462.2500 - val_mse: 2517462.2500\n",
      "Epoch 8/20\n",
      "1948/1948 [==============================] - 4s 2ms/step - loss: 324581.6875 - mse: 324581.6875 - val_loss: 1.0400 - val_mse: 1.0400\n",
      "Epoch 9/20\n",
      "1948/1948 [==============================] - 4s 2ms/step - loss: 241049.4062 - mse: 241049.4062 - val_loss: 234.2610 - val_mse: 234.2610\n",
      "Epoch 10/20\n",
      "1948/1948 [==============================] - 4s 2ms/step - loss: 201537.9375 - mse: 201537.9375 - val_loss: 190477.5938 - val_mse: 190477.5938\n",
      "Epoch 11/20\n",
      "1948/1948 [==============================] - 4s 2ms/step - loss: 138667.5312 - mse: 138667.5312 - val_loss: 0.3373 - val_mse: 0.3373\n",
      "Epoch 12/20\n",
      "1948/1948 [==============================] - 4s 2ms/step - loss: 164240.9375 - mse: 164240.9375 - val_loss: 993.8801 - val_mse: 993.8801\n",
      "Epoch 13/20\n",
      "1948/1948 [==============================] - 4s 2ms/step - loss: 65224.6445 - mse: 65224.6445 - val_loss: 0.6536 - val_mse: 0.6536\n",
      "Epoch 14/20\n",
      "1948/1948 [==============================] - 4s 2ms/step - loss: 121680.5938 - mse: 121680.5938 - val_loss: 0.2116 - val_mse: 0.2116\n",
      "Epoch 15/20\n",
      "1948/1948 [==============================] - 4s 2ms/step - loss: 22048.2031 - mse: 22048.2031 - val_loss: 3890.3286 - val_mse: 3890.3286\n",
      "Epoch 16/20\n",
      "1948/1948 [==============================] - 4s 2ms/step - loss: 39691.8125 - mse: 39691.8125 - val_loss: 0.1703 - val_mse: 0.1703\n",
      "Epoch 17/20\n",
      "1948/1948 [==============================] - 4s 2ms/step - loss: 25452.0215 - mse: 25452.0215 - val_loss: 0.5624 - val_mse: 0.5624\n",
      "Epoch 18/20\n",
      "1948/1948 [==============================] - 4s 2ms/step - loss: 14916.8779 - mse: 14916.8779 - val_loss: 0.2950 - val_mse: 0.2950\n",
      "Epoch 19/20\n",
      "1948/1948 [==============================] - 4s 2ms/step - loss: 14275.7783 - mse: 14275.7783 - val_loss: 0.1214 - val_mse: 0.1214\n",
      "Epoch 20/20\n",
      "1948/1948 [==============================] - 4s 2ms/step - loss: 15723.9258 - mse: 15723.9258 - val_loss: 0.1377 - val_mse: 0.1377\n"
     ]
    },
    {
     "data": {
      "text/plain": [
       "<tensorflow.python.keras.callbacks.History at 0x242d04b6388>"
      ]
     },
     "execution_count": 10,
     "metadata": {},
     "output_type": "execute_result"
    }
   ],
   "source": [
    "model.fit(train_x.values, \n",
    "          train_y.values,\n",
    "          batch_size=256,\n",
    "          validation_split=0.2,\n",
    "          epochs=20)"
   ]
  },
  {
   "cell_type": "code",
   "execution_count": 66,
   "metadata": {},
   "outputs": [],
   "source": []
  }
 ],
 "metadata": {
  "kernelspec": {
   "display_name": "pydatavenv",
   "language": "python",
   "name": "pydatavenv"
  },
  "language_info": {
   "codemirror_mode": {
    "name": "ipython",
    "version": 3
   },
   "file_extension": ".py",
   "mimetype": "text/x-python",
   "name": "python",
   "nbconvert_exporter": "python",
   "pygments_lexer": "ipython3",
   "version": "3.7.9"
  }
 },
 "nbformat": 4,
 "nbformat_minor": 4
}
