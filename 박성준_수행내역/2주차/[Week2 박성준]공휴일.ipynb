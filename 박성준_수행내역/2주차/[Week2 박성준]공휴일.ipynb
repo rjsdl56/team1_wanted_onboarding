{
 "cells": [
  {
   "cell_type": "markdown",
   "metadata": {},
   "source": [
    "공휴일 찾기"
   ]
  },
  {
   "cell_type": "code",
   "execution_count": 31,
   "metadata": {},
   "outputs": [],
   "source": [
    "import os \n",
    "import pandas as pd\n",
    "import numpy as np\n",
    "\n",
    "import seaborn as sns\n",
    "import matplotlib.pyplot as plt\n",
    "plt.rcParams['font.family'] = 'Malgun Gothic'  # (Windows 용) 한글 출력을 위한 글꼴 설정\n",
    "\n",
    "from sklearn.model_selection import train_test_split\n",
    "from sklearn.ensemble import RandomForestRegressor\n",
    "\n",
    "import warnings\n",
    "warnings.filterwarnings(\"ignore\")\n",
    "\n",
    "# 랜덤시드 통일\n",
    "np.random.seed(42)"
   ]
  },
  {
   "cell_type": "code",
   "execution_count": 32,
   "metadata": {},
   "outputs": [],
   "source": [
    "def get_font_family():\n",
    "    \"\"\"\n",
    "    시스템 환경에 따른 기본 폰트명을 반환하는 함수\n",
    "    \"\"\"\n",
    "    import platform\n",
    "    system_name = platform.system()\n",
    "    # colab 사용자는 system_name이 'Linux'로 확인\n",
    "\n",
    "    if system_name == \"Darwin\" :\n",
    "        font_family = \"AppleGothic\"\n",
    "    elif system_name == \"Windows\":\n",
    "        font_family = \"Malgun Gothic\"\n",
    "    else:\n",
    "        # Linux\n",
    "        # colab에서는 runtime을 <꼭> 재시작 해야함.\n",
    "        # 런타임을 재시작 하지 않고 폰트 설치를 하면 기본 설정 폰트가 로드되어 한글이 깨짐.\n",
    "        !apt-get update -qq\n",
    "        !apt-get install fonts-nanum -qq  > /dev/null\n",
    "\n",
    "        import matplotlib.font_manager as fm\n",
    "\n",
    "        fontpath = '/usr/share/fonts/truetype/nanum/NanumBarunGothic.ttf'\n",
    "        font = fm.FontProperties(fname=fontpath, size=9)\n",
    "        fm._rebuild()\n",
    "        font_family = \"NanumBarunGothic\"\n",
    "    return font_family"
   ]
  },
  {
   "cell_type": "code",
   "execution_count": 33,
   "metadata": {},
   "outputs": [],
   "source": [
    "# 시각화를 위한 폰트설정\n",
    "# 위에서 만든 함수를 통해 시스템 폰트를 불러와서 font_family 라는 변수에 할당.\n",
    "a = get_font_family()\n",
    "# 폰트설정\n",
    "import matplotlib.pyplot as plt \n",
    "plt.rc(\"font\", family = a)\n",
    "# 마이너스폰트 설정\n",
    "plt.rc(\"axes\", unicode_minus=False)\n",
    "# ggplot으로 그래프 스타일 설정 / 개인 자유\n",
    "plt.style.use(\"ggplot\")"
   ]
  },
  {
   "cell_type": "code",
   "execution_count": 34,
   "metadata": {},
   "outputs": [
    {
     "data": {
      "text/plain": [
       "['2020교통량통합.xlsx', '디지털 스킬셋 기술과제.docx', '서울시_기상데이터.csv', '실전db.csv']"
      ]
     },
     "execution_count": 34,
     "metadata": {},
     "output_type": "execute_result"
    }
   ],
   "source": [
    "# 데이터 확인\n",
    "os.listdir('data')"
   ]
  },
  {
   "cell_type": "code",
   "execution_count": 35,
   "metadata": {},
   "outputs": [],
   "source": [
    "# 데이터프레임 불러오기\n",
    "df = pd.read_csv(\"./data/실전db.csv\")"
   ]
  },
  {
   "cell_type": "code",
   "execution_count": 36,
   "metadata": {},
   "outputs": [],
   "source": [
    "# 2020년도 공휴일을 찾아봅시다 ==> 실패\n",
    "# 참고사이트 : https://aspdotnet.tistory.com/2495 // https://www.data.go.kr/iim/api/selectAPIAcountView.do\n",
    "\n",
    "# import requests\n",
    "# import datetime\n",
    "# from bs4 import BeautifulSoup\n",
    "\n",
    "# def print_whichday(year, month, day) :\n",
    "#     r = ['월요일', '화요일', '수요일', '목요일', '금요일', '토요일', '일요일']\n",
    "#     aday = datetime.date(year, month, day)\n",
    "#     bday = aday.weekday()\n",
    "#     return r[bday]\n",
    "\n",
    "# def get_request_query(url, operation, params, serviceKey):\n",
    "#     import urllib.parse as urlparse\n",
    "#     params = urlparse.urlencode(params)\n",
    "#     request_query = url + '/' + operation + '?' + params + '&' + 'serviceKey' + '=' + serviceKey\n",
    "#     return request_query\n",
    "\n",
    "# year = 2020\n",
    "# mykey = \"RZQwte13Oqz1mTqh61gxYnxsZFlsSQorrJtGwYl0EGD5E789MZFgTQugH2sOFQKIWsH3+Iq8uLdfKQmCaKV0Yw==\"\n",
    "\n",
    "# for month in range(1,13):\n",
    "\n",
    "#     if month < 10:\n",
    "#         month = '0' + str(month)\n",
    "#     else:\n",
    "#         month = str(month)\n",
    "    \n",
    "#     url = 'http://apis.data.go.kr/B090041/openapi/service/SpcdeInfoService'\n",
    "#     operation = 'getRestDeInfo'\n",
    "#     params = {'solYear':year, 'solMonth':month}\n",
    "\n",
    "#     request_query = get_request_query(url, operation, params, mykey)\n",
    "#     get_data = requests.get(request_query)    \n",
    "\n",
    "#     if True == get_data.ok:\n",
    "#         soup = BeautifulSoup(get_data.content, 'html.parser')        \n",
    "        \n",
    "#         item = soup.findAll('item')\n",
    "#         #print(item);\n",
    "#         for i in item:\n",
    "            \n",
    "#             day = int(i.locdate.string[-2:])\n",
    "#             weekname = print_whichday(int(year), int(month), day)\n",
    "#             print(i.datename.string, i.isholiday.string, i.locdate.string, weekname)   "
   ]
  },
  {
   "cell_type": "code",
   "execution_count": 37,
   "metadata": {},
   "outputs": [],
   "source": [
    "import re\n",
    "\n",
    "# 2021년 공휴일임\n",
    "TGIH = ['신정 Y 20210101 금요일',\n",
    "'설날 Y 20210211 목요일',\n",
    "'설날 Y 20210212 금요일',\n",
    "'설날 Y 20210213 토요일',\n",
    "'삼일절 Y 20210301 월요일',\n",
    "'어린이날 Y 20210505 수요일',\n",
    "'부처님오신날 Y 20210519 수요일',\n",
    "'현충일 Y 20210606 일요일',\n",
    "'광복절 Y 20210815 일요일',\n",
    "'추석 Y 20210920 월요일',\n",
    "'추석 Y 20210921 화요일',\n",
    "'추석 Y 20210922 수요일',\n",
    "'개천절 Y 20211003 일요일',\n",
    "'한글날 Y 20211009 토요일',\n",
    "'기독탄신일 Y 20211225 토요일']\n"
   ]
  },
  {
   "cell_type": "code",
   "execution_count": 38,
   "metadata": {},
   "outputs": [
    {
     "name": "stdout",
     "output_type": "stream",
     "text": [
      "['20210101', '20210211', '20210212', '20210213', '20210301', '20210505', '20210519', '20210606', '20210815', '20210920', '20210921', '20210922', '20211003', '20211009', '20211225']\n"
     ]
    }
   ],
   "source": [
    "holiday_list = []\n",
    "for x in TGIH :\n",
    "    holiday_list.append(re.sub(\"[a-zA-Zㄱ-힗 ]\",\"\",x))\n",
    "\n",
    "print(holiday_list)"
   ]
  },
  {
   "cell_type": "code",
   "execution_count": 41,
   "metadata": {},
   "outputs": [],
   "source": [
    "holiday_df = pd.read_excel(\"./data/국가공휴일.xlsx\")"
   ]
  },
  {
   "cell_type": "code",
   "execution_count": 64,
   "metadata": {},
   "outputs": [],
   "source": [
    "holi_2020 = holiday_df[holiday_df['년']==2020]\n",
    "holi_2020.drop([\"순서\",\"설명\"], axis=1, inplace=True)\n",
    "holi_2020['년'] = holi_2020['년'].astype(str)\n",
    "holi_2020['월'] = holi_2020['월'].astype(str)\n",
    "holi_2020['일'] = holi_2020['일'].astype(str)"
   ]
  },
  {
   "cell_type": "code",
   "execution_count": null,
   "metadata": {},
   "outputs": [],
   "source": []
  },
  {
   "cell_type": "code",
   "execution_count": null,
   "metadata": {},
   "outputs": [],
   "source": []
  },
  {
   "cell_type": "code",
   "execution_count": null,
   "metadata": {},
   "outputs": [],
   "source": []
  },
  {
   "cell_type": "code",
   "execution_count": null,
   "metadata": {},
   "outputs": [],
   "source": []
  }
 ],
 "metadata": {
  "kernelspec": {
   "display_name": "pydatavenv",
   "language": "python",
   "name": "pydatavenv"
  },
  "language_info": {
   "codemirror_mode": {
    "name": "ipython",
    "version": 3
   },
   "file_extension": ".py",
   "mimetype": "text/x-python",
   "name": "python",
   "nbconvert_exporter": "python",
   "pygments_lexer": "ipython3",
   "version": "3.7.9"
  }
 },
 "nbformat": 4,
 "nbformat_minor": 4
}
