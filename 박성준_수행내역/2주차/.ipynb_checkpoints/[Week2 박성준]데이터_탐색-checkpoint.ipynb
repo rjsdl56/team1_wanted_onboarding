{
 "cells": [
  {
   "cell_type": "markdown",
   "metadata": {
    "slideshow": {
     "slide_type": "slide"
    }
   },
   "source": [
    "# 주제 : 앱 이용자 별 향후 이용 건수 예측\n",
    "    \n",
    "# 목표 : 이용자 별 결제 이력을 바탕으로 한 향후 한 달간 이용 건수 예측\n",
    "\n",
    "\n",
    "### 내 생각\n",
    "- 먼저 실전DB를 가지고 EDA 및 예측 모델을 구성해본다.\n",
    "- 이후 개략적인 흐름이 잡히면 서울시 기상데이터(기온 정도? / 강수를 넣으면 좋을텐데)를 추가해 예측을 진행한다.\n",
    "- 기상데이터 추가 후에도 시간이 남는다면 교통통합량을 계산한다.\n",
    "\n",
    "\n",
    "\n",
    "## 아래 코드를 진행하면 생각났던 것들\n",
    "1. 데이터 탐색\n",
    "    - JOIN_DATE에 이상한 값(1970)년대 값이 포함 ==> 2013년과 2014년대 회원가입 환경에 혼선이 있던 것으로 추정\n",
    "    - AD1은 주차타입 or 장소를 의미하는 것으로 보임\n",
    "    - AD1 중 0 이라는 값이 들어가있다. ==> 이상치인지 살펴보자\n",
    "    - D_TYPE 이 결제방식이면 CC는 무조건 쿠폰이다.\n",
    "    - GOODS_TYPE은 이용권....?\n",
    "    - 특정 STORE_ID에 사람이 몰린다. 강남 같은 곳이 아닐까 싶다\n",
    "    \n",
    "    \n",
    "    \n",
    "2. Feature Engineering에 대한 고민\n",
    "    - 유저는 int값을 갖지만 그 순서에는 의미가 없다. 그렇다고 원핫인코딩을 하기엔.. 너무 많은 범주형 자료는 어떻게 해야 하나\n",
    "    - STORE_ID도 int값이지만 원핫인코딩하기엔 너무 많다.\n",
    "    - D_TYPE, GOODS_TYPE, JOIN_DATE는 범주형이다. 이후 원핫인코더나 라벨링인코더로 바꾼다.\n",
    "    - AD1의 경우, 유저마다 자주 이용하는 특정 구간이 있다. AD1컬럼을 0,1의 값으로 바꾸고 자주 이용하는 것에 1을 두어야 하나? 복잡\n",
    "    - JOIN_DATE의 경우, 1970년대 값은 2014로 변환한 뒤 라벨인코더(뒤로 갈수록 유저가 증가함 -> int로 변환해도 괜춘)\n",
    "    - 1번 이용하는 사람과 여러 번 이용하는 사람의 구분 / how? ==> 이것도 0,1? / user_id를 어찌할지 심각한 고민 필요\n",
    "    - 자주 이용하는 사람 데이터를 따로 추출해서 해야하나?\n",
    "    - 문제는 10\\~12월에 사용자 및 이용횟수가 1\\~9월에 비해 많다는 것 ==> 35166명이 앞쪽 데이터에 없다"
   ]
  },
  {
   "cell_type": "markdown",
   "metadata": {},
   "source": [
    "# 데이터 탐색"
   ]
  },
  {
   "cell_type": "code",
   "execution_count": 2,
   "metadata": {
    "slideshow": {
     "slide_type": "slide"
    }
   },
   "outputs": [],
   "source": [
    "import os \n",
    "import pandas as pd\n",
    "import numpy as np\n",
    "\n",
    "import seaborn as sns\n",
    "import matplotlib.pyplot as plt\n",
    "plt.rcParams['font.family'] = 'Malgun Gothic'  # (Windows 용) 한글 출력을 위한 글꼴 설정\n",
    "\n",
    "from sklearn.model_selection import train_test_split\n",
    "from sklearn.ensemble import RandomForestRegressor\n",
    "\n",
    "import warnings\n",
    "warnings.filterwarnings(\"ignore\")\n",
    "\n",
    "# 랜덤시드 통일\n",
    "np.random.seed(42)"
   ]
  },
  {
   "cell_type": "code",
   "execution_count": 3,
   "metadata": {
    "slideshow": {
     "slide_type": "slide"
    }
   },
   "outputs": [],
   "source": [
    "def get_font_family():\n",
    "    \"\"\"\n",
    "    시스템 환경에 따른 기본 폰트명을 반환하는 함수\n",
    "    \"\"\"\n",
    "    import platform\n",
    "    system_name = platform.system()\n",
    "    # colab 사용자는 system_name이 'Linux'로 확인\n",
    "\n",
    "    if system_name == \"Darwin\" :\n",
    "        font_family = \"AppleGothic\"\n",
    "    elif system_name == \"Windows\":\n",
    "        font_family = \"Malgun Gothic\"\n",
    "    else:\n",
    "        # Linux\n",
    "        # colab에서는 runtime을 <꼭> 재시작 해야함.\n",
    "        # 런타임을 재시작 하지 않고 폰트 설치를 하면 기본 설정 폰트가 로드되어 한글이 깨짐.\n",
    "        !apt-get update -qq\n",
    "        !apt-get install fonts-nanum -qq  > /dev/null\n",
    "\n",
    "        import matplotlib.font_manager as fm\n",
    "\n",
    "        fontpath = '/usr/share/fonts/truetype/nanum/NanumBarunGothic.ttf'\n",
    "        font = fm.FontProperties(fname=fontpath, size=9)\n",
    "        fm._rebuild()\n",
    "        font_family = \"NanumBarunGothic\"\n",
    "    return font_family"
   ]
  },
  {
   "cell_type": "code",
   "execution_count": 4,
   "metadata": {
    "slideshow": {
     "slide_type": "slide"
    }
   },
   "outputs": [],
   "source": [
    "# 시각화를 위한 폰트설정\n",
    "# 위에서 만든 함수를 통해 시스템 폰트를 불러와서 font_family 라는 변수에 할당.\n",
    "a = get_font_family()\n",
    "# 폰트설정\n",
    "import matplotlib.pyplot as plt \n",
    "plt.rc(\"font\", family = a)\n",
    "# 마이너스폰트 설정\n",
    "plt.rc(\"axes\", unicode_minus=False)\n",
    "# ggplot으로 그래프 스타일 설정 / 개인 자유\n",
    "plt.style.use(\"ggplot\")"
   ]
  },
  {
   "cell_type": "code",
   "execution_count": 5,
   "metadata": {
    "slideshow": {
     "slide_type": "slide"
    }
   },
   "outputs": [
    {
     "data": {
      "text/plain": [
       "['2020교통량통합.xlsx', '디지털 스킬셋 기술과제.docx', '서울시_기상데이터.csv', '실전db.csv']"
      ]
     },
     "execution_count": 5,
     "metadata": {},
     "output_type": "execute_result"
    }
   ],
   "source": [
    "# 데이터 확인\n",
    "os.listdir('data')"
   ]
  },
  {
   "cell_type": "code",
   "execution_count": 6,
   "metadata": {
    "slideshow": {
     "slide_type": "slide"
    }
   },
   "outputs": [],
   "source": [
    "# 데이터프레임 불러오기\n",
    "df = pd.read_csv(\"./data/실전db.csv\")"
   ]
  },
  {
   "cell_type": "code",
   "execution_count": 7,
   "metadata": {
    "slideshow": {
     "slide_type": "slide"
    }
   },
   "outputs": [],
   "source": [
    "# 데이터 내부 살펴보기 함수\n",
    "def search_data(df):\n",
    "    print(\"데이터 확인 :\")\n",
    "    display(df.head())\n",
    "    print()\n",
    "    print()\n",
    "    \n",
    "    print(\"데이터 살펴보기 :\")\n",
    "    display(df.describe())\n",
    "    print()\n",
    "    print()    \n",
    "    \n",
    "    print(\"데이터 정보 확인 :\")\n",
    "    print(df.info())\n",
    "    print()\n",
    "    print()\n",
    "        \n",
    "    print(\"데이터 형태 확인 :\", df.shape)\n",
    "    print()\n",
    "    print()\n",
    "    \n",
    "    print(\"결측치 확인 :\")\n",
    "    print(df.isna().sum())\n",
    "    print()\n",
    "    print()\n",
    "    \n",
    "    print(\"유니크값 확인 :\")\n",
    "    for col in df.columns:\n",
    "        print(f\"column : {col}\")\n",
    "        print(f\"The number of unique : {df[col].nunique()}\")\n",
    "        print()"
   ]
  },
  {
   "cell_type": "code",
   "execution_count": 8,
   "metadata": {
    "slideshow": {
     "slide_type": "slide"
    }
   },
   "outputs": [
    {
     "name": "stdout",
     "output_type": "stream",
     "text": [
      "데이터 확인 :\n"
     ]
    },
    {
     "data": {
      "text/html": [
       "<div>\n",
       "<style scoped>\n",
       "    .dataframe tbody tr th:only-of-type {\n",
       "        vertical-align: middle;\n",
       "    }\n",
       "\n",
       "    .dataframe tbody tr th {\n",
       "        vertical-align: top;\n",
       "    }\n",
       "\n",
       "    .dataframe thead th {\n",
       "        text-align: right;\n",
       "    }\n",
       "</style>\n",
       "<table border=\"1\" class=\"dataframe\">\n",
       "  <thead>\n",
       "    <tr style=\"text-align: right;\">\n",
       "      <th></th>\n",
       "      <th>USER_ID</th>\n",
       "      <th>JOIN_DATE</th>\n",
       "      <th>D_TYPE</th>\n",
       "      <th>STORE_ID</th>\n",
       "      <th>GOODS_TYPE</th>\n",
       "      <th>DATE</th>\n",
       "      <th>COUNT</th>\n",
       "      <th>AD1</th>\n",
       "    </tr>\n",
       "  </thead>\n",
       "  <tbody>\n",
       "    <tr>\n",
       "      <th>0</th>\n",
       "      <td>2858</td>\n",
       "      <td>2014-01-07</td>\n",
       "      <td>AA</td>\n",
       "      <td>1892</td>\n",
       "      <td>A</td>\n",
       "      <td>2020-01-01</td>\n",
       "      <td>1</td>\n",
       "      <td>GN</td>\n",
       "    </tr>\n",
       "    <tr>\n",
       "      <th>1</th>\n",
       "      <td>5647</td>\n",
       "      <td>2014-02-14</td>\n",
       "      <td>BB</td>\n",
       "      <td>182009</td>\n",
       "      <td>A</td>\n",
       "      <td>2020-01-01</td>\n",
       "      <td>1</td>\n",
       "      <td>J</td>\n",
       "    </tr>\n",
       "    <tr>\n",
       "      <th>2</th>\n",
       "      <td>33314</td>\n",
       "      <td>2014-11-20</td>\n",
       "      <td>BB</td>\n",
       "      <td>82431</td>\n",
       "      <td>A</td>\n",
       "      <td>2020-01-01</td>\n",
       "      <td>1</td>\n",
       "      <td>SC</td>\n",
       "    </tr>\n",
       "    <tr>\n",
       "      <th>3</th>\n",
       "      <td>37001</td>\n",
       "      <td>2014-12-04</td>\n",
       "      <td>BB</td>\n",
       "      <td>725</td>\n",
       "      <td>C</td>\n",
       "      <td>2020-01-01</td>\n",
       "      <td>1</td>\n",
       "      <td>MP</td>\n",
       "    </tr>\n",
       "    <tr>\n",
       "      <th>4</th>\n",
       "      <td>37819</td>\n",
       "      <td>2014-12-07</td>\n",
       "      <td>AA</td>\n",
       "      <td>220691</td>\n",
       "      <td>C</td>\n",
       "      <td>2020-01-01</td>\n",
       "      <td>1</td>\n",
       "      <td>JRR</td>\n",
       "    </tr>\n",
       "  </tbody>\n",
       "</table>\n",
       "</div>"
      ],
      "text/plain": [
       "   USER_ID   JOIN_DATE D_TYPE  STORE_ID GOODS_TYPE        DATE  COUNT  AD1\n",
       "0     2858  2014-01-07     AA      1892          A  2020-01-01      1   GN\n",
       "1     5647  2014-02-14     BB    182009          A  2020-01-01      1    J\n",
       "2    33314  2014-11-20     BB     82431          A  2020-01-01      1   SC\n",
       "3    37001  2014-12-04     BB       725          C  2020-01-01      1   MP\n",
       "4    37819  2014-12-07     AA    220691          C  2020-01-01      1  JRR"
      ]
     },
     "metadata": {},
     "output_type": "display_data"
    },
    {
     "name": "stdout",
     "output_type": "stream",
     "text": [
      "\n",
      "\n",
      "데이터 살펴보기 :\n"
     ]
    },
    {
     "data": {
      "text/html": [
       "<div>\n",
       "<style scoped>\n",
       "    .dataframe tbody tr th:only-of-type {\n",
       "        vertical-align: middle;\n",
       "    }\n",
       "\n",
       "    .dataframe tbody tr th {\n",
       "        vertical-align: top;\n",
       "    }\n",
       "\n",
       "    .dataframe thead th {\n",
       "        text-align: right;\n",
       "    }\n",
       "</style>\n",
       "<table border=\"1\" class=\"dataframe\">\n",
       "  <thead>\n",
       "    <tr style=\"text-align: right;\">\n",
       "      <th></th>\n",
       "      <th>USER_ID</th>\n",
       "      <th>STORE_ID</th>\n",
       "      <th>COUNT</th>\n",
       "    </tr>\n",
       "  </thead>\n",
       "  <tbody>\n",
       "    <tr>\n",
       "      <th>count</th>\n",
       "      <td>8.792710e+05</td>\n",
       "      <td>879271.000000</td>\n",
       "      <td>879271.000000</td>\n",
       "    </tr>\n",
       "    <tr>\n",
       "      <th>mean</th>\n",
       "      <td>1.206566e+06</td>\n",
       "      <td>149599.960642</td>\n",
       "      <td>1.029079</td>\n",
       "    </tr>\n",
       "    <tr>\n",
       "      <th>std</th>\n",
       "      <td>4.206529e+05</td>\n",
       "      <td>68898.035318</td>\n",
       "      <td>0.512428</td>\n",
       "    </tr>\n",
       "    <tr>\n",
       "      <th>min</th>\n",
       "      <td>2.240000e+02</td>\n",
       "      <td>4.000000</td>\n",
       "      <td>1.000000</td>\n",
       "    </tr>\n",
       "    <tr>\n",
       "      <th>25%</th>\n",
       "      <td>9.005760e+05</td>\n",
       "      <td>92437.000000</td>\n",
       "      <td>1.000000</td>\n",
       "    </tr>\n",
       "    <tr>\n",
       "      <th>50%</th>\n",
       "      <td>1.321440e+06</td>\n",
       "      <td>173059.000000</td>\n",
       "      <td>1.000000</td>\n",
       "    </tr>\n",
       "    <tr>\n",
       "      <th>75%</th>\n",
       "      <td>1.542416e+06</td>\n",
       "      <td>220661.000000</td>\n",
       "      <td>1.000000</td>\n",
       "    </tr>\n",
       "    <tr>\n",
       "      <th>max</th>\n",
       "      <td>1.830598e+06</td>\n",
       "      <td>231465.000000</td>\n",
       "      <td>61.000000</td>\n",
       "    </tr>\n",
       "  </tbody>\n",
       "</table>\n",
       "</div>"
      ],
      "text/plain": [
       "            USER_ID       STORE_ID          COUNT\n",
       "count  8.792710e+05  879271.000000  879271.000000\n",
       "mean   1.206566e+06  149599.960642       1.029079\n",
       "std    4.206529e+05   68898.035318       0.512428\n",
       "min    2.240000e+02       4.000000       1.000000\n",
       "25%    9.005760e+05   92437.000000       1.000000\n",
       "50%    1.321440e+06  173059.000000       1.000000\n",
       "75%    1.542416e+06  220661.000000       1.000000\n",
       "max    1.830598e+06  231465.000000      61.000000"
      ]
     },
     "metadata": {},
     "output_type": "display_data"
    },
    {
     "name": "stdout",
     "output_type": "stream",
     "text": [
      "\n",
      "\n",
      "데이터 정보 확인 :\n",
      "<class 'pandas.core.frame.DataFrame'>\n",
      "RangeIndex: 879271 entries, 0 to 879270\n",
      "Data columns (total 8 columns):\n",
      " #   Column      Non-Null Count   Dtype \n",
      "---  ------      --------------   ----- \n",
      " 0   USER_ID     879271 non-null  int64 \n",
      " 1   JOIN_DATE   879271 non-null  object\n",
      " 2   D_TYPE      879271 non-null  object\n",
      " 3   STORE_ID    879271 non-null  int64 \n",
      " 4   GOODS_TYPE  879271 non-null  object\n",
      " 5   DATE        879271 non-null  object\n",
      " 6   COUNT       879271 non-null  int64 \n",
      " 7   AD1         879271 non-null  object\n",
      "dtypes: int64(3), object(5)\n",
      "memory usage: 53.7+ MB\n",
      "None\n",
      "\n",
      "\n",
      "데이터 형태 확인 : (879271, 8)\n",
      "\n",
      "\n",
      "결측치 확인 :\n",
      "USER_ID       0\n",
      "JOIN_DATE     0\n",
      "D_TYPE        0\n",
      "STORE_ID      0\n",
      "GOODS_TYPE    0\n",
      "DATE          0\n",
      "COUNT         0\n",
      "AD1           0\n",
      "dtype: int64\n",
      "\n",
      "\n",
      "유니크값 확인 :\n",
      "column : USER_ID\n",
      "The number of unique : 165425\n",
      "\n",
      "column : JOIN_DATE\n",
      "The number of unique : 2352\n",
      "\n",
      "column : D_TYPE\n",
      "The number of unique : 3\n",
      "\n",
      "column : STORE_ID\n",
      "The number of unique : 1061\n",
      "\n",
      "column : GOODS_TYPE\n",
      "The number of unique : 4\n",
      "\n",
      "column : DATE\n",
      "The number of unique : 366\n",
      "\n",
      "column : COUNT\n",
      "The number of unique : 56\n",
      "\n",
      "column : AD1\n",
      "The number of unique : 85\n",
      "\n"
     ]
    }
   ],
   "source": [
    "search_data(df)"
   ]
  },
  {
   "cell_type": "markdown",
   "metadata": {
    "slideshow": {
     "slide_type": "slide"
    }
   },
   "source": [
    "### 그냥 드는 생각\n",
    "- JOIN_DATE와 DATE는 datetime 형태로 바꾼다.\n",
    "- JOIN_DATE는 년도로 바꾼다.\n",
    "- DATE는 월별로 묶어서 새로운 컬럼을 생성하자.\n",
    "- 데이터는 879271개인데 유저는 165425명이다. 중복값이 존재하며 헤비유저를 찾아보자 (user와 Count 이용)\n",
    "- StoreID는 주차장 장소인거 같다. 장소에 따른 유저나 이용수를 찾아봐야겠다.\n",
    "- 특정 헤비유저를 뽑아서 Date를 x축으로 둔 다음 시각화를 진행해보자."
   ]
  },
  {
   "cell_type": "code",
   "execution_count": null,
   "metadata": {},
   "outputs": [],
   "source": []
  },
  {
   "cell_type": "code",
   "execution_count": 9,
   "metadata": {
    "slideshow": {
     "slide_type": "slide"
    }
   },
   "outputs": [
    {
     "name": "stdout",
     "output_type": "stream",
     "text": [
      "<class 'pandas.core.frame.DataFrame'>\n",
      "RangeIndex: 879271 entries, 0 to 879270\n",
      "Data columns (total 8 columns):\n",
      " #   Column      Non-Null Count   Dtype         \n",
      "---  ------      --------------   -----         \n",
      " 0   USER_ID     879271 non-null  int64         \n",
      " 1   JOIN_DATE   879271 non-null  datetime64[ns]\n",
      " 2   D_TYPE      879271 non-null  object        \n",
      " 3   STORE_ID    879271 non-null  int64         \n",
      " 4   GOODS_TYPE  879271 non-null  object        \n",
      " 5   DATE        879271 non-null  datetime64[ns]\n",
      " 6   COUNT       879271 non-null  int64         \n",
      " 7   AD1         879271 non-null  object        \n",
      "dtypes: datetime64[ns](2), int64(3), object(3)\n",
      "memory usage: 53.7+ MB\n"
     ]
    }
   ],
   "source": [
    "# (1) JOIN_DATE와 DATE는 datetime 형태로 바꾼다\n",
    "\n",
    "df.JOIN_DATE = pd.to_datetime(df.JOIN_DATE) # 1970년 존재 ==> 어쩌지?\n",
    "df.DATE = pd.to_datetime(df.DATE)\n",
    "\n",
    "df.info()"
   ]
  },
  {
   "cell_type": "code",
   "execution_count": 10,
   "metadata": {
    "slideshow": {
     "slide_type": "slide"
    }
   },
   "outputs": [
    {
     "data": {
      "text/html": [
       "<div>\n",
       "<style scoped>\n",
       "    .dataframe tbody tr th:only-of-type {\n",
       "        vertical-align: middle;\n",
       "    }\n",
       "\n",
       "    .dataframe tbody tr th {\n",
       "        vertical-align: top;\n",
       "    }\n",
       "\n",
       "    .dataframe thead th {\n",
       "        text-align: right;\n",
       "    }\n",
       "</style>\n",
       "<table border=\"1\" class=\"dataframe\">\n",
       "  <thead>\n",
       "    <tr style=\"text-align: right;\">\n",
       "      <th></th>\n",
       "      <th>USER_ID</th>\n",
       "      <th>JOIN_DATE</th>\n",
       "      <th>D_TYPE</th>\n",
       "      <th>STORE_ID</th>\n",
       "      <th>GOODS_TYPE</th>\n",
       "      <th>DATE</th>\n",
       "      <th>COUNT</th>\n",
       "      <th>AD1</th>\n",
       "    </tr>\n",
       "  </thead>\n",
       "  <tbody>\n",
       "    <tr>\n",
       "      <th>0</th>\n",
       "      <td>2858</td>\n",
       "      <td>2014</td>\n",
       "      <td>AA</td>\n",
       "      <td>1892</td>\n",
       "      <td>A</td>\n",
       "      <td>2020-01-01</td>\n",
       "      <td>1</td>\n",
       "      <td>GN</td>\n",
       "    </tr>\n",
       "    <tr>\n",
       "      <th>1</th>\n",
       "      <td>5647</td>\n",
       "      <td>2014</td>\n",
       "      <td>BB</td>\n",
       "      <td>182009</td>\n",
       "      <td>A</td>\n",
       "      <td>2020-01-01</td>\n",
       "      <td>1</td>\n",
       "      <td>J</td>\n",
       "    </tr>\n",
       "    <tr>\n",
       "      <th>2</th>\n",
       "      <td>33314</td>\n",
       "      <td>2014</td>\n",
       "      <td>BB</td>\n",
       "      <td>82431</td>\n",
       "      <td>A</td>\n",
       "      <td>2020-01-01</td>\n",
       "      <td>1</td>\n",
       "      <td>SC</td>\n",
       "    </tr>\n",
       "    <tr>\n",
       "      <th>3</th>\n",
       "      <td>37001</td>\n",
       "      <td>2014</td>\n",
       "      <td>BB</td>\n",
       "      <td>725</td>\n",
       "      <td>C</td>\n",
       "      <td>2020-01-01</td>\n",
       "      <td>1</td>\n",
       "      <td>MP</td>\n",
       "    </tr>\n",
       "    <tr>\n",
       "      <th>4</th>\n",
       "      <td>37819</td>\n",
       "      <td>2014</td>\n",
       "      <td>AA</td>\n",
       "      <td>220691</td>\n",
       "      <td>C</td>\n",
       "      <td>2020-01-01</td>\n",
       "      <td>1</td>\n",
       "      <td>JRR</td>\n",
       "    </tr>\n",
       "    <tr>\n",
       "      <th>...</th>\n",
       "      <td>...</td>\n",
       "      <td>...</td>\n",
       "      <td>...</td>\n",
       "      <td>...</td>\n",
       "      <td>...</td>\n",
       "      <td>...</td>\n",
       "      <td>...</td>\n",
       "      <td>...</td>\n",
       "    </tr>\n",
       "    <tr>\n",
       "      <th>879266</th>\n",
       "      <td>1830551</td>\n",
       "      <td>2020</td>\n",
       "      <td>BB</td>\n",
       "      <td>219886</td>\n",
       "      <td>B</td>\n",
       "      <td>2020-12-31</td>\n",
       "      <td>1</td>\n",
       "      <td>GN</td>\n",
       "    </tr>\n",
       "    <tr>\n",
       "      <th>879267</th>\n",
       "      <td>1830570</td>\n",
       "      <td>2020</td>\n",
       "      <td>BB</td>\n",
       "      <td>82433</td>\n",
       "      <td>B</td>\n",
       "      <td>2020-12-31</td>\n",
       "      <td>1</td>\n",
       "      <td>CY</td>\n",
       "    </tr>\n",
       "    <tr>\n",
       "      <th>879268</th>\n",
       "      <td>1830580</td>\n",
       "      <td>2020</td>\n",
       "      <td>AA</td>\n",
       "      <td>92020</td>\n",
       "      <td>B</td>\n",
       "      <td>2020-12-31</td>\n",
       "      <td>1</td>\n",
       "      <td>JRR</td>\n",
       "    </tr>\n",
       "    <tr>\n",
       "      <th>879269</th>\n",
       "      <td>1830589</td>\n",
       "      <td>2020</td>\n",
       "      <td>BB</td>\n",
       "      <td>92437</td>\n",
       "      <td>B</td>\n",
       "      <td>2020-12-31</td>\n",
       "      <td>1</td>\n",
       "      <td>J</td>\n",
       "    </tr>\n",
       "    <tr>\n",
       "      <th>879270</th>\n",
       "      <td>1830598</td>\n",
       "      <td>2020</td>\n",
       "      <td>AA</td>\n",
       "      <td>220959</td>\n",
       "      <td>B</td>\n",
       "      <td>2020-12-31</td>\n",
       "      <td>1</td>\n",
       "      <td>SC</td>\n",
       "    </tr>\n",
       "  </tbody>\n",
       "</table>\n",
       "<p>879271 rows × 8 columns</p>\n",
       "</div>"
      ],
      "text/plain": [
       "        USER_ID JOIN_DATE D_TYPE  STORE_ID GOODS_TYPE       DATE  COUNT  AD1\n",
       "0          2858      2014     AA      1892          A 2020-01-01      1   GN\n",
       "1          5647      2014     BB    182009          A 2020-01-01      1    J\n",
       "2         33314      2014     BB     82431          A 2020-01-01      1   SC\n",
       "3         37001      2014     BB       725          C 2020-01-01      1   MP\n",
       "4         37819      2014     AA    220691          C 2020-01-01      1  JRR\n",
       "...         ...       ...    ...       ...        ...        ...    ...  ...\n",
       "879266  1830551      2020     BB    219886          B 2020-12-31      1   GN\n",
       "879267  1830570      2020     BB     82433          B 2020-12-31      1   CY\n",
       "879268  1830580      2020     AA     92020          B 2020-12-31      1  JRR\n",
       "879269  1830589      2020     BB     92437          B 2020-12-31      1    J\n",
       "879270  1830598      2020     AA    220959          B 2020-12-31      1   SC\n",
       "\n",
       "[879271 rows x 8 columns]"
      ]
     },
     "metadata": {},
     "output_type": "display_data"
    }
   ],
   "source": [
    "# (2) JOIN_DATE는 년도로 바꾼다.\n",
    "df.JOIN_DATE = df.JOIN_DATE.dt.to_period(freq=\"A\") # 나중에 원핫인코딩으로 바꾸자.\n",
    "df.JOIN_DATE = df.JOIN_DATE.astype(str)\n",
    "display(df)"
   ]
  },
  {
   "cell_type": "code",
   "execution_count": 11,
   "metadata": {
    "slideshow": {
     "slide_type": "slide"
    }
   },
   "outputs": [
    {
     "data": {
      "text/html": [
       "<div>\n",
       "<style scoped>\n",
       "    .dataframe tbody tr th:only-of-type {\n",
       "        vertical-align: middle;\n",
       "    }\n",
       "\n",
       "    .dataframe tbody tr th {\n",
       "        vertical-align: top;\n",
       "    }\n",
       "\n",
       "    .dataframe thead th {\n",
       "        text-align: right;\n",
       "    }\n",
       "</style>\n",
       "<table border=\"1\" class=\"dataframe\">\n",
       "  <thead>\n",
       "    <tr style=\"text-align: right;\">\n",
       "      <th></th>\n",
       "      <th>USER_ID</th>\n",
       "      <th>JOIN_DATE</th>\n",
       "      <th>D_TYPE</th>\n",
       "      <th>STORE_ID</th>\n",
       "      <th>GOODS_TYPE</th>\n",
       "      <th>DATE</th>\n",
       "      <th>COUNT</th>\n",
       "      <th>AD1</th>\n",
       "      <th>MONTH</th>\n",
       "    </tr>\n",
       "  </thead>\n",
       "  <tbody>\n",
       "    <tr>\n",
       "      <th>0</th>\n",
       "      <td>2858</td>\n",
       "      <td>2014</td>\n",
       "      <td>AA</td>\n",
       "      <td>1892</td>\n",
       "      <td>A</td>\n",
       "      <td>2020-01-01</td>\n",
       "      <td>1</td>\n",
       "      <td>GN</td>\n",
       "      <td>01</td>\n",
       "    </tr>\n",
       "    <tr>\n",
       "      <th>1</th>\n",
       "      <td>5647</td>\n",
       "      <td>2014</td>\n",
       "      <td>BB</td>\n",
       "      <td>182009</td>\n",
       "      <td>A</td>\n",
       "      <td>2020-01-01</td>\n",
       "      <td>1</td>\n",
       "      <td>J</td>\n",
       "      <td>01</td>\n",
       "    </tr>\n",
       "    <tr>\n",
       "      <th>2</th>\n",
       "      <td>33314</td>\n",
       "      <td>2014</td>\n",
       "      <td>BB</td>\n",
       "      <td>82431</td>\n",
       "      <td>A</td>\n",
       "      <td>2020-01-01</td>\n",
       "      <td>1</td>\n",
       "      <td>SC</td>\n",
       "      <td>01</td>\n",
       "    </tr>\n",
       "    <tr>\n",
       "      <th>3</th>\n",
       "      <td>37001</td>\n",
       "      <td>2014</td>\n",
       "      <td>BB</td>\n",
       "      <td>725</td>\n",
       "      <td>C</td>\n",
       "      <td>2020-01-01</td>\n",
       "      <td>1</td>\n",
       "      <td>MP</td>\n",
       "      <td>01</td>\n",
       "    </tr>\n",
       "    <tr>\n",
       "      <th>4</th>\n",
       "      <td>37819</td>\n",
       "      <td>2014</td>\n",
       "      <td>AA</td>\n",
       "      <td>220691</td>\n",
       "      <td>C</td>\n",
       "      <td>2020-01-01</td>\n",
       "      <td>1</td>\n",
       "      <td>JRR</td>\n",
       "      <td>01</td>\n",
       "    </tr>\n",
       "    <tr>\n",
       "      <th>...</th>\n",
       "      <td>...</td>\n",
       "      <td>...</td>\n",
       "      <td>...</td>\n",
       "      <td>...</td>\n",
       "      <td>...</td>\n",
       "      <td>...</td>\n",
       "      <td>...</td>\n",
       "      <td>...</td>\n",
       "      <td>...</td>\n",
       "    </tr>\n",
       "    <tr>\n",
       "      <th>879266</th>\n",
       "      <td>1830551</td>\n",
       "      <td>2020</td>\n",
       "      <td>BB</td>\n",
       "      <td>219886</td>\n",
       "      <td>B</td>\n",
       "      <td>2020-12-31</td>\n",
       "      <td>1</td>\n",
       "      <td>GN</td>\n",
       "      <td>12</td>\n",
       "    </tr>\n",
       "    <tr>\n",
       "      <th>879267</th>\n",
       "      <td>1830570</td>\n",
       "      <td>2020</td>\n",
       "      <td>BB</td>\n",
       "      <td>82433</td>\n",
       "      <td>B</td>\n",
       "      <td>2020-12-31</td>\n",
       "      <td>1</td>\n",
       "      <td>CY</td>\n",
       "      <td>12</td>\n",
       "    </tr>\n",
       "    <tr>\n",
       "      <th>879268</th>\n",
       "      <td>1830580</td>\n",
       "      <td>2020</td>\n",
       "      <td>AA</td>\n",
       "      <td>92020</td>\n",
       "      <td>B</td>\n",
       "      <td>2020-12-31</td>\n",
       "      <td>1</td>\n",
       "      <td>JRR</td>\n",
       "      <td>12</td>\n",
       "    </tr>\n",
       "    <tr>\n",
       "      <th>879269</th>\n",
       "      <td>1830589</td>\n",
       "      <td>2020</td>\n",
       "      <td>BB</td>\n",
       "      <td>92437</td>\n",
       "      <td>B</td>\n",
       "      <td>2020-12-31</td>\n",
       "      <td>1</td>\n",
       "      <td>J</td>\n",
       "      <td>12</td>\n",
       "    </tr>\n",
       "    <tr>\n",
       "      <th>879270</th>\n",
       "      <td>1830598</td>\n",
       "      <td>2020</td>\n",
       "      <td>AA</td>\n",
       "      <td>220959</td>\n",
       "      <td>B</td>\n",
       "      <td>2020-12-31</td>\n",
       "      <td>1</td>\n",
       "      <td>SC</td>\n",
       "      <td>12</td>\n",
       "    </tr>\n",
       "  </tbody>\n",
       "</table>\n",
       "<p>879271 rows × 9 columns</p>\n",
       "</div>"
      ],
      "text/plain": [
       "        USER_ID JOIN_DATE D_TYPE  STORE_ID GOODS_TYPE       DATE  COUNT  AD1  \\\n",
       "0          2858      2014     AA      1892          A 2020-01-01      1   GN   \n",
       "1          5647      2014     BB    182009          A 2020-01-01      1    J   \n",
       "2         33314      2014     BB     82431          A 2020-01-01      1   SC   \n",
       "3         37001      2014     BB       725          C 2020-01-01      1   MP   \n",
       "4         37819      2014     AA    220691          C 2020-01-01      1  JRR   \n",
       "...         ...       ...    ...       ...        ...        ...    ...  ...   \n",
       "879266  1830551      2020     BB    219886          B 2020-12-31      1   GN   \n",
       "879267  1830570      2020     BB     82433          B 2020-12-31      1   CY   \n",
       "879268  1830580      2020     AA     92020          B 2020-12-31      1  JRR   \n",
       "879269  1830589      2020     BB     92437          B 2020-12-31      1    J   \n",
       "879270  1830598      2020     AA    220959          B 2020-12-31      1   SC   \n",
       "\n",
       "       MONTH  \n",
       "0         01  \n",
       "1         01  \n",
       "2         01  \n",
       "3         01  \n",
       "4         01  \n",
       "...      ...  \n",
       "879266    12  \n",
       "879267    12  \n",
       "879268    12  \n",
       "879269    12  \n",
       "879270    12  \n",
       "\n",
       "[879271 rows x 9 columns]"
      ]
     },
     "metadata": {},
     "output_type": "display_data"
    }
   ],
   "source": [
    "# (3) DATE는 월별로 묶어서 새로운 컬럼을 생성하자.\n",
    "df[\"MONTH\"] = df.DATE.dt.strftime('%m') # 라벨인코더로 바꿔도 될 듯 / 시간이 흐름에 따라 이용률이 증가한다.\n",
    "display(df)"
   ]
  },
  {
   "cell_type": "code",
   "execution_count": 12,
   "metadata": {
    "slideshow": {
     "slide_type": "slide"
    }
   },
   "outputs": [],
   "source": [
    "# (4) D_TYPE, GOODS_TYPE, JOIN_DATE는 범주형이다. 이후 원핫인코더나 라벨링인코더로 바꾼다. ==> 생략 / 이후 진행"
   ]
  },
  {
   "cell_type": "code",
   "execution_count": 13,
   "metadata": {
    "slideshow": {
     "slide_type": "slide"
    }
   },
   "outputs": [],
   "source": [
    "# (5) 데이터는 879271개인데 유저는 165425명이다. 헤비유저를 찾아보자 (user와 Count 이용)\n",
    "\n",
    "# heavy_user_count = {}\n",
    "# for x in df['USER_ID'].unique() :\n",
    "#     user_df = df[df['USER_ID']==x]\n",
    "    \n",
    "#     if user_df.COUNT.sum() > 100 :\n",
    "#         heavy_user_count[x] = user_df.COUNT.sum()\n",
    "    \n",
    "# print(heavy_user_count)\n",
    "\n",
    "# 1년에 100번 이상 이용하는 사람 / 474명 / 100번은 임의 설정\n",
    "heavy_user = [434912, 769640, 801759, 843730, 885547, 891031, 894233, 897466, 906576, 952929, 999665, 1039320, 1064583, 1101409, 1200948, 1281265, 1348026, 45205, 75221, 253634, 255734, 321120, 364232, 397419, 401310, 423232, 428836, 508775, 523740, 535188, 564069, 589205, 591610, 603013, 610641, 612237, 612573, 623284, 651832, 672071, 703730, 710382, 718133, 718894, 719892, 745284, 787888, 798795, 812843, 835712, 838389, 842203, 884086, 923611, 927992, 930629, 931766, 944068, 957571, 962453, 963717, 970011, 999399, 1031157, 1057270, 1059901, 1080804, 1089550, 1093623, 1095633, 1114926, 1115119, 1133447, 1144500, 1145004, 1151498, 1175172, 1179376, 1182542, 1185125, 1185360, 1195783, 1211875, 1224426, 1230107, 1254272, 1255316, 1255426, 1255913, 1263173, 1265375, 1271520, 1281146, 1293884, 1300458, 1300561, 1306772, 1317414, 1318771, 1340897, 1342970, 1346609, 1355841, 1363172, 1371168, 1408943, 1422983, 1428079, 1432065, 449623, 525039, 606762, 621832, 625391, 640247, 670398, 750167, 812605, 866483, 955684, 956306, 984056, 1002926, 1065152, 1088716, 1095225, 1102449, 1156832, 1179345, 1201981, 1229393, 1261028, 1300484, 1363208, 1365069, 1393164, 1400133, 1407916, 1410060, 1413384, 1414810, 792972, 856324, 1186890, 1228417, 1298982, 1420117, 1457686, 84989, 380498, 853518, 1450687, 71833, 369119, 392032, 615723, 641351, 653263, 705048, 732321, 879801, 908976, 951714, 958591, 963211, 1012023, 1026658, 1032807, 1062364, 1062569, 1137410, 1263276, 1314512, 1392847, 1419336, 193220, 518916, 571472, 603457, 693624, 726667, 852710, 896447, 980999, 1054834, 1059442, 1190351, 1238881, 1248462, 1273215, 1284291, 1303371, 1423491, 70085, 547363, 613034, 646547, 1007353, 1023949, 1116465, 1249985, 435828, 641567, 787689, 1043701, 1207695, 611454, 803744, 1076784, 1144731, 1465610, 546556, 768711, 771858, 1467323, 842116, 954021, 1261992, 1466019, 474094, 487727, 634458, 1025796, 1248412, 1362666, 985365, 1153775, 1173076, 1213049, 1469065, 1452335, 30882, 1273909, 1275260, 1389922, 486026, 1410266, 798771, 1230332, 1473529, 1320948, 883926, 1100577, 1472956, 658339, 909315, 1069720, 1477482, 494369, 1407103, 1477816, 928119, 1476136, 1146995, 1266192, 853783, 1042789, 1203314, 1386779, 1482834, 564443, 1159486, 1164849, 1237123, 1326702, 1441465, 1358647, 1486148, 159898, 519978, 666436, 758046, 919094, 1093323, 1140807, 1175737, 1237142, 1434453, 1484589, 1485915, 363453, 954864, 1124729, 1487555, 1488025, 598611, 1186236, 1235439, 840082, 1001652, 1040067, 1289231, 981337, 1261301, 1481716, 325793, 1354539, 1322505, 1494566, 1023947, 1478152, 1218121, 1497757, 709657, 1016950, 847363, 956260, 554393, 1499974, 550233, 1501731, 1502341, 1233567, 1484706, 1502563, 697021, 564774, 763245, 973312, 1086133, 1338121, 1465357, 1505042, 1505203, 1505272, 1505342, 1505592, 787406, 968334, 1395751, 1504815, 1506136, 1506306, 1506310, 719538, 1058323, 1461916, 1505644, 1506368, 1304127, 1506894, 1507165, 1507970, 746498, 1266062, 1450854, 1508428, 394008, 461614, 603073, 1000461, 1321261, 1506145, 1507298, 1507567, 1508399, 1510943, 1510996, 1225831, 1239609, 1303549, 1508804, 1211118, 1360903, 1512343, 1512648, 1512695, 868428, 1361732, 1513100, 1050929, 1508707, 227021, 1504014, 1512545, 1516113, 1454712, 1516386, 1517451, 733859, 1450323, 1476657, 1508787, 1518310, 1488600, 1511250, 1517842, 1518725, 1519178, 1519370, 1476029, 1519799, 503443, 1029334, 1411182, 1523543, 1523571, 988199, 1522418, 1325692, 1512801, 1528098, 1528617, 792720, 1225388, 1268763, 1531572, 1532535, 844324, 1523650, 603625, 1533971, 1536456, 678726, 795727, 1289335, 1463467, 641298, 1539054, 1541986, 690243, 1542799, 1544453, 577882, 1417821, 1516379, 1539623, 1544543, 1547225, 1548653, 1549837, 1552636, 1398588, 1526960, 831549, 842256, 1555428, 609560, 1547499, 1554537, 1563898, 912740, 1564672, 1566350, 954422, 1565637, 1571857, 1573428, 1579973, 762589, 1584852, 1580074, 1586378, 1532226, 1570890, 1594035, 1514190, 1582059, 1592335, 1603451, 1012350, 1412024, 1610777, 1606819, 1327348, 1614286, 1617846, 1613793, 1623882, 1633201, 871988, 1636406, 1661921, 1683685]"
   ]
  },
  {
   "cell_type": "code",
   "execution_count": 14,
   "metadata": {
    "slideshow": {
     "slide_type": "slide"
    }
   },
   "outputs": [
    {
     "data": {
      "text/html": [
       "<div>\n",
       "<style scoped>\n",
       "    .dataframe tbody tr th:only-of-type {\n",
       "        vertical-align: middle;\n",
       "    }\n",
       "\n",
       "    .dataframe tbody tr th {\n",
       "        vertical-align: top;\n",
       "    }\n",
       "\n",
       "    .dataframe thead th {\n",
       "        text-align: right;\n",
       "    }\n",
       "</style>\n",
       "<table border=\"1\" class=\"dataframe\">\n",
       "  <thead>\n",
       "    <tr style=\"text-align: right;\">\n",
       "      <th></th>\n",
       "      <th>STORE_ID</th>\n",
       "      <th>USER_NUM</th>\n",
       "    </tr>\n",
       "  </thead>\n",
       "  <tbody>\n",
       "    <tr>\n",
       "      <th>0</th>\n",
       "      <td>1892</td>\n",
       "      <td>1040</td>\n",
       "    </tr>\n",
       "    <tr>\n",
       "      <th>1</th>\n",
       "      <td>182009</td>\n",
       "      <td>690</td>\n",
       "    </tr>\n",
       "    <tr>\n",
       "      <th>2</th>\n",
       "      <td>82431</td>\n",
       "      <td>2729</td>\n",
       "    </tr>\n",
       "    <tr>\n",
       "      <th>3</th>\n",
       "      <td>725</td>\n",
       "      <td>1976</td>\n",
       "    </tr>\n",
       "    <tr>\n",
       "      <th>4</th>\n",
       "      <td>220691</td>\n",
       "      <td>752</td>\n",
       "    </tr>\n",
       "    <tr>\n",
       "      <th>...</th>\n",
       "      <td>...</td>\n",
       "      <td>...</td>\n",
       "    </tr>\n",
       "    <tr>\n",
       "      <th>1056</th>\n",
       "      <td>231127</td>\n",
       "      <td>1</td>\n",
       "    </tr>\n",
       "    <tr>\n",
       "      <th>1057</th>\n",
       "      <td>230952</td>\n",
       "      <td>1</td>\n",
       "    </tr>\n",
       "    <tr>\n",
       "      <th>1058</th>\n",
       "      <td>231135</td>\n",
       "      <td>1</td>\n",
       "    </tr>\n",
       "    <tr>\n",
       "      <th>1059</th>\n",
       "      <td>231427</td>\n",
       "      <td>1</td>\n",
       "    </tr>\n",
       "    <tr>\n",
       "      <th>1060</th>\n",
       "      <td>231465</td>\n",
       "      <td>14</td>\n",
       "    </tr>\n",
       "  </tbody>\n",
       "</table>\n",
       "<p>1061 rows × 2 columns</p>\n",
       "</div>"
      ],
      "text/plain": [
       "      STORE_ID  USER_NUM\n",
       "0         1892      1040\n",
       "1       182009       690\n",
       "2        82431      2729\n",
       "3          725      1976\n",
       "4       220691       752\n",
       "...        ...       ...\n",
       "1056    231127         1\n",
       "1057    230952         1\n",
       "1058    231135         1\n",
       "1059    231427         1\n",
       "1060    231465        14\n",
       "\n",
       "[1061 rows x 2 columns]"
      ]
     },
     "metadata": {},
     "output_type": "display_data"
    }
   ],
   "source": [
    "# (6) StoreID는 주차장 장소인거 같다. 장소에 따른 유저나 이용수를 찾아봐야겠다.\n",
    "\n",
    "store_list = df['STORE_ID'].unique()\n",
    "store_user_list = []\n",
    "\n",
    "for store in store_list :\n",
    "    store_df = df[df['STORE_ID']==store]\n",
    "    store_user_list.append(store_df['USER_ID'].nunique())\n",
    "    \n",
    "store_user = pd.DataFrame([store_list, store_user_list])\n",
    "\n",
    "store_user = store_user.T\n",
    "\n",
    "store_user.columns = ['STORE_ID', 'USER_NUM']\n",
    "\n",
    "display(store_user)"
   ]
  },
  {
   "cell_type": "markdown",
   "metadata": {
    "slideshow": {
     "slide_type": "slide"
    }
   },
   "source": [
    "# 여기서부턴 시각화를 해볼까욥"
   ]
  },
  {
   "cell_type": "code",
   "execution_count": 15,
   "metadata": {
    "slideshow": {
     "slide_type": "slide"
    }
   },
   "outputs": [],
   "source": [
    "# 라인그래프 시각화 기본 라인 ==> 타이틀 때문에 하나씩 해야할 듯\n",
    "def line_graph(x,y) :\n",
    "    plt.figure(figsize=(10,5))\n",
    "    # x축 y축 설정\n",
    "    sns.lineplot(x, y) \n",
    "    plt.grid()\n",
    "    plt.xticks(np.arange(1, 12, step=1)) # 월이면 1~12 / 주간이면 1~53 / ~~\n",
    "    plt.title('월별 사용자 수', fontsize=18)\n",
    "    plt.ylabel('사용자수', fontsize=16)\n",
    "    plt.xlabel('월', fontsize=16)\n",
    "    plt.show()"
   ]
  },
  {
   "cell_type": "code",
   "execution_count": 16,
   "metadata": {
    "slideshow": {
     "slide_type": "slide"
    }
   },
   "outputs": [
    {
     "data": {
      "image/png": "[encoded data removed]",
      "text/plain": [
       "<Figure size 720x360 with 1 Axes>"
      ]
     },
     "metadata": {},
     "output_type": "display_data"
    }
   ],
   "source": [
    "# 월별로 유저 수 파악\n",
    "\n",
    "plt.figure(figsize=(10,5))\n",
    "# x축 y축 설정\n",
    "sns.lineplot(df['MONTH'].unique(),df.groupby(\"MONTH\")[\"USER_ID\"].sum()) # 2010년   \n",
    "plt.grid()\n",
    "plt.xticks(np.arange(1, 12, step=1)) # 월이면 1~12 / 주간이면 1~53 / ~~\n",
    "plt.title('월별 사용자 수', fontsize=18)\n",
    "plt.ylabel('사용자수', fontsize=16)\n",
    "plt.xlabel('월', fontsize=16)\n",
    "plt.show()"
   ]
  },
  {
   "cell_type": "code",
   "execution_count": 17,
   "metadata": {
    "slideshow": {
     "slide_type": "slide"
    }
   },
   "outputs": [
    {
     "data": {
      "image/png": "[encoded data removed]",
      "text/plain": [
       "<Figure size 720x360 with 1 Axes>"
      ]
     },
     "metadata": {},
     "output_type": "display_data"
    }
   ],
   "source": [
    "# join_list = list(sorted(df['JOIN_DATE'].unique()))\n",
    "# join_user_count_list = list(df.groupby(\"JOIN_DATE\")[\"USER_ID\"].sum())\n",
    "\n",
    "# 가입일자별로 유저 수 파악\n",
    "plt.figure(figsize=(10,5))\n",
    "# x축 y축 설정\n",
    "sns.lineplot(df.groupby(\"JOIN_DATE\")[\"USER_ID\"].sum().keys(),df.groupby(\"JOIN_DATE\")[\"USER_ID\"].sum()) # 2010년   \n",
    "plt.grid()\n",
    "plt.title('가입년도별 사용자 수', fontsize=18)\n",
    "plt.ylabel('사용자수', fontsize=16)\n",
    "plt.xlabel('가입년도', fontsize=16)\n",
    "plt.show()"
   ]
  },
  {
   "cell_type": "code",
   "execution_count": 18,
   "metadata": {},
   "outputs": [
    {
     "data": {
      "image/png": "[encoded data removed]",
      "text/plain": [
       "<Figure size 720x360 with 1 Axes>"
      ]
     },
     "metadata": {},
     "output_type": "display_data"
    }
   ],
   "source": [
    "# 가입일자별로 이용횟수 파악\n",
    "plt.figure(figsize=(10,5))\n",
    "# x축 y축 설정\n",
    "sns.lineplot(df.groupby(\"JOIN_DATE\")[\"COUNT\"].sum().keys(),df.groupby(\"JOIN_DATE\")[\"COUNT\"].sum()) # 2010년   \n",
    "plt.grid()\n",
    "plt.title('가입년도별 사용자 수', fontsize=18)\n",
    "plt.ylabel('이용횟수', fontsize=16)\n",
    "plt.xlabel('가입년도', fontsize=16)\n",
    "plt.show()"
   ]
  },
  {
   "cell_type": "code",
   "execution_count": 19,
   "metadata": {},
   "outputs": [
    {
     "data": {
      "image/png": "[encoded data removed]",
      "text/plain": [
       "<Figure size 720x360 with 1 Axes>"
      ]
     },
     "metadata": {},
     "output_type": "display_data"
    }
   ],
   "source": [
    "# D_TYPE이 무엇인지 이용횟수별 시각화를 진행해보자.\n",
    "plt.figure(figsize=(10,5))\n",
    "sns.barplot(x=df.groupby(\"D_TYPE\")[\"COUNT\"].sum().keys(),y=df.groupby(\"D_TYPE\")[\"COUNT\"].sum())\n",
    "plt.ylabel('이용횟수', fontsize=16)\n",
    "plt.xlabel('D_TYPE', fontsize=16)\n",
    "plt.show()"
   ]
  },
  {
   "cell_type": "code",
   "execution_count": 20,
   "metadata": {},
   "outputs": [
    {
     "data": {
      "image/png": "[encoded data removed]",
      "text/plain": [
       "<Figure size 720x360 with 1 Axes>"
      ]
     },
     "metadata": {},
     "output_type": "display_data"
    }
   ],
   "source": [
    "# GOODS_TYPE이 무엇인지 이용횟수별 시각화를 진행해보자.\n",
    "plt.figure(figsize=(10,5))\n",
    "sns.barplot(x=df.groupby(\"GOODS_TYPE\")[\"COUNT\"].sum().keys(),y=df.groupby(\"GOODS_TYPE\")[\"COUNT\"].sum())\n",
    "plt.ylabel('이용횟수', fontsize=16)\n",
    "plt.xlabel('GOODS_TYPE', fontsize=16)\n",
    "plt.show()"
   ]
  },
  {
   "cell_type": "code",
   "execution_count": 21,
   "metadata": {},
   "outputs": [
    {
     "data": {
      "image/png": "[encoded data removed]",
      "text/plain": [
       "<Figure size 1440x720 with 1 Axes>"
      ]
     },
     "metadata": {},
     "output_type": "display_data"
    },
    {
     "data": {
      "text/html": [
       "<div>\n",
       "<style scoped>\n",
       "    .dataframe tbody tr th:only-of-type {\n",
       "        vertical-align: middle;\n",
       "    }\n",
       "\n",
       "    .dataframe tbody tr th {\n",
       "        vertical-align: top;\n",
       "    }\n",
       "\n",
       "    .dataframe thead th {\n",
       "        text-align: right;\n",
       "    }\n",
       "</style>\n",
       "<table border=\"1\" class=\"dataframe\">\n",
       "  <thead>\n",
       "    <tr style=\"text-align: right;\">\n",
       "      <th></th>\n",
       "      <th>COUNT</th>\n",
       "    </tr>\n",
       "    <tr>\n",
       "      <th>AD1</th>\n",
       "      <th></th>\n",
       "    </tr>\n",
       "  </thead>\n",
       "  <tbody>\n",
       "    <tr>\n",
       "      <th>J</th>\n",
       "      <td>184660</td>\n",
       "    </tr>\n",
       "    <tr>\n",
       "      <th>GN</th>\n",
       "      <td>178190</td>\n",
       "    </tr>\n",
       "    <tr>\n",
       "      <th>JRR</th>\n",
       "      <td>130476</td>\n",
       "    </tr>\n",
       "    <tr>\n",
       "      <th>SC</th>\n",
       "      <td>78176</td>\n",
       "    </tr>\n",
       "    <tr>\n",
       "      <th>MP</th>\n",
       "      <td>69277</td>\n",
       "    </tr>\n",
       "    <tr>\n",
       "      <th>YD</th>\n",
       "      <td>48750</td>\n",
       "    </tr>\n",
       "    <tr>\n",
       "      <th>YO</th>\n",
       "      <td>38059</td>\n",
       "    </tr>\n",
       "    <tr>\n",
       "      <th>GS</th>\n",
       "      <td>27651</td>\n",
       "    </tr>\n",
       "    <tr>\n",
       "      <th>CY</th>\n",
       "      <td>24421</td>\n",
       "    </tr>\n",
       "    <tr>\n",
       "      <th>BF</th>\n",
       "      <td>18556</td>\n",
       "    </tr>\n",
       "  </tbody>\n",
       "</table>\n",
       "</div>"
      ],
      "text/plain": [
       "      COUNT\n",
       "AD1        \n",
       "J    184660\n",
       "GN   178190\n",
       "JRR  130476\n",
       "SC    78176\n",
       "MP    69277\n",
       "YD    48750\n",
       "YO    38059\n",
       "GS    27651\n",
       "CY    24421\n",
       "BF    18556"
      ]
     },
     "execution_count": 21,
     "metadata": {},
     "output_type": "execute_result"
    }
   ],
   "source": [
    "# D_TYPE이 무엇인지 이용횟수별 시각화를 진행해보자.\n",
    "plt.figure(figsize=(20,10))\n",
    "sns.barplot(x=df.groupby(\"AD1\")[\"COUNT\"].sum().keys(),y=df.groupby(\"AD1\")[\"COUNT\"].sum())\n",
    "plt.ylabel('이용횟수', fontsize=16)\n",
    "plt.xlabel('AD1', fontsize=16)\n",
    "plt.xticks(rotation='vertical')\n",
    "plt.show()\n",
    "\n",
    "## 이건 뭔지 도저히 감이 안온다.\n",
    "AD1_df = pd.DataFrame(df.groupby('AD1')[\"COUNT\"].sum())\n",
    "AD1_df.sort_values(by='COUNT', ascending=False).head(10)"
   ]
  },
  {
   "cell_type": "code",
   "execution_count": 22,
   "metadata": {},
   "outputs": [
    {
     "data": {
      "text/html": [
       "<div>\n",
       "<style scoped>\n",
       "    .dataframe tbody tr th:only-of-type {\n",
       "        vertical-align: middle;\n",
       "    }\n",
       "\n",
       "    .dataframe tbody tr th {\n",
       "        vertical-align: top;\n",
       "    }\n",
       "\n",
       "    .dataframe thead th {\n",
       "        text-align: right;\n",
       "    }\n",
       "</style>\n",
       "<table border=\"1\" class=\"dataframe\">\n",
       "  <thead>\n",
       "    <tr style=\"text-align: right;\">\n",
       "      <th></th>\n",
       "      <th>USER_ID</th>\n",
       "    </tr>\n",
       "    <tr>\n",
       "      <th>STORE_ID</th>\n",
       "      <th></th>\n",
       "    </tr>\n",
       "  </thead>\n",
       "  <tbody>\n",
       "    <tr>\n",
       "      <th>220893</th>\n",
       "      <td>21418448316</td>\n",
       "    </tr>\n",
       "    <tr>\n",
       "      <th>220557</th>\n",
       "      <td>21410681022</td>\n",
       "    </tr>\n",
       "    <tr>\n",
       "      <th>220655</th>\n",
       "      <td>19442030078</td>\n",
       "    </tr>\n",
       "    <tr>\n",
       "      <th>220848</th>\n",
       "      <td>19420230250</td>\n",
       "    </tr>\n",
       "    <tr>\n",
       "      <th>91853</th>\n",
       "      <td>17757890385</td>\n",
       "    </tr>\n",
       "    <tr>\n",
       "      <th>92437</th>\n",
       "      <td>17679433560</td>\n",
       "    </tr>\n",
       "    <tr>\n",
       "      <th>105033</th>\n",
       "      <td>17287160942</td>\n",
       "    </tr>\n",
       "    <tr>\n",
       "      <th>1109</th>\n",
       "      <td>16408779471</td>\n",
       "    </tr>\n",
       "    <tr>\n",
       "      <th>82400</th>\n",
       "      <td>15208812801</td>\n",
       "    </tr>\n",
       "    <tr>\n",
       "      <th>109037</th>\n",
       "      <td>14483010358</td>\n",
       "    </tr>\n",
       "  </tbody>\n",
       "</table>\n",
       "</div>"
      ],
      "text/plain": [
       "              USER_ID\n",
       "STORE_ID             \n",
       "220893    21418448316\n",
       "220557    21410681022\n",
       "220655    19442030078\n",
       "220848    19420230250\n",
       "91853     17757890385\n",
       "92437     17679433560\n",
       "105033    17287160942\n",
       "1109      16408779471\n",
       "82400     15208812801\n",
       "109037    14483010358"
      ]
     },
     "execution_count": 22,
     "metadata": {},
     "output_type": "execute_result"
    }
   ],
   "source": [
    "# storeID는 너무 많아서 시각화하기 어렵..\n",
    "\n",
    "# STORE_ID별 유저가 많은 top10을 뽑아보자\n",
    "store_df = pd.DataFrame(df.groupby('STORE_ID')[\"USER_ID\"].sum())\n",
    "store_df.sort_values(by='USER_ID', ascending=False).head(10)"
   ]
  },
  {
   "cell_type": "code",
   "execution_count": 23,
   "metadata": {
    "scrolled": true,
    "slideshow": {
     "slide_type": "slide"
    }
   },
   "outputs": [
    {
     "name": "stdout",
     "output_type": "stream",
     "text": [
      "데이터 확인 :\n"
     ]
    },
    {
     "data": {
      "text/html": [
       "<div>\n",
       "<style scoped>\n",
       "    .dataframe tbody tr th:only-of-type {\n",
       "        vertical-align: middle;\n",
       "    }\n",
       "\n",
       "    .dataframe tbody tr th {\n",
       "        vertical-align: top;\n",
       "    }\n",
       "\n",
       "    .dataframe thead th {\n",
       "        text-align: right;\n",
       "    }\n",
       "</style>\n",
       "<table border=\"1\" class=\"dataframe\">\n",
       "  <thead>\n",
       "    <tr style=\"text-align: right;\">\n",
       "      <th></th>\n",
       "      <th>D_TYPE</th>\n",
       "      <th>STORE_ID</th>\n",
       "      <th>GOODS_TYPE</th>\n",
       "      <th>DATE</th>\n",
       "      <th>COUNT</th>\n",
       "      <th>AD1</th>\n",
       "      <th>MONTH</th>\n",
       "    </tr>\n",
       "  </thead>\n",
       "  <tbody>\n",
       "    <tr>\n",
       "      <th>78</th>\n",
       "      <td>BB</td>\n",
       "      <td>82399</td>\n",
       "      <td>A</td>\n",
       "      <td>2020-01-01</td>\n",
       "      <td>1</td>\n",
       "      <td>JRR</td>\n",
       "      <td>01</td>\n",
       "    </tr>\n",
       "    <tr>\n",
       "      <th>9384</th>\n",
       "      <td>BB</td>\n",
       "      <td>82399</td>\n",
       "      <td>A</td>\n",
       "      <td>2020-01-07</td>\n",
       "      <td>1</td>\n",
       "      <td>JRR</td>\n",
       "      <td>01</td>\n",
       "    </tr>\n",
       "    <tr>\n",
       "      <th>22233</th>\n",
       "      <td>BB</td>\n",
       "      <td>220836</td>\n",
       "      <td>A</td>\n",
       "      <td>2020-01-14</td>\n",
       "      <td>1</td>\n",
       "      <td>JRR</td>\n",
       "      <td>01</td>\n",
       "    </tr>\n",
       "    <tr>\n",
       "      <th>32384</th>\n",
       "      <td>BB</td>\n",
       "      <td>220655</td>\n",
       "      <td>A</td>\n",
       "      <td>2020-01-19</td>\n",
       "      <td>1</td>\n",
       "      <td>JRR</td>\n",
       "      <td>01</td>\n",
       "    </tr>\n",
       "    <tr>\n",
       "      <th>37715</th>\n",
       "      <td>BB</td>\n",
       "      <td>82399</td>\n",
       "      <td>C</td>\n",
       "      <td>2020-01-22</td>\n",
       "      <td>1</td>\n",
       "      <td>JRR</td>\n",
       "      <td>01</td>\n",
       "    </tr>\n",
       "  </tbody>\n",
       "</table>\n",
       "</div>"
      ],
      "text/plain": [
       "      D_TYPE  STORE_ID GOODS_TYPE       DATE  COUNT  AD1 MONTH\n",
       "78        BB     82399          A 2020-01-01      1  JRR    01\n",
       "9384      BB     82399          A 2020-01-07      1  JRR    01\n",
       "22233     BB    220836          A 2020-01-14      1  JRR    01\n",
       "32384     BB    220655          A 2020-01-19      1  JRR    01\n",
       "37715     BB     82399          C 2020-01-22      1  JRR    01"
      ]
     },
     "metadata": {},
     "output_type": "display_data"
    },
    {
     "name": "stdout",
     "output_type": "stream",
     "text": [
      "\n",
      "\n",
      "데이터 살펴보기 :\n"
     ]
    },
    {
     "data": {
      "text/html": [
       "<div>\n",
       "<style scoped>\n",
       "    .dataframe tbody tr th:only-of-type {\n",
       "        vertical-align: middle;\n",
       "    }\n",
       "\n",
       "    .dataframe tbody tr th {\n",
       "        vertical-align: top;\n",
       "    }\n",
       "\n",
       "    .dataframe thead th {\n",
       "        text-align: right;\n",
       "    }\n",
       "</style>\n",
       "<table border=\"1\" class=\"dataframe\">\n",
       "  <thead>\n",
       "    <tr style=\"text-align: right;\">\n",
       "      <th></th>\n",
       "      <th>STORE_ID</th>\n",
       "      <th>COUNT</th>\n",
       "    </tr>\n",
       "  </thead>\n",
       "  <tbody>\n",
       "    <tr>\n",
       "      <th>count</th>\n",
       "      <td>144.000000</td>\n",
       "      <td>144.000000</td>\n",
       "    </tr>\n",
       "    <tr>\n",
       "      <th>mean</th>\n",
       "      <td>104547.881944</td>\n",
       "      <td>1.027778</td>\n",
       "    </tr>\n",
       "    <tr>\n",
       "      <th>std</th>\n",
       "      <td>50251.027916</td>\n",
       "      <td>0.164909</td>\n",
       "    </tr>\n",
       "    <tr>\n",
       "      <th>min</th>\n",
       "      <td>82399.000000</td>\n",
       "      <td>1.000000</td>\n",
       "    </tr>\n",
       "    <tr>\n",
       "      <th>25%</th>\n",
       "      <td>82399.000000</td>\n",
       "      <td>1.000000</td>\n",
       "    </tr>\n",
       "    <tr>\n",
       "      <th>50%</th>\n",
       "      <td>82399.000000</td>\n",
       "      <td>1.000000</td>\n",
       "    </tr>\n",
       "    <tr>\n",
       "      <th>75%</th>\n",
       "      <td>82399.000000</td>\n",
       "      <td>1.000000</td>\n",
       "    </tr>\n",
       "    <tr>\n",
       "      <th>max</th>\n",
       "      <td>220836.000000</td>\n",
       "      <td>2.000000</td>\n",
       "    </tr>\n",
       "  </tbody>\n",
       "</table>\n",
       "</div>"
      ],
      "text/plain": [
       "            STORE_ID       COUNT\n",
       "count     144.000000  144.000000\n",
       "mean   104547.881944    1.027778\n",
       "std     50251.027916    0.164909\n",
       "min     82399.000000    1.000000\n",
       "25%     82399.000000    1.000000\n",
       "50%     82399.000000    1.000000\n",
       "75%     82399.000000    1.000000\n",
       "max    220836.000000    2.000000"
      ]
     },
     "metadata": {},
     "output_type": "display_data"
    },
    {
     "name": "stdout",
     "output_type": "stream",
     "text": [
      "\n",
      "\n",
      "데이터 정보 확인 :\n",
      "<class 'pandas.core.frame.DataFrame'>\n",
      "Int64Index: 144 entries, 78 to 728982\n",
      "Data columns (total 7 columns):\n",
      " #   Column      Non-Null Count  Dtype         \n",
      "---  ------      --------------  -----         \n",
      " 0   D_TYPE      144 non-null    object        \n",
      " 1   STORE_ID    144 non-null    int64         \n",
      " 2   GOODS_TYPE  144 non-null    object        \n",
      " 3   DATE        144 non-null    datetime64[ns]\n",
      " 4   COUNT       144 non-null    int64         \n",
      " 5   AD1         144 non-null    object        \n",
      " 6   MONTH       144 non-null    object        \n",
      "dtypes: datetime64[ns](1), int64(2), object(4)\n",
      "memory usage: 9.0+ KB\n",
      "None\n",
      "\n",
      "\n",
      "데이터 형태 확인 : (144, 7)\n",
      "\n",
      "\n",
      "결측치 확인 :\n",
      "D_TYPE        0\n",
      "STORE_ID      0\n",
      "GOODS_TYPE    0\n",
      "DATE          0\n",
      "COUNT         0\n",
      "AD1           0\n",
      "MONTH         0\n",
      "dtype: int64\n",
      "\n",
      "\n",
      "유니크값 확인 :\n",
      "column : D_TYPE\n",
      "The number of unique : 1\n",
      "\n",
      "column : STORE_ID\n",
      "The number of unique : 10\n",
      "\n",
      "column : GOODS_TYPE\n",
      "The number of unique : 4\n",
      "\n",
      "column : DATE\n",
      "The number of unique : 144\n",
      "\n",
      "column : COUNT\n",
      "The number of unique : 2\n",
      "\n",
      "column : AD1\n",
      "The number of unique : 5\n",
      "\n",
      "column : MONTH\n",
      "The number of unique : 11\n",
      "\n"
     ]
    },
    {
     "data": {
      "text/plain": [
       "AD1\n",
       "GN       1\n",
       "GW       2\n",
       "J        1\n",
       "JRR    142\n",
       "YD       2\n",
       "Name: COUNT, dtype: int64"
      ]
     },
     "execution_count": 23,
     "metadata": {},
     "output_type": "execute_result"
    }
   ],
   "source": [
    "# 헤비유저의 흐름을 볼까요\n",
    "# 연 100회 이상 이용하는 특정 유저(434912)의 날짜별 이용 흐름을 봅시다.\n",
    "\n",
    "df_434912 = df[df['USER_ID']==434912] # JOIN은 2016년에 함\n",
    "\n",
    "# USER_ID, JOIN_DATE는 항상 같으므로 drop\n",
    "df_434912.drop([\"USER_ID\",\"JOIN_DATE\"], axis=1, inplace=True)\n",
    "\n",
    "# # 뭔가 느낌이 온다..!!!!\n",
    "search_data(df_434912)\n",
    "\n",
    "# D_TYPE은 1개 / 횟수는 일일 횟수니 크지 않은 것이 당연 --> 출근 시 이용하는 것 같다 / 신기한 것은 GOODS_TYPE은 다 활용했다는 것\n",
    "# AD1은 특정 이용타입, 장소일 확률이 크다. 항상 왔다갔다 하는 곳만 많고 다른 곳은 적을 것\n",
    "\n",
    "# AD1마다의 횟수를 확인해보자\n",
    "df_434912.groupby(\"AD1\")[\"COUNT\"].sum() # 역시 예상이 맞았다. / 특정 장소를 가르키는 것이다. / 자주 가는 장소는 1 안가는 장소는 0?"
   ]
  },
  {
   "cell_type": "code",
   "execution_count": 24,
   "metadata": {
    "slideshow": {
     "slide_type": "slide"
    }
   },
   "outputs": [],
   "source": [
    "# 시계열 예측을 위한 패키지 설치!\n",
    "# !pip install statsmodels"
   ]
  },
  {
   "cell_type": "code",
   "execution_count": 25,
   "metadata": {
    "slideshow": {
     "slide_type": "slide"
    }
   },
   "outputs": [
    {
     "data": {
      "image/png": "[encoded data removed]",
      "text/plain": [
       "<Figure size 1440x720 with 1 Axes>"
      ]
     },
     "metadata": {},
     "output_type": "display_data"
    }
   ],
   "source": [
    "# 그럼 434912 사용자의 이용횟수를 그려봅시다.\n",
    "df_434912_date_count = df_434912[['DATE','COUNT']]\n",
    "df_434912_date_count.set_index([\"DATE\"], inplace=True)\n",
    "plt.figure(figsize=(20,10))\n",
    "plt.plot(df_434912_date_count)\n",
    "plt.ylim([0,3])\n",
    "plt.xticks(rotation='vertical')\n",
    "plt.show()\n",
    "\n",
    "# 거의 대부분 1번씩 이용해서 예측에 의미가 없음. \n",
    "# 시계열 예측은 포기한다."
   ]
  },
  {
   "cell_type": "markdown",
   "metadata": {},
   "source": [
    "### 여기서부터는 Feature engineering을 위한 고민 시작입니당."
   ]
  },
  {
   "cell_type": "code",
   "execution_count": 26,
   "metadata": {
    "slideshow": {
     "slide_type": "slide"
    }
   },
   "outputs": [],
   "source": [
    "# 우선 데이터를 1~9월과 10~12월 사이의 유저들의 아이디를 뽑아서 없는 아이디를 추려봅시다.\n",
    "df.sort_values(by=\"DATE\")\n",
    "X_train = df[:623578] # 1~9월\n",
    "X_test = df[623578:] # 10~12월"
   ]
  },
  {
   "cell_type": "code",
   "execution_count": 27,
   "metadata": {
    "slideshow": {
     "slide_type": "slide"
    }
   },
   "outputs": [
    {
     "name": "stdout",
     "output_type": "stream",
     "text": [
      "10~12월 데이터 아이디 중 1~9월에 없는 것의 개수: 35166\n"
     ]
    }
   ],
   "source": [
    "print(\"10~12월 데이터 아이디 중 1~9월에 없는 것의 개수:\",len(set(X_test['USER_ID'].unique())- set(X_train['USER_ID'].unique())))"
   ]
  },
  {
   "cell_type": "code",
   "execution_count": null,
   "metadata": {},
   "outputs": [],
   "source": []
  },
  {
   "cell_type": "code",
   "execution_count": null,
   "metadata": {},
   "outputs": [],
   "source": []
  }
 ],
 "metadata": {
  "celltoolbar": "Slideshow",
  "kernelspec": {
   "display_name": "pydatavenv",
   "language": "python",
   "name": "pydatavenv"
  },
  "language_info": {
   "codemirror_mode": {
    "name": "ipython",
    "version": 3
   },
   "file_extension": ".py",
   "mimetype": "text/x-python",
   "name": "python",
   "nbconvert_exporter": "python",
   "pygments_lexer": "ipython3",
   "version": "3.7.9"
  }
 },
 "nbformat": 4,
 "nbformat_minor": 4
}
